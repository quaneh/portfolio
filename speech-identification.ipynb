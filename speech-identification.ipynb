{
 "cells": [
  {
   "cell_type": "markdown",
   "id": "c6222f54",
   "metadata": {
    "papermill": {
     "duration": 0.012522,
     "end_time": "2024-03-01T08:23:14.050173",
     "exception": false,
     "start_time": "2024-03-01T08:23:14.037651",
     "status": "completed"
    },
    "tags": []
   },
   "source": [
    "# Speech Attribution/Identification\n",
    "\n",
    "This notebook takes a dataset containing campain speeches from Donald Trump and Hilary Clinton, and fine-tunes a Deberta model to predict which candidate the speech belongs to based on the final sentences of the speech.\n",
    "\n",
    "This notebook was largely experimental. As I tried to improve the predictive performance of the model, I progressively formatted the input data.\n",
    "<br/>\n",
    "The data cleaning and formatting isn't optimised in this notebook, as I wanted to show the steps that I went through to get the best model performance.\n",
    "<br/>\n",
    "As in most ML experiments, formatting and cleaning the input data has a huge impact on model performance.\n",
    "\n",
    "The dataset used in this notebook can be found here: https://www.kaggle.com/datasets/browndw/clintontrump-corpus\n"
   ]
  },
  {
   "cell_type": "markdown",
   "id": "25e72705",
   "metadata": {
    "papermill": {
     "duration": 0.011761,
     "end_time": "2024-03-01T08:23:14.073959",
     "exception": false,
     "start_time": "2024-03-01T08:23:14.062198",
     "status": "completed"
    },
    "tags": []
   },
   "source": [
    "### Load/Import Libraries and Data"
   ]
  },
  {
   "cell_type": "code",
   "execution_count": 1,
   "id": "d2b8a174",
   "metadata": {
    "execution": {
     "iopub.execute_input": "2024-03-01T08:23:14.098958Z",
     "iopub.status.busy": "2024-03-01T08:23:14.098671Z",
     "iopub.status.idle": "2024-03-01T08:23:15.162664Z",
     "shell.execute_reply": "2024-03-01T08:23:15.161624Z"
    },
    "papermill": {
     "duration": 1.078891,
     "end_time": "2024-03-01T08:23:15.164787",
     "exception": false,
     "start_time": "2024-03-01T08:23:14.085896",
     "status": "completed"
    },
    "tags": []
   },
   "outputs": [
    {
     "name": "stderr",
     "output_type": "stream",
     "text": [
      "/opt/conda/lib/python3.10/site-packages/scipy/__init__.py:146: UserWarning: A NumPy version >=1.16.5 and <1.23.0 is required for this version of SciPy (detected version 1.24.3\n",
      "  warnings.warn(f\"A NumPy version >={np_minversion} and <{np_maxversion}\"\n"
     ]
    },
    {
     "name": "stdout",
     "output_type": "stream",
     "text": [
      "/kaggle/input/clintontrump-corpus/clinton_trump.csv\n"
     ]
    }
   ],
   "source": [
    "import numpy as np\n",
    "import pandas as pd\n",
    "import matplotlib.pyplot as plt\n",
    "from fastai.imports import *\n",
    "import re \n",
    "\n",
    "import os\n",
    "for dirname, _, filenames in os.walk('/kaggle/input'):\n",
    "    for filename in filenames:\n",
    "        print(os.path.join(dirname, filename))"
   ]
  },
  {
   "cell_type": "markdown",
   "id": "c1f9a5e5",
   "metadata": {
    "papermill": {
     "duration": 0.012803,
     "end_time": "2024-03-01T08:23:15.190456",
     "exception": false,
     "start_time": "2024-03-01T08:23:15.177653",
     "status": "completed"
    },
    "tags": []
   },
   "source": [
    "Set path and load data:"
   ]
  },
  {
   "cell_type": "code",
   "execution_count": 2,
   "id": "8efcdd15",
   "metadata": {
    "execution": {
     "iopub.execute_input": "2024-03-01T08:23:15.216239Z",
     "iopub.status.busy": "2024-03-01T08:23:15.215817Z",
     "iopub.status.idle": "2024-03-01T08:23:15.288209Z",
     "shell.execute_reply": "2024-03-01T08:23:15.287462Z"
    },
    "papermill": {
     "duration": 0.08744,
     "end_time": "2024-03-01T08:23:15.290173",
     "exception": false,
     "start_time": "2024-03-01T08:23:15.202733",
     "status": "completed"
    },
    "tags": []
   },
   "outputs": [],
   "source": [
    "path = Path('../input/clintontrump-corpus')\n",
    "df = pd.read_csv(path/'clinton_trump.csv')"
   ]
  },
  {
   "cell_type": "markdown",
   "id": "3095719c",
   "metadata": {
    "papermill": {
     "duration": 0.012069,
     "end_time": "2024-03-01T08:23:15.314895",
     "exception": false,
     "start_time": "2024-03-01T08:23:15.302826",
     "status": "completed"
    },
    "tags": []
   },
   "source": [
    "### Data Formatting and Cleaning\n",
    "\n",
    "Shuffle the dataset:"
   ]
  },
  {
   "cell_type": "code",
   "execution_count": 3,
   "id": "16d535f6",
   "metadata": {
    "execution": {
     "iopub.execute_input": "2024-03-01T08:23:15.341493Z",
     "iopub.status.busy": "2024-03-01T08:23:15.341210Z",
     "iopub.status.idle": "2024-03-01T08:23:15.351291Z",
     "shell.execute_reply": "2024-03-01T08:23:15.350393Z"
    },
    "papermill": {
     "duration": 0.025267,
     "end_time": "2024-03-01T08:23:15.353475",
     "exception": false,
     "start_time": "2024-03-01T08:23:15.328208",
     "status": "completed"
    },
    "tags": []
   },
   "outputs": [],
   "source": [
    "df = df.sample(frac=1).reset_index(drop=True)\n",
    "df = df.sample(frac=1).reset_index(drop=True)"
   ]
  },
  {
   "cell_type": "markdown",
   "id": "a525f2e8",
   "metadata": {
    "papermill": {
     "duration": 0.012541,
     "end_time": "2024-03-01T08:23:15.380540",
     "exception": false,
     "start_time": "2024-03-01T08:23:15.367999",
     "status": "completed"
    },
    "tags": []
   },
   "source": [
    "Define a function that can identify the candidate based on the doc_id column:"
   ]
  },
  {
   "cell_type": "code",
   "execution_count": 4,
   "id": "b28daa71",
   "metadata": {
    "execution": {
     "iopub.execute_input": "2024-03-01T08:23:15.406990Z",
     "iopub.status.busy": "2024-03-01T08:23:15.406713Z",
     "iopub.status.idle": "2024-03-01T08:23:15.410876Z",
     "shell.execute_reply": "2024-03-01T08:23:15.410160Z"
    },
    "papermill": {
     "duration": 0.019393,
     "end_time": "2024-03-01T08:23:15.412728",
     "exception": false,
     "start_time": "2024-03-01T08:23:15.393335",
     "status": "completed"
    },
    "tags": []
   },
   "outputs": [],
   "source": [
    " def extract_name(text): \n",
    "    if text.find('Trump') >= 0: return 1\n",
    "    return 0"
   ]
  },
  {
   "cell_type": "markdown",
   "id": "fa4ff108",
   "metadata": {
    "papermill": {
     "duration": 0.012144,
     "end_time": "2024-03-01T08:23:15.437276",
     "exception": false,
     "start_time": "2024-03-01T08:23:15.425132",
     "status": "completed"
    },
    "tags": []
   },
   "source": [
    "Label dataset:"
   ]
  },
  {
   "cell_type": "code",
   "execution_count": 5,
   "id": "ffa9c6c2",
   "metadata": {
    "execution": {
     "iopub.execute_input": "2024-03-01T08:23:15.506662Z",
     "iopub.status.busy": "2024-03-01T08:23:15.506313Z",
     "iopub.status.idle": "2024-03-01T08:23:15.515554Z",
     "shell.execute_reply": "2024-03-01T08:23:15.514704Z"
    },
    "papermill": {
     "duration": 0.025359,
     "end_time": "2024-03-01T08:23:15.517389",
     "exception": false,
     "start_time": "2024-03-01T08:23:15.492030",
     "status": "completed"
    },
    "tags": []
   },
   "outputs": [],
   "source": [
    "df['label'] = df['doc_id'].map(extract_name).astype('float')"
   ]
  },
  {
   "cell_type": "markdown",
   "id": "7da67735",
   "metadata": {
    "papermill": {
     "duration": 0.012381,
     "end_time": "2024-03-01T08:23:15.542103",
     "exception": false,
     "start_time": "2024-03-01T08:23:15.529722",
     "status": "completed"
    },
    "tags": []
   },
   "source": [
    "Check if dataset is balanced:\n"
   ]
  },
  {
   "cell_type": "code",
   "execution_count": 6,
   "id": "c1b0a731",
   "metadata": {
    "execution": {
     "iopub.execute_input": "2024-03-01T08:23:15.567593Z",
     "iopub.status.busy": "2024-03-01T08:23:15.567324Z",
     "iopub.status.idle": "2024-03-01T08:23:15.574220Z",
     "shell.execute_reply": "2024-03-01T08:23:15.573365Z"
    },
    "papermill": {
     "duration": 0.021877,
     "end_time": "2024-03-01T08:23:15.576156",
     "exception": false,
     "start_time": "2024-03-01T08:23:15.554279",
     "status": "completed"
    },
    "tags": []
   },
   "outputs": [
    {
     "data": {
      "text/plain": [
       "0.7008547008547008"
      ]
     },
     "execution_count": 6,
     "metadata": {},
     "output_type": "execute_result"
    }
   ],
   "source": [
    "np.mean(df['label'])"
   ]
  },
  {
   "cell_type": "markdown",
   "id": "dd5c792b",
   "metadata": {
    "papermill": {
     "duration": 0.012401,
     "end_time": "2024-03-01T08:23:15.601960",
     "exception": false,
     "start_time": "2024-03-01T08:23:15.589559",
     "status": "completed"
    },
    "tags": []
   },
   "source": [
    "Remove redundant column"
   ]
  },
  {
   "cell_type": "code",
   "execution_count": 7,
   "id": "cbf5e83a",
   "metadata": {
    "execution": {
     "iopub.execute_input": "2024-03-01T08:23:15.627686Z",
     "iopub.status.busy": "2024-03-01T08:23:15.627411Z",
     "iopub.status.idle": "2024-03-01T08:23:15.636105Z",
     "shell.execute_reply": "2024-03-01T08:23:15.635274Z"
    },
    "papermill": {
     "duration": 0.023681,
     "end_time": "2024-03-01T08:23:15.637962",
     "exception": false,
     "start_time": "2024-03-01T08:23:15.614281",
     "status": "completed"
    },
    "tags": []
   },
   "outputs": [],
   "source": [
    "df = df.drop('doc_id', axis=1)"
   ]
  },
  {
   "cell_type": "code",
   "execution_count": 8,
   "id": "e9e62fcb",
   "metadata": {
    "execution": {
     "iopub.execute_input": "2024-03-01T08:23:15.663905Z",
     "iopub.status.busy": "2024-03-01T08:23:15.663620Z",
     "iopub.status.idle": "2024-03-01T08:23:15.671819Z",
     "shell.execute_reply": "2024-03-01T08:23:15.671002Z"
    },
    "papermill": {
     "duration": 0.023354,
     "end_time": "2024-03-01T08:23:15.673702",
     "exception": false,
     "start_time": "2024-03-01T08:23:15.650348",
     "status": "completed"
    },
    "tags": []
   },
   "outputs": [],
   "source": [
    "# Convert to lowercase\n",
    "df['text'] = df['text'].map(str.lower)"
   ]
  },
  {
   "cell_type": "markdown",
   "id": "5541b1f0",
   "metadata": {
    "papermill": {
     "duration": 0.01211,
     "end_time": "2024-03-01T08:23:15.698364",
     "exception": false,
     "start_time": "2024-03-01T08:23:15.686254",
     "status": "completed"
    },
    "tags": []
   },
   "source": [
    "### Data Cleaning Steps\n",
    "- When cleaning the data, I first decided to remove the metadata at the start of each speech by deleting the everything contained within the first set of braces (\"<>\").\n",
    "- I then realised that many speeches start with an introduction from another speaker. I decided to remove everything that comes before the candidate's first statements.\n",
    "- I finally realised that there are often interjections by other speakers during the speech. I investigated further and found that interjections are always contained within braces (\"<>\"), while the candidate's speech is not. I decided to remove everything that's contained within brackets or braces, thus making my intial drop_metadata and drop_intro functions redundant.\n"
   ]
  },
  {
   "cell_type": "code",
   "execution_count": 9,
   "id": "62c93898",
   "metadata": {
    "execution": {
     "iopub.execute_input": "2024-03-01T08:23:15.724253Z",
     "iopub.status.busy": "2024-03-01T08:23:15.723976Z",
     "iopub.status.idle": "2024-03-01T08:23:15.728208Z",
     "shell.execute_reply": "2024-03-01T08:23:15.727373Z"
    },
    "papermill": {
     "duration": 0.019458,
     "end_time": "2024-03-01T08:23:15.730072",
     "exception": false,
     "start_time": "2024-03-01T08:23:15.710614",
     "status": "completed"
    },
    "tags": []
   },
   "outputs": [],
   "source": [
    "# This function is now redundant\n",
    "def drop_metadata(text):\n",
    "    first_close = text.find('>')\n",
    "    second_close = text.find('>', first_close +1 )\n",
    "    return text[second_close+1:]"
   ]
  },
  {
   "cell_type": "code",
   "execution_count": 10,
   "id": "c4e46b30",
   "metadata": {
    "execution": {
     "iopub.execute_input": "2024-03-01T08:23:15.755634Z",
     "iopub.status.busy": "2024-03-01T08:23:15.755358Z",
     "iopub.status.idle": "2024-03-01T08:23:15.760023Z",
     "shell.execute_reply": "2024-03-01T08:23:15.759260Z"
    },
    "papermill": {
     "duration": 0.019566,
     "end_time": "2024-03-01T08:23:15.761888",
     "exception": false,
     "start_time": "2024-03-01T08:23:15.742322",
     "status": "completed"
    },
    "tags": []
   },
   "outputs": [],
   "source": [
    "# This function is now redundant\n",
    "def drop_intro(text):\n",
    "    first_trump = text.find('<trump')\n",
    "    if (first_trump >= 0):\n",
    "        return text[first_trump:]\n",
    "    \n",
    "    first_hilary = text.find('<hilary')\n",
    "    if (first_hilary >= 0):\n",
    "        return text[first_hilary:]\n",
    "    return text"
   ]
  },
  {
   "cell_type": "code",
   "execution_count": 11,
   "id": "7f955b43",
   "metadata": {
    "execution": {
     "iopub.execute_input": "2024-03-01T08:23:15.788360Z",
     "iopub.status.busy": "2024-03-01T08:23:15.788085Z",
     "iopub.status.idle": "2024-03-01T08:23:15.792050Z",
     "shell.execute_reply": "2024-03-01T08:23:15.791354Z"
    },
    "papermill": {
     "duration": 0.01906,
     "end_time": "2024-03-01T08:23:15.793887",
     "exception": false,
     "start_time": "2024-03-01T08:23:15.774827",
     "status": "completed"
    },
    "tags": []
   },
   "outputs": [],
   "source": [
    "# Drop all text contained in braces (<>) or parentheses\n",
    "def drop_alt_speakers(text):\n",
    "    return re.sub(\"[\\(\\<].*?[\\)\\>]\", \"\", text)"
   ]
  },
  {
   "cell_type": "markdown",
   "id": "448ef6d2",
   "metadata": {
    "papermill": {
     "duration": 0.0122,
     "end_time": "2024-03-01T08:23:15.818563",
     "exception": false,
     "start_time": "2024-03-01T08:23:15.806363",
     "status": "completed"
    },
    "tags": []
   },
   "source": [
    "### Further Details\n",
    "- The Kaggle GPU only has enough RAM to handle small parts of the speech. \n",
    "- I decided to focus on the last 1200 characters of each speech. Sometimes sentences get cut off mid-sentence and this had a negative effect on model performance.\n",
    "- Removing incomplete sentences from the start of the formatted speech resolved this issue.\n",
    "- We also need to remove anything that could directly tell the model who the speaker is, like candidate names etc. These are replaced with something more generic."
   ]
  },
  {
   "cell_type": "code",
   "execution_count": 12,
   "id": "b903b090",
   "metadata": {
    "execution": {
     "iopub.execute_input": "2024-03-01T08:23:15.844392Z",
     "iopub.status.busy": "2024-03-01T08:23:15.844132Z",
     "iopub.status.idle": "2024-03-01T08:23:15.848177Z",
     "shell.execute_reply": "2024-03-01T08:23:15.847495Z"
    },
    "papermill": {
     "duration": 0.019183,
     "end_time": "2024-03-01T08:23:15.849994",
     "exception": false,
     "start_time": "2024-03-01T08:23:15.830811",
     "status": "completed"
    },
    "tags": []
   },
   "outputs": [],
   "source": [
    "def drop_incomplete_first_sen(text):\n",
    "    first_stop = text.find('.')\n",
    "    if (first_stop >= 0):\n",
    "        return text[first_stop+2:]"
   ]
  },
  {
   "cell_type": "code",
   "execution_count": 13,
   "id": "edc3793d",
   "metadata": {
    "execution": {
     "iopub.execute_input": "2024-03-01T08:23:15.876458Z",
     "iopub.status.busy": "2024-03-01T08:23:15.876198Z",
     "iopub.status.idle": "2024-03-01T08:23:15.979039Z",
     "shell.execute_reply": "2024-03-01T08:23:15.978340Z"
    },
    "papermill": {
     "duration": 0.11814,
     "end_time": "2024-03-01T08:23:15.980959",
     "exception": false,
     "start_time": "2024-03-01T08:23:15.862819",
     "status": "completed"
    },
    "tags": []
   },
   "outputs": [],
   "source": [
    "# df['text'] = df['text'].map(drop_metadata)\n",
    "# df['text'] = df['text'].map(drop_intro)\n",
    "df['text'] = df['text'].map(drop_alt_speakers)\n",
    "df['text'] = df['text'].str[-1200:]\n",
    "df['text'] = df['text'].map(drop_incomplete_first_sen)\n",
    "# Remove any remaining symbols or interjections\n",
    "df['text'] = df['text'].str.replace('<applause>', '')\n",
    "df['text'] = df['text'].str.replace('<cheering and applause>', '')\n",
    "df['text'] = df['text'].str.replace('<crosstalk>', '')\n",
    "df['text'] = df['text'].str.replace('<', '')\n",
    "df['text'] = df['text'].str.replace('>', '')\n",
    "df['text'] = df['text'].str.replace('\\\\', '')\n",
    "df['text'] = df['text'].str.replace(':', ' :')   \n",
    "df['text'] = df['text'].str.replace(' --', ',') \n",
    "# Remove candidate names\n",
    "df['text'] = df['text'].str.replace('hillary clinton', 'the candidate')\n",
    "df['text'] = df['text'].str.replace('hillary', 'the candidate')\n",
    "df['text'] = df['text'].str.replace('clinton', 'the candidate')\n",
    "df['text'] = df['text'].str.replace('donald trump', 'the candidate')\n",
    "df['text'] = df['text'].str.replace('donald', 'the candidate')\n",
    "df['text'] = df['text'].str.replace('trump', 'the candidate')"
   ]
  },
  {
   "cell_type": "code",
   "execution_count": 14,
   "id": "11c92bcc",
   "metadata": {
    "execution": {
     "iopub.execute_input": "2024-03-01T08:23:16.007545Z",
     "iopub.status.busy": "2024-03-01T08:23:16.007251Z",
     "iopub.status.idle": "2024-03-01T08:23:16.022326Z",
     "shell.execute_reply": "2024-03-01T08:23:16.021464Z"
    },
    "papermill": {
     "duration": 0.031027,
     "end_time": "2024-03-01T08:23:16.024379",
     "exception": false,
     "start_time": "2024-03-01T08:23:15.993352",
     "status": "completed"
    },
    "tags": []
   },
   "outputs": [
    {
     "data": {
      "text/html": [
       "<div>\n",
       "<style scoped>\n",
       "    .dataframe tbody tr th:only-of-type {\n",
       "        vertical-align: middle;\n",
       "    }\n",
       "\n",
       "    .dataframe tbody tr th {\n",
       "        vertical-align: top;\n",
       "    }\n",
       "\n",
       "    .dataframe thead th {\n",
       "        text-align: right;\n",
       "    }\n",
       "</style>\n",
       "<table border=\"1\" class=\"dataframe\">\n",
       "  <thead>\n",
       "    <tr style=\"text-align: right;\">\n",
       "      <th></th>\n",
       "      <th>text</th>\n",
       "      <th>label</th>\n",
       "    </tr>\n",
       "  </thead>\n",
       "  <tbody>\n",
       "    <tr>\n",
       "      <th>0</th>\n",
       "      <td>and that includes hispanic workers, and that african-american workers.  we will end the era of nation-building. and instead work in partnership with our allies to crush and destroy isis.  we will keep radical islamic terrorism out of our country. we will promote the values of tolerance, justice and acceptance. we will steadfastly reject bigotry and hatred and oppression in all of its ugly forms. america will be one nation, united in common. we will have a nation the likes of which this world perhaps has never seen before.  we will have dreams, and they'll be common dreams. we will have a p...</td>\n",
       "      <td>1.0</td>\n",
       "    </tr>\n",
       "    <tr>\n",
       "      <th>1</th>\n",
       "      <td>so i just ask the people of virginia and the people in this room and in particular because we're in such a mining area, give it one more chance. i know you're discouraged. give it one more chance. if you're not feeling good, if you're so sick you can't move, if your wife got angry at you and you don't want to get out of the house, say i'm sorry, i'm just sorry, charlotte. i'm going out to vote for the candidate.  you have to vote. give it, seriously, give it one more chance. go out and sign those early ballots. go out and vote on november 8th. you can sign the ballot and you don't even ha...</td>\n",
       "      <td>1.0</td>\n",
       "    </tr>\n",
       "    <tr>\n",
       "      <th>2</th>\n",
       "      <td>get up here, michael. come on. get a little tv time. look at him.  i don't know  hired for hollywood. i tend to doubt it, but you never know. come on up, rick. so we have a great group of people. and we have a group of people that really wants to win, and i think knows how to win. and we've all sort of been winning all our lives. this group of people in front of me, i know so many of you, we've been winning all our lives. we've got exactly three months and three weeks. i am going to be working so hard. i'm not going to, like last time where they disappeared for the last month-and-a-half. w...</td>\n",
       "      <td>1.0</td>\n",
       "    </tr>\n",
       "    <tr>\n",
       "      <th>3</th>\n",
       "      <td>but peace will require new approaches, not relying on the same failed voices of the past. these are failed voices. and now they want another four years. and we need to fix the v.a., so we never break our sacred commitment to our veterans, never ever again.  we can do all of these things. we simply need to stop relying on the politicians who created these problems in the first place. they are not going to do anything. i call them all talk, no action. that's what they are. they are politicians. all talk, no action. we can't fix a rigged system by electing the people who rigged it in the firs...</td>\n",
       "      <td>1.0</td>\n",
       "    </tr>\n",
       "    <tr>\n",
       "      <th>4</th>\n",
       "      <td>and they have not been taken care of. and we're going to have strong borders, and by the way, we're going to build the wall and we're going to stop drugs from coming in.  and mexico is going to pay for the wall. and we're going to save our second amendment.  and we're going to repeal and replace obamacare.  and we're going to make the greatest trade deals we've ever made. jobs are going to come flowing back. we're not going to let our companies go. we're going to be the smart people. and we're going to win and win and win, and we're going to win so much that the people in this room are goi...</td>\n",
       "      <td>1.0</td>\n",
       "    </tr>\n",
       "    <tr>\n",
       "      <th>...</th>\n",
       "      <td>...</td>\n",
       "      <td>...</td>\n",
       "    </tr>\n",
       "    <tr>\n",
       "      <th>112</th>\n",
       "      <td>and i, i want to thank gaga because she has always stood for that fundamental principle of respecting...  so, i want you to know and i want you to spread the word, i do want to be president for all americans, not just some, not just the people who support me and vote for me. i want to be president for everyone. because we all have a role to play in building that better future for our country and for each of you.  so, if you haven't voted yet, go to iwillvote.com. you can get all the info you need, and you can still sign up to volunteer, right?  go to the candidatethe candidate.com or text...</td>\n",
       "      <td>0.0</td>\n",
       "    </tr>\n",
       "    <tr>\n",
       "      <th>113</th>\n",
       "      <td>american steel will send new skyscrapers into the clouds. and we will take care of our steelworkers. and we will take care of our miners. we'll going to take care of our miners and our steelworkers.  american hands will rebuild this nation. and american energy mined from american sources will power this nation again.  american workers, many of you in this room, will be hired to do the job. and these will be great jobs. we will put new american steel into the spine of our country. i will fight for every neglected part of this nation, and i will fight to bring us all together as americans. i...</td>\n",
       "      <td>1.0</td>\n",
       "    </tr>\n",
       "    <tr>\n",
       "      <th>114</th>\n",
       "      <td>it's going to be something special like this country hasn't seen in many, many decades.  together our tax, trade, regulatory and energy policies will add trillions and trillions of dollars in new deficit-growing growth. these are the kinds of solutions i want to bring to the white house as your president. it's time to free ourselves from the baskets that politicians try to put us into and hold ...  ... and instead we can work together...    thank you very much. thank you. and .  while my opponent slanders you as deplorable and irredeemable, i call you hardworking american patriots who...  ...</td>\n",
       "      <td>1.0</td>\n",
       "    </tr>\n",
       "    <tr>\n",
       "      <th>115</th>\n",
       "      <td>think of it .  think of all the money that's spent, all the lives that have been lost.  and we're far less safe today than we were before we started. they've left our borders wide open at home and shipped our jobs and wealth to other countries. it's time for new leadership.    i've led a great life and i truly love our country. so now i want to give back to the country that's been so good to me, that's why i'm doing this.  all i see everywhere i travel in this nation, and i've been everywhere, is untapped potential waiting to be realized. the people are amazing, the people are amazing. if ...</td>\n",
       "      <td>1.0</td>\n",
       "    </tr>\n",
       "    <tr>\n",
       "      <th>116</th>\n",
       "      <td>i am going to fight for every citizen, of every background from every stretch of this nation, and i'm going to fight to bring us all together as americans. we are a divided country now. imagine what our country could accomplish if we started working together as one people under one god, saluting one american flag.    you're going to look back at this rally for the rest of your life, you're going to remember this day. this is a movement like you've never seen before and you will never see it again, if it doesn't happen on november 8th, it's never going to happen for our country. believe me...</td>\n",
       "      <td>1.0</td>\n",
       "    </tr>\n",
       "  </tbody>\n",
       "</table>\n",
       "<p>117 rows × 2 columns</p>\n",
       "</div>"
      ],
      "text/plain": [
       "                                                                                                                                                                                                                                                                                                                                                                                                                                                                                                                                                                                                                        text  \\\n",
       "0    and that includes hispanic workers, and that african-american workers.  we will end the era of nation-building. and instead work in partnership with our allies to crush and destroy isis.  we will keep radical islamic terrorism out of our country. we will promote the values of tolerance, justice and acceptance. we will steadfastly reject bigotry and hatred and oppression in all of its ugly forms. america will be one nation, united in common. we will have a nation the likes of which this world perhaps has never seen before.  we will have dreams, and they'll be common dreams. we will have a p...   \n",
       "1     so i just ask the people of virginia and the people in this room and in particular because we're in such a mining area, give it one more chance. i know you're discouraged. give it one more chance. if you're not feeling good, if you're so sick you can't move, if your wife got angry at you and you don't want to get out of the house, say i'm sorry, i'm just sorry, charlotte. i'm going out to vote for the candidate.  you have to vote. give it, seriously, give it one more chance. go out and sign those early ballots. go out and vote on november 8th. you can sign the ballot and you don't even ha...   \n",
       "2    get up here, michael. come on. get a little tv time. look at him.  i don't know  hired for hollywood. i tend to doubt it, but you never know. come on up, rick. so we have a great group of people. and we have a group of people that really wants to win, and i think knows how to win. and we've all sort of been winning all our lives. this group of people in front of me, i know so many of you, we've been winning all our lives. we've got exactly three months and three weeks. i am going to be working so hard. i'm not going to, like last time where they disappeared for the last month-and-a-half. w...   \n",
       "3    but peace will require new approaches, not relying on the same failed voices of the past. these are failed voices. and now they want another four years. and we need to fix the v.a., so we never break our sacred commitment to our veterans, never ever again.  we can do all of these things. we simply need to stop relying on the politicians who created these problems in the first place. they are not going to do anything. i call them all talk, no action. that's what they are. they are politicians. all talk, no action. we can't fix a rigged system by electing the people who rigged it in the firs...   \n",
       "4    and they have not been taken care of. and we're going to have strong borders, and by the way, we're going to build the wall and we're going to stop drugs from coming in.  and mexico is going to pay for the wall. and we're going to save our second amendment.  and we're going to repeal and replace obamacare.  and we're going to make the greatest trade deals we've ever made. jobs are going to come flowing back. we're not going to let our companies go. we're going to be the smart people. and we're going to win and win and win, and we're going to win so much that the people in this room are goi...   \n",
       "..                                                                                                                                                                                                                                                                                                                                                                                                                                                                                                                                                                                                                       ...   \n",
       "112   and i, i want to thank gaga because she has always stood for that fundamental principle of respecting...  so, i want you to know and i want you to spread the word, i do want to be president for all americans, not just some, not just the people who support me and vote for me. i want to be president for everyone. because we all have a role to play in building that better future for our country and for each of you.  so, if you haven't voted yet, go to iwillvote.com. you can get all the info you need, and you can still sign up to volunteer, right?  go to the candidatethe candidate.com or text...   \n",
       "113  american steel will send new skyscrapers into the clouds. and we will take care of our steelworkers. and we will take care of our miners. we'll going to take care of our miners and our steelworkers.  american hands will rebuild this nation. and american energy mined from american sources will power this nation again.  american workers, many of you in this room, will be hired to do the job. and these will be great jobs. we will put new american steel into the spine of our country. i will fight for every neglected part of this nation, and i will fight to bring us all together as americans. i...   \n",
       "114  it's going to be something special like this country hasn't seen in many, many decades.  together our tax, trade, regulatory and energy policies will add trillions and trillions of dollars in new deficit-growing growth. these are the kinds of solutions i want to bring to the white house as your president. it's time to free ourselves from the baskets that politicians try to put us into and hold ...  ... and instead we can work together...    thank you very much. thank you. and .  while my opponent slanders you as deplorable and irredeemable, i call you hardworking american patriots who...  ...   \n",
       "115  think of it .  think of all the money that's spent, all the lives that have been lost.  and we're far less safe today than we were before we started. they've left our borders wide open at home and shipped our jobs and wealth to other countries. it's time for new leadership.    i've led a great life and i truly love our country. so now i want to give back to the country that's been so good to me, that's why i'm doing this.  all i see everywhere i travel in this nation, and i've been everywhere, is untapped potential waiting to be realized. the people are amazing, the people are amazing. if ...   \n",
       "116   i am going to fight for every citizen, of every background from every stretch of this nation, and i'm going to fight to bring us all together as americans. we are a divided country now. imagine what our country could accomplish if we started working together as one people under one god, saluting one american flag.    you're going to look back at this rally for the rest of your life, you're going to remember this day. this is a movement like you've never seen before and you will never see it again, if it doesn't happen on november 8th, it's never going to happen for our country. believe me...   \n",
       "\n",
       "     label  \n",
       "0      1.0  \n",
       "1      1.0  \n",
       "2      1.0  \n",
       "3      1.0  \n",
       "4      1.0  \n",
       "..     ...  \n",
       "112    0.0  \n",
       "113    1.0  \n",
       "114    1.0  \n",
       "115    1.0  \n",
       "116    1.0  \n",
       "\n",
       "[117 rows x 2 columns]"
      ]
     },
     "execution_count": 14,
     "metadata": {},
     "output_type": "execute_result"
    }
   ],
   "source": [
    "df"
   ]
  },
  {
   "cell_type": "code",
   "execution_count": 15,
   "id": "da398419",
   "metadata": {
    "execution": {
     "iopub.execute_input": "2024-03-01T08:23:16.050990Z",
     "iopub.status.busy": "2024-03-01T08:23:16.050728Z",
     "iopub.status.idle": "2024-03-01T08:23:16.056214Z",
     "shell.execute_reply": "2024-03-01T08:23:16.055337Z"
    },
    "papermill": {
     "duration": 0.020844,
     "end_time": "2024-03-01T08:23:16.058000",
     "exception": false,
     "start_time": "2024-03-01T08:23:16.037156",
     "status": "completed"
    },
    "tags": []
   },
   "outputs": [
    {
     "data": {
      "text/plain": [
       "\"and that includes hispanic workers, and that african-american workers.  we will end the era of nation-building. and instead work in partnership with our allies to crush and destroy isis.  we will keep radical islamic terrorism out of our country. we will promote the values of tolerance, justice and acceptance. we will steadfastly reject bigotry and hatred and oppression in all of its ugly forms. america will be one nation, united in common. we will have a nation the likes of which this world perhaps has never seen before.  we will have dreams, and they'll be common dreams. we will have a purpose. we have no purpose right now. our citizens will proudly promote our values and our system of government as the best anywhere in the world and they will be proud of it and they will believe it - not just say it - believe it. and we will do so without apology.  together we will make america prosperous again and wealthy again. we will make america proud again. we will make, very importantly, safe again. friends, citizens and fellow americans, we will make america great again, greater than ever before. thank you and god bless you. thank you. thank you.\""
      ]
     },
     "execution_count": 15,
     "metadata": {},
     "output_type": "execute_result"
    }
   ],
   "source": [
    "df['text'][0]"
   ]
  },
  {
   "cell_type": "markdown",
   "id": "4f791845",
   "metadata": {
    "papermill": {
     "duration": 0.012682,
     "end_time": "2024-03-01T08:23:16.083520",
     "exception": false,
     "start_time": "2024-03-01T08:23:16.070838",
     "status": "completed"
    },
    "tags": []
   },
   "source": [
    "# Model Fine-Tuning"
   ]
  },
  {
   "cell_type": "code",
   "execution_count": 16,
   "id": "ae8ec12f",
   "metadata": {
    "execution": {
     "iopub.execute_input": "2024-03-01T08:23:16.110240Z",
     "iopub.status.busy": "2024-03-01T08:23:16.109937Z",
     "iopub.status.idle": "2024-03-01T08:23:45.784386Z",
     "shell.execute_reply": "2024-03-01T08:23:45.783097Z"
    },
    "papermill": {
     "duration": 29.690404,
     "end_time": "2024-03-01T08:23:45.786764",
     "exception": false,
     "start_time": "2024-03-01T08:23:16.096360",
     "status": "completed"
    },
    "tags": []
   },
   "outputs": [],
   "source": [
    "from sklearn.model_selection import train_test_split\n",
    "\n",
    "from torch.utils.data import DataLoader\n",
    "import warnings,transformers,logging,torch\n",
    "from transformers import TrainingArguments,Trainer\n",
    "from transformers import AutoModelForSequenceClassification,AutoTokenizer\n",
    "\n",
    "!pip install -q datasets\n",
    "from datasets import Dataset\n"
   ]
  },
  {
   "cell_type": "code",
   "execution_count": 17,
   "id": "3fd9142a",
   "metadata": {
    "execution": {
     "iopub.execute_input": "2024-03-01T08:23:45.816683Z",
     "iopub.status.busy": "2024-03-01T08:23:45.815231Z",
     "iopub.status.idle": "2024-03-01T08:23:45.821884Z",
     "shell.execute_reply": "2024-03-01T08:23:45.821093Z"
    },
    "papermill": {
     "duration": 0.023404,
     "end_time": "2024-03-01T08:23:45.823788",
     "exception": false,
     "start_time": "2024-03-01T08:23:45.800384",
     "status": "completed"
    },
    "tags": []
   },
   "outputs": [],
   "source": [
    "# disable/filter unnecesary warnings/logs\n",
    "warnings.simplefilter('ignore')\n",
    "logging.disable(logging.WARNING)"
   ]
  },
  {
   "cell_type": "code",
   "execution_count": 18,
   "id": "aea3c2d1",
   "metadata": {
    "execution": {
     "iopub.execute_input": "2024-03-01T08:23:45.851036Z",
     "iopub.status.busy": "2024-03-01T08:23:45.850855Z",
     "iopub.status.idle": "2024-03-01T08:23:45.858022Z",
     "shell.execute_reply": "2024-03-01T08:23:45.857167Z"
    },
    "papermill": {
     "duration": 0.022983,
     "end_time": "2024-03-01T08:23:45.860050",
     "exception": false,
     "start_time": "2024-03-01T08:23:45.837067",
     "status": "completed"
    },
    "tags": []
   },
   "outputs": [],
   "source": [
    "# create an evaluation dataset, which will NOT be used in model training\n",
    "df, eval_df = train_test_split(df, test_size=0.2)\n",
    "df = df.reset_index(drop=True)\n",
    "eval_df = eval_df.reset_index(drop=True)"
   ]
  },
  {
   "cell_type": "code",
   "execution_count": 19,
   "id": "ebed9cf7",
   "metadata": {
    "execution": {
     "iopub.execute_input": "2024-03-01T08:23:45.886897Z",
     "iopub.status.busy": "2024-03-01T08:23:45.886686Z",
     "iopub.status.idle": "2024-03-01T08:23:48.071459Z",
     "shell.execute_reply": "2024-03-01T08:23:48.070727Z"
    },
    "papermill": {
     "duration": 2.200934,
     "end_time": "2024-03-01T08:23:48.073889",
     "exception": false,
     "start_time": "2024-03-01T08:23:45.872955",
     "status": "completed"
    },
    "tags": []
   },
   "outputs": [
    {
     "data": {
      "application/vnd.jupyter.widget-view+json": {
       "model_id": "b825af3d44464465a40ed9526bd0753e",
       "version_major": 2,
       "version_minor": 0
      },
      "text/plain": [
       "tokenizer_config.json:   0%|          | 0.00/52.0 [00:00<?, ?B/s]"
      ]
     },
     "metadata": {},
     "output_type": "display_data"
    },
    {
     "data": {
      "application/vnd.jupyter.widget-view+json": {
       "model_id": "2024f1be3cbf4a9a8fb7b4ffa49eaa7c",
       "version_major": 2,
       "version_minor": 0
      },
      "text/plain": [
       "config.json:   0%|          | 0.00/578 [00:00<?, ?B/s]"
      ]
     },
     "metadata": {},
     "output_type": "display_data"
    },
    {
     "data": {
      "application/vnd.jupyter.widget-view+json": {
       "model_id": "7dc5f8255c6b489288973c032afa6271",
       "version_major": 2,
       "version_minor": 0
      },
      "text/plain": [
       "spm.model:   0%|          | 0.00/2.46M [00:00<?, ?B/s]"
      ]
     },
     "metadata": {},
     "output_type": "display_data"
    }
   ],
   "source": [
    "# Set up tokenization model and tokenisation function\n",
    "model_nm = 'microsoft/deberta-v3-small'\n",
    "tokz = AutoTokenizer.from_pretrained(model_nm)\n",
    "\n",
    "def tok_func(x): return tokz(x[\"text\"])"
   ]
  },
  {
   "cell_type": "code",
   "execution_count": 20,
   "id": "5628a2fd",
   "metadata": {
    "execution": {
     "iopub.execute_input": "2024-03-01T08:23:48.102621Z",
     "iopub.status.busy": "2024-03-01T08:23:48.102407Z",
     "iopub.status.idle": "2024-03-01T08:23:48.235369Z",
     "shell.execute_reply": "2024-03-01T08:23:48.234560Z"
    },
    "papermill": {
     "duration": 0.149499,
     "end_time": "2024-03-01T08:23:48.237324",
     "exception": false,
     "start_time": "2024-03-01T08:23:48.087825",
     "status": "completed"
    },
    "tags": []
   },
   "outputs": [
    {
     "data": {
      "application/vnd.jupyter.widget-view+json": {
       "model_id": "284f8286745949db9c5f5cf3b0bbf311",
       "version_major": 2,
       "version_minor": 0
      },
      "text/plain": [
       "  0%|          | 0/1 [00:00<?, ?ba/s]"
      ]
     },
     "metadata": {},
     "output_type": "display_data"
    }
   ],
   "source": [
    "# Convert dataframe to Dataset, tokenize, and remove non-tokenised text\n",
    "ds = Dataset.from_pandas(df)\n",
    "tok_ds = ds.map(tok_func, batched=True)\n",
    "tok_ds = tok_ds.remove_columns(['text'])"
   ]
  },
  {
   "cell_type": "code",
   "execution_count": 21,
   "id": "6f197958",
   "metadata": {
    "execution": {
     "iopub.execute_input": "2024-03-01T08:23:48.265892Z",
     "iopub.status.busy": "2024-03-01T08:23:48.265683Z",
     "iopub.status.idle": "2024-03-01T08:23:48.270904Z",
     "shell.execute_reply": "2024-03-01T08:23:48.270143Z"
    },
    "papermill": {
     "duration": 0.02158,
     "end_time": "2024-03-01T08:23:48.272741",
     "exception": false,
     "start_time": "2024-03-01T08:23:48.251161",
     "status": "completed"
    },
    "tags": []
   },
   "outputs": [
    {
     "data": {
      "text/plain": [
       "Dataset({\n",
       "    features: ['label', 'input_ids', 'token_type_ids', 'attention_mask'],\n",
       "    num_rows: 93\n",
       "})"
      ]
     },
     "execution_count": 21,
     "metadata": {},
     "output_type": "execute_result"
    }
   ],
   "source": [
    "# Check result\n",
    "tok_ds"
   ]
  },
  {
   "cell_type": "code",
   "execution_count": 22,
   "id": "a250571a",
   "metadata": {
    "execution": {
     "iopub.execute_input": "2024-03-01T08:23:48.301263Z",
     "iopub.status.busy": "2024-03-01T08:23:48.301034Z",
     "iopub.status.idle": "2024-03-01T08:23:48.312641Z",
     "shell.execute_reply": "2024-03-01T08:23:48.311863Z"
    },
    "papermill": {
     "duration": 0.028119,
     "end_time": "2024-03-01T08:23:48.314473",
     "exception": false,
     "start_time": "2024-03-01T08:23:48.286354",
     "status": "completed"
    },
    "tags": []
   },
   "outputs": [
    {
     "data": {
      "text/plain": [
       "DatasetDict({\n",
       "    train: Dataset({\n",
       "        features: ['label', 'input_ids', 'token_type_ids', 'attention_mask'],\n",
       "        num_rows: 69\n",
       "    })\n",
       "    test: Dataset({\n",
       "        features: ['label', 'input_ids', 'token_type_ids', 'attention_mask'],\n",
       "        num_rows: 24\n",
       "    })\n",
       "})"
      ]
     },
     "execution_count": 22,
     "metadata": {},
     "output_type": "execute_result"
    }
   ],
   "source": [
    "# Create train/test split for model fine-tuning\n",
    "dds = tok_ds.train_test_split(0.25, seed=42)\n",
    "dds"
   ]
  },
  {
   "cell_type": "markdown",
   "id": "6dcd9a0e",
   "metadata": {
    "papermill": {
     "duration": 0.013864,
     "end_time": "2024-03-01T08:23:48.342242",
     "exception": false,
     "start_time": "2024-03-01T08:23:48.328378",
     "status": "completed"
    },
    "tags": []
   },
   "source": [
    "### IMPORTANT NOTE\n",
    "When I started this problem, I planned to self-label the speeches and change the labels from binary to multi-class, with varying scores to represent the likely hood of the speech belonging to each candidate. \n",
    "<br/>\n",
    "Due to this, I started with a correlation coefficient for the evaluation metric.\n",
    "<br/>\n",
    "I started labelling the data and realised that this approach wouldn't work, as my self-labelling was really poor.\n",
    "<br/>\n",
    "I switched to an accuracy metric instead, but found that as my dataset is very imbalaced, the model always predicted the dominant class.\n",
    "<br/>\n",
    "I changed back to the correlation metric, and found that the model performed much better.\n",
    "<br/>\n",
    "However, the model now no longer produces binary probabilities.\n",
    "<br/>\n",
    "One option would be to perform a logistic regression on the results, to determine a cut-off point which can be used to convert the output to binary results.\n",
    "<br/>\n",
    "This wasn't necessary though, as I was able to plot the predictions of the test set, and choose a cut-off point manually to apply to my evaluation dataset."
   ]
  },
  {
   "cell_type": "code",
   "execution_count": 23,
   "id": "cc1e09f0",
   "metadata": {
    "execution": {
     "iopub.execute_input": "2024-03-01T08:23:48.371999Z",
     "iopub.status.busy": "2024-03-01T08:23:48.371796Z",
     "iopub.status.idle": "2024-03-01T08:23:48.375804Z",
     "shell.execute_reply": "2024-03-01T08:23:48.375010Z"
    },
    "papermill": {
     "duration": 0.021112,
     "end_time": "2024-03-01T08:23:48.377713",
     "exception": false,
     "start_time": "2024-03-01T08:23:48.356601",
     "status": "completed"
    },
    "tags": []
   },
   "outputs": [],
   "source": [
    "# Define evaluation function to calculate pearson correlation coefficient\n",
    "def corr(eval_pred): \n",
    "    return {'pearson': np.corrcoef(*eval_pred)[0][1]}"
   ]
  },
  {
   "cell_type": "code",
   "execution_count": 24,
   "id": "0e178e51",
   "metadata": {
    "execution": {
     "iopub.execute_input": "2024-03-01T08:23:48.407601Z",
     "iopub.status.busy": "2024-03-01T08:23:48.406980Z",
     "iopub.status.idle": "2024-03-01T08:23:48.411160Z",
     "shell.execute_reply": "2024-03-01T08:23:48.410293Z"
    },
    "papermill": {
     "duration": 0.021112,
     "end_time": "2024-03-01T08:23:48.413026",
     "exception": false,
     "start_time": "2024-03-01T08:23:48.391914",
     "status": "completed"
    },
    "tags": []
   },
   "outputs": [],
   "source": [
    "lr,bs = 8e-5,128\n",
    "wd,epochs = 0.01,10"
   ]
  },
  {
   "cell_type": "code",
   "execution_count": 25,
   "id": "40482b21",
   "metadata": {
    "execution": {
     "iopub.execute_input": "2024-03-01T08:23:48.443970Z",
     "iopub.status.busy": "2024-03-01T08:23:48.443473Z",
     "iopub.status.idle": "2024-03-01T08:23:48.513711Z",
     "shell.execute_reply": "2024-03-01T08:23:48.512864Z"
    },
    "papermill": {
     "duration": 0.087987,
     "end_time": "2024-03-01T08:23:48.515806",
     "exception": false,
     "start_time": "2024-03-01T08:23:48.427819",
     "status": "completed"
    },
    "tags": []
   },
   "outputs": [],
   "source": [
    "args = TrainingArguments('outputs', learning_rate=lr, warmup_ratio=0.1, lr_scheduler_type='cosine', fp16=True,\n",
    "    evaluation_strategy=\"epoch\", per_device_train_batch_size=bs, per_device_eval_batch_size=bs*2,\n",
    "    num_train_epochs=epochs, weight_decay=wd, report_to='none')"
   ]
  },
  {
   "cell_type": "code",
   "execution_count": 26,
   "id": "47790318",
   "metadata": {
    "execution": {
     "iopub.execute_input": "2024-03-01T08:23:48.545265Z",
     "iopub.status.busy": "2024-03-01T08:23:48.545040Z",
     "iopub.status.idle": "2024-03-01T08:23:53.631204Z",
     "shell.execute_reply": "2024-03-01T08:23:53.630455Z"
    },
    "papermill": {
     "duration": 5.103316,
     "end_time": "2024-03-01T08:23:53.633473",
     "exception": false,
     "start_time": "2024-03-01T08:23:48.530157",
     "status": "completed"
    },
    "tags": []
   },
   "outputs": [
    {
     "data": {
      "application/vnd.jupyter.widget-view+json": {
       "model_id": "6e7a5dc6468e4b369ca4728cdf6e197a",
       "version_major": 2,
       "version_minor": 0
      },
      "text/plain": [
       "pytorch_model.bin:   0%|          | 0.00/286M [00:00<?, ?B/s]"
      ]
     },
     "metadata": {},
     "output_type": "display_data"
    }
   ],
   "source": [
    "model = AutoModelForSequenceClassification.from_pretrained(model_nm, num_labels=1)#2, id2label=id2label, label2id=label2id)\n",
    "trainer = Trainer(model, args, train_dataset=dds['train'], eval_dataset=dds['test'],\n",
    "               tokenizer=tokz, compute_metrics=corr)"
   ]
  },
  {
   "cell_type": "code",
   "execution_count": 27,
   "id": "770bde8e",
   "metadata": {
    "execution": {
     "iopub.execute_input": "2024-03-01T08:23:53.663266Z",
     "iopub.status.busy": "2024-03-01T08:23:53.663016Z",
     "iopub.status.idle": "2024-03-01T08:24:10.785388Z",
     "shell.execute_reply": "2024-03-01T08:24:10.784714Z"
    },
    "papermill": {
     "duration": 17.139402,
     "end_time": "2024-03-01T08:24:10.787282",
     "exception": false,
     "start_time": "2024-03-01T08:23:53.647880",
     "status": "completed"
    },
    "tags": []
   },
   "outputs": [
    {
     "data": {
      "text/html": [
       "\n",
       "    <div>\n",
       "      \n",
       "      <progress value='10' max='10' style='width:300px; height:20px; vertical-align: middle;'></progress>\n",
       "      [10/10 00:14, Epoch 10/10]\n",
       "    </div>\n",
       "    <table border=\"1\" class=\"dataframe\">\n",
       "  <thead>\n",
       " <tr style=\"text-align: left;\">\n",
       "      <th>Epoch</th>\n",
       "      <th>Training Loss</th>\n",
       "      <th>Validation Loss</th>\n",
       "      <th>Pearson</th>\n",
       "    </tr>\n",
       "  </thead>\n",
       "  <tbody>\n",
       "    <tr>\n",
       "      <td>1</td>\n",
       "      <td>No log</td>\n",
       "      <td>0.462162</td>\n",
       "      <td>-0.385085</td>\n",
       "    </tr>\n",
       "    <tr>\n",
       "      <td>2</td>\n",
       "      <td>No log</td>\n",
       "      <td>0.462162</td>\n",
       "      <td>-0.385085</td>\n",
       "    </tr>\n",
       "    <tr>\n",
       "      <td>3</td>\n",
       "      <td>No log</td>\n",
       "      <td>0.462162</td>\n",
       "      <td>-0.385085</td>\n",
       "    </tr>\n",
       "    <tr>\n",
       "      <td>4</td>\n",
       "      <td>No log</td>\n",
       "      <td>0.322288</td>\n",
       "      <td>0.638349</td>\n",
       "    </tr>\n",
       "    <tr>\n",
       "      <td>5</td>\n",
       "      <td>No log</td>\n",
       "      <td>0.246444</td>\n",
       "      <td>0.793715</td>\n",
       "    </tr>\n",
       "    <tr>\n",
       "      <td>6</td>\n",
       "      <td>No log</td>\n",
       "      <td>0.241198</td>\n",
       "      <td>0.827748</td>\n",
       "    </tr>\n",
       "    <tr>\n",
       "      <td>7</td>\n",
       "      <td>No log</td>\n",
       "      <td>0.289254</td>\n",
       "      <td>0.874528</td>\n",
       "    </tr>\n",
       "    <tr>\n",
       "      <td>8</td>\n",
       "      <td>No log</td>\n",
       "      <td>0.306012</td>\n",
       "      <td>0.902368</td>\n",
       "    </tr>\n",
       "    <tr>\n",
       "      <td>9</td>\n",
       "      <td>No log</td>\n",
       "      <td>0.288078</td>\n",
       "      <td>0.910981</td>\n",
       "    </tr>\n",
       "    <tr>\n",
       "      <td>10</td>\n",
       "      <td>No log</td>\n",
       "      <td>0.270576</td>\n",
       "      <td>0.914183</td>\n",
       "    </tr>\n",
       "  </tbody>\n",
       "</table><p>"
      ],
      "text/plain": [
       "<IPython.core.display.HTML object>"
      ]
     },
     "metadata": {},
     "output_type": "display_data"
    }
   ],
   "source": [
    "trainer.train();"
   ]
  },
  {
   "cell_type": "markdown",
   "id": "27d15b6d",
   "metadata": {
    "papermill": {
     "duration": 0.013927,
     "end_time": "2024-03-01T08:24:10.816487",
     "exception": false,
     "start_time": "2024-03-01T08:24:10.802560",
     "status": "completed"
    },
    "tags": []
   },
   "source": [
    "## Evaluation\n",
    "\n",
    "We'll plot the predictions of the test set and choose a cut-off point:"
   ]
  },
  {
   "cell_type": "code",
   "execution_count": 28,
   "id": "4814f8bf",
   "metadata": {
    "execution": {
     "iopub.execute_input": "2024-03-01T08:24:10.846644Z",
     "iopub.status.busy": "2024-03-01T08:24:10.845996Z",
     "iopub.status.idle": "2024-03-01T08:24:11.036081Z",
     "shell.execute_reply": "2024-03-01T08:24:11.035342Z"
    },
    "papermill": {
     "duration": 0.207565,
     "end_time": "2024-03-01T08:24:11.038204",
     "exception": false,
     "start_time": "2024-03-01T08:24:10.830639",
     "status": "completed"
    },
    "tags": []
   },
   "outputs": [
    {
     "data": {
      "text/html": [],
      "text/plain": [
       "<IPython.core.display.HTML object>"
      ]
     },
     "metadata": {},
     "output_type": "display_data"
    },
    {
     "data": {
      "text/plain": [
       "array([0.92041016, 0.99462891, 0.9375    , 0.93457031, 0.78466797,\n",
       "       0.92529297, 0.80517578, 0.79833984, 0.77880859, 0.90869141,\n",
       "       0.83691406, 0.99462891, 0.79541016, 0.89453125, 0.94433594,\n",
       "       0.81103516, 0.78417969, 0.90917969, 0.81787109, 1.00292969,\n",
       "       0.97363281, 0.88769531, 0.98681641, 0.80419922])"
      ]
     },
     "execution_count": 28,
     "metadata": {},
     "output_type": "execute_result"
    }
   ],
   "source": [
    "test_preds = trainer.predict(dds['test']).predictions.astype(float)\n",
    "test_preds"
   ]
  },
  {
   "cell_type": "markdown",
   "id": "1e6fcdc1",
   "metadata": {
    "papermill": {
     "duration": 0.014359,
     "end_time": "2024-03-01T08:24:11.067755",
     "exception": false,
     "start_time": "2024-03-01T08:24:11.053396",
     "status": "completed"
    },
    "tags": []
   },
   "source": [
    "We choose 0.84 as our cut-off point.\n",
    "<br/>\n",
    "We will consider anything under 0.84 to belong to label 0 (Clinton), and anything over 0.84 to be label 1 (Trump)"
   ]
  },
  {
   "cell_type": "code",
   "execution_count": 29,
   "id": "6097402b",
   "metadata": {
    "execution": {
     "iopub.execute_input": "2024-03-01T08:24:11.099667Z",
     "iopub.status.busy": "2024-03-01T08:24:11.099447Z",
     "iopub.status.idle": "2024-03-01T08:24:11.394348Z",
     "shell.execute_reply": "2024-03-01T08:24:11.393524Z"
    },
    "papermill": {
     "duration": 0.313752,
     "end_time": "2024-03-01T08:24:11.396334",
     "exception": false,
     "start_time": "2024-03-01T08:24:11.082582",
     "status": "completed"
    },
    "tags": []
   },
   "outputs": [
    {
     "data": {
      "text/plain": [
       "<matplotlib.lines.Line2D at 0x7c16c721c8b0>"
      ]
     },
     "execution_count": 29,
     "metadata": {},
     "output_type": "execute_result"
    },
    {
     "data": {
      "image/png": "[encoded data removed]",
      "text/plain": [
       "<Figure size 640x480 with 1 Axes>"
      ]
     },
     "metadata": {},
     "output_type": "display_data"
    }
   ],
   "source": [
    "plt.scatter(test_preds,dds['test']['label'])\n",
    "plt.axvline(x=0.79, color='pink')"
   ]
  },
  {
   "cell_type": "markdown",
   "id": "8a142569",
   "metadata": {
    "papermill": {
     "duration": 0.015006,
     "end_time": "2024-03-01T08:24:11.427158",
     "exception": false,
     "start_time": "2024-03-01T08:24:11.412152",
     "status": "completed"
    },
    "tags": []
   },
   "source": [
    "Let's use the cutoff point of 0.73 and see how this performs for our evaluation datset."
   ]
  },
  {
   "cell_type": "code",
   "execution_count": 30,
   "id": "3207442a",
   "metadata": {
    "execution": {
     "iopub.execute_input": "2024-03-01T08:24:11.458792Z",
     "iopub.status.busy": "2024-03-01T08:24:11.458553Z",
     "iopub.status.idle": "2024-03-01T08:24:11.499383Z",
     "shell.execute_reply": "2024-03-01T08:24:11.498519Z"
    },
    "papermill": {
     "duration": 0.059094,
     "end_time": "2024-03-01T08:24:11.501338",
     "exception": false,
     "start_time": "2024-03-01T08:24:11.442244",
     "status": "completed"
    },
    "tags": []
   },
   "outputs": [
    {
     "data": {
      "application/vnd.jupyter.widget-view+json": {
       "model_id": "c96ed4dfcbb1447ea1797693deb21e21",
       "version_major": 2,
       "version_minor": 0
      },
      "text/plain": [
       "  0%|          | 0/1 [00:00<?, ?ba/s]"
      ]
     },
     "metadata": {},
     "output_type": "display_data"
    }
   ],
   "source": [
    "eval_ds = Dataset.from_pandas(eval_df).map(tok_func, batched=True)\n",
    "eval_labels = eval_ds['label']\n",
    "eval_ds = eval_ds.remove_columns('label')"
   ]
  },
  {
   "cell_type": "code",
   "execution_count": 31,
   "id": "8a568a1c",
   "metadata": {
    "execution": {
     "iopub.execute_input": "2024-03-01T08:24:11.533184Z",
     "iopub.status.busy": "2024-03-01T08:24:11.532964Z",
     "iopub.status.idle": "2024-03-01T08:24:11.739686Z",
     "shell.execute_reply": "2024-03-01T08:24:11.738746Z"
    },
    "papermill": {
     "duration": 0.224807,
     "end_time": "2024-03-01T08:24:11.741593",
     "exception": false,
     "start_time": "2024-03-01T08:24:11.516786",
     "status": "completed"
    },
    "tags": []
   },
   "outputs": [
    {
     "data": {
      "text/html": [],
      "text/plain": [
       "<IPython.core.display.HTML object>"
      ]
     },
     "metadata": {},
     "output_type": "display_data"
    },
    {
     "data": {
      "text/plain": [
       "array([[0.82275391],\n",
       "       [0.92871094],\n",
       "       [0.95556641],\n",
       "       [0.91650391],\n",
       "       [0.78466797],\n",
       "       [0.89111328],\n",
       "       [0.94775391],\n",
       "       [0.78857422],\n",
       "       [0.95458984],\n",
       "       [0.80126953],\n",
       "       [0.86425781],\n",
       "       [0.90039062],\n",
       "       [0.90283203],\n",
       "       [0.83251953],\n",
       "       [0.95996094],\n",
       "       [0.95019531],\n",
       "       [0.99707031],\n",
       "       [0.90185547],\n",
       "       [0.90869141],\n",
       "       [0.91357422],\n",
       "       [0.94287109],\n",
       "       [0.90722656],\n",
       "       [1.02441406],\n",
       "       [0.95556641]])"
      ]
     },
     "execution_count": 31,
     "metadata": {},
     "output_type": "execute_result"
    }
   ],
   "source": [
    "preds = trainer.predict(eval_ds).predictions.astype(float)\n",
    "preds"
   ]
  },
  {
   "cell_type": "markdown",
   "id": "c4b5dd0b",
   "metadata": {
    "papermill": {
     "duration": 0.015523,
     "end_time": "2024-03-01T08:24:11.772606",
     "exception": false,
     "start_time": "2024-03-01T08:24:11.757083",
     "status": "completed"
    },
    "tags": []
   },
   "source": [
    "We see that our cutoff point splits the data nicely:"
   ]
  },
  {
   "cell_type": "code",
   "execution_count": 32,
   "id": "b9716add",
   "metadata": {
    "execution": {
     "iopub.execute_input": "2024-03-01T08:24:11.804481Z",
     "iopub.status.busy": "2024-03-01T08:24:11.804272Z",
     "iopub.status.idle": "2024-03-01T08:24:12.061576Z",
     "shell.execute_reply": "2024-03-01T08:24:12.060763Z"
    },
    "papermill": {
     "duration": 0.275663,
     "end_time": "2024-03-01T08:24:12.063603",
     "exception": false,
     "start_time": "2024-03-01T08:24:11.787940",
     "status": "completed"
    },
    "tags": []
   },
   "outputs": [
    {
     "data": {
      "text/plain": [
       "<matplotlib.lines.Line2D at 0x7c16c73d0df0>"
      ]
     },
     "execution_count": 32,
     "metadata": {},
     "output_type": "execute_result"
    },
    {
     "data": {
      "image/png": "[encoded data removed]",
      "text/plain": [
       "<Figure size 640x480 with 1 Axes>"
      ]
     },
     "metadata": {},
     "output_type": "display_data"
    }
   ],
   "source": [
    "plt.scatter(preds,eval_labels)\n",
    "plt.axvline(x=0.79, color='pink')"
   ]
  },
  {
   "cell_type": "markdown",
   "id": "cb928683",
   "metadata": {
    "papermill": {
     "duration": 0.015444,
     "end_time": "2024-03-01T08:24:12.094949",
     "exception": false,
     "start_time": "2024-03-01T08:24:12.079505",
     "status": "completed"
    },
    "tags": []
   },
   "source": [
    "Let's try find the speech that was incorrectly identified"
   ]
  },
  {
   "cell_type": "code",
   "execution_count": 33,
   "id": "98dfb459",
   "metadata": {
    "execution": {
     "iopub.execute_input": "2024-03-01T08:24:12.127571Z",
     "iopub.status.busy": "2024-03-01T08:24:12.127333Z",
     "iopub.status.idle": "2024-03-01T08:24:12.132200Z",
     "shell.execute_reply": "2024-03-01T08:24:12.131394Z"
    },
    "papermill": {
     "duration": 0.023345,
     "end_time": "2024-03-01T08:24:12.134107",
     "exception": false,
     "start_time": "2024-03-01T08:24:12.110762",
     "status": "completed"
    },
    "tags": []
   },
   "outputs": [],
   "source": [
    "misclassified_indices = []\n",
    "for i in range(0, 24):\n",
    "    if (preds[i][0] < 0.79 and eval_labels[i] > 0.5):\n",
    "        misclassified_indices.append(i)\n",
    "        print('misclassified at index: ', i)"
   ]
  },
  {
   "cell_type": "code",
   "execution_count": 34,
   "id": "e806384f",
   "metadata": {
    "execution": {
     "iopub.execute_input": "2024-03-01T08:24:12.168837Z",
     "iopub.status.busy": "2024-03-01T08:24:12.168356Z",
     "iopub.status.idle": "2024-03-01T08:24:12.173447Z",
     "shell.execute_reply": "2024-03-01T08:24:12.172376Z"
    },
    "papermill": {
     "duration": 0.025299,
     "end_time": "2024-03-01T08:24:12.175464",
     "exception": false,
     "start_time": "2024-03-01T08:24:12.150165",
     "status": "completed"
    },
    "tags": []
   },
   "outputs": [],
   "source": [
    "for i in misclassified_indices:\n",
    "    print('######')\n",
    "    print(eval_ds[i]['text'])"
   ]
  },
  {
   "cell_type": "markdown",
   "id": "a8077066",
   "metadata": {
    "papermill": {
     "duration": 0.016542,
     "end_time": "2024-03-01T08:24:12.208781",
     "exception": false,
     "start_time": "2024-03-01T08:24:12.192239",
     "status": "completed"
    },
    "tags": []
   },
   "source": [
    "## Result\n",
    "The cutoff point performs just as well for the evaluation dataset.\n",
    "<br/>\n",
    "We could use this cutoff point to covert the output values to binary values.\n",
    "<br/>\n",
    "We could also perform a logistic regression on our model outputs.\n",
    "<br/>\n",
    "It's very important to remember that our model has been optimised to produce a high correlation score.\n",
    "That is why the model predictions are not very meaningful without applying an additional function at the end.\n",
    "In a real world example we would very likely choose another method, but as the purpose of this experiment was to show the importance of pre-processing the data, I think it's unnecessary."
   ]
  },
  {
   "cell_type": "markdown",
   "id": "546081af",
   "metadata": {
    "papermill": {
     "duration": 0.015559,
     "end_time": "2024-03-01T08:24:12.240127",
     "exception": false,
     "start_time": "2024-03-01T08:24:12.224568",
     "status": "completed"
    },
    "tags": []
   },
   "source": []
  },
  {
   "cell_type": "code",
   "execution_count": null,
   "id": "50619671",
   "metadata": {
    "papermill": {
     "duration": 0.015759,
     "end_time": "2024-03-01T08:24:12.271708",
     "exception": false,
     "start_time": "2024-03-01T08:24:12.255949",
     "status": "completed"
    },
    "tags": []
   },
   "outputs": [],
   "source": []
  }
 ],
 "metadata": {
  "kaggle": {
   "accelerator": "gpu",
   "dataSources": [
    {
     "datasetId": 2343436,
     "sourceId": 3947981,
     "sourceType": "datasetVersion"
    }
   ],
   "dockerImageVersionId": 30636,
   "isGpuEnabled": true,
   "isInternetEnabled": true,
   "language": "python",
   "sourceType": "notebook"
  },
  "kernelspec": {
   "display_name": "Python 3",
   "language": "python",
   "name": "python3"
  },
  "language_info": {
   "codemirror_mode": {
    "name": "ipython",
    "version": 3
   },
   "file_extension": ".py",
   "mimetype": "text/x-python",
   "name": "python",
   "nbconvert_exporter": "python",
   "pygments_lexer": "ipython3",
   "version": "3.10.12"
  },
  "papermill": {
   "default_parameters": {},
   "duration": 64.584556,
   "end_time": "2024-03-01T08:24:15.209217",
   "environment_variables": {},
   "exception": null,
   "input_path": "__notebook__.ipynb",
   "output_path": "__notebook__.ipynb",
   "parameters": {},
   "start_time": "2024-03-01T08:23:10.624661",
   "version": "2.4.0"
  },
  "widgets": {
   "application/vnd.jupyter.widget-state+json": {
    "state": {
     "0203599b741143ad8f676bb53ae3290b": {
      "model_module": "@jupyter-widgets/base",
      "model_module_version": "1.2.0",
      "model_name": "LayoutModel",
      "state": {
       "_model_module": "@jupyter-widgets/base",
       "_model_module_version": "1.2.0",
       "_model_name": "LayoutModel",
       "_view_count": null,
       "_view_module": "@jupyter-widgets/base",
       "_view_module_version": "1.2.0",
       "_view_name": "LayoutView",
       "align_content": null,
       "align_items": null,
       "align_self": null,
       "border": null,
       "bottom": null,
       "display": null,
       "flex": null,
       "flex_flow": null,
       "grid_area": null,
       "grid_auto_columns": null,
       "grid_auto_flow": null,
       "grid_auto_rows": null,
       "grid_column": null,
       "grid_gap": null,
       "grid_row": null,
       "grid_template_areas": null,
       "grid_template_columns": null,
       "grid_template_rows": null,
       "height": null,
       "justify_content": null,
       "justify_items": null,
       "left": null,
       "margin": null,
       "max_height": null,
       "max_width": null,
       "min_height": null,
       "min_width": null,
       "object_fit": null,
       "object_position": null,
       "order": null,
       "overflow": null,
       "overflow_x": null,
       "overflow_y": null,
       "padding": null,
       "right": null,
       "top": null,
       "visibility": null,
       "width": null
      }
     },
     "0259243a6f824c6bbd2a586149b31378": {
      "model_module": "@jupyter-widgets/controls",
      "model_module_version": "1.5.0",
      "model_name": "HTMLModel",
      "state": {
       "_dom_classes": [],
       "_model_module": "@jupyter-widgets/controls",
       "_model_module_version": "1.5.0",
       "_model_name": "HTMLModel",
       "_view_count": null,
       "_view_module": "@jupyter-widgets/controls",
       "_view_module_version": "1.5.0",
       "_view_name": "HTMLView",
       "description": "",
       "description_tooltip": null,
       "layout": "IPY_MODEL_658a846353f94086adac7852359b2554",
       "placeholder": "​",
       "style": "IPY_MODEL_aa26707d0c6e4d4e8a0798f91af8320a",
       "value": "100%"
      }
     },
     "051914abf4014cd1aca903ade812aded": {
      "model_module": "@jupyter-widgets/controls",
      "model_module_version": "1.5.0",
      "model_name": "DescriptionStyleModel",
      "state": {
       "_model_module": "@jupyter-widgets/controls",
       "_model_module_version": "1.5.0",
       "_model_name": "DescriptionStyleModel",
       "_view_count": null,
       "_view_module": "@jupyter-widgets/base",
       "_view_module_version": "1.2.0",
       "_view_name": "StyleView",
       "description_width": ""
      }
     },
     "064aabf7ac0f492fbc8e170b7d1b4c42": {
      "model_module": "@jupyter-widgets/controls",
      "model_module_version": "1.5.0",
      "model_name": "HTMLModel",
      "state": {
       "_dom_classes": [],
       "_model_module": "@jupyter-widgets/controls",
       "_model_module_version": "1.5.0",
       "_model_name": "HTMLModel",
       "_view_count": null,
       "_view_module": "@jupyter-widgets/controls",
       "_view_module_version": "1.5.0",
       "_view_name": "HTMLView",
       "description": "",
       "description_tooltip": null,
       "layout": "IPY_MODEL_3b4ab171fa6a44589391ac497273569c",
       "placeholder": "​",
       "style": "IPY_MODEL_9e91904ffe35458680c526b5819e001e",
       "value": "pytorch_model.bin: 100%"
      }
     },
     "0815bc622c23448aa1422502e22d1e98": {
      "model_module": "@jupyter-widgets/base",
      "model_module_version": "1.2.0",
      "model_name": "LayoutModel",
      "state": {
       "_model_module": "@jupyter-widgets/base",
       "_model_module_version": "1.2.0",
       "_model_name": "LayoutModel",
       "_view_count": null,
       "_view_module": "@jupyter-widgets/base",
       "_view_module_version": "1.2.0",
       "_view_name": "LayoutView",
       "align_content": null,
       "align_items": null,
       "align_self": null,
       "border": null,
       "bottom": null,
       "display": null,
       "flex": null,
       "flex_flow": null,
       "grid_area": null,
       "grid_auto_columns": null,
       "grid_auto_flow": null,
       "grid_auto_rows": null,
       "grid_column": null,
       "grid_gap": null,
       "grid_row": null,
       "grid_template_areas": null,
       "grid_template_columns": null,
       "grid_template_rows": null,
       "height": null,
       "justify_content": null,
       "justify_items": null,
       "left": null,
       "margin": null,
       "max_height": null,
       "max_width": null,
       "min_height": null,
       "min_width": null,
       "object_fit": null,
       "object_position": null,
       "order": null,
       "overflow": null,
       "overflow_x": null,
       "overflow_y": null,
       "padding": null,
       "right": null,
       "top": null,
       "visibility": null,
       "width": null
      }
     },
     "10154b6eca0c4f31b2aac7ebf1afb178": {
      "model_module": "@jupyter-widgets/controls",
      "model_module_version": "1.5.0",
      "model_name": "ProgressStyleModel",
      "state": {
       "_model_module": "@jupyter-widgets/controls",
       "_model_module_version": "1.5.0",
       "_model_name": "ProgressStyleModel",
       "_view_count": null,
       "_view_module": "@jupyter-widgets/base",
       "_view_module_version": "1.2.0",
       "_view_name": "StyleView",
       "bar_color": null,
       "description_width": ""
      }
     },
     "15f53071ef5c475682b42ffc1c93717d": {
      "model_module": "@jupyter-widgets/base",
      "model_module_version": "1.2.0",
      "model_name": "LayoutModel",
      "state": {
       "_model_module": "@jupyter-widgets/base",
       "_model_module_version": "1.2.0",
       "_model_name": "LayoutModel",
       "_view_count": null,
       "_view_module": "@jupyter-widgets/base",
       "_view_module_version": "1.2.0",
       "_view_name": "LayoutView",
       "align_content": null,
       "align_items": null,
       "align_self": null,
       "border": null,
       "bottom": null,
       "display": null,
       "flex": null,
       "flex_flow": null,
       "grid_area": null,
       "grid_auto_columns": null,
       "grid_auto_flow": null,
       "grid_auto_rows": null,
       "grid_column": null,
       "grid_gap": null,
       "grid_row": null,
       "grid_template_areas": null,
       "grid_template_columns": null,
       "grid_template_rows": null,
       "height": null,
       "justify_content": null,
       "justify_items": null,
       "left": null,
       "margin": null,
       "max_height": null,
       "max_width": null,
       "min_height": null,
       "min_width": null,
       "object_fit": null,
       "object_position": null,
       "order": null,
       "overflow": null,
       "overflow_x": null,
       "overflow_y": null,
       "padding": null,
       "right": null,
       "top": null,
       "visibility": null,
       "width": null
      }
     },
     "1b943ae46cdf4f1a971b893277e7ab65": {
      "model_module": "@jupyter-widgets/controls",
      "model_module_version": "1.5.0",
      "model_name": "DescriptionStyleModel",
      "state": {
       "_model_module": "@jupyter-widgets/controls",
       "_model_module_version": "1.5.0",
       "_model_name": "DescriptionStyleModel",
       "_view_count": null,
       "_view_module": "@jupyter-widgets/base",
       "_view_module_version": "1.2.0",
       "_view_name": "StyleView",
       "description_width": ""
      }
     },
     "1e82f373e5524c858cd743d6a5edc710": {
      "model_module": "@jupyter-widgets/controls",
      "model_module_version": "1.5.0",
      "model_name": "DescriptionStyleModel",
      "state": {
       "_model_module": "@jupyter-widgets/controls",
       "_model_module_version": "1.5.0",
       "_model_name": "DescriptionStyleModel",
       "_view_count": null,
       "_view_module": "@jupyter-widgets/base",
       "_view_module_version": "1.2.0",
       "_view_name": "StyleView",
       "description_width": ""
      }
     },
     "2024f1be3cbf4a9a8fb7b4ffa49eaa7c": {
      "model_module": "@jupyter-widgets/controls",
      "model_module_version": "1.5.0",
      "model_name": "HBoxModel",
      "state": {
       "_dom_classes": [],
       "_model_module": "@jupyter-widgets/controls",
       "_model_module_version": "1.5.0",
       "_model_name": "HBoxModel",
       "_view_count": null,
       "_view_module": "@jupyter-widgets/controls",
       "_view_module_version": "1.5.0",
       "_view_name": "HBoxView",
       "box_style": "",
       "children": [
        "IPY_MODEL_2fdb07b3d3ab4943a21ae2a6cccc95f6",
        "IPY_MODEL_ae00ff3d61b445f2ab4c87935b72dcc3",
        "IPY_MODEL_a3657ae6819647f98d61119ed1b2052d"
       ],
       "layout": "IPY_MODEL_b606bfb4e5e64ce19614dd24f4e1d2c8"
      }
     },
     "27afda136db24faa927092bd76aea9ae": {
      "model_module": "@jupyter-widgets/base",
      "model_module_version": "1.2.0",
      "model_name": "LayoutModel",
      "state": {
       "_model_module": "@jupyter-widgets/base",
       "_model_module_version": "1.2.0",
       "_model_name": "LayoutModel",
       "_view_count": null,
       "_view_module": "@jupyter-widgets/base",
       "_view_module_version": "1.2.0",
       "_view_name": "LayoutView",
       "align_content": null,
       "align_items": null,
       "align_self": null,
       "border": null,
       "bottom": null,
       "display": null,
       "flex": null,
       "flex_flow": null,
       "grid_area": null,
       "grid_auto_columns": null,
       "grid_auto_flow": null,
       "grid_auto_rows": null,
       "grid_column": null,
       "grid_gap": null,
       "grid_row": null,
       "grid_template_areas": null,
       "grid_template_columns": null,
       "grid_template_rows": null,
       "height": null,
       "justify_content": null,
       "justify_items": null,
       "left": null,
       "margin": null,
       "max_height": null,
       "max_width": null,
       "min_height": null,
       "min_width": null,
       "object_fit": null,
       "object_position": null,
       "order": null,
       "overflow": null,
       "overflow_x": null,
       "overflow_y": null,
       "padding": null,
       "right": null,
       "top": null,
       "visibility": null,
       "width": null
      }
     },
     "27c45b1265bb42369d9cf88203376fa4": {
      "model_module": "@jupyter-widgets/base",
      "model_module_version": "1.2.0",
      "model_name": "LayoutModel",
      "state": {
       "_model_module": "@jupyter-widgets/base",
       "_model_module_version": "1.2.0",
       "_model_name": "LayoutModel",
       "_view_count": null,
       "_view_module": "@jupyter-widgets/base",
       "_view_module_version": "1.2.0",
       "_view_name": "LayoutView",
       "align_content": null,
       "align_items": null,
       "align_self": null,
       "border": null,
       "bottom": null,
       "display": null,
       "flex": null,
       "flex_flow": null,
       "grid_area": null,
       "grid_auto_columns": null,
       "grid_auto_flow": null,
       "grid_auto_rows": null,
       "grid_column": null,
       "grid_gap": null,
       "grid_row": null,
       "grid_template_areas": null,
       "grid_template_columns": null,
       "grid_template_rows": null,
       "height": null,
       "justify_content": null,
       "justify_items": null,
       "left": null,
       "margin": null,
       "max_height": null,
       "max_width": null,
       "min_height": null,
       "min_width": null,
       "object_fit": null,
       "object_position": null,
       "order": null,
       "overflow": null,
       "overflow_x": null,
       "overflow_y": null,
       "padding": null,
       "right": null,
       "top": null,
       "visibility": null,
       "width": null
      }
     },
     "284f8286745949db9c5f5cf3b0bbf311": {
      "model_module": "@jupyter-widgets/controls",
      "model_module_version": "1.5.0",
      "model_name": "HBoxModel",
      "state": {
       "_dom_classes": [],
       "_model_module": "@jupyter-widgets/controls",
       "_model_module_version": "1.5.0",
       "_model_name": "HBoxModel",
       "_view_count": null,
       "_view_module": "@jupyter-widgets/controls",
       "_view_module_version": "1.5.0",
       "_view_name": "HBoxView",
       "box_style": "",
       "children": [
        "IPY_MODEL_0259243a6f824c6bbd2a586149b31378",
        "IPY_MODEL_7c35b16b732d4154af4bf0acf894ff1b",
        "IPY_MODEL_89cac75aec75483883ef292b033a5e79"
       ],
       "layout": "IPY_MODEL_bfc22ae16e114d089503c2b2d69ce1b8"
      }
     },
     "2fdb07b3d3ab4943a21ae2a6cccc95f6": {
      "model_module": "@jupyter-widgets/controls",
      "model_module_version": "1.5.0",
      "model_name": "HTMLModel",
      "state": {
       "_dom_classes": [],
       "_model_module": "@jupyter-widgets/controls",
       "_model_module_version": "1.5.0",
       "_model_name": "HTMLModel",
       "_view_count": null,
       "_view_module": "@jupyter-widgets/controls",
       "_view_module_version": "1.5.0",
       "_view_name": "HTMLView",
       "description": "",
       "description_tooltip": null,
       "layout": "IPY_MODEL_0815bc622c23448aa1422502e22d1e98",
       "placeholder": "​",
       "style": "IPY_MODEL_76a23d7695ce4c999500bc4cf4fd9bce",
       "value": "config.json: 100%"
      }
     },
     "30e99815b68b476188717c74dd171bab": {
      "model_module": "@jupyter-widgets/controls",
      "model_module_version": "1.5.0",
      "model_name": "ProgressStyleModel",
      "state": {
       "_model_module": "@jupyter-widgets/controls",
       "_model_module_version": "1.5.0",
       "_model_name": "ProgressStyleModel",
       "_view_count": null,
       "_view_module": "@jupyter-widgets/base",
       "_view_module_version": "1.2.0",
       "_view_name": "StyleView",
       "bar_color": null,
       "description_width": ""
      }
     },
     "35ff7ca27ac04d5bb2a20ae5d2d93acf": {
      "model_module": "@jupyter-widgets/controls",
      "model_module_version": "1.5.0",
      "model_name": "FloatProgressModel",
      "state": {
       "_dom_classes": [],
       "_model_module": "@jupyter-widgets/controls",
       "_model_module_version": "1.5.0",
       "_model_name": "FloatProgressModel",
       "_view_count": null,
       "_view_module": "@jupyter-widgets/controls",
       "_view_module_version": "1.5.0",
       "_view_name": "ProgressView",
       "bar_style": "success",
       "description": "",
       "description_tooltip": null,
       "layout": "IPY_MODEL_27afda136db24faa927092bd76aea9ae",
       "max": 52.0,
       "min": 0.0,
       "orientation": "horizontal",
       "style": "IPY_MODEL_3f8284f8d8b6486db927d6077ea0204b",
       "value": 52.0
      }
     },
     "39fe8d71a3dd41999766211004f67299": {
      "model_module": "@jupyter-widgets/controls",
      "model_module_version": "1.5.0",
      "model_name": "HTMLModel",
      "state": {
       "_dom_classes": [],
       "_model_module": "@jupyter-widgets/controls",
       "_model_module_version": "1.5.0",
       "_model_name": "HTMLModel",
       "_view_count": null,
       "_view_module": "@jupyter-widgets/controls",
       "_view_module_version": "1.5.0",
       "_view_name": "HTMLView",
       "description": "",
       "description_tooltip": null,
       "layout": "IPY_MODEL_f5218ce86c304f0393cf973011e6966b",
       "placeholder": "​",
       "style": "IPY_MODEL_f43786f7dc3d44bfbc5266ce37084d74",
       "value": "tokenizer_config.json: 100%"
      }
     },
     "3a9d9a867f4e474cac0b895c026471ba": {
      "model_module": "@jupyter-widgets/base",
      "model_module_version": "1.2.0",
      "model_name": "LayoutModel",
      "state": {
       "_model_module": "@jupyter-widgets/base",
       "_model_module_version": "1.2.0",
       "_model_name": "LayoutModel",
       "_view_count": null,
       "_view_module": "@jupyter-widgets/base",
       "_view_module_version": "1.2.0",
       "_view_name": "LayoutView",
       "align_content": null,
       "align_items": null,
       "align_self": null,
       "border": null,
       "bottom": null,
       "display": null,
       "flex": null,
       "flex_flow": null,
       "grid_area": null,
       "grid_auto_columns": null,
       "grid_auto_flow": null,
       "grid_auto_rows": null,
       "grid_column": null,
       "grid_gap": null,
       "grid_row": null,
       "grid_template_areas": null,
       "grid_template_columns": null,
       "grid_template_rows": null,
       "height": null,
       "justify_content": null,
       "justify_items": null,
       "left": null,
       "margin": null,
       "max_height": null,
       "max_width": null,
       "min_height": null,
       "min_width": null,
       "object_fit": null,
       "object_position": null,
       "order": null,
       "overflow": null,
       "overflow_x": null,
       "overflow_y": null,
       "padding": null,
       "right": null,
       "top": null,
       "visibility": null,
       "width": null
      }
     },
     "3b4ab171fa6a44589391ac497273569c": {
      "model_module": "@jupyter-widgets/base",
      "model_module_version": "1.2.0",
      "model_name": "LayoutModel",
      "state": {
       "_model_module": "@jupyter-widgets/base",
       "_model_module_version": "1.2.0",
       "_model_name": "LayoutModel",
       "_view_count": null,
       "_view_module": "@jupyter-widgets/base",
       "_view_module_version": "1.2.0",
       "_view_name": "LayoutView",
       "align_content": null,
       "align_items": null,
       "align_self": null,
       "border": null,
       "bottom": null,
       "display": null,
       "flex": null,
       "flex_flow": null,
       "grid_area": null,
       "grid_auto_columns": null,
       "grid_auto_flow": null,
       "grid_auto_rows": null,
       "grid_column": null,
       "grid_gap": null,
       "grid_row": null,
       "grid_template_areas": null,
       "grid_template_columns": null,
       "grid_template_rows": null,
       "height": null,
       "justify_content": null,
       "justify_items": null,
       "left": null,
       "margin": null,
       "max_height": null,
       "max_width": null,
       "min_height": null,
       "min_width": null,
       "object_fit": null,
       "object_position": null,
       "order": null,
       "overflow": null,
       "overflow_x": null,
       "overflow_y": null,
       "padding": null,
       "right": null,
       "top": null,
       "visibility": null,
       "width": null
      }
     },
     "3dc07ec4ba1f4b4c8971c0a352ca8fbc": {
      "model_module": "@jupyter-widgets/base",
      "model_module_version": "1.2.0",
      "model_name": "LayoutModel",
      "state": {
       "_model_module": "@jupyter-widgets/base",
       "_model_module_version": "1.2.0",
       "_model_name": "LayoutModel",
       "_view_count": null,
       "_view_module": "@jupyter-widgets/base",
       "_view_module_version": "1.2.0",
       "_view_name": "LayoutView",
       "align_content": null,
       "align_items": null,
       "align_self": null,
       "border": null,
       "bottom": null,
       "display": null,
       "flex": null,
       "flex_flow": null,
       "grid_area": null,
       "grid_auto_columns": null,
       "grid_auto_flow": null,
       "grid_auto_rows": null,
       "grid_column": null,
       "grid_gap": null,
       "grid_row": null,
       "grid_template_areas": null,
       "grid_template_columns": null,
       "grid_template_rows": null,
       "height": null,
       "justify_content": null,
       "justify_items": null,
       "left": null,
       "margin": null,
       "max_height": null,
       "max_width": null,
       "min_height": null,
       "min_width": null,
       "object_fit": null,
       "object_position": null,
       "order": null,
       "overflow": null,
       "overflow_x": null,
       "overflow_y": null,
       "padding": null,
       "right": null,
       "top": null,
       "visibility": null,
       "width": null
      }
     },
     "3dd8894217cd4b2ab8dc927e790dd62f": {
      "model_module": "@jupyter-widgets/controls",
      "model_module_version": "1.5.0",
      "model_name": "DescriptionStyleModel",
      "state": {
       "_model_module": "@jupyter-widgets/controls",
       "_model_module_version": "1.5.0",
       "_model_name": "DescriptionStyleModel",
       "_view_count": null,
       "_view_module": "@jupyter-widgets/base",
       "_view_module_version": "1.2.0",
       "_view_name": "StyleView",
       "description_width": ""
      }
     },
     "3f8284f8d8b6486db927d6077ea0204b": {
      "model_module": "@jupyter-widgets/controls",
      "model_module_version": "1.5.0",
      "model_name": "ProgressStyleModel",
      "state": {
       "_model_module": "@jupyter-widgets/controls",
       "_model_module_version": "1.5.0",
       "_model_name": "ProgressStyleModel",
       "_view_count": null,
       "_view_module": "@jupyter-widgets/base",
       "_view_module_version": "1.2.0",
       "_view_name": "StyleView",
       "bar_color": null,
       "description_width": ""
      }
     },
     "4b0417d8d02347f889ba796ed1755658": {
      "model_module": "@jupyter-widgets/controls",
      "model_module_version": "1.5.0",
      "model_name": "FloatProgressModel",
      "state": {
       "_dom_classes": [],
       "_model_module": "@jupyter-widgets/controls",
       "_model_module_version": "1.5.0",
       "_model_name": "FloatProgressModel",
       "_view_count": null,
       "_view_module": "@jupyter-widgets/controls",
       "_view_module_version": "1.5.0",
       "_view_name": "ProgressView",
       "bar_style": "success",
       "description": "",
       "description_tooltip": null,
       "layout": "IPY_MODEL_8f9c7adf03554331803a77e1a1f53de4",
       "max": 2464616.0,
       "min": 0.0,
       "orientation": "horizontal",
       "style": "IPY_MODEL_10154b6eca0c4f31b2aac7ebf1afb178",
       "value": 2464616.0
      }
     },
     "52f10fcc90574ef090e5b9edbf47d1fb": {
      "model_module": "@jupyter-widgets/base",
      "model_module_version": "1.2.0",
      "model_name": "LayoutModel",
      "state": {
       "_model_module": "@jupyter-widgets/base",
       "_model_module_version": "1.2.0",
       "_model_name": "LayoutModel",
       "_view_count": null,
       "_view_module": "@jupyter-widgets/base",
       "_view_module_version": "1.2.0",
       "_view_name": "LayoutView",
       "align_content": null,
       "align_items": null,
       "align_self": null,
       "border": null,
       "bottom": null,
       "display": null,
       "flex": null,
       "flex_flow": null,
       "grid_area": null,
       "grid_auto_columns": null,
       "grid_auto_flow": null,
       "grid_auto_rows": null,
       "grid_column": null,
       "grid_gap": null,
       "grid_row": null,
       "grid_template_areas": null,
       "grid_template_columns": null,
       "grid_template_rows": null,
       "height": null,
       "justify_content": null,
       "justify_items": null,
       "left": null,
       "margin": null,
       "max_height": null,
       "max_width": null,
       "min_height": null,
       "min_width": null,
       "object_fit": null,
       "object_position": null,
       "order": null,
       "overflow": null,
       "overflow_x": null,
       "overflow_y": null,
       "padding": null,
       "right": null,
       "top": null,
       "visibility": null,
       "width": null
      }
     },
     "55cfa117d0e44a489fe487dcd51734b0": {
      "model_module": "@jupyter-widgets/base",
      "model_module_version": "1.2.0",
      "model_name": "LayoutModel",
      "state": {
       "_model_module": "@jupyter-widgets/base",
       "_model_module_version": "1.2.0",
       "_model_name": "LayoutModel",
       "_view_count": null,
       "_view_module": "@jupyter-widgets/base",
       "_view_module_version": "1.2.0",
       "_view_name": "LayoutView",
       "align_content": null,
       "align_items": null,
       "align_self": null,
       "border": null,
       "bottom": null,
       "display": null,
       "flex": null,
       "flex_flow": null,
       "grid_area": null,
       "grid_auto_columns": null,
       "grid_auto_flow": null,
       "grid_auto_rows": null,
       "grid_column": null,
       "grid_gap": null,
       "grid_row": null,
       "grid_template_areas": null,
       "grid_template_columns": null,
       "grid_template_rows": null,
       "height": null,
       "justify_content": null,
       "justify_items": null,
       "left": null,
       "margin": null,
       "max_height": null,
       "max_width": null,
       "min_height": null,
       "min_width": null,
       "object_fit": null,
       "object_position": null,
       "order": null,
       "overflow": null,
       "overflow_x": null,
       "overflow_y": null,
       "padding": null,
       "right": null,
       "top": null,
       "visibility": null,
       "width": null
      }
     },
     "592e15d51d154cc88da07d3ce5416fb7": {
      "model_module": "@jupyter-widgets/controls",
      "model_module_version": "1.5.0",
      "model_name": "DescriptionStyleModel",
      "state": {
       "_model_module": "@jupyter-widgets/controls",
       "_model_module_version": "1.5.0",
       "_model_name": "DescriptionStyleModel",
       "_view_count": null,
       "_view_module": "@jupyter-widgets/base",
       "_view_module_version": "1.2.0",
       "_view_name": "StyleView",
       "description_width": ""
      }
     },
     "658a846353f94086adac7852359b2554": {
      "model_module": "@jupyter-widgets/base",
      "model_module_version": "1.2.0",
      "model_name": "LayoutModel",
      "state": {
       "_model_module": "@jupyter-widgets/base",
       "_model_module_version": "1.2.0",
       "_model_name": "LayoutModel",
       "_view_count": null,
       "_view_module": "@jupyter-widgets/base",
       "_view_module_version": "1.2.0",
       "_view_name": "LayoutView",
       "align_content": null,
       "align_items": null,
       "align_self": null,
       "border": null,
       "bottom": null,
       "display": null,
       "flex": null,
       "flex_flow": null,
       "grid_area": null,
       "grid_auto_columns": null,
       "grid_auto_flow": null,
       "grid_auto_rows": null,
       "grid_column": null,
       "grid_gap": null,
       "grid_row": null,
       "grid_template_areas": null,
       "grid_template_columns": null,
       "grid_template_rows": null,
       "height": null,
       "justify_content": null,
       "justify_items": null,
       "left": null,
       "margin": null,
       "max_height": null,
       "max_width": null,
       "min_height": null,
       "min_width": null,
       "object_fit": null,
       "object_position": null,
       "order": null,
       "overflow": null,
       "overflow_x": null,
       "overflow_y": null,
       "padding": null,
       "right": null,
       "top": null,
       "visibility": null,
       "width": null
      }
     },
     "6a2f7ce5de0141b28361801dcf29d5fb": {
      "model_module": "@jupyter-widgets/base",
      "model_module_version": "1.2.0",
      "model_name": "LayoutModel",
      "state": {
       "_model_module": "@jupyter-widgets/base",
       "_model_module_version": "1.2.0",
       "_model_name": "LayoutModel",
       "_view_count": null,
       "_view_module": "@jupyter-widgets/base",
       "_view_module_version": "1.2.0",
       "_view_name": "LayoutView",
       "align_content": null,
       "align_items": null,
       "align_self": null,
       "border": null,
       "bottom": null,
       "display": null,
       "flex": null,
       "flex_flow": null,
       "grid_area": null,
       "grid_auto_columns": null,
       "grid_auto_flow": null,
       "grid_auto_rows": null,
       "grid_column": null,
       "grid_gap": null,
       "grid_row": null,
       "grid_template_areas": null,
       "grid_template_columns": null,
       "grid_template_rows": null,
       "height": null,
       "justify_content": null,
       "justify_items": null,
       "left": null,
       "margin": null,
       "max_height": null,
       "max_width": null,
       "min_height": null,
       "min_width": null,
       "object_fit": null,
       "object_position": null,
       "order": null,
       "overflow": null,
       "overflow_x": null,
       "overflow_y": null,
       "padding": null,
       "right": null,
       "top": null,
       "visibility": null,
       "width": null
      }
     },
     "6e7a5dc6468e4b369ca4728cdf6e197a": {
      "model_module": "@jupyter-widgets/controls",
      "model_module_version": "1.5.0",
      "model_name": "HBoxModel",
      "state": {
       "_dom_classes": [],
       "_model_module": "@jupyter-widgets/controls",
       "_model_module_version": "1.5.0",
       "_model_name": "HBoxModel",
       "_view_count": null,
       "_view_module": "@jupyter-widgets/controls",
       "_view_module_version": "1.5.0",
       "_view_name": "HBoxView",
       "box_style": "",
       "children": [
        "IPY_MODEL_064aabf7ac0f492fbc8e170b7d1b4c42",
        "IPY_MODEL_8c11a413d97c46f0ab791d6b13e8c8f8",
        "IPY_MODEL_d4206d2904804a90a20b8867ecdd5d4b"
       ],
       "layout": "IPY_MODEL_55cfa117d0e44a489fe487dcd51734b0"
      }
     },
     "76a23d7695ce4c999500bc4cf4fd9bce": {
      "model_module": "@jupyter-widgets/controls",
      "model_module_version": "1.5.0",
      "model_name": "DescriptionStyleModel",
      "state": {
       "_model_module": "@jupyter-widgets/controls",
       "_model_module_version": "1.5.0",
       "_model_name": "DescriptionStyleModel",
       "_view_count": null,
       "_view_module": "@jupyter-widgets/base",
       "_view_module_version": "1.2.0",
       "_view_name": "StyleView",
       "description_width": ""
      }
     },
     "7c35b16b732d4154af4bf0acf894ff1b": {
      "model_module": "@jupyter-widgets/controls",
      "model_module_version": "1.5.0",
      "model_name": "FloatProgressModel",
      "state": {
       "_dom_classes": [],
       "_model_module": "@jupyter-widgets/controls",
       "_model_module_version": "1.5.0",
       "_model_name": "FloatProgressModel",
       "_view_count": null,
       "_view_module": "@jupyter-widgets/controls",
       "_view_module_version": "1.5.0",
       "_view_name": "ProgressView",
       "bar_style": "success",
       "description": "",
       "description_tooltip": null,
       "layout": "IPY_MODEL_3dc07ec4ba1f4b4c8971c0a352ca8fbc",
       "max": 1.0,
       "min": 0.0,
       "orientation": "horizontal",
       "style": "IPY_MODEL_d7fc8792d6394ed59e787e44b25df272",
       "value": 1.0
      }
     },
     "7dc5f8255c6b489288973c032afa6271": {
      "model_module": "@jupyter-widgets/controls",
      "model_module_version": "1.5.0",
      "model_name": "HBoxModel",
      "state": {
       "_dom_classes": [],
       "_model_module": "@jupyter-widgets/controls",
       "_model_module_version": "1.5.0",
       "_model_name": "HBoxModel",
       "_view_count": null,
       "_view_module": "@jupyter-widgets/controls",
       "_view_module_version": "1.5.0",
       "_view_name": "HBoxView",
       "box_style": "",
       "children": [
        "IPY_MODEL_b0cfa3f59096489e8ec624ba54d65a18",
        "IPY_MODEL_4b0417d8d02347f889ba796ed1755658",
        "IPY_MODEL_e6b0dab9163349418410dbd0dd523ef1"
       ],
       "layout": "IPY_MODEL_84c752aa151f4a7f929cec163c52e9b8"
      }
     },
     "84c752aa151f4a7f929cec163c52e9b8": {
      "model_module": "@jupyter-widgets/base",
      "model_module_version": "1.2.0",
      "model_name": "LayoutModel",
      "state": {
       "_model_module": "@jupyter-widgets/base",
       "_model_module_version": "1.2.0",
       "_model_name": "LayoutModel",
       "_view_count": null,
       "_view_module": "@jupyter-widgets/base",
       "_view_module_version": "1.2.0",
       "_view_name": "LayoutView",
       "align_content": null,
       "align_items": null,
       "align_self": null,
       "border": null,
       "bottom": null,
       "display": null,
       "flex": null,
       "flex_flow": null,
       "grid_area": null,
       "grid_auto_columns": null,
       "grid_auto_flow": null,
       "grid_auto_rows": null,
       "grid_column": null,
       "grid_gap": null,
       "grid_row": null,
       "grid_template_areas": null,
       "grid_template_columns": null,
       "grid_template_rows": null,
       "height": null,
       "justify_content": null,
       "justify_items": null,
       "left": null,
       "margin": null,
       "max_height": null,
       "max_width": null,
       "min_height": null,
       "min_width": null,
       "object_fit": null,
       "object_position": null,
       "order": null,
       "overflow": null,
       "overflow_x": null,
       "overflow_y": null,
       "padding": null,
       "right": null,
       "top": null,
       "visibility": null,
       "width": null
      }
     },
     "89cac75aec75483883ef292b033a5e79": {
      "model_module": "@jupyter-widgets/controls",
      "model_module_version": "1.5.0",
      "model_name": "HTMLModel",
      "state": {
       "_dom_classes": [],
       "_model_module": "@jupyter-widgets/controls",
       "_model_module_version": "1.5.0",
       "_model_name": "HTMLModel",
       "_view_count": null,
       "_view_module": "@jupyter-widgets/controls",
       "_view_module_version": "1.5.0",
       "_view_name": "HTMLView",
       "description": "",
       "description_tooltip": null,
       "layout": "IPY_MODEL_f4ce82f3230047908d7879545b100259",
       "placeholder": "​",
       "style": "IPY_MODEL_afa69939f751469b8a8976b867b25b4e",
       "value": " 1/1 [00:00&lt;00:00,  9.63ba/s]"
      }
     },
     "8c11a413d97c46f0ab791d6b13e8c8f8": {
      "model_module": "@jupyter-widgets/controls",
      "model_module_version": "1.5.0",
      "model_name": "FloatProgressModel",
      "state": {
       "_dom_classes": [],
       "_model_module": "@jupyter-widgets/controls",
       "_model_module_version": "1.5.0",
       "_model_name": "FloatProgressModel",
       "_view_count": null,
       "_view_module": "@jupyter-widgets/controls",
       "_view_module_version": "1.5.0",
       "_view_name": "ProgressView",
       "bar_style": "success",
       "description": "",
       "description_tooltip": null,
       "layout": "IPY_MODEL_52f10fcc90574ef090e5b9edbf47d1fb",
       "max": 286059269.0,
       "min": 0.0,
       "orientation": "horizontal",
       "style": "IPY_MODEL_30e99815b68b476188717c74dd171bab",
       "value": 286059269.0
      }
     },
     "8cc706e57383443888c236ad32cb6fef": {
      "model_module": "@jupyter-widgets/controls",
      "model_module_version": "1.5.0",
      "model_name": "FloatProgressModel",
      "state": {
       "_dom_classes": [],
       "_model_module": "@jupyter-widgets/controls",
       "_model_module_version": "1.5.0",
       "_model_name": "FloatProgressModel",
       "_view_count": null,
       "_view_module": "@jupyter-widgets/controls",
       "_view_module_version": "1.5.0",
       "_view_name": "ProgressView",
       "bar_style": "success",
       "description": "",
       "description_tooltip": null,
       "layout": "IPY_MODEL_ed2fa237ff7545be9ffacb59f511f372",
       "max": 1.0,
       "min": 0.0,
       "orientation": "horizontal",
       "style": "IPY_MODEL_b21d8f3187a94a5b80cee6fec671ef08",
       "value": 1.0
      }
     },
     "8e35b39b2e0948c59d40361a080725ff": {
      "model_module": "@jupyter-widgets/base",
      "model_module_version": "1.2.0",
      "model_name": "LayoutModel",
      "state": {
       "_model_module": "@jupyter-widgets/base",
       "_model_module_version": "1.2.0",
       "_model_name": "LayoutModel",
       "_view_count": null,
       "_view_module": "@jupyter-widgets/base",
       "_view_module_version": "1.2.0",
       "_view_name": "LayoutView",
       "align_content": null,
       "align_items": null,
       "align_self": null,
       "border": null,
       "bottom": null,
       "display": null,
       "flex": null,
       "flex_flow": null,
       "grid_area": null,
       "grid_auto_columns": null,
       "grid_auto_flow": null,
       "grid_auto_rows": null,
       "grid_column": null,
       "grid_gap": null,
       "grid_row": null,
       "grid_template_areas": null,
       "grid_template_columns": null,
       "grid_template_rows": null,
       "height": null,
       "justify_content": null,
       "justify_items": null,
       "left": null,
       "margin": null,
       "max_height": null,
       "max_width": null,
       "min_height": null,
       "min_width": null,
       "object_fit": null,
       "object_position": null,
       "order": null,
       "overflow": null,
       "overflow_x": null,
       "overflow_y": null,
       "padding": null,
       "right": null,
       "top": null,
       "visibility": null,
       "width": null
      }
     },
     "8e482d7c5d1d4aefab62fa27cf66374a": {
      "model_module": "@jupyter-widgets/controls",
      "model_module_version": "1.5.0",
      "model_name": "ProgressStyleModel",
      "state": {
       "_model_module": "@jupyter-widgets/controls",
       "_model_module_version": "1.5.0",
       "_model_name": "ProgressStyleModel",
       "_view_count": null,
       "_view_module": "@jupyter-widgets/base",
       "_view_module_version": "1.2.0",
       "_view_name": "StyleView",
       "bar_color": null,
       "description_width": ""
      }
     },
     "8f9c7adf03554331803a77e1a1f53de4": {
      "model_module": "@jupyter-widgets/base",
      "model_module_version": "1.2.0",
      "model_name": "LayoutModel",
      "state": {
       "_model_module": "@jupyter-widgets/base",
       "_model_module_version": "1.2.0",
       "_model_name": "LayoutModel",
       "_view_count": null,
       "_view_module": "@jupyter-widgets/base",
       "_view_module_version": "1.2.0",
       "_view_name": "LayoutView",
       "align_content": null,
       "align_items": null,
       "align_self": null,
       "border": null,
       "bottom": null,
       "display": null,
       "flex": null,
       "flex_flow": null,
       "grid_area": null,
       "grid_auto_columns": null,
       "grid_auto_flow": null,
       "grid_auto_rows": null,
       "grid_column": null,
       "grid_gap": null,
       "grid_row": null,
       "grid_template_areas": null,
       "grid_template_columns": null,
       "grid_template_rows": null,
       "height": null,
       "justify_content": null,
       "justify_items": null,
       "left": null,
       "margin": null,
       "max_height": null,
       "max_width": null,
       "min_height": null,
       "min_width": null,
       "object_fit": null,
       "object_position": null,
       "order": null,
       "overflow": null,
       "overflow_x": null,
       "overflow_y": null,
       "padding": null,
       "right": null,
       "top": null,
       "visibility": null,
       "width": null
      }
     },
     "9e91904ffe35458680c526b5819e001e": {
      "model_module": "@jupyter-widgets/controls",
      "model_module_version": "1.5.0",
      "model_name": "DescriptionStyleModel",
      "state": {
       "_model_module": "@jupyter-widgets/controls",
       "_model_module_version": "1.5.0",
       "_model_name": "DescriptionStyleModel",
       "_view_count": null,
       "_view_module": "@jupyter-widgets/base",
       "_view_module_version": "1.2.0",
       "_view_name": "StyleView",
       "description_width": ""
      }
     },
     "a3657ae6819647f98d61119ed1b2052d": {
      "model_module": "@jupyter-widgets/controls",
      "model_module_version": "1.5.0",
      "model_name": "HTMLModel",
      "state": {
       "_dom_classes": [],
       "_model_module": "@jupyter-widgets/controls",
       "_model_module_version": "1.5.0",
       "_model_name": "HTMLModel",
       "_view_count": null,
       "_view_module": "@jupyter-widgets/controls",
       "_view_module_version": "1.5.0",
       "_view_name": "HTMLView",
       "description": "",
       "description_tooltip": null,
       "layout": "IPY_MODEL_bbad12628d69463e8edbeffd403f96c5",
       "placeholder": "​",
       "style": "IPY_MODEL_befb93c78c0544dd9bf1ab387df0af44",
       "value": " 578/578 [00:00&lt;00:00, 54.3kB/s]"
      }
     },
     "aa26707d0c6e4d4e8a0798f91af8320a": {
      "model_module": "@jupyter-widgets/controls",
      "model_module_version": "1.5.0",
      "model_name": "DescriptionStyleModel",
      "state": {
       "_model_module": "@jupyter-widgets/controls",
       "_model_module_version": "1.5.0",
       "_model_name": "DescriptionStyleModel",
       "_view_count": null,
       "_view_module": "@jupyter-widgets/base",
       "_view_module_version": "1.2.0",
       "_view_name": "StyleView",
       "description_width": ""
      }
     },
     "ae00ff3d61b445f2ab4c87935b72dcc3": {
      "model_module": "@jupyter-widgets/controls",
      "model_module_version": "1.5.0",
      "model_name": "FloatProgressModel",
      "state": {
       "_dom_classes": [],
       "_model_module": "@jupyter-widgets/controls",
       "_model_module_version": "1.5.0",
       "_model_name": "FloatProgressModel",
       "_view_count": null,
       "_view_module": "@jupyter-widgets/controls",
       "_view_module_version": "1.5.0",
       "_view_name": "ProgressView",
       "bar_style": "success",
       "description": "",
       "description_tooltip": null,
       "layout": "IPY_MODEL_0203599b741143ad8f676bb53ae3290b",
       "max": 578.0,
       "min": 0.0,
       "orientation": "horizontal",
       "style": "IPY_MODEL_8e482d7c5d1d4aefab62fa27cf66374a",
       "value": 578.0
      }
     },
     "ae2bb09a244e4428aabbc78a7092f3ae": {
      "model_module": "@jupyter-widgets/base",
      "model_module_version": "1.2.0",
      "model_name": "LayoutModel",
      "state": {
       "_model_module": "@jupyter-widgets/base",
       "_model_module_version": "1.2.0",
       "_model_name": "LayoutModel",
       "_view_count": null,
       "_view_module": "@jupyter-widgets/base",
       "_view_module_version": "1.2.0",
       "_view_name": "LayoutView",
       "align_content": null,
       "align_items": null,
       "align_self": null,
       "border": null,
       "bottom": null,
       "display": null,
       "flex": null,
       "flex_flow": null,
       "grid_area": null,
       "grid_auto_columns": null,
       "grid_auto_flow": null,
       "grid_auto_rows": null,
       "grid_column": null,
       "grid_gap": null,
       "grid_row": null,
       "grid_template_areas": null,
       "grid_template_columns": null,
       "grid_template_rows": null,
       "height": null,
       "justify_content": null,
       "justify_items": null,
       "left": null,
       "margin": null,
       "max_height": null,
       "max_width": null,
       "min_height": null,
       "min_width": null,
       "object_fit": null,
       "object_position": null,
       "order": null,
       "overflow": null,
       "overflow_x": null,
       "overflow_y": null,
       "padding": null,
       "right": null,
       "top": null,
       "visibility": null,
       "width": null
      }
     },
     "afa69939f751469b8a8976b867b25b4e": {
      "model_module": "@jupyter-widgets/controls",
      "model_module_version": "1.5.0",
      "model_name": "DescriptionStyleModel",
      "state": {
       "_model_module": "@jupyter-widgets/controls",
       "_model_module_version": "1.5.0",
       "_model_name": "DescriptionStyleModel",
       "_view_count": null,
       "_view_module": "@jupyter-widgets/base",
       "_view_module_version": "1.2.0",
       "_view_name": "StyleView",
       "description_width": ""
      }
     },
     "b0cfa3f59096489e8ec624ba54d65a18": {
      "model_module": "@jupyter-widgets/controls",
      "model_module_version": "1.5.0",
      "model_name": "HTMLModel",
      "state": {
       "_dom_classes": [],
       "_model_module": "@jupyter-widgets/controls",
       "_model_module_version": "1.5.0",
       "_model_name": "HTMLModel",
       "_view_count": null,
       "_view_module": "@jupyter-widgets/controls",
       "_view_module_version": "1.5.0",
       "_view_name": "HTMLView",
       "description": "",
       "description_tooltip": null,
       "layout": "IPY_MODEL_15f53071ef5c475682b42ffc1c93717d",
       "placeholder": "​",
       "style": "IPY_MODEL_051914abf4014cd1aca903ade812aded",
       "value": "spm.model: 100%"
      }
     },
     "b21d8f3187a94a5b80cee6fec671ef08": {
      "model_module": "@jupyter-widgets/controls",
      "model_module_version": "1.5.0",
      "model_name": "ProgressStyleModel",
      "state": {
       "_model_module": "@jupyter-widgets/controls",
       "_model_module_version": "1.5.0",
       "_model_name": "ProgressStyleModel",
       "_view_count": null,
       "_view_module": "@jupyter-widgets/base",
       "_view_module_version": "1.2.0",
       "_view_name": "StyleView",
       "bar_color": null,
       "description_width": ""
      }
     },
     "b22ed97bcb0145f68fb1c3b7da6d1764": {
      "model_module": "@jupyter-widgets/base",
      "model_module_version": "1.2.0",
      "model_name": "LayoutModel",
      "state": {
       "_model_module": "@jupyter-widgets/base",
       "_model_module_version": "1.2.0",
       "_model_name": "LayoutModel",
       "_view_count": null,
       "_view_module": "@jupyter-widgets/base",
       "_view_module_version": "1.2.0",
       "_view_name": "LayoutView",
       "align_content": null,
       "align_items": null,
       "align_self": null,
       "border": null,
       "bottom": null,
       "display": null,
       "flex": null,
       "flex_flow": null,
       "grid_area": null,
       "grid_auto_columns": null,
       "grid_auto_flow": null,
       "grid_auto_rows": null,
       "grid_column": null,
       "grid_gap": null,
       "grid_row": null,
       "grid_template_areas": null,
       "grid_template_columns": null,
       "grid_template_rows": null,
       "height": null,
       "justify_content": null,
       "justify_items": null,
       "left": null,
       "margin": null,
       "max_height": null,
       "max_width": null,
       "min_height": null,
       "min_width": null,
       "object_fit": null,
       "object_position": null,
       "order": null,
       "overflow": null,
       "overflow_x": null,
       "overflow_y": null,
       "padding": null,
       "right": null,
       "top": null,
       "visibility": null,
       "width": null
      }
     },
     "b4169e039e5040259a5ce73795a94a7b": {
      "model_module": "@jupyter-widgets/controls",
      "model_module_version": "1.5.0",
      "model_name": "DescriptionStyleModel",
      "state": {
       "_model_module": "@jupyter-widgets/controls",
       "_model_module_version": "1.5.0",
       "_model_name": "DescriptionStyleModel",
       "_view_count": null,
       "_view_module": "@jupyter-widgets/base",
       "_view_module_version": "1.2.0",
       "_view_name": "StyleView",
       "description_width": ""
      }
     },
     "b5a8ca15395e408db7a2e3223d8052da": {
      "model_module": "@jupyter-widgets/controls",
      "model_module_version": "1.5.0",
      "model_name": "HTMLModel",
      "state": {
       "_dom_classes": [],
       "_model_module": "@jupyter-widgets/controls",
       "_model_module_version": "1.5.0",
       "_model_name": "HTMLModel",
       "_view_count": null,
       "_view_module": "@jupyter-widgets/controls",
       "_view_module_version": "1.5.0",
       "_view_name": "HTMLView",
       "description": "",
       "description_tooltip": null,
       "layout": "IPY_MODEL_6a2f7ce5de0141b28361801dcf29d5fb",
       "placeholder": "​",
       "style": "IPY_MODEL_1b943ae46cdf4f1a971b893277e7ab65",
       "value": " 1/1 [00:00&lt;00:00, 36.67ba/s]"
      }
     },
     "b606bfb4e5e64ce19614dd24f4e1d2c8": {
      "model_module": "@jupyter-widgets/base",
      "model_module_version": "1.2.0",
      "model_name": "LayoutModel",
      "state": {
       "_model_module": "@jupyter-widgets/base",
       "_model_module_version": "1.2.0",
       "_model_name": "LayoutModel",
       "_view_count": null,
       "_view_module": "@jupyter-widgets/base",
       "_view_module_version": "1.2.0",
       "_view_name": "LayoutView",
       "align_content": null,
       "align_items": null,
       "align_self": null,
       "border": null,
       "bottom": null,
       "display": null,
       "flex": null,
       "flex_flow": null,
       "grid_area": null,
       "grid_auto_columns": null,
       "grid_auto_flow": null,
       "grid_auto_rows": null,
       "grid_column": null,
       "grid_gap": null,
       "grid_row": null,
       "grid_template_areas": null,
       "grid_template_columns": null,
       "grid_template_rows": null,
       "height": null,
       "justify_content": null,
       "justify_items": null,
       "left": null,
       "margin": null,
       "max_height": null,
       "max_width": null,
       "min_height": null,
       "min_width": null,
       "object_fit": null,
       "object_position": null,
       "order": null,
       "overflow": null,
       "overflow_x": null,
       "overflow_y": null,
       "padding": null,
       "right": null,
       "top": null,
       "visibility": null,
       "width": null
      }
     },
     "b825af3d44464465a40ed9526bd0753e": {
      "model_module": "@jupyter-widgets/controls",
      "model_module_version": "1.5.0",
      "model_name": "HBoxModel",
      "state": {
       "_dom_classes": [],
       "_model_module": "@jupyter-widgets/controls",
       "_model_module_version": "1.5.0",
       "_model_name": "HBoxModel",
       "_view_count": null,
       "_view_module": "@jupyter-widgets/controls",
       "_view_module_version": "1.5.0",
       "_view_name": "HBoxView",
       "box_style": "",
       "children": [
        "IPY_MODEL_39fe8d71a3dd41999766211004f67299",
        "IPY_MODEL_35ff7ca27ac04d5bb2a20ae5d2d93acf",
        "IPY_MODEL_ea3cd8775a8d4e01b401da41f5a008dd"
       ],
       "layout": "IPY_MODEL_3a9d9a867f4e474cac0b895c026471ba"
      }
     },
     "bbad12628d69463e8edbeffd403f96c5": {
      "model_module": "@jupyter-widgets/base",
      "model_module_version": "1.2.0",
      "model_name": "LayoutModel",
      "state": {
       "_model_module": "@jupyter-widgets/base",
       "_model_module_version": "1.2.0",
       "_model_name": "LayoutModel",
       "_view_count": null,
       "_view_module": "@jupyter-widgets/base",
       "_view_module_version": "1.2.0",
       "_view_name": "LayoutView",
       "align_content": null,
       "align_items": null,
       "align_self": null,
       "border": null,
       "bottom": null,
       "display": null,
       "flex": null,
       "flex_flow": null,
       "grid_area": null,
       "grid_auto_columns": null,
       "grid_auto_flow": null,
       "grid_auto_rows": null,
       "grid_column": null,
       "grid_gap": null,
       "grid_row": null,
       "grid_template_areas": null,
       "grid_template_columns": null,
       "grid_template_rows": null,
       "height": null,
       "justify_content": null,
       "justify_items": null,
       "left": null,
       "margin": null,
       "max_height": null,
       "max_width": null,
       "min_height": null,
       "min_width": null,
       "object_fit": null,
       "object_position": null,
       "order": null,
       "overflow": null,
       "overflow_x": null,
       "overflow_y": null,
       "padding": null,
       "right": null,
       "top": null,
       "visibility": null,
       "width": null
      }
     },
     "befb93c78c0544dd9bf1ab387df0af44": {
      "model_module": "@jupyter-widgets/controls",
      "model_module_version": "1.5.0",
      "model_name": "DescriptionStyleModel",
      "state": {
       "_model_module": "@jupyter-widgets/controls",
       "_model_module_version": "1.5.0",
       "_model_name": "DescriptionStyleModel",
       "_view_count": null,
       "_view_module": "@jupyter-widgets/base",
       "_view_module_version": "1.2.0",
       "_view_name": "StyleView",
       "description_width": ""
      }
     },
     "bfc22ae16e114d089503c2b2d69ce1b8": {
      "model_module": "@jupyter-widgets/base",
      "model_module_version": "1.2.0",
      "model_name": "LayoutModel",
      "state": {
       "_model_module": "@jupyter-widgets/base",
       "_model_module_version": "1.2.0",
       "_model_name": "LayoutModel",
       "_view_count": null,
       "_view_module": "@jupyter-widgets/base",
       "_view_module_version": "1.2.0",
       "_view_name": "LayoutView",
       "align_content": null,
       "align_items": null,
       "align_self": null,
       "border": null,
       "bottom": null,
       "display": null,
       "flex": null,
       "flex_flow": null,
       "grid_area": null,
       "grid_auto_columns": null,
       "grid_auto_flow": null,
       "grid_auto_rows": null,
       "grid_column": null,
       "grid_gap": null,
       "grid_row": null,
       "grid_template_areas": null,
       "grid_template_columns": null,
       "grid_template_rows": null,
       "height": null,
       "justify_content": null,
       "justify_items": null,
       "left": null,
       "margin": null,
       "max_height": null,
       "max_width": null,
       "min_height": null,
       "min_width": null,
       "object_fit": null,
       "object_position": null,
       "order": null,
       "overflow": null,
       "overflow_x": null,
       "overflow_y": null,
       "padding": null,
       "right": null,
       "top": null,
       "visibility": null,
       "width": null
      }
     },
     "c96ed4dfcbb1447ea1797693deb21e21": {
      "model_module": "@jupyter-widgets/controls",
      "model_module_version": "1.5.0",
      "model_name": "HBoxModel",
      "state": {
       "_dom_classes": [],
       "_model_module": "@jupyter-widgets/controls",
       "_model_module_version": "1.5.0",
       "_model_name": "HBoxModel",
       "_view_count": null,
       "_view_module": "@jupyter-widgets/controls",
       "_view_module_version": "1.5.0",
       "_view_name": "HBoxView",
       "box_style": "",
       "children": [
        "IPY_MODEL_df4eada0f8b54062a27309c7e30c201b",
        "IPY_MODEL_8cc706e57383443888c236ad32cb6fef",
        "IPY_MODEL_b5a8ca15395e408db7a2e3223d8052da"
       ],
       "layout": "IPY_MODEL_fe73fe089c8f4bb48a2365f6f5f70fa7"
      }
     },
     "d4206d2904804a90a20b8867ecdd5d4b": {
      "model_module": "@jupyter-widgets/controls",
      "model_module_version": "1.5.0",
      "model_name": "HTMLModel",
      "state": {
       "_dom_classes": [],
       "_model_module": "@jupyter-widgets/controls",
       "_model_module_version": "1.5.0",
       "_model_name": "HTMLModel",
       "_view_count": null,
       "_view_module": "@jupyter-widgets/controls",
       "_view_module_version": "1.5.0",
       "_view_name": "HTMLView",
       "description": "",
       "description_tooltip": null,
       "layout": "IPY_MODEL_b22ed97bcb0145f68fb1c3b7da6d1764",
       "placeholder": "​",
       "style": "IPY_MODEL_1e82f373e5524c858cd743d6a5edc710",
       "value": " 286M/286M [00:03&lt;00:00, 81.9MB/s]"
      }
     },
     "d7fc8792d6394ed59e787e44b25df272": {
      "model_module": "@jupyter-widgets/controls",
      "model_module_version": "1.5.0",
      "model_name": "ProgressStyleModel",
      "state": {
       "_model_module": "@jupyter-widgets/controls",
       "_model_module_version": "1.5.0",
       "_model_name": "ProgressStyleModel",
       "_view_count": null,
       "_view_module": "@jupyter-widgets/base",
       "_view_module_version": "1.2.0",
       "_view_name": "StyleView",
       "bar_color": null,
       "description_width": ""
      }
     },
     "df4eada0f8b54062a27309c7e30c201b": {
      "model_module": "@jupyter-widgets/controls",
      "model_module_version": "1.5.0",
      "model_name": "HTMLModel",
      "state": {
       "_dom_classes": [],
       "_model_module": "@jupyter-widgets/controls",
       "_model_module_version": "1.5.0",
       "_model_name": "HTMLModel",
       "_view_count": null,
       "_view_module": "@jupyter-widgets/controls",
       "_view_module_version": "1.5.0",
       "_view_name": "HTMLView",
       "description": "",
       "description_tooltip": null,
       "layout": "IPY_MODEL_27c45b1265bb42369d9cf88203376fa4",
       "placeholder": "​",
       "style": "IPY_MODEL_3dd8894217cd4b2ab8dc927e790dd62f",
       "value": "100%"
      }
     },
     "e6b0dab9163349418410dbd0dd523ef1": {
      "model_module": "@jupyter-widgets/controls",
      "model_module_version": "1.5.0",
      "model_name": "HTMLModel",
      "state": {
       "_dom_classes": [],
       "_model_module": "@jupyter-widgets/controls",
       "_model_module_version": "1.5.0",
       "_model_name": "HTMLModel",
       "_view_count": null,
       "_view_module": "@jupyter-widgets/controls",
       "_view_module_version": "1.5.0",
       "_view_name": "HTMLView",
       "description": "",
       "description_tooltip": null,
       "layout": "IPY_MODEL_ae2bb09a244e4428aabbc78a7092f3ae",
       "placeholder": "​",
       "style": "IPY_MODEL_592e15d51d154cc88da07d3ce5416fb7",
       "value": " 2.46M/2.46M [00:00&lt;00:00, 12.8MB/s]"
      }
     },
     "ea3cd8775a8d4e01b401da41f5a008dd": {
      "model_module": "@jupyter-widgets/controls",
      "model_module_version": "1.5.0",
      "model_name": "HTMLModel",
      "state": {
       "_dom_classes": [],
       "_model_module": "@jupyter-widgets/controls",
       "_model_module_version": "1.5.0",
       "_model_name": "HTMLModel",
       "_view_count": null,
       "_view_module": "@jupyter-widgets/controls",
       "_view_module_version": "1.5.0",
       "_view_name": "HTMLView",
       "description": "",
       "description_tooltip": null,
       "layout": "IPY_MODEL_8e35b39b2e0948c59d40361a080725ff",
       "placeholder": "​",
       "style": "IPY_MODEL_b4169e039e5040259a5ce73795a94a7b",
       "value": " 52.0/52.0 [00:00&lt;00:00, 4.23kB/s]"
      }
     },
     "ed2fa237ff7545be9ffacb59f511f372": {
      "model_module": "@jupyter-widgets/base",
      "model_module_version": "1.2.0",
      "model_name": "LayoutModel",
      "state": {
       "_model_module": "@jupyter-widgets/base",
       "_model_module_version": "1.2.0",
       "_model_name": "LayoutModel",
       "_view_count": null,
       "_view_module": "@jupyter-widgets/base",
       "_view_module_version": "1.2.0",
       "_view_name": "LayoutView",
       "align_content": null,
       "align_items": null,
       "align_self": null,
       "border": null,
       "bottom": null,
       "display": null,
       "flex": null,
       "flex_flow": null,
       "grid_area": null,
       "grid_auto_columns": null,
       "grid_auto_flow": null,
       "grid_auto_rows": null,
       "grid_column": null,
       "grid_gap": null,
       "grid_row": null,
       "grid_template_areas": null,
       "grid_template_columns": null,
       "grid_template_rows": null,
       "height": null,
       "justify_content": null,
       "justify_items": null,
       "left": null,
       "margin": null,
       "max_height": null,
       "max_width": null,
       "min_height": null,
       "min_width": null,
       "object_fit": null,
       "object_position": null,
       "order": null,
       "overflow": null,
       "overflow_x": null,
       "overflow_y": null,
       "padding": null,
       "right": null,
       "top": null,
       "visibility": null,
       "width": null
      }
     },
     "f43786f7dc3d44bfbc5266ce37084d74": {
      "model_module": "@jupyter-widgets/controls",
      "model_module_version": "1.5.0",
      "model_name": "DescriptionStyleModel",
      "state": {
       "_model_module": "@jupyter-widgets/controls",
       "_model_module_version": "1.5.0",
       "_model_name": "DescriptionStyleModel",
       "_view_count": null,
       "_view_module": "@jupyter-widgets/base",
       "_view_module_version": "1.2.0",
       "_view_name": "StyleView",
       "description_width": ""
      }
     },
     "f4ce82f3230047908d7879545b100259": {
      "model_module": "@jupyter-widgets/base",
      "model_module_version": "1.2.0",
      "model_name": "LayoutModel",
      "state": {
       "_model_module": "@jupyter-widgets/base",
       "_model_module_version": "1.2.0",
       "_model_name": "LayoutModel",
       "_view_count": null,
       "_view_module": "@jupyter-widgets/base",
       "_view_module_version": "1.2.0",
       "_view_name": "LayoutView",
       "align_content": null,
       "align_items": null,
       "align_self": null,
       "border": null,
       "bottom": null,
       "display": null,
       "flex": null,
       "flex_flow": null,
       "grid_area": null,
       "grid_auto_columns": null,
       "grid_auto_flow": null,
       "grid_auto_rows": null,
       "grid_column": null,
       "grid_gap": null,
       "grid_row": null,
       "grid_template_areas": null,
       "grid_template_columns": null,
       "grid_template_rows": null,
       "height": null,
       "justify_content": null,
       "justify_items": null,
       "left": null,
       "margin": null,
       "max_height": null,
       "max_width": null,
       "min_height": null,
       "min_width": null,
       "object_fit": null,
       "object_position": null,
       "order": null,
       "overflow": null,
       "overflow_x": null,
       "overflow_y": null,
       "padding": null,
       "right": null,
       "top": null,
       "visibility": null,
       "width": null
      }
     },
     "f5218ce86c304f0393cf973011e6966b": {
      "model_module": "@jupyter-widgets/base",
      "model_module_version": "1.2.0",
      "model_name": "LayoutModel",
      "state": {
       "_model_module": "@jupyter-widgets/base",
       "_model_module_version": "1.2.0",
       "_model_name": "LayoutModel",
       "_view_count": null,
       "_view_module": "@jupyter-widgets/base",
       "_view_module_version": "1.2.0",
       "_view_name": "LayoutView",
       "align_content": null,
       "align_items": null,
       "align_self": null,
       "border": null,
       "bottom": null,
       "display": null,
       "flex": null,
       "flex_flow": null,
       "grid_area": null,
       "grid_auto_columns": null,
       "grid_auto_flow": null,
       "grid_auto_rows": null,
       "grid_column": null,
       "grid_gap": null,
       "grid_row": null,
       "grid_template_areas": null,
       "grid_template_columns": null,
       "grid_template_rows": null,
       "height": null,
       "justify_content": null,
       "justify_items": null,
       "left": null,
       "margin": null,
       "max_height": null,
       "max_width": null,
       "min_height": null,
       "min_width": null,
       "object_fit": null,
       "object_position": null,
       "order": null,
       "overflow": null,
       "overflow_x": null,
       "overflow_y": null,
       "padding": null,
       "right": null,
       "top": null,
       "visibility": null,
       "width": null
      }
     },
     "fe73fe089c8f4bb48a2365f6f5f70fa7": {
      "model_module": "@jupyter-widgets/base",
      "model_module_version": "1.2.0",
      "model_name": "LayoutModel",
      "state": {
       "_model_module": "@jupyter-widgets/base",
       "_model_module_version": "1.2.0",
       "_model_name": "LayoutModel",
       "_view_count": null,
       "_view_module": "@jupyter-widgets/base",
       "_view_module_version": "1.2.0",
       "_view_name": "LayoutView",
       "align_content": null,
       "align_items": null,
       "align_self": null,
       "border": null,
       "bottom": null,
       "display": null,
       "flex": null,
       "flex_flow": null,
       "grid_area": null,
       "grid_auto_columns": null,
       "grid_auto_flow": null,
       "grid_auto_rows": null,
       "grid_column": null,
       "grid_gap": null,
       "grid_row": null,
       "grid_template_areas": null,
       "grid_template_columns": null,
       "grid_template_rows": null,
       "height": null,
       "justify_content": null,
       "justify_items": null,
       "left": null,
       "margin": null,
       "max_height": null,
       "max_width": null,
       "min_height": null,
       "min_width": null,
       "object_fit": null,
       "object_position": null,
       "order": null,
       "overflow": null,
       "overflow_x": null,
       "overflow_y": null,
       "padding": null,
       "right": null,
       "top": null,
       "visibility": null,
       "width": null
      }
     }
    },
    "version_major": 2,
    "version_minor": 0
   }
  }
 },
 "nbformat": 4,
 "nbformat_minor": 5
}
