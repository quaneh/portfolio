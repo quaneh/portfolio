{
 "cells": [
  {
   "cell_type": "code",
   "execution_count": 1,
   "id": "505fe342",
   "metadata": {
    "_cell_guid": "b1076dfc-b9ad-4769-8c92-a6c4dae69d19",
    "_uuid": "8f2839f25d086af736a60e9eeb907d3b93b6e0e5",
    "execution": {
     "iopub.execute_input": "2024-02-21T04:46:29.524701Z",
     "iopub.status.busy": "2024-02-21T04:46:29.524351Z",
     "iopub.status.idle": "2024-02-21T04:46:30.203374Z",
     "shell.execute_reply": "2024-02-21T04:46:30.202325Z"
    },
    "papermill": {
     "duration": 0.696721,
     "end_time": "2024-02-21T04:46:30.205494",
     "exception": false,
     "start_time": "2024-02-21T04:46:29.508773",
     "status": "completed"
    },
    "tags": []
   },
   "outputs": [
    {
     "name": "stdout",
     "output_type": "stream",
     "text": [
      "/kaggle/input/clintontrump-corpus/clinton_trump.csv\n"
     ]
    }
   ],
   "source": [
    "# This Python 3 environment comes with many helpful analytics libraries installed\n",
    "# It is defined by the kaggle/python Docker image: https://github.com/kaggle/docker-python\n",
    "# For example, here's several helpful packages to load\n",
    "\n",
    "import numpy as np # linear algebra\n",
    "import pandas as pd # data processing, CSV file I/O (e.g. pd.read_csv)\n",
    "\n",
    "# Input data files are available in the read-only \"../input/\" directory\n",
    "# For example, running this (by clicking run or pressing Shift+Enter) will list all files under the input directory\n",
    "\n",
    "import os\n",
    "for dirname, _, filenames in os.walk('/kaggle/input'):\n",
    "    for filename in filenames:\n",
    "        print(os.path.join(dirname, filename))\n",
    "\n",
    "# You can write up to 20GB to the current directory (/kaggle/working/) that gets preserved as output when you create a version using \"Save & Run All\" \n",
    "# You can also write temporary files to /kaggle/temp/, but they won't be saved outside of the current session"
   ]
  },
  {
   "cell_type": "code",
   "execution_count": 2,
   "id": "5e1c7776",
   "metadata": {
    "execution": {
     "iopub.execute_input": "2024-02-21T04:46:30.233539Z",
     "iopub.status.busy": "2024-02-21T04:46:30.233146Z",
     "iopub.status.idle": "2024-02-21T04:46:30.576299Z",
     "shell.execute_reply": "2024-02-21T04:46:30.575547Z"
    },
    "papermill": {
     "duration": 0.359289,
     "end_time": "2024-02-21T04:46:30.578365",
     "exception": false,
     "start_time": "2024-02-21T04:46:30.219076",
     "status": "completed"
    },
    "tags": []
   },
   "outputs": [
    {
     "name": "stderr",
     "output_type": "stream",
     "text": [
      "/opt/conda/lib/python3.10/site-packages/scipy/__init__.py:146: UserWarning: A NumPy version >=1.16.5 and <1.23.0 is required for this version of SciPy (detected version 1.24.3\n",
      "  warnings.warn(f\"A NumPy version >={np_minversion} and <{np_maxversion}\"\n"
     ]
    }
   ],
   "source": [
    "from fastai.imports import *"
   ]
  },
  {
   "cell_type": "code",
   "execution_count": 3,
   "id": "e5e7118b",
   "metadata": {
    "execution": {
     "iopub.execute_input": "2024-02-21T04:46:30.606378Z",
     "iopub.status.busy": "2024-02-21T04:46:30.605991Z",
     "iopub.status.idle": "2024-02-21T04:46:30.612508Z",
     "shell.execute_reply": "2024-02-21T04:46:30.611681Z"
    },
    "papermill": {
     "duration": 0.022579,
     "end_time": "2024-02-21T04:46:30.614331",
     "exception": false,
     "start_time": "2024-02-21T04:46:30.591752",
     "status": "completed"
    },
    "tags": []
   },
   "outputs": [
    {
     "data": {
      "text/plain": [
       "(#1) [Path('../input/clintontrump-corpus/clinton_trump.csv')]"
      ]
     },
     "execution_count": 3,
     "metadata": {},
     "output_type": "execute_result"
    }
   ],
   "source": [
    "path = Path('../input/clintontrump-corpus')\n",
    "path.ls()"
   ]
  },
  {
   "cell_type": "code",
   "execution_count": 4,
   "id": "e06479f6",
   "metadata": {
    "execution": {
     "iopub.execute_input": "2024-02-21T04:46:30.643126Z",
     "iopub.status.busy": "2024-02-21T04:46:30.642631Z",
     "iopub.status.idle": "2024-02-21T04:46:30.747432Z",
     "shell.execute_reply": "2024-02-21T04:46:30.746545Z"
    },
    "papermill": {
     "duration": 0.120973,
     "end_time": "2024-02-21T04:46:30.749566",
     "exception": false,
     "start_time": "2024-02-21T04:46:30.628593",
     "status": "completed"
    },
    "tags": []
   },
   "outputs": [],
   "source": [
    "df = pd.read_csv(path/'clinton_trump.csv')"
   ]
  },
  {
   "cell_type": "code",
   "execution_count": null,
   "id": "52785abe",
   "metadata": {
    "papermill": {
     "duration": 0.013351,
     "end_time": "2024-02-21T04:46:30.776444",
     "exception": false,
     "start_time": "2024-02-21T04:46:30.763093",
     "status": "completed"
    },
    "tags": []
   },
   "outputs": [],
   "source": []
  },
  {
   "cell_type": "code",
   "execution_count": 5,
   "id": "6845dbc1",
   "metadata": {
    "execution": {
     "iopub.execute_input": "2024-02-21T04:46:30.804748Z",
     "iopub.status.busy": "2024-02-21T04:46:30.804118Z",
     "iopub.status.idle": "2024-02-21T04:46:30.813253Z",
     "shell.execute_reply": "2024-02-21T04:46:30.812459Z"
    },
    "papermill": {
     "duration": 0.025228,
     "end_time": "2024-02-21T04:46:30.815057",
     "exception": false,
     "start_time": "2024-02-21T04:46:30.789829",
     "status": "completed"
    },
    "tags": []
   },
   "outputs": [],
   "source": [
    "df = df.sample(frac=1).reset_index(drop=True)\n",
    "df = df.sample(frac=1).reset_index(drop=True)"
   ]
  },
  {
   "cell_type": "code",
   "execution_count": 6,
   "id": "f7d907c1",
   "metadata": {
    "execution": {
     "iopub.execute_input": "2024-02-21T04:46:30.842662Z",
     "iopub.status.busy": "2024-02-21T04:46:30.842421Z",
     "iopub.status.idle": "2024-02-21T04:46:30.846653Z",
     "shell.execute_reply": "2024-02-21T04:46:30.845816Z"
    },
    "papermill": {
     "duration": 0.020147,
     "end_time": "2024-02-21T04:46:30.848571",
     "exception": false,
     "start_time": "2024-02-21T04:46:30.828424",
     "status": "completed"
    },
    "tags": []
   },
   "outputs": [],
   "source": [
    "def extract_name(text): \n",
    "    if text.find('Trump') >= 0: return 1\n",
    "    return 0"
   ]
  },
  {
   "cell_type": "code",
   "execution_count": 7,
   "id": "01f70848",
   "metadata": {
    "execution": {
     "iopub.execute_input": "2024-02-21T04:46:30.876146Z",
     "iopub.status.busy": "2024-02-21T04:46:30.875878Z",
     "iopub.status.idle": "2024-02-21T04:46:30.879997Z",
     "shell.execute_reply": "2024-02-21T04:46:30.879165Z"
    },
    "papermill": {
     "duration": 0.020046,
     "end_time": "2024-02-21T04:46:30.881915",
     "exception": false,
     "start_time": "2024-02-21T04:46:30.861869",
     "status": "completed"
    },
    "tags": []
   },
   "outputs": [],
   "source": [
    "def extract_name_str(text): \n",
    "    if text.find('Trump') >= 0: return 'trump'\n",
    "    return 'clinton'"
   ]
  },
  {
   "cell_type": "code",
   "execution_count": 8,
   "id": "f638e274",
   "metadata": {
    "execution": {
     "iopub.execute_input": "2024-02-21T04:46:30.909452Z",
     "iopub.status.busy": "2024-02-21T04:46:30.909178Z",
     "iopub.status.idle": "2024-02-21T04:46:30.917137Z",
     "shell.execute_reply": "2024-02-21T04:46:30.916360Z"
    },
    "papermill": {
     "duration": 0.023756,
     "end_time": "2024-02-21T04:46:30.918922",
     "exception": false,
     "start_time": "2024-02-21T04:46:30.895166",
     "status": "completed"
    },
    "tags": []
   },
   "outputs": [],
   "source": [
    "df['label'] = df['doc_id'].map(extract_name).astype('float')\n",
    "# df['text'] = df['doc_id'].map(extract_name_str)"
   ]
  },
  {
   "cell_type": "code",
   "execution_count": 9,
   "id": "7d2e8892",
   "metadata": {
    "execution": {
     "iopub.execute_input": "2024-02-21T04:46:30.987601Z",
     "iopub.status.busy": "2024-02-21T04:46:30.987242Z",
     "iopub.status.idle": "2024-02-21T04:46:30.993646Z",
     "shell.execute_reply": "2024-02-21T04:46:30.992728Z"
    },
    "papermill": {
     "duration": 0.063069,
     "end_time": "2024-02-21T04:46:30.995453",
     "exception": false,
     "start_time": "2024-02-21T04:46:30.932384",
     "status": "completed"
    },
    "tags": []
   },
   "outputs": [
    {
     "data": {
      "text/plain": [
       "0.7008547008547008"
      ]
     },
     "execution_count": 9,
     "metadata": {},
     "output_type": "execute_result"
    }
   ],
   "source": [
    "np.mean(df['label'])"
   ]
  },
  {
   "cell_type": "code",
   "execution_count": 10,
   "id": "b64536fe",
   "metadata": {
    "execution": {
     "iopub.execute_input": "2024-02-21T04:46:31.023824Z",
     "iopub.status.busy": "2024-02-21T04:46:31.023520Z",
     "iopub.status.idle": "2024-02-21T04:46:31.031350Z",
     "shell.execute_reply": "2024-02-21T04:46:31.030533Z"
    },
    "papermill": {
     "duration": 0.024533,
     "end_time": "2024-02-21T04:46:31.033450",
     "exception": false,
     "start_time": "2024-02-21T04:46:31.008917",
     "status": "completed"
    },
    "tags": []
   },
   "outputs": [],
   "source": [
    "df = df.drop('doc_id', axis=1)"
   ]
  },
  {
   "cell_type": "code",
   "execution_count": 11,
   "id": "19dbcdba",
   "metadata": {
    "execution": {
     "iopub.execute_input": "2024-02-21T04:46:31.062415Z",
     "iopub.status.busy": "2024-02-21T04:46:31.062124Z",
     "iopub.status.idle": "2024-02-21T04:46:31.070432Z",
     "shell.execute_reply": "2024-02-21T04:46:31.069564Z"
    },
    "papermill": {
     "duration": 0.025272,
     "end_time": "2024-02-21T04:46:31.072360",
     "exception": false,
     "start_time": "2024-02-21T04:46:31.047088",
     "status": "completed"
    },
    "tags": []
   },
   "outputs": [],
   "source": [
    "df['text'] = df['text'].map(str.lower)"
   ]
  },
  {
   "cell_type": "code",
   "execution_count": 12,
   "id": "04ec7d29",
   "metadata": {
    "execution": {
     "iopub.execute_input": "2024-02-21T04:46:31.100351Z",
     "iopub.status.busy": "2024-02-21T04:46:31.100080Z",
     "iopub.status.idle": "2024-02-21T04:46:31.104371Z",
     "shell.execute_reply": "2024-02-21T04:46:31.103528Z"
    },
    "papermill": {
     "duration": 0.020317,
     "end_time": "2024-02-21T04:46:31.106178",
     "exception": false,
     "start_time": "2024-02-21T04:46:31.085861",
     "status": "completed"
    },
    "tags": []
   },
   "outputs": [],
   "source": [
    "def drop_metadata(text):\n",
    "    first_close = text.find('>')\n",
    "    second_close = text.find('>', first_close +1 )\n",
    "    return text[second_close+1:]"
   ]
  },
  {
   "cell_type": "code",
   "execution_count": 13,
   "id": "9295ce71",
   "metadata": {
    "execution": {
     "iopub.execute_input": "2024-02-21T04:46:31.134108Z",
     "iopub.status.busy": "2024-02-21T04:46:31.133837Z",
     "iopub.status.idle": "2024-02-21T04:46:31.138690Z",
     "shell.execute_reply": "2024-02-21T04:46:31.137922Z"
    },
    "papermill": {
     "duration": 0.021071,
     "end_time": "2024-02-21T04:46:31.140558",
     "exception": false,
     "start_time": "2024-02-21T04:46:31.119487",
     "status": "completed"
    },
    "tags": []
   },
   "outputs": [],
   "source": [
    "def drop_intro(text):\n",
    "    first_trump = text.find('<trump')\n",
    "    if (first_trump >= 0):\n",
    "        return text[first_trump:]\n",
    "    \n",
    "    first_hilary = text.find('<hilary')\n",
    "    if (first_hilary >= 0):\n",
    "        return text[first_hilary:]\n",
    "    return text"
   ]
  },
  {
   "cell_type": "code",
   "execution_count": 14,
   "id": "056f3a25",
   "metadata": {
    "execution": {
     "iopub.execute_input": "2024-02-21T04:46:31.168247Z",
     "iopub.status.busy": "2024-02-21T04:46:31.167984Z",
     "iopub.status.idle": "2024-02-21T04:46:31.172100Z",
     "shell.execute_reply": "2024-02-21T04:46:31.171355Z"
    },
    "papermill": {
     "duration": 0.020065,
     "end_time": "2024-02-21T04:46:31.173971",
     "exception": false,
     "start_time": "2024-02-21T04:46:31.153906",
     "status": "completed"
    },
    "tags": []
   },
   "outputs": [],
   "source": [
    "import re \n",
    "\n",
    "def drop_alt_speakers(text):\n",
    "    return re.sub(\"[\\(\\<].*?[\\)\\>]\", \"\", text)"
   ]
  },
  {
   "cell_type": "code",
   "execution_count": 15,
   "id": "998a2ce3",
   "metadata": {
    "execution": {
     "iopub.execute_input": "2024-02-21T04:46:31.201739Z",
     "iopub.status.busy": "2024-02-21T04:46:31.201478Z",
     "iopub.status.idle": "2024-02-21T04:46:31.205653Z",
     "shell.execute_reply": "2024-02-21T04:46:31.204965Z"
    },
    "papermill": {
     "duration": 0.020233,
     "end_time": "2024-02-21T04:46:31.207516",
     "exception": false,
     "start_time": "2024-02-21T04:46:31.187283",
     "status": "completed"
    },
    "tags": []
   },
   "outputs": [],
   "source": [
    "def drop_incomplete_first_sen(text):\n",
    "    first_stop = text.find('.')\n",
    "    if (first_stop >= 0):\n",
    "        return text[first_stop+2:]"
   ]
  },
  {
   "cell_type": "code",
   "execution_count": 16,
   "id": "44bad003",
   "metadata": {
    "execution": {
     "iopub.execute_input": "2024-02-21T04:46:31.235349Z",
     "iopub.status.busy": "2024-02-21T04:46:31.235077Z",
     "iopub.status.idle": "2024-02-21T04:46:31.338894Z",
     "shell.execute_reply": "2024-02-21T04:46:31.338195Z"
    },
    "papermill": {
     "duration": 0.119985,
     "end_time": "2024-02-21T04:46:31.340852",
     "exception": false,
     "start_time": "2024-02-21T04:46:31.220867",
     "status": "completed"
    },
    "tags": []
   },
   "outputs": [],
   "source": [
    "# df['text'] = df['text'].map(drop_metadata)\n",
    "# df['text'] = df['text'].map(drop_intro)\n",
    "df['text'] = df['text'].map(drop_alt_speakers)\n",
    "df['text'] = df['text'].str[-1200:]\n",
    "df['text'] = df['text'].map(drop_incomplete_first_sen)\n",
    "df['text'] = df['text'].str.replace('<applause>', '')\n",
    "df['text'] = df['text'].str.replace('<cheering and applause>', '')\n",
    "df['text'] = df['text'].str.replace('<crosstalk>', '')\n",
    "df['text'] = df['text'].str.replace('<', '')\n",
    "df['text'] = df['text'].str.replace('>', '')\n",
    "df['text'] = df['text'].str.replace('\\\\', '')\n",
    "df['text'] = df['text'].str.replace(':', ' :')   \n",
    "df['text'] = df['text'].str.replace(' --', ',') \n",
    "df['text'] = df['text'].str.replace('hillary clinton', 'the candidate')\n",
    "df['text'] = df['text'].str.replace('hillary', 'the candidate')\n",
    "df['text'] = df['text'].str.replace('clinton', 'the candidate')\n",
    "df['text'] = df['text'].str.replace('donald trump', 'the candidate')\n",
    "df['text'] = df['text'].str.replace('donald', 'the candidate')\n",
    "df['text'] = df['text'].str.replace('trump', 'the candidate')"
   ]
  },
  {
   "cell_type": "code",
   "execution_count": 17,
   "id": "d15795d4",
   "metadata": {
    "execution": {
     "iopub.execute_input": "2024-02-21T04:46:31.369163Z",
     "iopub.status.busy": "2024-02-21T04:46:31.368888Z",
     "iopub.status.idle": "2024-02-21T04:46:31.383425Z",
     "shell.execute_reply": "2024-02-21T04:46:31.382632Z"
    },
    "papermill": {
     "duration": 0.030785,
     "end_time": "2024-02-21T04:46:31.385361",
     "exception": false,
     "start_time": "2024-02-21T04:46:31.354576",
     "status": "completed"
    },
    "tags": []
   },
   "outputs": [
    {
     "data": {
      "text/html": [
       "<div>\n",
       "<style scoped>\n",
       "    .dataframe tbody tr th:only-of-type {\n",
       "        vertical-align: middle;\n",
       "    }\n",
       "\n",
       "    .dataframe tbody tr th {\n",
       "        vertical-align: top;\n",
       "    }\n",
       "\n",
       "    .dataframe thead th {\n",
       "        text-align: right;\n",
       "    }\n",
       "</style>\n",
       "<table border=\"1\" class=\"dataframe\">\n",
       "  <thead>\n",
       "    <tr style=\"text-align: right;\">\n",
       "      <th></th>\n",
       "      <th>text</th>\n",
       "      <th>label</th>\n",
       "    </tr>\n",
       "  </thead>\n",
       "  <tbody>\n",
       "    <tr>\n",
       "      <th>0</th>\n",
       "      <td>can you imagine?  can you imagine? you're going to look back at this rally for the rest of your life, you're going to remember this day. this is a movement like nobody has ever seen before. even bill o'reilly said it's the single greatest political phenomena of his lifetime, that's good.  that's good. and many others, and many that dislike me say the same thing. we're going to make history together, you're going to look back at this election and say this is by far the most important vote that you've ever cast for anyone at anytime.  a vote for the candidate is a vote for change, and a vote...</td>\n",
       "      <td>1.0</td>\n",
       "    </tr>\n",
       "    <tr>\n",
       "      <th>1</th>\n",
       "      <td>but peace will require new approaches, not relying on the same failed voices of the past. these are failed voices. and now they want another four years. and we need to fix the v.a., so we never break our sacred commitment to our veterans, never ever again.  we can do all of these things. we simply need to stop relying on the politicians who created these problems in the first place. they are not going to do anything. i call them all talk, no action. that's what they are. they are politicians. all talk, no action. we can't fix a rigged system by electing the people who rigged it in the firs...</td>\n",
       "      <td>1.0</td>\n",
       "    </tr>\n",
       "    <tr>\n",
       "      <th>2</th>\n",
       "      <td>om or you could text \"join,\" j-o-i-n, to 47246 because we want to win ohio.  but you know, we don't want to just win it for the sake of winning it, we want to win it so that we can go onto the white house next january and get to work for you.  we want to win it so we can take all the plans and all the ideas that will improve your lives, that will get the economy working for everybody, not just those at the top, which will help make education affordable so college is within reach of everyone, and help you pay back your student debt. we want to defeat isis, keep our alliances strong. we want...</td>\n",
       "      <td>0.0</td>\n",
       "    </tr>\n",
       "    <tr>\n",
       "      <th>3</th>\n",
       "      <td>we're going to take care of our miners. they're amazing people. american workers will be hired to do the job. we will put new american steel into the spine of our country.  i will fight for every neglected part of this nation. and i will fight to bring us all together as one people. imagine what our country could accomplish if we started working together as one people under one god, saluting one flag.    it's time to break with the bitter failures of the past and to embrace a new, inclusive and prosperous american future. we're not prosperous anymore. we owe $20 trillion. we have a preside...</td>\n",
       "      <td>1.0</td>\n",
       "    </tr>\n",
       "    <tr>\n",
       "      <th>4</th>\n",
       "      <td>assimilation is not an act of hostility, but an expression of compassion. our system of government and our american culture is the best in the world and will produce the best outcomes for all who adopt them.   thank you. this approach will not only make us safer, but bring us closer together as a country. renewing the spirit of americanism will help heal the divisions in our country of which there are so many. we have a divider as president. we call him the great divider. it's the thing he does best.  he will do so by emphasizing what we have in common, not what pulls us apart. this is my ...</td>\n",
       "      <td>1.0</td>\n",
       "    </tr>\n",
       "    <tr>\n",
       "      <th>...</th>\n",
       "      <td>...</td>\n",
       "      <td>...</td>\n",
       "    </tr>\n",
       "    <tr>\n",
       "      <th>112</th>\n",
       "      <td>we're going to take care of that. we're going to take care of that situation so quickly and you're going to be so happy and you're going to know you're going to have your company here for a long time, believe me. in this new future we are going to raise your wages. you're going to have competition. people are going to be looking for employees. they're going to be looking. companies, companies are going to be looking for people to work in that company. right now you can't get a job. and all our good jobs are gone. household incomes are over $4,000 less today than they were 16 years ago. th...</td>\n",
       "      <td>1.0</td>\n",
       "    </tr>\n",
       "    <tr>\n",
       "      <th>113</th>\n",
       "      <td>no, it's going to be very, very hard. we're going to have strong borders, we're going to have the wall. mexico is going to pay for the wall 100 percent, 100 percent.  we are going to get rid of obamacare. we're going to get rid of common core, we're going to bring our education, local. we're going to have local education. we're going to appoint great supreme court justices.  and folks, we're going to start winning again. we're going to win at every level. we're going to win so much, you're going to get tired of winning, i'm telling you. you're going to be begging me, mr. president, you wi...</td>\n",
       "      <td>1.0</td>\n",
       "    </tr>\n",
       "    <tr>\n",
       "      <th>114</th>\n",
       "      <td>and, and to all the little girls who are watching this, never doubt that you are valuable and powerful and deserving of every chance and opportunity in the world to pursue and achieve your own dreams. finally...  finally, i am so grateful for our country and for all it has given to me. i count my blessings every single day that i am an american. and i still believe as deeply as i ever have that if we stand together and work together with respect for our differences, strength in our convictions and love for this nation, our best days are still ahead of us.  because, you know, you know, i b...</td>\n",
       "      <td>0.0</td>\n",
       "    </tr>\n",
       "    <tr>\n",
       "      <th>115</th>\n",
       "      <td>but i can't do this without your help. i hope you will join this campaign. please join us.  join us by texting join, j-o-i-n 247246, or go to the candidatethe candidate.com. we are organizing across iowa.  we're going to be helping people vote early so that they can make sure that their vote will count. we're going to be reaching into every part of this state. and we're going to be talking and listening as we did way back in april, to learn what's on the minds of iowans and to figure out what you need from the next president. now, i know that any election is hard. it's filled with unpredic...</td>\n",
       "      <td>0.0</td>\n",
       "    </tr>\n",
       "    <tr>\n",
       "      <th>116</th>\n",
       "      <td>and frankly, we're paying for too much, and sometimes we're going to companies that are political and we're getting things that aren't as good, you know this for years, things that aren't as good as similar equipment that's better for less money. because they're politically connected, the companies.  so, you know, i'm, i've spent a tremendous amount of money. we're going to announce very soon how much we've raised. we've raised a lot. but i've spent a lot. i've put, i put more than $60 million into the campaign and...  ... and i'm going to be spending a lot more over the next two- month pe...</td>\n",
       "      <td>1.0</td>\n",
       "    </tr>\n",
       "  </tbody>\n",
       "</table>\n",
       "<p>117 rows × 2 columns</p>\n",
       "</div>"
      ],
      "text/plain": [
       "                                                                                                                                                                                                                                                                                                                                                                                                                                                                                                                                                                                                                        text  \\\n",
       "0    can you imagine?  can you imagine? you're going to look back at this rally for the rest of your life, you're going to remember this day. this is a movement like nobody has ever seen before. even bill o'reilly said it's the single greatest political phenomena of his lifetime, that's good.  that's good. and many others, and many that dislike me say the same thing. we're going to make history together, you're going to look back at this election and say this is by far the most important vote that you've ever cast for anyone at anytime.  a vote for the candidate is a vote for change, and a vote...   \n",
       "1    but peace will require new approaches, not relying on the same failed voices of the past. these are failed voices. and now they want another four years. and we need to fix the v.a., so we never break our sacred commitment to our veterans, never ever again.  we can do all of these things. we simply need to stop relying on the politicians who created these problems in the first place. they are not going to do anything. i call them all talk, no action. that's what they are. they are politicians. all talk, no action. we can't fix a rigged system by electing the people who rigged it in the firs...   \n",
       "2    om or you could text \"join,\" j-o-i-n, to 47246 because we want to win ohio.  but you know, we don't want to just win it for the sake of winning it, we want to win it so that we can go onto the white house next january and get to work for you.  we want to win it so we can take all the plans and all the ideas that will improve your lives, that will get the economy working for everybody, not just those at the top, which will help make education affordable so college is within reach of everyone, and help you pay back your student debt. we want to defeat isis, keep our alliances strong. we want...   \n",
       "3    we're going to take care of our miners. they're amazing people. american workers will be hired to do the job. we will put new american steel into the spine of our country.  i will fight for every neglected part of this nation. and i will fight to bring us all together as one people. imagine what our country could accomplish if we started working together as one people under one god, saluting one flag.    it's time to break with the bitter failures of the past and to embrace a new, inclusive and prosperous american future. we're not prosperous anymore. we owe $20 trillion. we have a preside...   \n",
       "4    assimilation is not an act of hostility, but an expression of compassion. our system of government and our american culture is the best in the world and will produce the best outcomes for all who adopt them.   thank you. this approach will not only make us safer, but bring us closer together as a country. renewing the spirit of americanism will help heal the divisions in our country of which there are so many. we have a divider as president. we call him the great divider. it's the thing he does best.  he will do so by emphasizing what we have in common, not what pulls us apart. this is my ...   \n",
       "..                                                                                                                                                                                                                                                                                                                                                                                                                                                                                                                                                                                                                       ...   \n",
       "112   we're going to take care of that. we're going to take care of that situation so quickly and you're going to be so happy and you're going to know you're going to have your company here for a long time, believe me. in this new future we are going to raise your wages. you're going to have competition. people are going to be looking for employees. they're going to be looking. companies, companies are going to be looking for people to work in that company. right now you can't get a job. and all our good jobs are gone. household incomes are over $4,000 less today than they were 16 years ago. th...   \n",
       "113   no, it's going to be very, very hard. we're going to have strong borders, we're going to have the wall. mexico is going to pay for the wall 100 percent, 100 percent.  we are going to get rid of obamacare. we're going to get rid of common core, we're going to bring our education, local. we're going to have local education. we're going to appoint great supreme court justices.  and folks, we're going to start winning again. we're going to win at every level. we're going to win so much, you're going to get tired of winning, i'm telling you. you're going to be begging me, mr. president, you wi...   \n",
       "114   and, and to all the little girls who are watching this, never doubt that you are valuable and powerful and deserving of every chance and opportunity in the world to pursue and achieve your own dreams. finally...  finally, i am so grateful for our country and for all it has given to me. i count my blessings every single day that i am an american. and i still believe as deeply as i ever have that if we stand together and work together with respect for our differences, strength in our convictions and love for this nation, our best days are still ahead of us.  because, you know, you know, i b...   \n",
       "115  but i can't do this without your help. i hope you will join this campaign. please join us.  join us by texting join, j-o-i-n 247246, or go to the candidatethe candidate.com. we are organizing across iowa.  we're going to be helping people vote early so that they can make sure that their vote will count. we're going to be reaching into every part of this state. and we're going to be talking and listening as we did way back in april, to learn what's on the minds of iowans and to figure out what you need from the next president. now, i know that any election is hard. it's filled with unpredic...   \n",
       "116  and frankly, we're paying for too much, and sometimes we're going to companies that are political and we're getting things that aren't as good, you know this for years, things that aren't as good as similar equipment that's better for less money. because they're politically connected, the companies.  so, you know, i'm, i've spent a tremendous amount of money. we're going to announce very soon how much we've raised. we've raised a lot. but i've spent a lot. i've put, i put more than $60 million into the campaign and...  ... and i'm going to be spending a lot more over the next two- month pe...   \n",
       "\n",
       "     label  \n",
       "0      1.0  \n",
       "1      1.0  \n",
       "2      0.0  \n",
       "3      1.0  \n",
       "4      1.0  \n",
       "..     ...  \n",
       "112    1.0  \n",
       "113    1.0  \n",
       "114    0.0  \n",
       "115    0.0  \n",
       "116    1.0  \n",
       "\n",
       "[117 rows x 2 columns]"
      ]
     },
     "execution_count": 17,
     "metadata": {},
     "output_type": "execute_result"
    }
   ],
   "source": [
    "df"
   ]
  },
  {
   "cell_type": "code",
   "execution_count": 18,
   "id": "971d597a",
   "metadata": {
    "execution": {
     "iopub.execute_input": "2024-02-21T04:46:31.414057Z",
     "iopub.status.busy": "2024-02-21T04:46:31.413770Z",
     "iopub.status.idle": "2024-02-21T04:46:31.419334Z",
     "shell.execute_reply": "2024-02-21T04:46:31.418534Z"
    },
    "papermill": {
     "duration": 0.021943,
     "end_time": "2024-02-21T04:46:31.421150",
     "exception": false,
     "start_time": "2024-02-21T04:46:31.399207",
     "status": "completed"
    },
    "tags": []
   },
   "outputs": [
    {
     "data": {
      "text/plain": [
       "\"can you imagine?  can you imagine? you're going to look back at this rally for the rest of your life, you're going to remember this day. this is a movement like nobody has ever seen before. even bill o'reilly said it's the single greatest political phenomena of his lifetime, that's good.  that's good. and many others, and many that dislike me say the same thing. we're going to make history together, you're going to look back at this election and say this is by far the most important vote that you've ever cast for anyone at anytime.  a vote for the candidate is a vote for change, and a vote for me is really a vote for you; you're voting for you, believe me.  it's the way i look at it.  you're voting to believe in yourselves, you're voting to believe in your country. all together, we are going to make america wealthy again. we're going to make america strong again. we're going to make america safe again. we're going to make america great again. i love you, thank you, god bless you. god bless you, go out and vote november 8th, thank you. thank you. god bless you, everyone.\""
      ]
     },
     "execution_count": 18,
     "metadata": {},
     "output_type": "execute_result"
    }
   ],
   "source": [
    "df['text'][0]"
   ]
  },
  {
   "cell_type": "code",
   "execution_count": 19,
   "id": "6661d035",
   "metadata": {
    "execution": {
     "iopub.execute_input": "2024-02-21T04:46:31.450087Z",
     "iopub.status.busy": "2024-02-21T04:46:31.449821Z",
     "iopub.status.idle": "2024-02-21T04:46:32.187585Z",
     "shell.execute_reply": "2024-02-21T04:46:32.186823Z"
    },
    "papermill": {
     "duration": 0.755113,
     "end_time": "2024-02-21T04:46:32.190156",
     "exception": false,
     "start_time": "2024-02-21T04:46:31.435043",
     "status": "completed"
    },
    "tags": []
   },
   "outputs": [],
   "source": [
    "from sklearn.model_selection import train_test_split\n",
    "\n",
    "df, eval_df = train_test_split(df, test_size=0.2)\n",
    "df = df.reset_index(drop=True)\n",
    "eval_df = eval_df.reset_index(drop=True)"
   ]
  },
  {
   "cell_type": "code",
   "execution_count": 20,
   "id": "efba122d",
   "metadata": {
    "execution": {
     "iopub.execute_input": "2024-02-21T04:46:32.221292Z",
     "iopub.status.busy": "2024-02-21T04:46:32.220664Z",
     "iopub.status.idle": "2024-02-21T04:46:32.232529Z",
     "shell.execute_reply": "2024-02-21T04:46:32.231690Z"
    },
    "papermill": {
     "duration": 0.028924,
     "end_time": "2024-02-21T04:46:32.234485",
     "exception": false,
     "start_time": "2024-02-21T04:46:32.205561",
     "status": "completed"
    },
    "tags": []
   },
   "outputs": [
    {
     "data": {
      "text/html": [
       "<div>\n",
       "<style scoped>\n",
       "    .dataframe tbody tr th:only-of-type {\n",
       "        vertical-align: middle;\n",
       "    }\n",
       "\n",
       "    .dataframe tbody tr th {\n",
       "        vertical-align: top;\n",
       "    }\n",
       "\n",
       "    .dataframe thead th {\n",
       "        text-align: right;\n",
       "    }\n",
       "</style>\n",
       "<table border=\"1\" class=\"dataframe\">\n",
       "  <thead>\n",
       "    <tr style=\"text-align: right;\">\n",
       "      <th></th>\n",
       "      <th>text</th>\n",
       "      <th>label</th>\n",
       "    </tr>\n",
       "  </thead>\n",
       "  <tbody>\n",
       "    <tr>\n",
       "      <th>0</th>\n",
       "      <td>bernie sanders said she has bad judgment. i said, thank you bernie, i'm going to be using that for about six months after they take. look what happened with wikileaks. they took the election away from the guy. how could he be supporting her? they took that election away. it was a rigged system. the whole system is rigged. and that's why when the media does what they're doing now, that's rigging the system, folks. it's rigging the system. the election is rigged. it's rigged like you've never seen before. they're rigging the system. these are very dishonest people.  so folks, i love the peop...</td>\n",
       "      <td>1.0</td>\n",
       "    </tr>\n",
       "    <tr>\n",
       "      <th>1</th>\n",
       "      <td>now i've told the president that when he hands off the baton, he's going to have to bend over. he's a lot taller than i am. but i'm excited about what we can do. i know this is been a tough campaign. i've got people coming up to me saying they've got migraines they never had before. they have stomachaches that they don't know what they're going to do with. i get it. it has been in many ways a really tough campaign. but i'll tell you what. michigan, you can make the difference.  all i'm asking you is, talk to your friends, talk to your family, talk to your coworkers, talk to everybody. if ...</td>\n",
       "      <td>0.0</td>\n",
       "    </tr>\n",
       "    <tr>\n",
       "      <th>2</th>\n",
       "      <td>don't disappoint us, philadelphia.  we'll do great things for philadelphia. but there's so much about pennsylvania that's so important. and get out november 8th and vote. we are fighting for every parent who lost their child to gangs and drugs and violence. we are fighting for every community who's jobs have been ripped out and shift to other countries. and we are fighting for every american who believes government should serve the people not the donors and not the special interests.  i'm asking you to dream big because with your vote, can you believe this? we're just four days away.  you ...</td>\n",
       "      <td>1.0</td>\n",
       "    </tr>\n",
       "    <tr>\n",
       "      <th>3</th>\n",
       "      <td>i wish you all could have heard her. gwen was as eloquent as any preacher. she recalled the pain of losing her son. she said at first, she couldn't even get out of bed. but, then she said, the lord talked to me, and told me, are you going to lay here and die like your son or are you going to get up and uplift his name? she realized in that moment that none of us can rest as long as there are others out there to be saved. and, that her voice could move people to action. and, then she said this, i had to turn my sorrow into a strategy, my morning into a movement. gwen hasn't stopped working ...</td>\n",
       "      <td>0.0</td>\n",
       "    </tr>\n",
       "    <tr>\n",
       "      <th>4</th>\n",
       "      <td>you're going to think back to this day and you're going to say that was a great day. that was a beautiful day. i even like mr. the candidate's plane, made in america by the way, it was great, made in america. and they don't make them like that anywhere else. but you are going to say this was a very, very important day because it led to your vote on november 8th or whenever you do it, before that is fine, just as long as you do it, do it any time you want, but do it. and our country started winning again. we started winning with trade. we started doing things properly. we built up our milit...</td>\n",
       "      <td>1.0</td>\n",
       "    </tr>\n",
       "    <tr>\n",
       "      <th>...</th>\n",
       "      <td>...</td>\n",
       "      <td>...</td>\n",
       "    </tr>\n",
       "    <tr>\n",
       "      <th>88</th>\n",
       "      <td>they're voting in numbers like they've never seen in texas, in florida. no matter where you look, they're voting in number like they've never seen before. we are fighting for every citizen who believes that government should serve the people, not the donors and not the special interests.  and we are fighting to bring us all together as americans, just imagine what our country could accomplish if we started working together as one people under one god, saluting one american flag.    thank you. thank you. thank you, everybody. such a great honor, incredible people. you're incredible people. ...</td>\n",
       "      <td>1.0</td>\n",
       "    </tr>\n",
       "    <tr>\n",
       "      <th>89</th>\n",
       "      <td>but in arkansas, what do i have? a 25 point lead. i think i have a 25 point lead. you know she is from arkansas, but she's really from illinois.  i'm a real new yorker folks. i will say this. you will never get more of a new yorker if you want a president than you're getting with me.  so, i want to thank mike, i want to thank the conservative party. i want to thank everybody in this room. i want to thank my son, eric the candidate who has been working, and his wife lara.  and, we have so many supporters. but, i just want to say to you, we are going to play so hard. we are going to play so ...</td>\n",
       "      <td>1.0</td>\n",
       "    </tr>\n",
       "    <tr>\n",
       "      <th>90</th>\n",
       "      <td>and frankly, we're paying for too much, and sometimes we're going to companies that are political and we're getting things that aren't as good, you know this for years, things that aren't as good as similar equipment that's better for less money. because they're politically connected, the companies.  so, you know, i'm, i've spent a tremendous amount of money. we're going to announce very soon how much we've raised. we've raised a lot. but i've spent a lot. i've put, i put more than $60 million into the campaign and...  ... and i'm going to be spending a lot more over the next two- month pe...</td>\n",
       "      <td>1.0</td>\n",
       "    </tr>\n",
       "    <tr>\n",
       "      <th>91</th>\n",
       "      <td>when i was a young woman, there were schools i couldn't go to, jobs i couldn't get, scholarships i wasn't eligible for just because i was a woman. and a lot of those barriers have been knocked down. for every african american, latino, asian american, native american, gay american, you know that barriers have been knocked down. but they're not all down. and we've got to make sure they're all gone and that no demagogue can ever bring them back and can ever exploit the fears and insecurities of the american people.  so please vote this year like your future depends on it, because it does. and...</td>\n",
       "      <td>0.0</td>\n",
       "    </tr>\n",
       "    <tr>\n",
       "      <th>92</th>\n",
       "      <td>you deserve a government that recognizes and honors your contribution and that ensures you have the resources you need to get the job done and to get the job done right.  in a the candidate administration, the national guard will always have a direct line to the oval office, and i mean direct.  you will have an administration that never loses sight of the vital contribution you make each and every day. you will have a president who supports, promotes and speaks up for the national guard at every single turn.  the incredible members of the national guard have sacrificed life and limb for ou...</td>\n",
       "      <td>1.0</td>\n",
       "    </tr>\n",
       "  </tbody>\n",
       "</table>\n",
       "<p>93 rows × 2 columns</p>\n",
       "</div>"
      ],
      "text/plain": [
       "                                                                                                                                                                                                                                                                                                                                                                                                                                                                                                                                                                                                                       text  \\\n",
       "0   bernie sanders said she has bad judgment. i said, thank you bernie, i'm going to be using that for about six months after they take. look what happened with wikileaks. they took the election away from the guy. how could he be supporting her? they took that election away. it was a rigged system. the whole system is rigged. and that's why when the media does what they're doing now, that's rigging the system, folks. it's rigging the system. the election is rigged. it's rigged like you've never seen before. they're rigging the system. these are very dishonest people.  so folks, i love the peop...   \n",
       "1    now i've told the president that when he hands off the baton, he's going to have to bend over. he's a lot taller than i am. but i'm excited about what we can do. i know this is been a tough campaign. i've got people coming up to me saying they've got migraines they never had before. they have stomachaches that they don't know what they're going to do with. i get it. it has been in many ways a really tough campaign. but i'll tell you what. michigan, you can make the difference.  all i'm asking you is, talk to your friends, talk to your family, talk to your coworkers, talk to everybody. if ...   \n",
       "2   don't disappoint us, philadelphia.  we'll do great things for philadelphia. but there's so much about pennsylvania that's so important. and get out november 8th and vote. we are fighting for every parent who lost their child to gangs and drugs and violence. we are fighting for every community who's jobs have been ripped out and shift to other countries. and we are fighting for every american who believes government should serve the people not the donors and not the special interests.  i'm asking you to dream big because with your vote, can you believe this? we're just four days away.  you ...   \n",
       "3   i wish you all could have heard her. gwen was as eloquent as any preacher. she recalled the pain of losing her son. she said at first, she couldn't even get out of bed. but, then she said, the lord talked to me, and told me, are you going to lay here and die like your son or are you going to get up and uplift his name? she realized in that moment that none of us can rest as long as there are others out there to be saved. and, that her voice could move people to action. and, then she said this, i had to turn my sorrow into a strategy, my morning into a movement. gwen hasn't stopped working ...   \n",
       "4   you're going to think back to this day and you're going to say that was a great day. that was a beautiful day. i even like mr. the candidate's plane, made in america by the way, it was great, made in america. and they don't make them like that anywhere else. but you are going to say this was a very, very important day because it led to your vote on november 8th or whenever you do it, before that is fine, just as long as you do it, do it any time you want, but do it. and our country started winning again. we started winning with trade. we started doing things properly. we built up our milit...   \n",
       "..                                                                                                                                                                                                                                                                                                                                                                                                                                                                                                                                                                                                                      ...   \n",
       "88  they're voting in numbers like they've never seen in texas, in florida. no matter where you look, they're voting in number like they've never seen before. we are fighting for every citizen who believes that government should serve the people, not the donors and not the special interests.  and we are fighting to bring us all together as americans, just imagine what our country could accomplish if we started working together as one people under one god, saluting one american flag.    thank you. thank you. thank you, everybody. such a great honor, incredible people. you're incredible people. ...   \n",
       "89  but in arkansas, what do i have? a 25 point lead. i think i have a 25 point lead. you know she is from arkansas, but she's really from illinois.  i'm a real new yorker folks. i will say this. you will never get more of a new yorker if you want a president than you're getting with me.  so, i want to thank mike, i want to thank the conservative party. i want to thank everybody in this room. i want to thank my son, eric the candidate who has been working, and his wife lara.  and, we have so many supporters. but, i just want to say to you, we are going to play so hard. we are going to play so ...   \n",
       "90  and frankly, we're paying for too much, and sometimes we're going to companies that are political and we're getting things that aren't as good, you know this for years, things that aren't as good as similar equipment that's better for less money. because they're politically connected, the companies.  so, you know, i'm, i've spent a tremendous amount of money. we're going to announce very soon how much we've raised. we've raised a lot. but i've spent a lot. i've put, i put more than $60 million into the campaign and...  ... and i'm going to be spending a lot more over the next two- month pe...   \n",
       "91  when i was a young woman, there were schools i couldn't go to, jobs i couldn't get, scholarships i wasn't eligible for just because i was a woman. and a lot of those barriers have been knocked down. for every african american, latino, asian american, native american, gay american, you know that barriers have been knocked down. but they're not all down. and we've got to make sure they're all gone and that no demagogue can ever bring them back and can ever exploit the fears and insecurities of the american people.  so please vote this year like your future depends on it, because it does. and...   \n",
       "92  you deserve a government that recognizes and honors your contribution and that ensures you have the resources you need to get the job done and to get the job done right.  in a the candidate administration, the national guard will always have a direct line to the oval office, and i mean direct.  you will have an administration that never loses sight of the vital contribution you make each and every day. you will have a president who supports, promotes and speaks up for the national guard at every single turn.  the incredible members of the national guard have sacrificed life and limb for ou...   \n",
       "\n",
       "    label  \n",
       "0     1.0  \n",
       "1     0.0  \n",
       "2     1.0  \n",
       "3     0.0  \n",
       "4     1.0  \n",
       "..    ...  \n",
       "88    1.0  \n",
       "89    1.0  \n",
       "90    1.0  \n",
       "91    0.0  \n",
       "92    1.0  \n",
       "\n",
       "[93 rows x 2 columns]"
      ]
     },
     "execution_count": 20,
     "metadata": {},
     "output_type": "execute_result"
    }
   ],
   "source": [
    "df"
   ]
  },
  {
   "cell_type": "code",
   "execution_count": 21,
   "id": "c0e1ad91",
   "metadata": {
    "execution": {
     "iopub.execute_input": "2024-02-21T04:46:32.265125Z",
     "iopub.status.busy": "2024-02-21T04:46:32.264854Z",
     "iopub.status.idle": "2024-02-21T04:46:32.270369Z",
     "shell.execute_reply": "2024-02-21T04:46:32.269507Z"
    },
    "papermill": {
     "duration": 0.022785,
     "end_time": "2024-02-21T04:46:32.272267",
     "exception": false,
     "start_time": "2024-02-21T04:46:32.249482",
     "status": "completed"
    },
    "tags": []
   },
   "outputs": [
    {
     "data": {
      "text/plain": [
       "\"and the main reason america is great, is because american is good. we are a big hearted, generous people; not a small kinded people. we know that if everybody works together, we will get further together, than if we separate people, we push them down, we engage in all the negativity we've heard too much about in this campaign. but sometimes, the fate of even the greatest nations lies in the balance. and, for america, this is one of these make or break elections, it really is in your hands. and i hope you will think about how you will feel the day after the election on november the 9th. are we going forward together, or are we going to be pulled backwards by someone who wants to bully us?  and i hope, i hope you will think about how together, we can make a difference. i want to be your partner, as well as your president. i want us to create the best possible future for our children and out grandchildren. that is what i will work my heart out to do, and i hope you will help me to make a better, fairer, stronger america, where we prove once and for all that love the candidates hate. thank you all.\""
      ]
     },
     "execution_count": 21,
     "metadata": {},
     "output_type": "execute_result"
    }
   ],
   "source": [
    "eval_df['text'][1]"
   ]
  },
  {
   "cell_type": "code",
   "execution_count": 22,
   "id": "6e908bce",
   "metadata": {
    "execution": {
     "iopub.execute_input": "2024-02-21T04:46:32.303467Z",
     "iopub.status.busy": "2024-02-21T04:46:32.303205Z",
     "iopub.status.idle": "2024-02-21T04:46:48.472360Z",
     "shell.execute_reply": "2024-02-21T04:46:48.471547Z"
    },
    "papermill": {
     "duration": 16.186868,
     "end_time": "2024-02-21T04:46:48.474671",
     "exception": false,
     "start_time": "2024-02-21T04:46:32.287803",
     "status": "completed"
    },
    "tags": []
   },
   "outputs": [],
   "source": [
    "from torch.utils.data import DataLoader\n",
    "import warnings,transformers,logging,torch\n",
    "from transformers import TrainingArguments,Trainer\n",
    "from transformers import AutoModelForSequenceClassification,AutoTokenizer\n"
   ]
  },
  {
   "cell_type": "code",
   "execution_count": 23,
   "id": "d110e03b",
   "metadata": {
    "execution": {
     "iopub.execute_input": "2024-02-21T04:46:48.506665Z",
     "iopub.status.busy": "2024-02-21T04:46:48.506061Z",
     "iopub.status.idle": "2024-02-21T04:47:01.378026Z",
     "shell.execute_reply": "2024-02-21T04:47:01.376346Z"
    },
    "papermill": {
     "duration": 12.890378,
     "end_time": "2024-02-21T04:47:01.380489",
     "exception": false,
     "start_time": "2024-02-21T04:46:48.490111",
     "status": "completed"
    },
    "tags": []
   },
   "outputs": [],
   "source": [
    "!pip install -q datasets\n",
    "import datasets\n",
    "from datasets import load_dataset, Dataset, DatasetDict"
   ]
  },
  {
   "cell_type": "code",
   "execution_count": 24,
   "id": "21ae195d",
   "metadata": {
    "execution": {
     "iopub.execute_input": "2024-02-21T04:47:01.412286Z",
     "iopub.status.busy": "2024-02-21T04:47:01.411979Z",
     "iopub.status.idle": "2024-02-21T04:47:01.417551Z",
     "shell.execute_reply": "2024-02-21T04:47:01.416772Z"
    },
    "papermill": {
     "duration": 0.023562,
     "end_time": "2024-02-21T04:47:01.419354",
     "exception": false,
     "start_time": "2024-02-21T04:47:01.395792",
     "status": "completed"
    },
    "tags": []
   },
   "outputs": [],
   "source": [
    "warnings.simplefilter('ignore')\n",
    "logging.disable(logging.WARNING)"
   ]
  },
  {
   "cell_type": "code",
   "execution_count": 25,
   "id": "c5c1c02f",
   "metadata": {
    "execution": {
     "iopub.execute_input": "2024-02-21T04:47:01.449155Z",
     "iopub.status.busy": "2024-02-21T04:47:01.448955Z",
     "iopub.status.idle": "2024-02-21T04:47:01.452969Z",
     "shell.execute_reply": "2024-02-21T04:47:01.452164Z"
    },
    "papermill": {
     "duration": 0.021085,
     "end_time": "2024-02-21T04:47:01.454872",
     "exception": false,
     "start_time": "2024-02-21T04:47:01.433787",
     "status": "completed"
    },
    "tags": []
   },
   "outputs": [],
   "source": [
    "model_nm = 'microsoft/deberta-v3-small'"
   ]
  },
  {
   "cell_type": "code",
   "execution_count": 26,
   "id": "042148a2",
   "metadata": {
    "execution": {
     "iopub.execute_input": "2024-02-21T04:47:01.484628Z",
     "iopub.status.busy": "2024-02-21T04:47:01.484425Z",
     "iopub.status.idle": "2024-02-21T04:47:03.741939Z",
     "shell.execute_reply": "2024-02-21T04:47:03.741150Z"
    },
    "papermill": {
     "duration": 2.274944,
     "end_time": "2024-02-21T04:47:03.744233",
     "exception": false,
     "start_time": "2024-02-21T04:47:01.469289",
     "status": "completed"
    },
    "tags": []
   },
   "outputs": [
    {
     "data": {
      "application/vnd.jupyter.widget-view+json": {
       "model_id": "a2ae5d0d374c4c578ba9e7f5204f1dc1",
       "version_major": 2,
       "version_minor": 0
      },
      "text/plain": [
       "tokenizer_config.json:   0%|          | 0.00/52.0 [00:00<?, ?B/s]"
      ]
     },
     "metadata": {},
     "output_type": "display_data"
    },
    {
     "data": {
      "application/vnd.jupyter.widget-view+json": {
       "model_id": "094ff1cb8d884630a5036f8ac3d6f40d",
       "version_major": 2,
       "version_minor": 0
      },
      "text/plain": [
       "config.json:   0%|          | 0.00/578 [00:00<?, ?B/s]"
      ]
     },
     "metadata": {},
     "output_type": "display_data"
    },
    {
     "data": {
      "application/vnd.jupyter.widget-view+json": {
       "model_id": "f461e428404a4acca519768b639d7b4e",
       "version_major": 2,
       "version_minor": 0
      },
      "text/plain": [
       "spm.model:   0%|          | 0.00/2.46M [00:00<?, ?B/s]"
      ]
     },
     "metadata": {},
     "output_type": "display_data"
    }
   ],
   "source": [
    "tokz = AutoTokenizer.from_pretrained(model_nm)"
   ]
  },
  {
   "cell_type": "code",
   "execution_count": 27,
   "id": "b84408fe",
   "metadata": {
    "execution": {
     "iopub.execute_input": "2024-02-21T04:47:03.776400Z",
     "iopub.status.busy": "2024-02-21T04:47:03.776155Z",
     "iopub.status.idle": "2024-02-21T04:47:03.796154Z",
     "shell.execute_reply": "2024-02-21T04:47:03.795324Z"
    },
    "papermill": {
     "duration": 0.038205,
     "end_time": "2024-02-21T04:47:03.798179",
     "exception": false,
     "start_time": "2024-02-21T04:47:03.759974",
     "status": "completed"
    },
    "tags": []
   },
   "outputs": [],
   "source": [
    "ds = Dataset.from_pandas(df)"
   ]
  },
  {
   "cell_type": "code",
   "execution_count": 28,
   "id": "a0d97894",
   "metadata": {
    "execution": {
     "iopub.execute_input": "2024-02-21T04:47:03.829701Z",
     "iopub.status.busy": "2024-02-21T04:47:03.829509Z",
     "iopub.status.idle": "2024-02-21T04:47:03.833917Z",
     "shell.execute_reply": "2024-02-21T04:47:03.833104Z"
    },
    "papermill": {
     "duration": 0.022413,
     "end_time": "2024-02-21T04:47:03.835697",
     "exception": false,
     "start_time": "2024-02-21T04:47:03.813284",
     "status": "completed"
    },
    "tags": []
   },
   "outputs": [],
   "source": [
    "def tok_func(x): return tokz(x[\"text\"])"
   ]
  },
  {
   "cell_type": "code",
   "execution_count": null,
   "id": "ccd19676",
   "metadata": {
    "papermill": {
     "duration": 0.014775,
     "end_time": "2024-02-21T04:47:03.865442",
     "exception": false,
     "start_time": "2024-02-21T04:47:03.850667",
     "status": "completed"
    },
    "tags": []
   },
   "outputs": [],
   "source": []
  },
  {
   "cell_type": "code",
   "execution_count": 29,
   "id": "9deb9cdd",
   "metadata": {
    "execution": {
     "iopub.execute_input": "2024-02-21T04:47:03.896450Z",
     "iopub.status.busy": "2024-02-21T04:47:03.896223Z",
     "iopub.status.idle": "2024-02-21T04:47:04.008331Z",
     "shell.execute_reply": "2024-02-21T04:47:04.007705Z"
    },
    "papermill": {
     "duration": 0.129738,
     "end_time": "2024-02-21T04:47:04.010161",
     "exception": false,
     "start_time": "2024-02-21T04:47:03.880423",
     "status": "completed"
    },
    "tags": []
   },
   "outputs": [
    {
     "data": {
      "application/vnd.jupyter.widget-view+json": {
       "model_id": "9151afd44f304fea842061ebda44599e",
       "version_major": 2,
       "version_minor": 0
      },
      "text/plain": [
       "  0%|          | 0/1 [00:00<?, ?ba/s]"
      ]
     },
     "metadata": {},
     "output_type": "display_data"
    }
   ],
   "source": [
    "tok_ds = ds.map(tok_func, batched=True)"
   ]
  },
  {
   "cell_type": "code",
   "execution_count": 30,
   "id": "4dc90f68",
   "metadata": {
    "execution": {
     "iopub.execute_input": "2024-02-21T04:47:04.041801Z",
     "iopub.status.busy": "2024-02-21T04:47:04.041576Z",
     "iopub.status.idle": "2024-02-21T04:47:04.046999Z",
     "shell.execute_reply": "2024-02-21T04:47:04.046360Z"
    },
    "papermill": {
     "duration": 0.023438,
     "end_time": "2024-02-21T04:47:04.048906",
     "exception": false,
     "start_time": "2024-02-21T04:47:04.025468",
     "status": "completed"
    },
    "tags": []
   },
   "outputs": [],
   "source": [
    "tok_ds = tok_ds.remove_columns(['text'])"
   ]
  },
  {
   "cell_type": "code",
   "execution_count": 31,
   "id": "425178cd",
   "metadata": {
    "execution": {
     "iopub.execute_input": "2024-02-21T04:47:04.080129Z",
     "iopub.status.busy": "2024-02-21T04:47:04.079953Z",
     "iopub.status.idle": "2024-02-21T04:47:04.085310Z",
     "shell.execute_reply": "2024-02-21T04:47:04.084479Z"
    },
    "papermill": {
     "duration": 0.023138,
     "end_time": "2024-02-21T04:47:04.087140",
     "exception": false,
     "start_time": "2024-02-21T04:47:04.064002",
     "status": "completed"
    },
    "tags": []
   },
   "outputs": [
    {
     "data": {
      "text/plain": [
       "Dataset({\n",
       "    features: ['label', 'input_ids', 'token_type_ids', 'attention_mask'],\n",
       "    num_rows: 93\n",
       "})"
      ]
     },
     "execution_count": 31,
     "metadata": {},
     "output_type": "execute_result"
    }
   ],
   "source": [
    "tok_ds"
   ]
  },
  {
   "cell_type": "code",
   "execution_count": 32,
   "id": "0f9b909e",
   "metadata": {
    "execution": {
     "iopub.execute_input": "2024-02-21T04:47:04.118836Z",
     "iopub.status.busy": "2024-02-21T04:47:04.118349Z",
     "iopub.status.idle": "2024-02-21T04:47:04.129053Z",
     "shell.execute_reply": "2024-02-21T04:47:04.128249Z"
    },
    "papermill": {
     "duration": 0.028593,
     "end_time": "2024-02-21T04:47:04.130864",
     "exception": false,
     "start_time": "2024-02-21T04:47:04.102271",
     "status": "completed"
    },
    "tags": []
   },
   "outputs": [
    {
     "data": {
      "text/plain": [
       "DatasetDict({\n",
       "    train: Dataset({\n",
       "        features: ['label', 'input_ids', 'token_type_ids', 'attention_mask'],\n",
       "        num_rows: 69\n",
       "    })\n",
       "    test: Dataset({\n",
       "        features: ['label', 'input_ids', 'token_type_ids', 'attention_mask'],\n",
       "        num_rows: 24\n",
       "    })\n",
       "})"
      ]
     },
     "execution_count": 32,
     "metadata": {},
     "output_type": "execute_result"
    }
   ],
   "source": [
    "dds = tok_ds.train_test_split(0.25, seed=42)\n",
    "dds"
   ]
  },
  {
   "cell_type": "code",
   "execution_count": 33,
   "id": "6dde4694",
   "metadata": {
    "execution": {
     "iopub.execute_input": "2024-02-21T04:47:04.162916Z",
     "iopub.status.busy": "2024-02-21T04:47:04.162687Z",
     "iopub.status.idle": "2024-02-21T04:47:04.168425Z",
     "shell.execute_reply": "2024-02-21T04:47:04.167637Z"
    },
    "papermill": {
     "duration": 0.023852,
     "end_time": "2024-02-21T04:47:04.170317",
     "exception": false,
     "start_time": "2024-02-21T04:47:04.146465",
     "status": "completed"
    },
    "tags": []
   },
   "outputs": [
    {
     "data": {
      "text/plain": [
       "0.7096774193548387"
      ]
     },
     "execution_count": 33,
     "metadata": {},
     "output_type": "execute_result"
    }
   ],
   "source": [
    "np.mean(df['label'])"
   ]
  },
  {
   "cell_type": "code",
   "execution_count": 34,
   "id": "dd83ab5e",
   "metadata": {
    "execution": {
     "iopub.execute_input": "2024-02-21T04:47:04.203236Z",
     "iopub.status.busy": "2024-02-21T04:47:04.203057Z",
     "iopub.status.idle": "2024-02-21T04:47:04.206958Z",
     "shell.execute_reply": "2024-02-21T04:47:04.206160Z"
    },
    "papermill": {
     "duration": 0.02238,
     "end_time": "2024-02-21T04:47:04.208738",
     "exception": false,
     "start_time": "2024-02-21T04:47:04.186358",
     "status": "completed"
    },
    "tags": []
   },
   "outputs": [],
   "source": [
    "def corr(eval_pred): return {'pearson': np.corrcoef(*eval_pred)[0][1]}"
   ]
  },
  {
   "cell_type": "code",
   "execution_count": 35,
   "id": "eb8bf20c",
   "metadata": {
    "execution": {
     "iopub.execute_input": "2024-02-21T04:47:04.240711Z",
     "iopub.status.busy": "2024-02-21T04:47:04.240516Z",
     "iopub.status.idle": "2024-02-21T04:47:16.288149Z",
     "shell.execute_reply": "2024-02-21T04:47:16.287147Z"
    },
    "papermill": {
     "duration": 12.066321,
     "end_time": "2024-02-21T04:47:16.290603",
     "exception": false,
     "start_time": "2024-02-21T04:47:04.224282",
     "status": "completed"
    },
    "tags": []
   },
   "outputs": [
    {
     "name": "stderr",
     "output_type": "stream",
     "text": [
      "huggingface/tokenizers: The current process just got forked, after parallelism has already been used. Disabling parallelism to avoid deadlocks...\n",
      "To disable this warning, you can either:\n",
      "\t- Avoid using `tokenizers` before the fork if possible\n",
      "\t- Explicitly set the environment variable TOKENIZERS_PARALLELISM=(true | false)\n"
     ]
    }
   ],
   "source": [
    "! pip install -q evaluate"
   ]
  },
  {
   "cell_type": "code",
   "execution_count": 36,
   "id": "145c2842",
   "metadata": {
    "execution": {
     "iopub.execute_input": "2024-02-21T04:47:16.325591Z",
     "iopub.status.busy": "2024-02-21T04:47:16.325018Z",
     "iopub.status.idle": "2024-02-21T04:47:18.925221Z",
     "shell.execute_reply": "2024-02-21T04:47:18.924192Z"
    },
    "papermill": {
     "duration": 2.61927,
     "end_time": "2024-02-21T04:47:18.927154",
     "exception": false,
     "start_time": "2024-02-21T04:47:16.307884",
     "status": "completed"
    },
    "tags": []
   },
   "outputs": [
    {
     "data": {
      "application/vnd.jupyter.widget-view+json": {
       "model_id": "6cb0df05c64345498640e040c8c98fb9",
       "version_major": 2,
       "version_minor": 0
      },
      "text/plain": [
       "Downloading builder script:   0%|          | 0.00/4.20k [00:00<?, ?B/s]"
      ]
     },
     "metadata": {},
     "output_type": "display_data"
    }
   ],
   "source": [
    "import evaluate\n",
    "\n",
    "accuracy = evaluate.load(\"accuracy\")"
   ]
  },
  {
   "cell_type": "code",
   "execution_count": 37,
   "id": "5bf73f06",
   "metadata": {
    "execution": {
     "iopub.execute_input": "2024-02-21T04:47:18.960650Z",
     "iopub.status.busy": "2024-02-21T04:47:18.960441Z",
     "iopub.status.idle": "2024-02-21T04:47:18.964717Z",
     "shell.execute_reply": "2024-02-21T04:47:18.963940Z"
    },
    "papermill": {
     "duration": 0.023078,
     "end_time": "2024-02-21T04:47:18.966649",
     "exception": false,
     "start_time": "2024-02-21T04:47:18.943571",
     "status": "completed"
    },
    "tags": []
   },
   "outputs": [],
   "source": [
    "\n",
    "def acc(eval_pred):\n",
    "    predictions, labels = eval_pred\n",
    "#     predictions = np.argmax(predictions, axis=0)\n",
    "    return accuracy.compute(predictions=predictions, references=labels)"
   ]
  },
  {
   "cell_type": "code",
   "execution_count": 38,
   "id": "1bd40c4a",
   "metadata": {
    "execution": {
     "iopub.execute_input": "2024-02-21T04:47:18.999498Z",
     "iopub.status.busy": "2024-02-21T04:47:18.999316Z",
     "iopub.status.idle": "2024-02-21T04:47:19.007010Z",
     "shell.execute_reply": "2024-02-21T04:47:19.006136Z"
    },
    "papermill": {
     "duration": 0.026575,
     "end_time": "2024-02-21T04:47:19.008909",
     "exception": false,
     "start_time": "2024-02-21T04:47:18.982334",
     "status": "completed"
    },
    "tags": []
   },
   "outputs": [
    {
     "data": {
      "text/plain": [
       "{'pearson': 0.6666666666666667}"
      ]
     },
     "execution_count": 38,
     "metadata": {},
     "output_type": "execute_result"
    }
   ],
   "source": [
    "corr([[1.0,1.0,1.0,1.0,1.0,1.0,1.0,1.0,1.0,0.0], [1.0,1.0,1.0,1.0,1.0,1.0,1.0,1.0,0.0,0.0]])"
   ]
  },
  {
   "cell_type": "code",
   "execution_count": 39,
   "id": "dedcf5d1",
   "metadata": {
    "execution": {
     "iopub.execute_input": "2024-02-21T04:47:19.041925Z",
     "iopub.status.busy": "2024-02-21T04:47:19.041697Z",
     "iopub.status.idle": "2024-02-21T04:47:19.046004Z",
     "shell.execute_reply": "2024-02-21T04:47:19.045173Z"
    },
    "papermill": {
     "duration": 0.023192,
     "end_time": "2024-02-21T04:47:19.047894",
     "exception": false,
     "start_time": "2024-02-21T04:47:19.024702",
     "status": "completed"
    },
    "tags": []
   },
   "outputs": [],
   "source": [
    "lr,bs = 8e-5,128\n",
    "wd,epochs = 0.01,4"
   ]
  },
  {
   "cell_type": "code",
   "execution_count": 40,
   "id": "7bb981aa",
   "metadata": {
    "execution": {
     "iopub.execute_input": "2024-02-21T04:47:19.080496Z",
     "iopub.status.busy": "2024-02-21T04:47:19.080302Z",
     "iopub.status.idle": "2024-02-21T04:47:19.085982Z",
     "shell.execute_reply": "2024-02-21T04:47:19.085168Z"
    },
    "papermill": {
     "duration": 0.024245,
     "end_time": "2024-02-21T04:47:19.087940",
     "exception": false,
     "start_time": "2024-02-21T04:47:19.063695",
     "status": "completed"
    },
    "tags": []
   },
   "outputs": [],
   "source": [
    "def get_trainer(dds):\n",
    "    args = TrainingArguments('outputs', learning_rate=lr, warmup_ratio=0.1, lr_scheduler_type='cosine', fp16=True,\n",
    "        evaluation_strategy=\"epoch\", per_device_train_batch_size=bs, per_device_eval_batch_size=bs*2,\n",
    "        num_train_epochs=epochs, weight_decay=wd, report_to='none')\n",
    "    model = AutoModelForSequenceClassification.from_pretrained(model_nm, num_labels=1)\n",
    "    return Trainer(model, args, train_dataset=dds['train'], eval_dataset=dds['test'],\n",
    "                   tokenizer=tokz, compute_metrics=acc)"
   ]
  },
  {
   "cell_type": "code",
   "execution_count": 41,
   "id": "cd9903cd",
   "metadata": {
    "execution": {
     "iopub.execute_input": "2024-02-21T04:47:19.120586Z",
     "iopub.status.busy": "2024-02-21T04:47:19.120412Z",
     "iopub.status.idle": "2024-02-21T04:47:19.188989Z",
     "shell.execute_reply": "2024-02-21T04:47:19.188318Z"
    },
    "papermill": {
     "duration": 0.087076,
     "end_time": "2024-02-21T04:47:19.190924",
     "exception": false,
     "start_time": "2024-02-21T04:47:19.103848",
     "status": "completed"
    },
    "tags": []
   },
   "outputs": [],
   "source": [
    "args = TrainingArguments('outputs', learning_rate=lr, warmup_ratio=0.1, lr_scheduler_type='cosine', fp16=True,\n",
    "    evaluation_strategy=\"epoch\", per_device_train_batch_size=bs, per_device_eval_batch_size=bs*2,\n",
    "    num_train_epochs=epochs, weight_decay=wd, report_to='none')"
   ]
  },
  {
   "cell_type": "code",
   "execution_count": 42,
   "id": "06edbeb2",
   "metadata": {
    "execution": {
     "iopub.execute_input": "2024-02-21T04:47:19.224586Z",
     "iopub.status.busy": "2024-02-21T04:47:19.224342Z",
     "iopub.status.idle": "2024-02-21T04:47:22.110389Z",
     "shell.execute_reply": "2024-02-21T04:47:22.109444Z"
    },
    "papermill": {
     "duration": 2.905912,
     "end_time": "2024-02-21T04:47:22.112944",
     "exception": false,
     "start_time": "2024-02-21T04:47:19.207032",
     "status": "completed"
    },
    "tags": []
   },
   "outputs": [
    {
     "data": {
      "application/vnd.jupyter.widget-view+json": {
       "model_id": "dc2d36ae000c478a9fe5ca7797dec246",
       "version_major": 2,
       "version_minor": 0
      },
      "text/plain": [
       "pytorch_model.bin:   0%|          | 0.00/286M [00:00<?, ?B/s]"
      ]
     },
     "metadata": {},
     "output_type": "display_data"
    }
   ],
   "source": [
    "model = AutoModelForSequenceClassification.from_pretrained(model_nm, num_labels=1)\n",
    "trainer = Trainer(model, args, train_dataset=dds['train'], eval_dataset=dds['test'],\n",
    "               tokenizer=tokz, compute_metrics=corr)"
   ]
  },
  {
   "cell_type": "code",
   "execution_count": 43,
   "id": "ec7d09b3",
   "metadata": {
    "execution": {
     "iopub.execute_input": "2024-02-21T04:47:22.147754Z",
     "iopub.status.busy": "2024-02-21T04:47:22.147530Z",
     "iopub.status.idle": "2024-02-21T04:47:30.280116Z",
     "shell.execute_reply": "2024-02-21T04:47:30.279212Z"
    },
    "papermill": {
     "duration": 8.151852,
     "end_time": "2024-02-21T04:47:30.282024",
     "exception": false,
     "start_time": "2024-02-21T04:47:22.130172",
     "status": "completed"
    },
    "tags": []
   },
   "outputs": [
    {
     "data": {
      "text/html": [
       "\n",
       "    <div>\n",
       "      \n",
       "      <progress value='4' max='4' style='width:300px; height:20px; vertical-align: middle;'></progress>\n",
       "      [4/4 00:05, Epoch 4/4]\n",
       "    </div>\n",
       "    <table border=\"1\" class=\"dataframe\">\n",
       "  <thead>\n",
       " <tr style=\"text-align: left;\">\n",
       "      <th>Epoch</th>\n",
       "      <th>Training Loss</th>\n",
       "      <th>Validation Loss</th>\n",
       "      <th>Pearson</th>\n",
       "    </tr>\n",
       "  </thead>\n",
       "  <tbody>\n",
       "    <tr>\n",
       "      <td>1</td>\n",
       "      <td>No log</td>\n",
       "      <td>0.617376</td>\n",
       "      <td>-0.249230</td>\n",
       "    </tr>\n",
       "    <tr>\n",
       "      <td>2</td>\n",
       "      <td>No log</td>\n",
       "      <td>0.617376</td>\n",
       "      <td>-0.249230</td>\n",
       "    </tr>\n",
       "    <tr>\n",
       "      <td>3</td>\n",
       "      <td>No log</td>\n",
       "      <td>0.617376</td>\n",
       "      <td>-0.249230</td>\n",
       "    </tr>\n",
       "    <tr>\n",
       "      <td>4</td>\n",
       "      <td>No log</td>\n",
       "      <td>0.394650</td>\n",
       "      <td>0.519748</td>\n",
       "    </tr>\n",
       "  </tbody>\n",
       "</table><p>"
      ],
      "text/plain": [
       "<IPython.core.display.HTML object>"
      ]
     },
     "metadata": {},
     "output_type": "display_data"
    }
   ],
   "source": [
    "trainer.train();"
   ]
  },
  {
   "cell_type": "code",
   "execution_count": 44,
   "id": "bd918b4c",
   "metadata": {
    "execution": {
     "iopub.execute_input": "2024-02-21T04:47:30.316633Z",
     "iopub.status.busy": "2024-02-21T04:47:30.316424Z",
     "iopub.status.idle": "2024-02-21T04:47:30.357889Z",
     "shell.execute_reply": "2024-02-21T04:47:30.356996Z"
    },
    "papermill": {
     "duration": 0.060758,
     "end_time": "2024-02-21T04:47:30.359729",
     "exception": false,
     "start_time": "2024-02-21T04:47:30.298971",
     "status": "completed"
    },
    "tags": []
   },
   "outputs": [
    {
     "data": {
      "application/vnd.jupyter.widget-view+json": {
       "model_id": "fd147dab16014bec955852681f062885",
       "version_major": 2,
       "version_minor": 0
      },
      "text/plain": [
       "  0%|          | 0/1 [00:00<?, ?ba/s]"
      ]
     },
     "metadata": {},
     "output_type": "display_data"
    }
   ],
   "source": [
    "eval_ds = Dataset.from_pandas(eval_df).map(tok_func, batched=True)"
   ]
  },
  {
   "cell_type": "code",
   "execution_count": 45,
   "id": "e689edc6",
   "metadata": {
    "execution": {
     "iopub.execute_input": "2024-02-21T04:47:30.394756Z",
     "iopub.status.busy": "2024-02-21T04:47:30.394145Z",
     "iopub.status.idle": "2024-02-21T04:47:30.399518Z",
     "shell.execute_reply": "2024-02-21T04:47:30.398640Z"
    },
    "papermill": {
     "duration": 0.025178,
     "end_time": "2024-02-21T04:47:30.401307",
     "exception": false,
     "start_time": "2024-02-21T04:47:30.376129",
     "status": "completed"
    },
    "tags": []
   },
   "outputs": [
    {
     "data": {
      "text/plain": [
       "Dataset({\n",
       "    features: ['text', 'label', 'input_ids', 'token_type_ids', 'attention_mask'],\n",
       "    num_rows: 24\n",
       "})"
      ]
     },
     "execution_count": 45,
     "metadata": {},
     "output_type": "execute_result"
    }
   ],
   "source": [
    "eval_ds"
   ]
  },
  {
   "cell_type": "code",
   "execution_count": 46,
   "id": "b12c70c9",
   "metadata": {
    "execution": {
     "iopub.execute_input": "2024-02-21T04:47:30.435447Z",
     "iopub.status.busy": "2024-02-21T04:47:30.435268Z",
     "iopub.status.idle": "2024-02-21T04:47:30.625547Z",
     "shell.execute_reply": "2024-02-21T04:47:30.624719Z"
    },
    "papermill": {
     "duration": 0.209374,
     "end_time": "2024-02-21T04:47:30.627373",
     "exception": false,
     "start_time": "2024-02-21T04:47:30.417999",
     "status": "completed"
    },
    "tags": []
   },
   "outputs": [
    {
     "data": {
      "text/html": [],
      "text/plain": [
       "<IPython.core.display.HTML object>"
      ]
     },
     "metadata": {},
     "output_type": "display_data"
    },
    {
     "data": {
      "text/plain": [
       "array([0.32836914, 0.32421875, 0.32373047, 0.32055664, 0.32543945,\n",
       "       0.33105469, 0.32397461, 0.32714844, 0.33056641, 0.32592773,\n",
       "       0.32739258, 0.32910156, 0.32714844, 0.32885742, 0.32666016,\n",
       "       0.32983398, 0.32641602, 0.32373047, 0.32861328, 0.32373047,\n",
       "       0.32910156, 0.32250977, 0.32373047, 0.32543945])"
      ]
     },
     "execution_count": 46,
     "metadata": {},
     "output_type": "execute_result"
    }
   ],
   "source": [
    "preds = trainer.predict(eval_ds).predictions.astype(float)\n",
    "preds"
   ]
  },
  {
   "cell_type": "code",
   "execution_count": 47,
   "id": "e0b284c3",
   "metadata": {
    "execution": {
     "iopub.execute_input": "2024-02-21T04:47:30.663354Z",
     "iopub.status.busy": "2024-02-21T04:47:30.663149Z",
     "iopub.status.idle": "2024-02-21T04:47:30.668622Z",
     "shell.execute_reply": "2024-02-21T04:47:30.667846Z"
    },
    "papermill": {
     "duration": 0.025001,
     "end_time": "2024-02-21T04:47:30.670525",
     "exception": false,
     "start_time": "2024-02-21T04:47:30.645524",
     "status": "completed"
    },
    "tags": []
   },
   "outputs": [
    {
     "data": {
      "text/plain": [
       "array([0., 0., 0., 0., 0., 0., 0., 0., 0., 0., 0., 0., 0., 0., 0., 0., 0.,\n",
       "       0., 0., 0., 0., 0., 0., 0.])"
      ]
     },
     "execution_count": 47,
     "metadata": {},
     "output_type": "execute_result"
    }
   ],
   "source": [
    "preds.round()"
   ]
  },
  {
   "cell_type": "code",
   "execution_count": 48,
   "id": "2c0b3d3f",
   "metadata": {
    "execution": {
     "iopub.execute_input": "2024-02-21T04:47:30.705755Z",
     "iopub.status.busy": "2024-02-21T04:47:30.705283Z",
     "iopub.status.idle": "2024-02-21T04:47:30.712745Z",
     "shell.execute_reply": "2024-02-21T04:47:30.711925Z"
    },
    "papermill": {
     "duration": 0.027411,
     "end_time": "2024-02-21T04:47:30.714865",
     "exception": false,
     "start_time": "2024-02-21T04:47:30.687454",
     "status": "completed"
    },
    "tags": []
   },
   "outputs": [
    {
     "data": {
      "text/plain": [
       "0     1.0\n",
       "1     0.0\n",
       "2     1.0\n",
       "3     0.0\n",
       "4     0.0\n",
       "5     1.0\n",
       "6     1.0\n",
       "7     1.0\n",
       "8     1.0\n",
       "9     1.0\n",
       "10    1.0\n",
       "11    1.0\n",
       "12    1.0\n",
       "13    1.0\n",
       "14    0.0\n",
       "15    1.0\n",
       "16    1.0\n",
       "17    0.0\n",
       "18    1.0\n",
       "19    0.0\n",
       "20    1.0\n",
       "21    0.0\n",
       "22    0.0\n",
       "23    1.0\n",
       "Name: label, dtype: float64"
      ]
     },
     "execution_count": 48,
     "metadata": {},
     "output_type": "execute_result"
    }
   ],
   "source": [
    "eval_df['label']"
   ]
  },
  {
   "cell_type": "code",
   "execution_count": 49,
   "id": "58c23315",
   "metadata": {
    "execution": {
     "iopub.execute_input": "2024-02-21T04:47:30.751055Z",
     "iopub.status.busy": "2024-02-21T04:47:30.750875Z",
     "iopub.status.idle": "2024-02-21T04:47:30.756698Z",
     "shell.execute_reply": "2024-02-21T04:47:30.755858Z"
    },
    "papermill": {
     "duration": 0.02578,
     "end_time": "2024-02-21T04:47:30.758694",
     "exception": false,
     "start_time": "2024-02-21T04:47:30.732914",
     "status": "completed"
    },
    "tags": []
   },
   "outputs": [
    {
     "data": {
      "text/plain": [
       "array([[1.        , 0.67535813],\n",
       "       [0.67535813, 1.        ]])"
      ]
     },
     "execution_count": 49,
     "metadata": {},
     "output_type": "execute_result"
    }
   ],
   "source": [
    "np.corrcoef(preds, eval_df['label'])"
   ]
  },
  {
   "cell_type": "code",
   "execution_count": 50,
   "id": "33a64dd2",
   "metadata": {
    "execution": {
     "iopub.execute_input": "2024-02-21T04:47:30.794420Z",
     "iopub.status.busy": "2024-02-21T04:47:30.793766Z",
     "iopub.status.idle": "2024-02-21T04:47:30.797603Z",
     "shell.execute_reply": "2024-02-21T04:47:30.796791Z"
    },
    "papermill": {
     "duration": 0.023837,
     "end_time": "2024-02-21T04:47:30.799669",
     "exception": false,
     "start_time": "2024-02-21T04:47:30.775832",
     "status": "completed"
    },
    "tags": []
   },
   "outputs": [],
   "source": [
    "import matplotlib as plt"
   ]
  },
  {
   "cell_type": "code",
   "execution_count": 51,
   "id": "ac1d9a78",
   "metadata": {
    "execution": {
     "iopub.execute_input": "2024-02-21T04:47:30.834930Z",
     "iopub.status.busy": "2024-02-21T04:47:30.834711Z",
     "iopub.status.idle": "2024-02-21T04:47:31.111453Z",
     "shell.execute_reply": "2024-02-21T04:47:31.110644Z"
    },
    "papermill": {
     "duration": 0.296654,
     "end_time": "2024-02-21T04:47:31.113466",
     "exception": false,
     "start_time": "2024-02-21T04:47:30.816812",
     "status": "completed"
    },
    "tags": []
   },
   "outputs": [
    {
     "data": {
      "text/plain": [
       "<matplotlib.collections.PathCollection at 0x7babed142440>"
      ]
     },
     "execution_count": 51,
     "metadata": {},
     "output_type": "execute_result"
    },
    {
     "data": {
      "image/png": "[encoded data removed]",
      "text/plain": [
       "<Figure size 640x480 with 1 Axes>"
      ]
     },
     "metadata": {},
     "output_type": "display_data"
    }
   ],
   "source": [
    "plt.pyplot.scatter(preds, eval_df['label'])"
   ]
  },
  {
   "cell_type": "code",
   "execution_count": null,
   "id": "37bff92a",
   "metadata": {
    "papermill": {
     "duration": 0.017398,
     "end_time": "2024-02-21T04:47:31.148810",
     "exception": false,
     "start_time": "2024-02-21T04:47:31.131412",
     "status": "completed"
    },
    "tags": []
   },
   "outputs": [],
   "source": []
  }
 ],
 "metadata": {
  "kaggle": {
   "accelerator": "gpu",
   "dataSources": [
    {
     "datasetId": 2343436,
     "sourceId": 3947981,
     "sourceType": "datasetVersion"
    }
   ],
   "dockerImageVersionId": 30636,
   "isGpuEnabled": true,
   "isInternetEnabled": true,
   "language": "python",
   "sourceType": "notebook"
  },
  "kernelspec": {
   "display_name": "Python 3",
   "language": "python",
   "name": "python3"
  },
  "language_info": {
   "codemirror_mode": {
    "name": "ipython",
    "version": 3
   },
   "file_extension": ".py",
   "mimetype": "text/x-python",
   "name": "python",
   "nbconvert_exporter": "python",
   "pygments_lexer": "ipython3",
   "version": "3.10.12"
  },
  "papermill": {
   "default_parameters": {},
   "duration": 68.536751,
   "end_time": "2024-02-21T04:47:34.708921",
   "environment_variables": {},
   "exception": null,
   "input_path": "__notebook__.ipynb",
   "output_path": "__notebook__.ipynb",
   "parameters": {},
   "start_time": "2024-02-21T04:46:26.172170",
   "version": "2.4.0"
  },
  "widgets": {
   "application/vnd.jupyter.widget-state+json": {
    "state": {
     "0323783c539a4737a9cf81596474556e": {
      "model_module": "@jupyter-widgets/controls",
      "model_module_version": "1.5.0",
      "model_name": "HTMLModel",
      "state": {
       "_dom_classes": [],
       "_model_module": "@jupyter-widgets/controls",
       "_model_module_version": "1.5.0",
       "_model_name": "HTMLModel",
       "_view_count": null,
       "_view_module": "@jupyter-widgets/controls",
       "_view_module_version": "1.5.0",
       "_view_name": "HTMLView",
       "description": "",
       "description_tooltip": null,
       "layout": "IPY_MODEL_0f5b67b6941f4974859e0bf258618b7e",
       "placeholder": "​",
       "style": "IPY_MODEL_ef87858d608843589283a8093b17bb7e",
       "value": " 52.0/52.0 [00:00&lt;00:00, 4.11kB/s]"
      }
     },
     "048a78bf8d3a4c43b297a483bd952635": {
      "model_module": "@jupyter-widgets/base",
      "model_module_version": "1.2.0",
      "model_name": "LayoutModel",
      "state": {
       "_model_module": "@jupyter-widgets/base",
       "_model_module_version": "1.2.0",
       "_model_name": "LayoutModel",
       "_view_count": null,
       "_view_module": "@jupyter-widgets/base",
       "_view_module_version": "1.2.0",
       "_view_name": "LayoutView",
       "align_content": null,
       "align_items": null,
       "align_self": null,
       "border": null,
       "bottom": null,
       "display": null,
       "flex": null,
       "flex_flow": null,
       "grid_area": null,
       "grid_auto_columns": null,
       "grid_auto_flow": null,
       "grid_auto_rows": null,
       "grid_column": null,
       "grid_gap": null,
       "grid_row": null,
       "grid_template_areas": null,
       "grid_template_columns": null,
       "grid_template_rows": null,
       "height": null,
       "justify_content": null,
       "justify_items": null,
       "left": null,
       "margin": null,
       "max_height": null,
       "max_width": null,
       "min_height": null,
       "min_width": null,
       "object_fit": null,
       "object_position": null,
       "order": null,
       "overflow": null,
       "overflow_x": null,
       "overflow_y": null,
       "padding": null,
       "right": null,
       "top": null,
       "visibility": null,
       "width": null
      }
     },
     "05df4f81106348b5b477b4f9e4cb3b21": {
      "model_module": "@jupyter-widgets/base",
      "model_module_version": "1.2.0",
      "model_name": "LayoutModel",
      "state": {
       "_model_module": "@jupyter-widgets/base",
       "_model_module_version": "1.2.0",
       "_model_name": "LayoutModel",
       "_view_count": null,
       "_view_module": "@jupyter-widgets/base",
       "_view_module_version": "1.2.0",
       "_view_name": "LayoutView",
       "align_content": null,
       "align_items": null,
       "align_self": null,
       "border": null,
       "bottom": null,
       "display": null,
       "flex": null,
       "flex_flow": null,
       "grid_area": null,
       "grid_auto_columns": null,
       "grid_auto_flow": null,
       "grid_auto_rows": null,
       "grid_column": null,
       "grid_gap": null,
       "grid_row": null,
       "grid_template_areas": null,
       "grid_template_columns": null,
       "grid_template_rows": null,
       "height": null,
       "justify_content": null,
       "justify_items": null,
       "left": null,
       "margin": null,
       "max_height": null,
       "max_width": null,
       "min_height": null,
       "min_width": null,
       "object_fit": null,
       "object_position": null,
       "order": null,
       "overflow": null,
       "overflow_x": null,
       "overflow_y": null,
       "padding": null,
       "right": null,
       "top": null,
       "visibility": null,
       "width": null
      }
     },
     "062f4ac2649349489d7ad89d5a6cdf1d": {
      "model_module": "@jupyter-widgets/controls",
      "model_module_version": "1.5.0",
      "model_name": "HTMLModel",
      "state": {
       "_dom_classes": [],
       "_model_module": "@jupyter-widgets/controls",
       "_model_module_version": "1.5.0",
       "_model_name": "HTMLModel",
       "_view_count": null,
       "_view_module": "@jupyter-widgets/controls",
       "_view_module_version": "1.5.0",
       "_view_name": "HTMLView",
       "description": "",
       "description_tooltip": null,
       "layout": "IPY_MODEL_557988197bd44c93a373fc8991f8e7ae",
       "placeholder": "​",
       "style": "IPY_MODEL_d23cd03ae3214f74a2f59972f6e4e6d1",
       "value": "spm.model: 100%"
      }
     },
     "094ff1cb8d884630a5036f8ac3d6f40d": {
      "model_module": "@jupyter-widgets/controls",
      "model_module_version": "1.5.0",
      "model_name": "HBoxModel",
      "state": {
       "_dom_classes": [],
       "_model_module": "@jupyter-widgets/controls",
       "_model_module_version": "1.5.0",
       "_model_name": "HBoxModel",
       "_view_count": null,
       "_view_module": "@jupyter-widgets/controls",
       "_view_module_version": "1.5.0",
       "_view_name": "HBoxView",
       "box_style": "",
       "children": [
        "IPY_MODEL_ed9836840bb6403f96cb60538a8f2a48",
        "IPY_MODEL_0f0d36e1b4dd439b81ba12e7a0ee47df",
        "IPY_MODEL_6d84f701d9154b33aa37a9710ff30bd3"
       ],
       "layout": "IPY_MODEL_338e44d1267f4aabbdd6780f8413db95"
      }
     },
     "0f0d36e1b4dd439b81ba12e7a0ee47df": {
      "model_module": "@jupyter-widgets/controls",
      "model_module_version": "1.5.0",
      "model_name": "FloatProgressModel",
      "state": {
       "_dom_classes": [],
       "_model_module": "@jupyter-widgets/controls",
       "_model_module_version": "1.5.0",
       "_model_name": "FloatProgressModel",
       "_view_count": null,
       "_view_module": "@jupyter-widgets/controls",
       "_view_module_version": "1.5.0",
       "_view_name": "ProgressView",
       "bar_style": "success",
       "description": "",
       "description_tooltip": null,
       "layout": "IPY_MODEL_c1a98087cd3c49cc84e34334e8564fcb",
       "max": 578.0,
       "min": 0.0,
       "orientation": "horizontal",
       "style": "IPY_MODEL_5258a03e30fa4bc680eac0bb988f33e2",
       "value": 578.0
      }
     },
     "0f5b67b6941f4974859e0bf258618b7e": {
      "model_module": "@jupyter-widgets/base",
      "model_module_version": "1.2.0",
      "model_name": "LayoutModel",
      "state": {
       "_model_module": "@jupyter-widgets/base",
       "_model_module_version": "1.2.0",
       "_model_name": "LayoutModel",
       "_view_count": null,
       "_view_module": "@jupyter-widgets/base",
       "_view_module_version": "1.2.0",
       "_view_name": "LayoutView",
       "align_content": null,
       "align_items": null,
       "align_self": null,
       "border": null,
       "bottom": null,
       "display": null,
       "flex": null,
       "flex_flow": null,
       "grid_area": null,
       "grid_auto_columns": null,
       "grid_auto_flow": null,
       "grid_auto_rows": null,
       "grid_column": null,
       "grid_gap": null,
       "grid_row": null,
       "grid_template_areas": null,
       "grid_template_columns": null,
       "grid_template_rows": null,
       "height": null,
       "justify_content": null,
       "justify_items": null,
       "left": null,
       "margin": null,
       "max_height": null,
       "max_width": null,
       "min_height": null,
       "min_width": null,
       "object_fit": null,
       "object_position": null,
       "order": null,
       "overflow": null,
       "overflow_x": null,
       "overflow_y": null,
       "padding": null,
       "right": null,
       "top": null,
       "visibility": null,
       "width": null
      }
     },
     "10048420aa7248b19a5130c8da116c46": {
      "model_module": "@jupyter-widgets/base",
      "model_module_version": "1.2.0",
      "model_name": "LayoutModel",
      "state": {
       "_model_module": "@jupyter-widgets/base",
       "_model_module_version": "1.2.0",
       "_model_name": "LayoutModel",
       "_view_count": null,
       "_view_module": "@jupyter-widgets/base",
       "_view_module_version": "1.2.0",
       "_view_name": "LayoutView",
       "align_content": null,
       "align_items": null,
       "align_self": null,
       "border": null,
       "bottom": null,
       "display": null,
       "flex": null,
       "flex_flow": null,
       "grid_area": null,
       "grid_auto_columns": null,
       "grid_auto_flow": null,
       "grid_auto_rows": null,
       "grid_column": null,
       "grid_gap": null,
       "grid_row": null,
       "grid_template_areas": null,
       "grid_template_columns": null,
       "grid_template_rows": null,
       "height": null,
       "justify_content": null,
       "justify_items": null,
       "left": null,
       "margin": null,
       "max_height": null,
       "max_width": null,
       "min_height": null,
       "min_width": null,
       "object_fit": null,
       "object_position": null,
       "order": null,
       "overflow": null,
       "overflow_x": null,
       "overflow_y": null,
       "padding": null,
       "right": null,
       "top": null,
       "visibility": null,
       "width": null
      }
     },
     "1051f568a67243879674aace796c3b76": {
      "model_module": "@jupyter-widgets/controls",
      "model_module_version": "1.5.0",
      "model_name": "HTMLModel",
      "state": {
       "_dom_classes": [],
       "_model_module": "@jupyter-widgets/controls",
       "_model_module_version": "1.5.0",
       "_model_name": "HTMLModel",
       "_view_count": null,
       "_view_module": "@jupyter-widgets/controls",
       "_view_module_version": "1.5.0",
       "_view_name": "HTMLView",
       "description": "",
       "description_tooltip": null,
       "layout": "IPY_MODEL_7480a3dfafe3477f82f9fdc4c960f3a6",
       "placeholder": "​",
       "style": "IPY_MODEL_84d9690ea2fb4f3cbc8d839fd52526a0",
       "value": "100%"
      }
     },
     "122e640b95b94c01aa9eed3467078b1d": {
      "model_module": "@jupyter-widgets/controls",
      "model_module_version": "1.5.0",
      "model_name": "HTMLModel",
      "state": {
       "_dom_classes": [],
       "_model_module": "@jupyter-widgets/controls",
       "_model_module_version": "1.5.0",
       "_model_name": "HTMLModel",
       "_view_count": null,
       "_view_module": "@jupyter-widgets/controls",
       "_view_module_version": "1.5.0",
       "_view_name": "HTMLView",
       "description": "",
       "description_tooltip": null,
       "layout": "IPY_MODEL_2f948b63e9cc47b4b4b387d5ec99653b",
       "placeholder": "​",
       "style": "IPY_MODEL_781243c54d66407bad7f4286d2dbb6cf",
       "value": "Downloading builder script: 100%"
      }
     },
     "15cfa8cd767440b39cd4407a69f2e75f": {
      "model_module": "@jupyter-widgets/base",
      "model_module_version": "1.2.0",
      "model_name": "LayoutModel",
      "state": {
       "_model_module": "@jupyter-widgets/base",
       "_model_module_version": "1.2.0",
       "_model_name": "LayoutModel",
       "_view_count": null,
       "_view_module": "@jupyter-widgets/base",
       "_view_module_version": "1.2.0",
       "_view_name": "LayoutView",
       "align_content": null,
       "align_items": null,
       "align_self": null,
       "border": null,
       "bottom": null,
       "display": null,
       "flex": null,
       "flex_flow": null,
       "grid_area": null,
       "grid_auto_columns": null,
       "grid_auto_flow": null,
       "grid_auto_rows": null,
       "grid_column": null,
       "grid_gap": null,
       "grid_row": null,
       "grid_template_areas": null,
       "grid_template_columns": null,
       "grid_template_rows": null,
       "height": null,
       "justify_content": null,
       "justify_items": null,
       "left": null,
       "margin": null,
       "max_height": null,
       "max_width": null,
       "min_height": null,
       "min_width": null,
       "object_fit": null,
       "object_position": null,
       "order": null,
       "overflow": null,
       "overflow_x": null,
       "overflow_y": null,
       "padding": null,
       "right": null,
       "top": null,
       "visibility": null,
       "width": null
      }
     },
     "1f8ae49c701c4cfaa1ef4610ed4f2900": {
      "model_module": "@jupyter-widgets/controls",
      "model_module_version": "1.5.0",
      "model_name": "DescriptionStyleModel",
      "state": {
       "_model_module": "@jupyter-widgets/controls",
       "_model_module_version": "1.5.0",
       "_model_name": "DescriptionStyleModel",
       "_view_count": null,
       "_view_module": "@jupyter-widgets/base",
       "_view_module_version": "1.2.0",
       "_view_name": "StyleView",
       "description_width": ""
      }
     },
     "2097edfc11654d36989dc8e2188bc079": {
      "model_module": "@jupyter-widgets/controls",
      "model_module_version": "1.5.0",
      "model_name": "HTMLModel",
      "state": {
       "_dom_classes": [],
       "_model_module": "@jupyter-widgets/controls",
       "_model_module_version": "1.5.0",
       "_model_name": "HTMLModel",
       "_view_count": null,
       "_view_module": "@jupyter-widgets/controls",
       "_view_module_version": "1.5.0",
       "_view_name": "HTMLView",
       "description": "",
       "description_tooltip": null,
       "layout": "IPY_MODEL_b8098f3bf0e746c7811267d8f6fc9a15",
       "placeholder": "​",
       "style": "IPY_MODEL_73215e560308461a94a2b5e006839316",
       "value": " 286M/286M [00:01&lt;00:00, 222MB/s]"
      }
     },
     "22d16001be0248f8bae8121d6801d496": {
      "model_module": "@jupyter-widgets/controls",
      "model_module_version": "1.5.0",
      "model_name": "DescriptionStyleModel",
      "state": {
       "_model_module": "@jupyter-widgets/controls",
       "_model_module_version": "1.5.0",
       "_model_name": "DescriptionStyleModel",
       "_view_count": null,
       "_view_module": "@jupyter-widgets/base",
       "_view_module_version": "1.2.0",
       "_view_name": "StyleView",
       "description_width": ""
      }
     },
     "254cb5d135cb4d87bbfbd3941b1dcc00": {
      "model_module": "@jupyter-widgets/controls",
      "model_module_version": "1.5.0",
      "model_name": "HTMLModel",
      "state": {
       "_dom_classes": [],
       "_model_module": "@jupyter-widgets/controls",
       "_model_module_version": "1.5.0",
       "_model_name": "HTMLModel",
       "_view_count": null,
       "_view_module": "@jupyter-widgets/controls",
       "_view_module_version": "1.5.0",
       "_view_name": "HTMLView",
       "description": "",
       "description_tooltip": null,
       "layout": "IPY_MODEL_10048420aa7248b19a5130c8da116c46",
       "placeholder": "​",
       "style": "IPY_MODEL_afe67cf07b6a4b3d9cd610d054e34d61",
       "value": "pytorch_model.bin: 100%"
      }
     },
     "2b3a72b5f8154c93840dffbdd7a5da4f": {
      "model_module": "@jupyter-widgets/controls",
      "model_module_version": "1.5.0",
      "model_name": "FloatProgressModel",
      "state": {
       "_dom_classes": [],
       "_model_module": "@jupyter-widgets/controls",
       "_model_module_version": "1.5.0",
       "_model_name": "FloatProgressModel",
       "_view_count": null,
       "_view_module": "@jupyter-widgets/controls",
       "_view_module_version": "1.5.0",
       "_view_name": "ProgressView",
       "bar_style": "success",
       "description": "",
       "description_tooltip": null,
       "layout": "IPY_MODEL_4ce23fd33c1544518d14f74b35174909",
       "max": 52.0,
       "min": 0.0,
       "orientation": "horizontal",
       "style": "IPY_MODEL_93ec595ed43d47e1adaebd6fa2a19a37",
       "value": 52.0
      }
     },
     "2f948b63e9cc47b4b4b387d5ec99653b": {
      "model_module": "@jupyter-widgets/base",
      "model_module_version": "1.2.0",
      "model_name": "LayoutModel",
      "state": {
       "_model_module": "@jupyter-widgets/base",
       "_model_module_version": "1.2.0",
       "_model_name": "LayoutModel",
       "_view_count": null,
       "_view_module": "@jupyter-widgets/base",
       "_view_module_version": "1.2.0",
       "_view_name": "LayoutView",
       "align_content": null,
       "align_items": null,
       "align_self": null,
       "border": null,
       "bottom": null,
       "display": null,
       "flex": null,
       "flex_flow": null,
       "grid_area": null,
       "grid_auto_columns": null,
       "grid_auto_flow": null,
       "grid_auto_rows": null,
       "grid_column": null,
       "grid_gap": null,
       "grid_row": null,
       "grid_template_areas": null,
       "grid_template_columns": null,
       "grid_template_rows": null,
       "height": null,
       "justify_content": null,
       "justify_items": null,
       "left": null,
       "margin": null,
       "max_height": null,
       "max_width": null,
       "min_height": null,
       "min_width": null,
       "object_fit": null,
       "object_position": null,
       "order": null,
       "overflow": null,
       "overflow_x": null,
       "overflow_y": null,
       "padding": null,
       "right": null,
       "top": null,
       "visibility": null,
       "width": null
      }
     },
     "30a3c92c10f94f61b61fceafda6a2ee8": {
      "model_module": "@jupyter-widgets/base",
      "model_module_version": "1.2.0",
      "model_name": "LayoutModel",
      "state": {
       "_model_module": "@jupyter-widgets/base",
       "_model_module_version": "1.2.0",
       "_model_name": "LayoutModel",
       "_view_count": null,
       "_view_module": "@jupyter-widgets/base",
       "_view_module_version": "1.2.0",
       "_view_name": "LayoutView",
       "align_content": null,
       "align_items": null,
       "align_self": null,
       "border": null,
       "bottom": null,
       "display": null,
       "flex": null,
       "flex_flow": null,
       "grid_area": null,
       "grid_auto_columns": null,
       "grid_auto_flow": null,
       "grid_auto_rows": null,
       "grid_column": null,
       "grid_gap": null,
       "grid_row": null,
       "grid_template_areas": null,
       "grid_template_columns": null,
       "grid_template_rows": null,
       "height": null,
       "justify_content": null,
       "justify_items": null,
       "left": null,
       "margin": null,
       "max_height": null,
       "max_width": null,
       "min_height": null,
       "min_width": null,
       "object_fit": null,
       "object_position": null,
       "order": null,
       "overflow": null,
       "overflow_x": null,
       "overflow_y": null,
       "padding": null,
       "right": null,
       "top": null,
       "visibility": null,
       "width": null
      }
     },
     "32098bfab3c743e79b7908ea54021ef8": {
      "model_module": "@jupyter-widgets/base",
      "model_module_version": "1.2.0",
      "model_name": "LayoutModel",
      "state": {
       "_model_module": "@jupyter-widgets/base",
       "_model_module_version": "1.2.0",
       "_model_name": "LayoutModel",
       "_view_count": null,
       "_view_module": "@jupyter-widgets/base",
       "_view_module_version": "1.2.0",
       "_view_name": "LayoutView",
       "align_content": null,
       "align_items": null,
       "align_self": null,
       "border": null,
       "bottom": null,
       "display": null,
       "flex": null,
       "flex_flow": null,
       "grid_area": null,
       "grid_auto_columns": null,
       "grid_auto_flow": null,
       "grid_auto_rows": null,
       "grid_column": null,
       "grid_gap": null,
       "grid_row": null,
       "grid_template_areas": null,
       "grid_template_columns": null,
       "grid_template_rows": null,
       "height": null,
       "justify_content": null,
       "justify_items": null,
       "left": null,
       "margin": null,
       "max_height": null,
       "max_width": null,
       "min_height": null,
       "min_width": null,
       "object_fit": null,
       "object_position": null,
       "order": null,
       "overflow": null,
       "overflow_x": null,
       "overflow_y": null,
       "padding": null,
       "right": null,
       "top": null,
       "visibility": null,
       "width": null
      }
     },
     "338e44d1267f4aabbdd6780f8413db95": {
      "model_module": "@jupyter-widgets/base",
      "model_module_version": "1.2.0",
      "model_name": "LayoutModel",
      "state": {
       "_model_module": "@jupyter-widgets/base",
       "_model_module_version": "1.2.0",
       "_model_name": "LayoutModel",
       "_view_count": null,
       "_view_module": "@jupyter-widgets/base",
       "_view_module_version": "1.2.0",
       "_view_name": "LayoutView",
       "align_content": null,
       "align_items": null,
       "align_self": null,
       "border": null,
       "bottom": null,
       "display": null,
       "flex": null,
       "flex_flow": null,
       "grid_area": null,
       "grid_auto_columns": null,
       "grid_auto_flow": null,
       "grid_auto_rows": null,
       "grid_column": null,
       "grid_gap": null,
       "grid_row": null,
       "grid_template_areas": null,
       "grid_template_columns": null,
       "grid_template_rows": null,
       "height": null,
       "justify_content": null,
       "justify_items": null,
       "left": null,
       "margin": null,
       "max_height": null,
       "max_width": null,
       "min_height": null,
       "min_width": null,
       "object_fit": null,
       "object_position": null,
       "order": null,
       "overflow": null,
       "overflow_x": null,
       "overflow_y": null,
       "padding": null,
       "right": null,
       "top": null,
       "visibility": null,
       "width": null
      }
     },
     "34764bfb7d0c4e2c83a4232201401a30": {
      "model_module": "@jupyter-widgets/controls",
      "model_module_version": "1.5.0",
      "model_name": "HTMLModel",
      "state": {
       "_dom_classes": [],
       "_model_module": "@jupyter-widgets/controls",
       "_model_module_version": "1.5.0",
       "_model_name": "HTMLModel",
       "_view_count": null,
       "_view_module": "@jupyter-widgets/controls",
       "_view_module_version": "1.5.0",
       "_view_name": "HTMLView",
       "description": "",
       "description_tooltip": null,
       "layout": "IPY_MODEL_63c638d0f821446983b73c5089692f92",
       "placeholder": "​",
       "style": "IPY_MODEL_44802f2932714e92b5459699914d28ad",
       "value": " 1/1 [00:00&lt;00:00, 34.09ba/s]"
      }
     },
     "355a58b7745d47ecb4ab50006bb9fb10": {
      "model_module": "@jupyter-widgets/base",
      "model_module_version": "1.2.0",
      "model_name": "LayoutModel",
      "state": {
       "_model_module": "@jupyter-widgets/base",
       "_model_module_version": "1.2.0",
       "_model_name": "LayoutModel",
       "_view_count": null,
       "_view_module": "@jupyter-widgets/base",
       "_view_module_version": "1.2.0",
       "_view_name": "LayoutView",
       "align_content": null,
       "align_items": null,
       "align_self": null,
       "border": null,
       "bottom": null,
       "display": null,
       "flex": null,
       "flex_flow": null,
       "grid_area": null,
       "grid_auto_columns": null,
       "grid_auto_flow": null,
       "grid_auto_rows": null,
       "grid_column": null,
       "grid_gap": null,
       "grid_row": null,
       "grid_template_areas": null,
       "grid_template_columns": null,
       "grid_template_rows": null,
       "height": null,
       "justify_content": null,
       "justify_items": null,
       "left": null,
       "margin": null,
       "max_height": null,
       "max_width": null,
       "min_height": null,
       "min_width": null,
       "object_fit": null,
       "object_position": null,
       "order": null,
       "overflow": null,
       "overflow_x": null,
       "overflow_y": null,
       "padding": null,
       "right": null,
       "top": null,
       "visibility": null,
       "width": null
      }
     },
     "3882c69c1dd844f7bb91b80aac77d011": {
      "model_module": "@jupyter-widgets/controls",
      "model_module_version": "1.5.0",
      "model_name": "FloatProgressModel",
      "state": {
       "_dom_classes": [],
       "_model_module": "@jupyter-widgets/controls",
       "_model_module_version": "1.5.0",
       "_model_name": "FloatProgressModel",
       "_view_count": null,
       "_view_module": "@jupyter-widgets/controls",
       "_view_module_version": "1.5.0",
       "_view_name": "ProgressView",
       "bar_style": "success",
       "description": "",
       "description_tooltip": null,
       "layout": "IPY_MODEL_41f1c952a70646248fc6b175138ab3c9",
       "max": 4203.0,
       "min": 0.0,
       "orientation": "horizontal",
       "style": "IPY_MODEL_59571becb2c847e4b473d1876dddc6ea",
       "value": 4203.0
      }
     },
     "41f1c952a70646248fc6b175138ab3c9": {
      "model_module": "@jupyter-widgets/base",
      "model_module_version": "1.2.0",
      "model_name": "LayoutModel",
      "state": {
       "_model_module": "@jupyter-widgets/base",
       "_model_module_version": "1.2.0",
       "_model_name": "LayoutModel",
       "_view_count": null,
       "_view_module": "@jupyter-widgets/base",
       "_view_module_version": "1.2.0",
       "_view_name": "LayoutView",
       "align_content": null,
       "align_items": null,
       "align_self": null,
       "border": null,
       "bottom": null,
       "display": null,
       "flex": null,
       "flex_flow": null,
       "grid_area": null,
       "grid_auto_columns": null,
       "grid_auto_flow": null,
       "grid_auto_rows": null,
       "grid_column": null,
       "grid_gap": null,
       "grid_row": null,
       "grid_template_areas": null,
       "grid_template_columns": null,
       "grid_template_rows": null,
       "height": null,
       "justify_content": null,
       "justify_items": null,
       "left": null,
       "margin": null,
       "max_height": null,
       "max_width": null,
       "min_height": null,
       "min_width": null,
       "object_fit": null,
       "object_position": null,
       "order": null,
       "overflow": null,
       "overflow_x": null,
       "overflow_y": null,
       "padding": null,
       "right": null,
       "top": null,
       "visibility": null,
       "width": null
      }
     },
     "43eaeb138250458ba468645b71eb2c26": {
      "model_module": "@jupyter-widgets/controls",
      "model_module_version": "1.5.0",
      "model_name": "FloatProgressModel",
      "state": {
       "_dom_classes": [],
       "_model_module": "@jupyter-widgets/controls",
       "_model_module_version": "1.5.0",
       "_model_name": "FloatProgressModel",
       "_view_count": null,
       "_view_module": "@jupyter-widgets/controls",
       "_view_module_version": "1.5.0",
       "_view_name": "ProgressView",
       "bar_style": "success",
       "description": "",
       "description_tooltip": null,
       "layout": "IPY_MODEL_8784a3282dda432e8bd8a032f8b537a7",
       "max": 1.0,
       "min": 0.0,
       "orientation": "horizontal",
       "style": "IPY_MODEL_e274c15862c5421093cf0e4593048ac4",
       "value": 1.0
      }
     },
     "44802f2932714e92b5459699914d28ad": {
      "model_module": "@jupyter-widgets/controls",
      "model_module_version": "1.5.0",
      "model_name": "DescriptionStyleModel",
      "state": {
       "_model_module": "@jupyter-widgets/controls",
       "_model_module_version": "1.5.0",
       "_model_name": "DescriptionStyleModel",
       "_view_count": null,
       "_view_module": "@jupyter-widgets/base",
       "_view_module_version": "1.2.0",
       "_view_name": "StyleView",
       "description_width": ""
      }
     },
     "48261c8b6b9e4e73834ea57ffcefdbb6": {
      "model_module": "@jupyter-widgets/controls",
      "model_module_version": "1.5.0",
      "model_name": "HTMLModel",
      "state": {
       "_dom_classes": [],
       "_model_module": "@jupyter-widgets/controls",
       "_model_module_version": "1.5.0",
       "_model_name": "HTMLModel",
       "_view_count": null,
       "_view_module": "@jupyter-widgets/controls",
       "_view_module_version": "1.5.0",
       "_view_name": "HTMLView",
       "description": "",
       "description_tooltip": null,
       "layout": "IPY_MODEL_94b54407eaca476e89899b8bbf7cc62d",
       "placeholder": "​",
       "style": "IPY_MODEL_7195f207be284c1fa4e81aa9d85b6af6",
       "value": "tokenizer_config.json: 100%"
      }
     },
     "4ca503e75103440c90662bb83cab56aa": {
      "model_module": "@jupyter-widgets/controls",
      "model_module_version": "1.5.0",
      "model_name": "FloatProgressModel",
      "state": {
       "_dom_classes": [],
       "_model_module": "@jupyter-widgets/controls",
       "_model_module_version": "1.5.0",
       "_model_name": "FloatProgressModel",
       "_view_count": null,
       "_view_module": "@jupyter-widgets/controls",
       "_view_module_version": "1.5.0",
       "_view_name": "ProgressView",
       "bar_style": "success",
       "description": "",
       "description_tooltip": null,
       "layout": "IPY_MODEL_55806bd634e343ca9daa4d3fd4652a61",
       "max": 1.0,
       "min": 0.0,
       "orientation": "horizontal",
       "style": "IPY_MODEL_8ece3bc83642441fae597558ec15d52e",
       "value": 1.0
      }
     },
     "4ce23fd33c1544518d14f74b35174909": {
      "model_module": "@jupyter-widgets/base",
      "model_module_version": "1.2.0",
      "model_name": "LayoutModel",
      "state": {
       "_model_module": "@jupyter-widgets/base",
       "_model_module_version": "1.2.0",
       "_model_name": "LayoutModel",
       "_view_count": null,
       "_view_module": "@jupyter-widgets/base",
       "_view_module_version": "1.2.0",
       "_view_name": "LayoutView",
       "align_content": null,
       "align_items": null,
       "align_self": null,
       "border": null,
       "bottom": null,
       "display": null,
       "flex": null,
       "flex_flow": null,
       "grid_area": null,
       "grid_auto_columns": null,
       "grid_auto_flow": null,
       "grid_auto_rows": null,
       "grid_column": null,
       "grid_gap": null,
       "grid_row": null,
       "grid_template_areas": null,
       "grid_template_columns": null,
       "grid_template_rows": null,
       "height": null,
       "justify_content": null,
       "justify_items": null,
       "left": null,
       "margin": null,
       "max_height": null,
       "max_width": null,
       "min_height": null,
       "min_width": null,
       "object_fit": null,
       "object_position": null,
       "order": null,
       "overflow": null,
       "overflow_x": null,
       "overflow_y": null,
       "padding": null,
       "right": null,
       "top": null,
       "visibility": null,
       "width": null
      }
     },
     "5258a03e30fa4bc680eac0bb988f33e2": {
      "model_module": "@jupyter-widgets/controls",
      "model_module_version": "1.5.0",
      "model_name": "ProgressStyleModel",
      "state": {
       "_model_module": "@jupyter-widgets/controls",
       "_model_module_version": "1.5.0",
       "_model_name": "ProgressStyleModel",
       "_view_count": null,
       "_view_module": "@jupyter-widgets/base",
       "_view_module_version": "1.2.0",
       "_view_name": "StyleView",
       "bar_color": null,
       "description_width": ""
      }
     },
     "54955d008ae0409a89cf7ebf4a5bcb16": {
      "model_module": "@jupyter-widgets/controls",
      "model_module_version": "1.5.0",
      "model_name": "HTMLModel",
      "state": {
       "_dom_classes": [],
       "_model_module": "@jupyter-widgets/controls",
       "_model_module_version": "1.5.0",
       "_model_name": "HTMLModel",
       "_view_count": null,
       "_view_module": "@jupyter-widgets/controls",
       "_view_module_version": "1.5.0",
       "_view_name": "HTMLView",
       "description": "",
       "description_tooltip": null,
       "layout": "IPY_MODEL_b7d4fcba5a804ad49cbb2e013f4e6aa6",
       "placeholder": "​",
       "style": "IPY_MODEL_a43b51e2a724410489b6e5292cec4659",
       "value": "100%"
      }
     },
     "557988197bd44c93a373fc8991f8e7ae": {
      "model_module": "@jupyter-widgets/base",
      "model_module_version": "1.2.0",
      "model_name": "LayoutModel",
      "state": {
       "_model_module": "@jupyter-widgets/base",
       "_model_module_version": "1.2.0",
       "_model_name": "LayoutModel",
       "_view_count": null,
       "_view_module": "@jupyter-widgets/base",
       "_view_module_version": "1.2.0",
       "_view_name": "LayoutView",
       "align_content": null,
       "align_items": null,
       "align_self": null,
       "border": null,
       "bottom": null,
       "display": null,
       "flex": null,
       "flex_flow": null,
       "grid_area": null,
       "grid_auto_columns": null,
       "grid_auto_flow": null,
       "grid_auto_rows": null,
       "grid_column": null,
       "grid_gap": null,
       "grid_row": null,
       "grid_template_areas": null,
       "grid_template_columns": null,
       "grid_template_rows": null,
       "height": null,
       "justify_content": null,
       "justify_items": null,
       "left": null,
       "margin": null,
       "max_height": null,
       "max_width": null,
       "min_height": null,
       "min_width": null,
       "object_fit": null,
       "object_position": null,
       "order": null,
       "overflow": null,
       "overflow_x": null,
       "overflow_y": null,
       "padding": null,
       "right": null,
       "top": null,
       "visibility": null,
       "width": null
      }
     },
     "55806bd634e343ca9daa4d3fd4652a61": {
      "model_module": "@jupyter-widgets/base",
      "model_module_version": "1.2.0",
      "model_name": "LayoutModel",
      "state": {
       "_model_module": "@jupyter-widgets/base",
       "_model_module_version": "1.2.0",
       "_model_name": "LayoutModel",
       "_view_count": null,
       "_view_module": "@jupyter-widgets/base",
       "_view_module_version": "1.2.0",
       "_view_name": "LayoutView",
       "align_content": null,
       "align_items": null,
       "align_self": null,
       "border": null,
       "bottom": null,
       "display": null,
       "flex": null,
       "flex_flow": null,
       "grid_area": null,
       "grid_auto_columns": null,
       "grid_auto_flow": null,
       "grid_auto_rows": null,
       "grid_column": null,
       "grid_gap": null,
       "grid_row": null,
       "grid_template_areas": null,
       "grid_template_columns": null,
       "grid_template_rows": null,
       "height": null,
       "justify_content": null,
       "justify_items": null,
       "left": null,
       "margin": null,
       "max_height": null,
       "max_width": null,
       "min_height": null,
       "min_width": null,
       "object_fit": null,
       "object_position": null,
       "order": null,
       "overflow": null,
       "overflow_x": null,
       "overflow_y": null,
       "padding": null,
       "right": null,
       "top": null,
       "visibility": null,
       "width": null
      }
     },
     "57f666560b09418188f956fef15f09b1": {
      "model_module": "@jupyter-widgets/controls",
      "model_module_version": "1.5.0",
      "model_name": "ProgressStyleModel",
      "state": {
       "_model_module": "@jupyter-widgets/controls",
       "_model_module_version": "1.5.0",
       "_model_name": "ProgressStyleModel",
       "_view_count": null,
       "_view_module": "@jupyter-widgets/base",
       "_view_module_version": "1.2.0",
       "_view_name": "StyleView",
       "bar_color": null,
       "description_width": ""
      }
     },
     "59571becb2c847e4b473d1876dddc6ea": {
      "model_module": "@jupyter-widgets/controls",
      "model_module_version": "1.5.0",
      "model_name": "ProgressStyleModel",
      "state": {
       "_model_module": "@jupyter-widgets/controls",
       "_model_module_version": "1.5.0",
       "_model_name": "ProgressStyleModel",
       "_view_count": null,
       "_view_module": "@jupyter-widgets/base",
       "_view_module_version": "1.2.0",
       "_view_name": "StyleView",
       "bar_color": null,
       "description_width": ""
      }
     },
     "63c638d0f821446983b73c5089692f92": {
      "model_module": "@jupyter-widgets/base",
      "model_module_version": "1.2.0",
      "model_name": "LayoutModel",
      "state": {
       "_model_module": "@jupyter-widgets/base",
       "_model_module_version": "1.2.0",
       "_model_name": "LayoutModel",
       "_view_count": null,
       "_view_module": "@jupyter-widgets/base",
       "_view_module_version": "1.2.0",
       "_view_name": "LayoutView",
       "align_content": null,
       "align_items": null,
       "align_self": null,
       "border": null,
       "bottom": null,
       "display": null,
       "flex": null,
       "flex_flow": null,
       "grid_area": null,
       "grid_auto_columns": null,
       "grid_auto_flow": null,
       "grid_auto_rows": null,
       "grid_column": null,
       "grid_gap": null,
       "grid_row": null,
       "grid_template_areas": null,
       "grid_template_columns": null,
       "grid_template_rows": null,
       "height": null,
       "justify_content": null,
       "justify_items": null,
       "left": null,
       "margin": null,
       "max_height": null,
       "max_width": null,
       "min_height": null,
       "min_width": null,
       "object_fit": null,
       "object_position": null,
       "order": null,
       "overflow": null,
       "overflow_x": null,
       "overflow_y": null,
       "padding": null,
       "right": null,
       "top": null,
       "visibility": null,
       "width": null
      }
     },
     "6cb0df05c64345498640e040c8c98fb9": {
      "model_module": "@jupyter-widgets/controls",
      "model_module_version": "1.5.0",
      "model_name": "HBoxModel",
      "state": {
       "_dom_classes": [],
       "_model_module": "@jupyter-widgets/controls",
       "_model_module_version": "1.5.0",
       "_model_name": "HBoxModel",
       "_view_count": null,
       "_view_module": "@jupyter-widgets/controls",
       "_view_module_version": "1.5.0",
       "_view_name": "HBoxView",
       "box_style": "",
       "children": [
        "IPY_MODEL_122e640b95b94c01aa9eed3467078b1d",
        "IPY_MODEL_3882c69c1dd844f7bb91b80aac77d011",
        "IPY_MODEL_d47c663a082e4e9bbdae984947a33097"
       ],
       "layout": "IPY_MODEL_786e9355f4db46d4b65a9223b7a99507"
      }
     },
     "6d84f701d9154b33aa37a9710ff30bd3": {
      "model_module": "@jupyter-widgets/controls",
      "model_module_version": "1.5.0",
      "model_name": "HTMLModel",
      "state": {
       "_dom_classes": [],
       "_model_module": "@jupyter-widgets/controls",
       "_model_module_version": "1.5.0",
       "_model_name": "HTMLModel",
       "_view_count": null,
       "_view_module": "@jupyter-widgets/controls",
       "_view_module_version": "1.5.0",
       "_view_name": "HTMLView",
       "description": "",
       "description_tooltip": null,
       "layout": "IPY_MODEL_cf205cf8ae4e4950a49ee6b5d2d96609",
       "placeholder": "​",
       "style": "IPY_MODEL_8b9fed9d85de4ec19a9e0b28300d5bcf",
       "value": " 578/578 [00:00&lt;00:00, 46.7kB/s]"
      }
     },
     "7195f207be284c1fa4e81aa9d85b6af6": {
      "model_module": "@jupyter-widgets/controls",
      "model_module_version": "1.5.0",
      "model_name": "DescriptionStyleModel",
      "state": {
       "_model_module": "@jupyter-widgets/controls",
       "_model_module_version": "1.5.0",
       "_model_name": "DescriptionStyleModel",
       "_view_count": null,
       "_view_module": "@jupyter-widgets/base",
       "_view_module_version": "1.2.0",
       "_view_name": "StyleView",
       "description_width": ""
      }
     },
     "73215e560308461a94a2b5e006839316": {
      "model_module": "@jupyter-widgets/controls",
      "model_module_version": "1.5.0",
      "model_name": "DescriptionStyleModel",
      "state": {
       "_model_module": "@jupyter-widgets/controls",
       "_model_module_version": "1.5.0",
       "_model_name": "DescriptionStyleModel",
       "_view_count": null,
       "_view_module": "@jupyter-widgets/base",
       "_view_module_version": "1.2.0",
       "_view_name": "StyleView",
       "description_width": ""
      }
     },
     "7332ae4956cb41d5b7c6905085ec4198": {
      "model_module": "@jupyter-widgets/controls",
      "model_module_version": "1.5.0",
      "model_name": "FloatProgressModel",
      "state": {
       "_dom_classes": [],
       "_model_module": "@jupyter-widgets/controls",
       "_model_module_version": "1.5.0",
       "_model_name": "FloatProgressModel",
       "_view_count": null,
       "_view_module": "@jupyter-widgets/controls",
       "_view_module_version": "1.5.0",
       "_view_name": "ProgressView",
       "bar_style": "success",
       "description": "",
       "description_tooltip": null,
       "layout": "IPY_MODEL_048a78bf8d3a4c43b297a483bd952635",
       "max": 2464616.0,
       "min": 0.0,
       "orientation": "horizontal",
       "style": "IPY_MODEL_57f666560b09418188f956fef15f09b1",
       "value": 2464616.0
      }
     },
     "7480a3dfafe3477f82f9fdc4c960f3a6": {
      "model_module": "@jupyter-widgets/base",
      "model_module_version": "1.2.0",
      "model_name": "LayoutModel",
      "state": {
       "_model_module": "@jupyter-widgets/base",
       "_model_module_version": "1.2.0",
       "_model_name": "LayoutModel",
       "_view_count": null,
       "_view_module": "@jupyter-widgets/base",
       "_view_module_version": "1.2.0",
       "_view_name": "LayoutView",
       "align_content": null,
       "align_items": null,
       "align_self": null,
       "border": null,
       "bottom": null,
       "display": null,
       "flex": null,
       "flex_flow": null,
       "grid_area": null,
       "grid_auto_columns": null,
       "grid_auto_flow": null,
       "grid_auto_rows": null,
       "grid_column": null,
       "grid_gap": null,
       "grid_row": null,
       "grid_template_areas": null,
       "grid_template_columns": null,
       "grid_template_rows": null,
       "height": null,
       "justify_content": null,
       "justify_items": null,
       "left": null,
       "margin": null,
       "max_height": null,
       "max_width": null,
       "min_height": null,
       "min_width": null,
       "object_fit": null,
       "object_position": null,
       "order": null,
       "overflow": null,
       "overflow_x": null,
       "overflow_y": null,
       "padding": null,
       "right": null,
       "top": null,
       "visibility": null,
       "width": null
      }
     },
     "7771081fbec1487890b402ec8df94c16": {
      "model_module": "@jupyter-widgets/controls",
      "model_module_version": "1.5.0",
      "model_name": "ProgressStyleModel",
      "state": {
       "_model_module": "@jupyter-widgets/controls",
       "_model_module_version": "1.5.0",
       "_model_name": "ProgressStyleModel",
       "_view_count": null,
       "_view_module": "@jupyter-widgets/base",
       "_view_module_version": "1.2.0",
       "_view_name": "StyleView",
       "bar_color": null,
       "description_width": ""
      }
     },
     "781243c54d66407bad7f4286d2dbb6cf": {
      "model_module": "@jupyter-widgets/controls",
      "model_module_version": "1.5.0",
      "model_name": "DescriptionStyleModel",
      "state": {
       "_model_module": "@jupyter-widgets/controls",
       "_model_module_version": "1.5.0",
       "_model_name": "DescriptionStyleModel",
       "_view_count": null,
       "_view_module": "@jupyter-widgets/base",
       "_view_module_version": "1.2.0",
       "_view_name": "StyleView",
       "description_width": ""
      }
     },
     "786e9355f4db46d4b65a9223b7a99507": {
      "model_module": "@jupyter-widgets/base",
      "model_module_version": "1.2.0",
      "model_name": "LayoutModel",
      "state": {
       "_model_module": "@jupyter-widgets/base",
       "_model_module_version": "1.2.0",
       "_model_name": "LayoutModel",
       "_view_count": null,
       "_view_module": "@jupyter-widgets/base",
       "_view_module_version": "1.2.0",
       "_view_name": "LayoutView",
       "align_content": null,
       "align_items": null,
       "align_self": null,
       "border": null,
       "bottom": null,
       "display": null,
       "flex": null,
       "flex_flow": null,
       "grid_area": null,
       "grid_auto_columns": null,
       "grid_auto_flow": null,
       "grid_auto_rows": null,
       "grid_column": null,
       "grid_gap": null,
       "grid_row": null,
       "grid_template_areas": null,
       "grid_template_columns": null,
       "grid_template_rows": null,
       "height": null,
       "justify_content": null,
       "justify_items": null,
       "left": null,
       "margin": null,
       "max_height": null,
       "max_width": null,
       "min_height": null,
       "min_width": null,
       "object_fit": null,
       "object_position": null,
       "order": null,
       "overflow": null,
       "overflow_x": null,
       "overflow_y": null,
       "padding": null,
       "right": null,
       "top": null,
       "visibility": null,
       "width": null
      }
     },
     "7c5377287ba142e3be066b4a230bd2d0": {
      "model_module": "@jupyter-widgets/controls",
      "model_module_version": "1.5.0",
      "model_name": "HTMLModel",
      "state": {
       "_dom_classes": [],
       "_model_module": "@jupyter-widgets/controls",
       "_model_module_version": "1.5.0",
       "_model_name": "HTMLModel",
       "_view_count": null,
       "_view_module": "@jupyter-widgets/controls",
       "_view_module_version": "1.5.0",
       "_view_name": "HTMLView",
       "description": "",
       "description_tooltip": null,
       "layout": "IPY_MODEL_b154e6f3956146f18310eaee9619b407",
       "placeholder": "​",
       "style": "IPY_MODEL_fad5928872004693963f6f7a6114f5ae",
       "value": " 2.46M/2.46M [00:00&lt;00:00, 39.5MB/s]"
      }
     },
     "84d9690ea2fb4f3cbc8d839fd52526a0": {
      "model_module": "@jupyter-widgets/controls",
      "model_module_version": "1.5.0",
      "model_name": "DescriptionStyleModel",
      "state": {
       "_model_module": "@jupyter-widgets/controls",
       "_model_module_version": "1.5.0",
       "_model_name": "DescriptionStyleModel",
       "_view_count": null,
       "_view_module": "@jupyter-widgets/base",
       "_view_module_version": "1.2.0",
       "_view_name": "StyleView",
       "description_width": ""
      }
     },
     "8784a3282dda432e8bd8a032f8b537a7": {
      "model_module": "@jupyter-widgets/base",
      "model_module_version": "1.2.0",
      "model_name": "LayoutModel",
      "state": {
       "_model_module": "@jupyter-widgets/base",
       "_model_module_version": "1.2.0",
       "_model_name": "LayoutModel",
       "_view_count": null,
       "_view_module": "@jupyter-widgets/base",
       "_view_module_version": "1.2.0",
       "_view_name": "LayoutView",
       "align_content": null,
       "align_items": null,
       "align_self": null,
       "border": null,
       "bottom": null,
       "display": null,
       "flex": null,
       "flex_flow": null,
       "grid_area": null,
       "grid_auto_columns": null,
       "grid_auto_flow": null,
       "grid_auto_rows": null,
       "grid_column": null,
       "grid_gap": null,
       "grid_row": null,
       "grid_template_areas": null,
       "grid_template_columns": null,
       "grid_template_rows": null,
       "height": null,
       "justify_content": null,
       "justify_items": null,
       "left": null,
       "margin": null,
       "max_height": null,
       "max_width": null,
       "min_height": null,
       "min_width": null,
       "object_fit": null,
       "object_position": null,
       "order": null,
       "overflow": null,
       "overflow_x": null,
       "overflow_y": null,
       "padding": null,
       "right": null,
       "top": null,
       "visibility": null,
       "width": null
      }
     },
     "88e193b3002a461a9fb05ea65a9b2b70": {
      "model_module": "@jupyter-widgets/controls",
      "model_module_version": "1.5.0",
      "model_name": "HTMLModel",
      "state": {
       "_dom_classes": [],
       "_model_module": "@jupyter-widgets/controls",
       "_model_module_version": "1.5.0",
       "_model_name": "HTMLModel",
       "_view_count": null,
       "_view_module": "@jupyter-widgets/controls",
       "_view_module_version": "1.5.0",
       "_view_name": "HTMLView",
       "description": "",
       "description_tooltip": null,
       "layout": "IPY_MODEL_355a58b7745d47ecb4ab50006bb9fb10",
       "placeholder": "​",
       "style": "IPY_MODEL_22d16001be0248f8bae8121d6801d496",
       "value": " 1/1 [00:00&lt;00:00,  9.94ba/s]"
      }
     },
     "8b9fed9d85de4ec19a9e0b28300d5bcf": {
      "model_module": "@jupyter-widgets/controls",
      "model_module_version": "1.5.0",
      "model_name": "DescriptionStyleModel",
      "state": {
       "_model_module": "@jupyter-widgets/controls",
       "_model_module_version": "1.5.0",
       "_model_name": "DescriptionStyleModel",
       "_view_count": null,
       "_view_module": "@jupyter-widgets/base",
       "_view_module_version": "1.2.0",
       "_view_name": "StyleView",
       "description_width": ""
      }
     },
     "8ece3bc83642441fae597558ec15d52e": {
      "model_module": "@jupyter-widgets/controls",
      "model_module_version": "1.5.0",
      "model_name": "ProgressStyleModel",
      "state": {
       "_model_module": "@jupyter-widgets/controls",
       "_model_module_version": "1.5.0",
       "_model_name": "ProgressStyleModel",
       "_view_count": null,
       "_view_module": "@jupyter-widgets/base",
       "_view_module_version": "1.2.0",
       "_view_name": "StyleView",
       "bar_color": null,
       "description_width": ""
      }
     },
     "9151afd44f304fea842061ebda44599e": {
      "model_module": "@jupyter-widgets/controls",
      "model_module_version": "1.5.0",
      "model_name": "HBoxModel",
      "state": {
       "_dom_classes": [],
       "_model_module": "@jupyter-widgets/controls",
       "_model_module_version": "1.5.0",
       "_model_name": "HBoxModel",
       "_view_count": null,
       "_view_module": "@jupyter-widgets/controls",
       "_view_module_version": "1.5.0",
       "_view_name": "HBoxView",
       "box_style": "",
       "children": [
        "IPY_MODEL_1051f568a67243879674aace796c3b76",
        "IPY_MODEL_43eaeb138250458ba468645b71eb2c26",
        "IPY_MODEL_88e193b3002a461a9fb05ea65a9b2b70"
       ],
       "layout": "IPY_MODEL_c7e6205a65904a0a9baced24a831937e"
      }
     },
     "93ec595ed43d47e1adaebd6fa2a19a37": {
      "model_module": "@jupyter-widgets/controls",
      "model_module_version": "1.5.0",
      "model_name": "ProgressStyleModel",
      "state": {
       "_model_module": "@jupyter-widgets/controls",
       "_model_module_version": "1.5.0",
       "_model_name": "ProgressStyleModel",
       "_view_count": null,
       "_view_module": "@jupyter-widgets/base",
       "_view_module_version": "1.2.0",
       "_view_name": "StyleView",
       "bar_color": null,
       "description_width": ""
      }
     },
     "94b54407eaca476e89899b8bbf7cc62d": {
      "model_module": "@jupyter-widgets/base",
      "model_module_version": "1.2.0",
      "model_name": "LayoutModel",
      "state": {
       "_model_module": "@jupyter-widgets/base",
       "_model_module_version": "1.2.0",
       "_model_name": "LayoutModel",
       "_view_count": null,
       "_view_module": "@jupyter-widgets/base",
       "_view_module_version": "1.2.0",
       "_view_name": "LayoutView",
       "align_content": null,
       "align_items": null,
       "align_self": null,
       "border": null,
       "bottom": null,
       "display": null,
       "flex": null,
       "flex_flow": null,
       "grid_area": null,
       "grid_auto_columns": null,
       "grid_auto_flow": null,
       "grid_auto_rows": null,
       "grid_column": null,
       "grid_gap": null,
       "grid_row": null,
       "grid_template_areas": null,
       "grid_template_columns": null,
       "grid_template_rows": null,
       "height": null,
       "justify_content": null,
       "justify_items": null,
       "left": null,
       "margin": null,
       "max_height": null,
       "max_width": null,
       "min_height": null,
       "min_width": null,
       "object_fit": null,
       "object_position": null,
       "order": null,
       "overflow": null,
       "overflow_x": null,
       "overflow_y": null,
       "padding": null,
       "right": null,
       "top": null,
       "visibility": null,
       "width": null
      }
     },
     "a2ae5d0d374c4c578ba9e7f5204f1dc1": {
      "model_module": "@jupyter-widgets/controls",
      "model_module_version": "1.5.0",
      "model_name": "HBoxModel",
      "state": {
       "_dom_classes": [],
       "_model_module": "@jupyter-widgets/controls",
       "_model_module_version": "1.5.0",
       "_model_name": "HBoxModel",
       "_view_count": null,
       "_view_module": "@jupyter-widgets/controls",
       "_view_module_version": "1.5.0",
       "_view_name": "HBoxView",
       "box_style": "",
       "children": [
        "IPY_MODEL_48261c8b6b9e4e73834ea57ffcefdbb6",
        "IPY_MODEL_2b3a72b5f8154c93840dffbdd7a5da4f",
        "IPY_MODEL_0323783c539a4737a9cf81596474556e"
       ],
       "layout": "IPY_MODEL_30a3c92c10f94f61b61fceafda6a2ee8"
      }
     },
     "a43b51e2a724410489b6e5292cec4659": {
      "model_module": "@jupyter-widgets/controls",
      "model_module_version": "1.5.0",
      "model_name": "DescriptionStyleModel",
      "state": {
       "_model_module": "@jupyter-widgets/controls",
       "_model_module_version": "1.5.0",
       "_model_name": "DescriptionStyleModel",
       "_view_count": null,
       "_view_module": "@jupyter-widgets/base",
       "_view_module_version": "1.2.0",
       "_view_name": "StyleView",
       "description_width": ""
      }
     },
     "a44585a222304af78314b194b22e992b": {
      "model_module": "@jupyter-widgets/base",
      "model_module_version": "1.2.0",
      "model_name": "LayoutModel",
      "state": {
       "_model_module": "@jupyter-widgets/base",
       "_model_module_version": "1.2.0",
       "_model_name": "LayoutModel",
       "_view_count": null,
       "_view_module": "@jupyter-widgets/base",
       "_view_module_version": "1.2.0",
       "_view_name": "LayoutView",
       "align_content": null,
       "align_items": null,
       "align_self": null,
       "border": null,
       "bottom": null,
       "display": null,
       "flex": null,
       "flex_flow": null,
       "grid_area": null,
       "grid_auto_columns": null,
       "grid_auto_flow": null,
       "grid_auto_rows": null,
       "grid_column": null,
       "grid_gap": null,
       "grid_row": null,
       "grid_template_areas": null,
       "grid_template_columns": null,
       "grid_template_rows": null,
       "height": null,
       "justify_content": null,
       "justify_items": null,
       "left": null,
       "margin": null,
       "max_height": null,
       "max_width": null,
       "min_height": null,
       "min_width": null,
       "object_fit": null,
       "object_position": null,
       "order": null,
       "overflow": null,
       "overflow_x": null,
       "overflow_y": null,
       "padding": null,
       "right": null,
       "top": null,
       "visibility": null,
       "width": null
      }
     },
     "ab9487629804417987adc08492440e4d": {
      "model_module": "@jupyter-widgets/controls",
      "model_module_version": "1.5.0",
      "model_name": "DescriptionStyleModel",
      "state": {
       "_model_module": "@jupyter-widgets/controls",
       "_model_module_version": "1.5.0",
       "_model_name": "DescriptionStyleModel",
       "_view_count": null,
       "_view_module": "@jupyter-widgets/base",
       "_view_module_version": "1.2.0",
       "_view_name": "StyleView",
       "description_width": ""
      }
     },
     "afe67cf07b6a4b3d9cd610d054e34d61": {
      "model_module": "@jupyter-widgets/controls",
      "model_module_version": "1.5.0",
      "model_name": "DescriptionStyleModel",
      "state": {
       "_model_module": "@jupyter-widgets/controls",
       "_model_module_version": "1.5.0",
       "_model_name": "DescriptionStyleModel",
       "_view_count": null,
       "_view_module": "@jupyter-widgets/base",
       "_view_module_version": "1.2.0",
       "_view_name": "StyleView",
       "description_width": ""
      }
     },
     "b154e6f3956146f18310eaee9619b407": {
      "model_module": "@jupyter-widgets/base",
      "model_module_version": "1.2.0",
      "model_name": "LayoutModel",
      "state": {
       "_model_module": "@jupyter-widgets/base",
       "_model_module_version": "1.2.0",
       "_model_name": "LayoutModel",
       "_view_count": null,
       "_view_module": "@jupyter-widgets/base",
       "_view_module_version": "1.2.0",
       "_view_name": "LayoutView",
       "align_content": null,
       "align_items": null,
       "align_self": null,
       "border": null,
       "bottom": null,
       "display": null,
       "flex": null,
       "flex_flow": null,
       "grid_area": null,
       "grid_auto_columns": null,
       "grid_auto_flow": null,
       "grid_auto_rows": null,
       "grid_column": null,
       "grid_gap": null,
       "grid_row": null,
       "grid_template_areas": null,
       "grid_template_columns": null,
       "grid_template_rows": null,
       "height": null,
       "justify_content": null,
       "justify_items": null,
       "left": null,
       "margin": null,
       "max_height": null,
       "max_width": null,
       "min_height": null,
       "min_width": null,
       "object_fit": null,
       "object_position": null,
       "order": null,
       "overflow": null,
       "overflow_x": null,
       "overflow_y": null,
       "padding": null,
       "right": null,
       "top": null,
       "visibility": null,
       "width": null
      }
     },
     "b1f3611068744cfb9d402ceef34389f6": {
      "model_module": "@jupyter-widgets/base",
      "model_module_version": "1.2.0",
      "model_name": "LayoutModel",
      "state": {
       "_model_module": "@jupyter-widgets/base",
       "_model_module_version": "1.2.0",
       "_model_name": "LayoutModel",
       "_view_count": null,
       "_view_module": "@jupyter-widgets/base",
       "_view_module_version": "1.2.0",
       "_view_name": "LayoutView",
       "align_content": null,
       "align_items": null,
       "align_self": null,
       "border": null,
       "bottom": null,
       "display": null,
       "flex": null,
       "flex_flow": null,
       "grid_area": null,
       "grid_auto_columns": null,
       "grid_auto_flow": null,
       "grid_auto_rows": null,
       "grid_column": null,
       "grid_gap": null,
       "grid_row": null,
       "grid_template_areas": null,
       "grid_template_columns": null,
       "grid_template_rows": null,
       "height": null,
       "justify_content": null,
       "justify_items": null,
       "left": null,
       "margin": null,
       "max_height": null,
       "max_width": null,
       "min_height": null,
       "min_width": null,
       "object_fit": null,
       "object_position": null,
       "order": null,
       "overflow": null,
       "overflow_x": null,
       "overflow_y": null,
       "padding": null,
       "right": null,
       "top": null,
       "visibility": null,
       "width": null
      }
     },
     "b7d4fcba5a804ad49cbb2e013f4e6aa6": {
      "model_module": "@jupyter-widgets/base",
      "model_module_version": "1.2.0",
      "model_name": "LayoutModel",
      "state": {
       "_model_module": "@jupyter-widgets/base",
       "_model_module_version": "1.2.0",
       "_model_name": "LayoutModel",
       "_view_count": null,
       "_view_module": "@jupyter-widgets/base",
       "_view_module_version": "1.2.0",
       "_view_name": "LayoutView",
       "align_content": null,
       "align_items": null,
       "align_self": null,
       "border": null,
       "bottom": null,
       "display": null,
       "flex": null,
       "flex_flow": null,
       "grid_area": null,
       "grid_auto_columns": null,
       "grid_auto_flow": null,
       "grid_auto_rows": null,
       "grid_column": null,
       "grid_gap": null,
       "grid_row": null,
       "grid_template_areas": null,
       "grid_template_columns": null,
       "grid_template_rows": null,
       "height": null,
       "justify_content": null,
       "justify_items": null,
       "left": null,
       "margin": null,
       "max_height": null,
       "max_width": null,
       "min_height": null,
       "min_width": null,
       "object_fit": null,
       "object_position": null,
       "order": null,
       "overflow": null,
       "overflow_x": null,
       "overflow_y": null,
       "padding": null,
       "right": null,
       "top": null,
       "visibility": null,
       "width": null
      }
     },
     "b8098f3bf0e746c7811267d8f6fc9a15": {
      "model_module": "@jupyter-widgets/base",
      "model_module_version": "1.2.0",
      "model_name": "LayoutModel",
      "state": {
       "_model_module": "@jupyter-widgets/base",
       "_model_module_version": "1.2.0",
       "_model_name": "LayoutModel",
       "_view_count": null,
       "_view_module": "@jupyter-widgets/base",
       "_view_module_version": "1.2.0",
       "_view_name": "LayoutView",
       "align_content": null,
       "align_items": null,
       "align_self": null,
       "border": null,
       "bottom": null,
       "display": null,
       "flex": null,
       "flex_flow": null,
       "grid_area": null,
       "grid_auto_columns": null,
       "grid_auto_flow": null,
       "grid_auto_rows": null,
       "grid_column": null,
       "grid_gap": null,
       "grid_row": null,
       "grid_template_areas": null,
       "grid_template_columns": null,
       "grid_template_rows": null,
       "height": null,
       "justify_content": null,
       "justify_items": null,
       "left": null,
       "margin": null,
       "max_height": null,
       "max_width": null,
       "min_height": null,
       "min_width": null,
       "object_fit": null,
       "object_position": null,
       "order": null,
       "overflow": null,
       "overflow_x": null,
       "overflow_y": null,
       "padding": null,
       "right": null,
       "top": null,
       "visibility": null,
       "width": null
      }
     },
     "bb868e5302044b018a437c3428c1aed4": {
      "model_module": "@jupyter-widgets/base",
      "model_module_version": "1.2.0",
      "model_name": "LayoutModel",
      "state": {
       "_model_module": "@jupyter-widgets/base",
       "_model_module_version": "1.2.0",
       "_model_name": "LayoutModel",
       "_view_count": null,
       "_view_module": "@jupyter-widgets/base",
       "_view_module_version": "1.2.0",
       "_view_name": "LayoutView",
       "align_content": null,
       "align_items": null,
       "align_self": null,
       "border": null,
       "bottom": null,
       "display": null,
       "flex": null,
       "flex_flow": null,
       "grid_area": null,
       "grid_auto_columns": null,
       "grid_auto_flow": null,
       "grid_auto_rows": null,
       "grid_column": null,
       "grid_gap": null,
       "grid_row": null,
       "grid_template_areas": null,
       "grid_template_columns": null,
       "grid_template_rows": null,
       "height": null,
       "justify_content": null,
       "justify_items": null,
       "left": null,
       "margin": null,
       "max_height": null,
       "max_width": null,
       "min_height": null,
       "min_width": null,
       "object_fit": null,
       "object_position": null,
       "order": null,
       "overflow": null,
       "overflow_x": null,
       "overflow_y": null,
       "padding": null,
       "right": null,
       "top": null,
       "visibility": null,
       "width": null
      }
     },
     "bc3dfdc1129741a0bb545a2479176759": {
      "model_module": "@jupyter-widgets/controls",
      "model_module_version": "1.5.0",
      "model_name": "FloatProgressModel",
      "state": {
       "_dom_classes": [],
       "_model_module": "@jupyter-widgets/controls",
       "_model_module_version": "1.5.0",
       "_model_name": "FloatProgressModel",
       "_view_count": null,
       "_view_module": "@jupyter-widgets/controls",
       "_view_module_version": "1.5.0",
       "_view_name": "ProgressView",
       "bar_style": "success",
       "description": "",
       "description_tooltip": null,
       "layout": "IPY_MODEL_bb868e5302044b018a437c3428c1aed4",
       "max": 286059269.0,
       "min": 0.0,
       "orientation": "horizontal",
       "style": "IPY_MODEL_7771081fbec1487890b402ec8df94c16",
       "value": 286059269.0
      }
     },
     "c1a98087cd3c49cc84e34334e8564fcb": {
      "model_module": "@jupyter-widgets/base",
      "model_module_version": "1.2.0",
      "model_name": "LayoutModel",
      "state": {
       "_model_module": "@jupyter-widgets/base",
       "_model_module_version": "1.2.0",
       "_model_name": "LayoutModel",
       "_view_count": null,
       "_view_module": "@jupyter-widgets/base",
       "_view_module_version": "1.2.0",
       "_view_name": "LayoutView",
       "align_content": null,
       "align_items": null,
       "align_self": null,
       "border": null,
       "bottom": null,
       "display": null,
       "flex": null,
       "flex_flow": null,
       "grid_area": null,
       "grid_auto_columns": null,
       "grid_auto_flow": null,
       "grid_auto_rows": null,
       "grid_column": null,
       "grid_gap": null,
       "grid_row": null,
       "grid_template_areas": null,
       "grid_template_columns": null,
       "grid_template_rows": null,
       "height": null,
       "justify_content": null,
       "justify_items": null,
       "left": null,
       "margin": null,
       "max_height": null,
       "max_width": null,
       "min_height": null,
       "min_width": null,
       "object_fit": null,
       "object_position": null,
       "order": null,
       "overflow": null,
       "overflow_x": null,
       "overflow_y": null,
       "padding": null,
       "right": null,
       "top": null,
       "visibility": null,
       "width": null
      }
     },
     "c7e6205a65904a0a9baced24a831937e": {
      "model_module": "@jupyter-widgets/base",
      "model_module_version": "1.2.0",
      "model_name": "LayoutModel",
      "state": {
       "_model_module": "@jupyter-widgets/base",
       "_model_module_version": "1.2.0",
       "_model_name": "LayoutModel",
       "_view_count": null,
       "_view_module": "@jupyter-widgets/base",
       "_view_module_version": "1.2.0",
       "_view_name": "LayoutView",
       "align_content": null,
       "align_items": null,
       "align_self": null,
       "border": null,
       "bottom": null,
       "display": null,
       "flex": null,
       "flex_flow": null,
       "grid_area": null,
       "grid_auto_columns": null,
       "grid_auto_flow": null,
       "grid_auto_rows": null,
       "grid_column": null,
       "grid_gap": null,
       "grid_row": null,
       "grid_template_areas": null,
       "grid_template_columns": null,
       "grid_template_rows": null,
       "height": null,
       "justify_content": null,
       "justify_items": null,
       "left": null,
       "margin": null,
       "max_height": null,
       "max_width": null,
       "min_height": null,
       "min_width": null,
       "object_fit": null,
       "object_position": null,
       "order": null,
       "overflow": null,
       "overflow_x": null,
       "overflow_y": null,
       "padding": null,
       "right": null,
       "top": null,
       "visibility": null,
       "width": null
      }
     },
     "cf205cf8ae4e4950a49ee6b5d2d96609": {
      "model_module": "@jupyter-widgets/base",
      "model_module_version": "1.2.0",
      "model_name": "LayoutModel",
      "state": {
       "_model_module": "@jupyter-widgets/base",
       "_model_module_version": "1.2.0",
       "_model_name": "LayoutModel",
       "_view_count": null,
       "_view_module": "@jupyter-widgets/base",
       "_view_module_version": "1.2.0",
       "_view_name": "LayoutView",
       "align_content": null,
       "align_items": null,
       "align_self": null,
       "border": null,
       "bottom": null,
       "display": null,
       "flex": null,
       "flex_flow": null,
       "grid_area": null,
       "grid_auto_columns": null,
       "grid_auto_flow": null,
       "grid_auto_rows": null,
       "grid_column": null,
       "grid_gap": null,
       "grid_row": null,
       "grid_template_areas": null,
       "grid_template_columns": null,
       "grid_template_rows": null,
       "height": null,
       "justify_content": null,
       "justify_items": null,
       "left": null,
       "margin": null,
       "max_height": null,
       "max_width": null,
       "min_height": null,
       "min_width": null,
       "object_fit": null,
       "object_position": null,
       "order": null,
       "overflow": null,
       "overflow_x": null,
       "overflow_y": null,
       "padding": null,
       "right": null,
       "top": null,
       "visibility": null,
       "width": null
      }
     },
     "d23cd03ae3214f74a2f59972f6e4e6d1": {
      "model_module": "@jupyter-widgets/controls",
      "model_module_version": "1.5.0",
      "model_name": "DescriptionStyleModel",
      "state": {
       "_model_module": "@jupyter-widgets/controls",
       "_model_module_version": "1.5.0",
       "_model_name": "DescriptionStyleModel",
       "_view_count": null,
       "_view_module": "@jupyter-widgets/base",
       "_view_module_version": "1.2.0",
       "_view_name": "StyleView",
       "description_width": ""
      }
     },
     "d47c663a082e4e9bbdae984947a33097": {
      "model_module": "@jupyter-widgets/controls",
      "model_module_version": "1.5.0",
      "model_name": "HTMLModel",
      "state": {
       "_dom_classes": [],
       "_model_module": "@jupyter-widgets/controls",
       "_model_module_version": "1.5.0",
       "_model_name": "HTMLModel",
       "_view_count": null,
       "_view_module": "@jupyter-widgets/controls",
       "_view_module_version": "1.5.0",
       "_view_name": "HTMLView",
       "description": "",
       "description_tooltip": null,
       "layout": "IPY_MODEL_a44585a222304af78314b194b22e992b",
       "placeholder": "​",
       "style": "IPY_MODEL_ab9487629804417987adc08492440e4d",
       "value": " 4.20k/4.20k [00:00&lt;00:00, 303kB/s]"
      }
     },
     "dc2d36ae000c478a9fe5ca7797dec246": {
      "model_module": "@jupyter-widgets/controls",
      "model_module_version": "1.5.0",
      "model_name": "HBoxModel",
      "state": {
       "_dom_classes": [],
       "_model_module": "@jupyter-widgets/controls",
       "_model_module_version": "1.5.0",
       "_model_name": "HBoxModel",
       "_view_count": null,
       "_view_module": "@jupyter-widgets/controls",
       "_view_module_version": "1.5.0",
       "_view_name": "HBoxView",
       "box_style": "",
       "children": [
        "IPY_MODEL_254cb5d135cb4d87bbfbd3941b1dcc00",
        "IPY_MODEL_bc3dfdc1129741a0bb545a2479176759",
        "IPY_MODEL_2097edfc11654d36989dc8e2188bc079"
       ],
       "layout": "IPY_MODEL_05df4f81106348b5b477b4f9e4cb3b21"
      }
     },
     "e274c15862c5421093cf0e4593048ac4": {
      "model_module": "@jupyter-widgets/controls",
      "model_module_version": "1.5.0",
      "model_name": "ProgressStyleModel",
      "state": {
       "_model_module": "@jupyter-widgets/controls",
       "_model_module_version": "1.5.0",
       "_model_name": "ProgressStyleModel",
       "_view_count": null,
       "_view_module": "@jupyter-widgets/base",
       "_view_module_version": "1.2.0",
       "_view_name": "StyleView",
       "bar_color": null,
       "description_width": ""
      }
     },
     "ed9836840bb6403f96cb60538a8f2a48": {
      "model_module": "@jupyter-widgets/controls",
      "model_module_version": "1.5.0",
      "model_name": "HTMLModel",
      "state": {
       "_dom_classes": [],
       "_model_module": "@jupyter-widgets/controls",
       "_model_module_version": "1.5.0",
       "_model_name": "HTMLModel",
       "_view_count": null,
       "_view_module": "@jupyter-widgets/controls",
       "_view_module_version": "1.5.0",
       "_view_name": "HTMLView",
       "description": "",
       "description_tooltip": null,
       "layout": "IPY_MODEL_32098bfab3c743e79b7908ea54021ef8",
       "placeholder": "​",
       "style": "IPY_MODEL_1f8ae49c701c4cfaa1ef4610ed4f2900",
       "value": "config.json: 100%"
      }
     },
     "ef87858d608843589283a8093b17bb7e": {
      "model_module": "@jupyter-widgets/controls",
      "model_module_version": "1.5.0",
      "model_name": "DescriptionStyleModel",
      "state": {
       "_model_module": "@jupyter-widgets/controls",
       "_model_module_version": "1.5.0",
       "_model_name": "DescriptionStyleModel",
       "_view_count": null,
       "_view_module": "@jupyter-widgets/base",
       "_view_module_version": "1.2.0",
       "_view_name": "StyleView",
       "description_width": ""
      }
     },
     "f461e428404a4acca519768b639d7b4e": {
      "model_module": "@jupyter-widgets/controls",
      "model_module_version": "1.5.0",
      "model_name": "HBoxModel",
      "state": {
       "_dom_classes": [],
       "_model_module": "@jupyter-widgets/controls",
       "_model_module_version": "1.5.0",
       "_model_name": "HBoxModel",
       "_view_count": null,
       "_view_module": "@jupyter-widgets/controls",
       "_view_module_version": "1.5.0",
       "_view_name": "HBoxView",
       "box_style": "",
       "children": [
        "IPY_MODEL_062f4ac2649349489d7ad89d5a6cdf1d",
        "IPY_MODEL_7332ae4956cb41d5b7c6905085ec4198",
        "IPY_MODEL_7c5377287ba142e3be066b4a230bd2d0"
       ],
       "layout": "IPY_MODEL_15cfa8cd767440b39cd4407a69f2e75f"
      }
     },
     "fad5928872004693963f6f7a6114f5ae": {
      "model_module": "@jupyter-widgets/controls",
      "model_module_version": "1.5.0",
      "model_name": "DescriptionStyleModel",
      "state": {
       "_model_module": "@jupyter-widgets/controls",
       "_model_module_version": "1.5.0",
       "_model_name": "DescriptionStyleModel",
       "_view_count": null,
       "_view_module": "@jupyter-widgets/base",
       "_view_module_version": "1.2.0",
       "_view_name": "StyleView",
       "description_width": ""
      }
     },
     "fd147dab16014bec955852681f062885": {
      "model_module": "@jupyter-widgets/controls",
      "model_module_version": "1.5.0",
      "model_name": "HBoxModel",
      "state": {
       "_dom_classes": [],
       "_model_module": "@jupyter-widgets/controls",
       "_model_module_version": "1.5.0",
       "_model_name": "HBoxModel",
       "_view_count": null,
       "_view_module": "@jupyter-widgets/controls",
       "_view_module_version": "1.5.0",
       "_view_name": "HBoxView",
       "box_style": "",
       "children": [
        "IPY_MODEL_54955d008ae0409a89cf7ebf4a5bcb16",
        "IPY_MODEL_4ca503e75103440c90662bb83cab56aa",
        "IPY_MODEL_34764bfb7d0c4e2c83a4232201401a30"
       ],
       "layout": "IPY_MODEL_b1f3611068744cfb9d402ceef34389f6"
      }
     }
    },
    "version_major": 2,
    "version_minor": 0
   }
  }
 },
 "nbformat": 4,
 "nbformat_minor": 5
}
