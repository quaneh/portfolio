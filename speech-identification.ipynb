{
 "cells": [
  {
   "cell_type": "markdown",
   "id": "f4903c5e",
   "metadata": {
    "papermill": {
     "duration": 0.011262,
     "end_time": "2024-03-01T04:50:05.732675",
     "exception": false,
     "start_time": "2024-03-01T04:50:05.721413",
     "status": "completed"
    },
    "tags": []
   },
   "source": [
    "# Speech Attribution/Identification\n",
    "\n",
    "This notebook takes a dataset containing campain speeches from Donald Trump and Hilary Clinton, and fine-tunes a Deberta model to predict which candidate the speech belongs to based on the final sentences of the speech.\n",
    "\n",
    "This notebook was largely experimental. As I tried to improve the predictive performance of the model, I progressively formatted the input data.\n",
    "<br/>\n",
    "The data cleaning and formatting isn't optimised in this notebook, as I wanted to show the steps that I went through to get the best model performance.\n",
    "<br/>\n",
    "As in most ML experiments, formatting and cleaning the input data has a huge impact on model performance.\n",
    "\n",
    "The dataset used in this notebook can be found here: https://www.kaggle.com/datasets/browndw/clintontrump-corpus\n"
   ]
  },
  {
   "cell_type": "markdown",
   "id": "ecfb3fd5",
   "metadata": {
    "papermill": {
     "duration": 0.01074,
     "end_time": "2024-03-01T04:50:05.754320",
     "exception": false,
     "start_time": "2024-03-01T04:50:05.743580",
     "status": "completed"
    },
    "tags": []
   },
   "source": [
    "### Load/Import Libraries and Data"
   ]
  },
  {
   "cell_type": "code",
   "execution_count": 1,
   "id": "8393633f",
   "metadata": {
    "execution": {
     "iopub.execute_input": "2024-03-01T04:50:05.777870Z",
     "iopub.status.busy": "2024-03-01T04:50:05.777216Z",
     "iopub.status.idle": "2024-03-01T04:50:06.747539Z",
     "shell.execute_reply": "2024-03-01T04:50:06.746500Z"
    },
    "papermill": {
     "duration": 0.984125,
     "end_time": "2024-03-01T04:50:06.749442",
     "exception": false,
     "start_time": "2024-03-01T04:50:05.765317",
     "status": "completed"
    },
    "tags": []
   },
   "outputs": [
    {
     "name": "stderr",
     "output_type": "stream",
     "text": [
      "/opt/conda/lib/python3.10/site-packages/scipy/__init__.py:146: UserWarning: A NumPy version >=1.16.5 and <1.23.0 is required for this version of SciPy (detected version 1.24.3\n",
      "  warnings.warn(f\"A NumPy version >={np_minversion} and <{np_maxversion}\"\n"
     ]
    },
    {
     "name": "stdout",
     "output_type": "stream",
     "text": [
      "/kaggle/input/clintontrump-corpus/clinton_trump.csv\n"
     ]
    }
   ],
   "source": [
    "import numpy as np\n",
    "import pandas as pd\n",
    "import matplotlib.pyplot as plt\n",
    "from fastai.imports import *\n",
    "import re \n",
    "\n",
    "import os\n",
    "for dirname, _, filenames in os.walk('/kaggle/input'):\n",
    "    for filename in filenames:\n",
    "        print(os.path.join(dirname, filename))"
   ]
  },
  {
   "cell_type": "markdown",
   "id": "68587aea",
   "metadata": {
    "papermill": {
     "duration": 0.011875,
     "end_time": "2024-03-01T04:50:06.772589",
     "exception": false,
     "start_time": "2024-03-01T04:50:06.760714",
     "status": "completed"
    },
    "tags": []
   },
   "source": [
    "Set path and load data:"
   ]
  },
  {
   "cell_type": "code",
   "execution_count": 2,
   "id": "5a01f50b",
   "metadata": {
    "execution": {
     "iopub.execute_input": "2024-03-01T04:50:06.796331Z",
     "iopub.status.busy": "2024-03-01T04:50:06.795355Z",
     "iopub.status.idle": "2024-03-01T04:50:06.880550Z",
     "shell.execute_reply": "2024-03-01T04:50:06.879687Z"
    },
    "papermill": {
     "duration": 0.099336,
     "end_time": "2024-03-01T04:50:06.882934",
     "exception": false,
     "start_time": "2024-03-01T04:50:06.783598",
     "status": "completed"
    },
    "tags": []
   },
   "outputs": [],
   "source": [
    "path = Path('../input/clintontrump-corpus')\n",
    "df = pd.read_csv(path/'clinton_trump.csv')"
   ]
  },
  {
   "cell_type": "markdown",
   "id": "031ba96e",
   "metadata": {
    "papermill": {
     "duration": 0.010854,
     "end_time": "2024-03-01T04:50:06.905175",
     "exception": false,
     "start_time": "2024-03-01T04:50:06.894321",
     "status": "completed"
    },
    "tags": []
   },
   "source": [
    "### Data Formatting and Cleaning\n",
    "\n",
    "Shuffle the dataset:"
   ]
  },
  {
   "cell_type": "code",
   "execution_count": 3,
   "id": "c7bead6f",
   "metadata": {
    "execution": {
     "iopub.execute_input": "2024-03-01T04:50:06.929274Z",
     "iopub.status.busy": "2024-03-01T04:50:06.928566Z",
     "iopub.status.idle": "2024-03-01T04:50:06.937125Z",
     "shell.execute_reply": "2024-03-01T04:50:06.936272Z"
    },
    "papermill": {
     "duration": 0.02243,
     "end_time": "2024-03-01T04:50:06.938947",
     "exception": false,
     "start_time": "2024-03-01T04:50:06.916517",
     "status": "completed"
    },
    "tags": []
   },
   "outputs": [],
   "source": [
    "df = df.sample(frac=1).reset_index(drop=True)\n",
    "df = df.sample(frac=1).reset_index(drop=True)"
   ]
  },
  {
   "cell_type": "markdown",
   "id": "d093fd39",
   "metadata": {
    "papermill": {
     "duration": 0.010854,
     "end_time": "2024-03-01T04:50:06.960781",
     "exception": false,
     "start_time": "2024-03-01T04:50:06.949927",
     "status": "completed"
    },
    "tags": []
   },
   "source": [
    "Define a function that can identify the candidate based on the doc_id column:"
   ]
  },
  {
   "cell_type": "code",
   "execution_count": 4,
   "id": "f809cac3",
   "metadata": {
    "execution": {
     "iopub.execute_input": "2024-03-01T04:50:06.983870Z",
     "iopub.status.busy": "2024-03-01T04:50:06.983597Z",
     "iopub.status.idle": "2024-03-01T04:50:06.987672Z",
     "shell.execute_reply": "2024-03-01T04:50:06.986964Z"
    },
    "papermill": {
     "duration": 0.018148,
     "end_time": "2024-03-01T04:50:06.989869",
     "exception": false,
     "start_time": "2024-03-01T04:50:06.971721",
     "status": "completed"
    },
    "tags": []
   },
   "outputs": [],
   "source": [
    " def extract_name(text): \n",
    "    if text.find('Trump') >= 0: return 1\n",
    "    return 0"
   ]
  },
  {
   "cell_type": "markdown",
   "id": "f4197ae3",
   "metadata": {
    "papermill": {
     "duration": 0.010747,
     "end_time": "2024-03-01T04:50:07.011589",
     "exception": false,
     "start_time": "2024-03-01T04:50:07.000842",
     "status": "completed"
    },
    "tags": []
   },
   "source": [
    "Label dataset:"
   ]
  },
  {
   "cell_type": "code",
   "execution_count": 5,
   "id": "f38c8436",
   "metadata": {
    "execution": {
     "iopub.execute_input": "2024-03-01T04:50:07.035104Z",
     "iopub.status.busy": "2024-03-01T04:50:07.034829Z",
     "iopub.status.idle": "2024-03-01T04:50:07.043060Z",
     "shell.execute_reply": "2024-03-01T04:50:07.042350Z"
    },
    "papermill": {
     "duration": 0.022019,
     "end_time": "2024-03-01T04:50:07.044866",
     "exception": false,
     "start_time": "2024-03-01T04:50:07.022847",
     "status": "completed"
    },
    "tags": []
   },
   "outputs": [],
   "source": [
    "df['label'] = df['doc_id'].map(extract_name).astype('float')"
   ]
  },
  {
   "cell_type": "markdown",
   "id": "b5f944d3",
   "metadata": {
    "papermill": {
     "duration": 0.010891,
     "end_time": "2024-03-01T04:50:07.066983",
     "exception": false,
     "start_time": "2024-03-01T04:50:07.056092",
     "status": "completed"
    },
    "tags": []
   },
   "source": [
    "Check if dataset is balanced:\n"
   ]
  },
  {
   "cell_type": "code",
   "execution_count": 6,
   "id": "f9b8e0f9",
   "metadata": {
    "execution": {
     "iopub.execute_input": "2024-03-01T04:50:07.090033Z",
     "iopub.status.busy": "2024-03-01T04:50:07.089773Z",
     "iopub.status.idle": "2024-03-01T04:50:07.096659Z",
     "shell.execute_reply": "2024-03-01T04:50:07.095799Z"
    },
    "papermill": {
     "duration": 0.020603,
     "end_time": "2024-03-01T04:50:07.098547",
     "exception": false,
     "start_time": "2024-03-01T04:50:07.077944",
     "status": "completed"
    },
    "tags": []
   },
   "outputs": [
    {
     "data": {
      "text/plain": [
       "0.7008547008547008"
      ]
     },
     "execution_count": 6,
     "metadata": {},
     "output_type": "execute_result"
    }
   ],
   "source": [
    "np.mean(df['label'])"
   ]
  },
  {
   "cell_type": "markdown",
   "id": "80aa65b7",
   "metadata": {
    "papermill": {
     "duration": 0.010923,
     "end_time": "2024-03-01T04:50:07.120625",
     "exception": false,
     "start_time": "2024-03-01T04:50:07.109702",
     "status": "completed"
    },
    "tags": []
   },
   "source": [
    "Remove redundant column"
   ]
  },
  {
   "cell_type": "code",
   "execution_count": 7,
   "id": "f9d1cc83",
   "metadata": {
    "execution": {
     "iopub.execute_input": "2024-03-01T04:50:07.184522Z",
     "iopub.status.busy": "2024-03-01T04:50:07.184162Z",
     "iopub.status.idle": "2024-03-01T04:50:07.192287Z",
     "shell.execute_reply": "2024-03-01T04:50:07.191464Z"
    },
    "papermill": {
     "duration": 0.06225,
     "end_time": "2024-03-01T04:50:07.194171",
     "exception": false,
     "start_time": "2024-03-01T04:50:07.131921",
     "status": "completed"
    },
    "tags": []
   },
   "outputs": [],
   "source": [
    "df = df.drop('doc_id', axis=1)"
   ]
  },
  {
   "cell_type": "code",
   "execution_count": 8,
   "id": "ad3e5c0b",
   "metadata": {
    "execution": {
     "iopub.execute_input": "2024-03-01T04:50:07.217554Z",
     "iopub.status.busy": "2024-03-01T04:50:07.217263Z",
     "iopub.status.idle": "2024-03-01T04:50:07.225447Z",
     "shell.execute_reply": "2024-03-01T04:50:07.224662Z"
    },
    "papermill": {
     "duration": 0.022104,
     "end_time": "2024-03-01T04:50:07.227361",
     "exception": false,
     "start_time": "2024-03-01T04:50:07.205257",
     "status": "completed"
    },
    "tags": []
   },
   "outputs": [],
   "source": [
    "# Convert to lowercase\n",
    "df['text'] = df['text'].map(str.lower)"
   ]
  },
  {
   "cell_type": "markdown",
   "id": "7eb006cd",
   "metadata": {
    "papermill": {
     "duration": 0.0108,
     "end_time": "2024-03-01T04:50:07.249182",
     "exception": false,
     "start_time": "2024-03-01T04:50:07.238382",
     "status": "completed"
    },
    "tags": []
   },
   "source": [
    "### Data Cleaning Steps\n",
    "- When cleaning the data, I first decided to remove the metadata at the start of each speech by deleting the everything contained within the first set of braces (\"<>\").\n",
    "- I then realised that many speeches start with an introduction from another speaker. I decided to remove everything that comes before the candidate's first statements.\n",
    "- I finally realised that there are often interjections by other speakers during the speech. I investigated further and found that interjections are always contained within braces (\"<>\"), while the candidate's speech is not. I decided to remove everything that's contained within brackets or braces, thus making my intial drop_metadata and drop_intro functions redundant.\n"
   ]
  },
  {
   "cell_type": "code",
   "execution_count": 9,
   "id": "259df5bc",
   "metadata": {
    "execution": {
     "iopub.execute_input": "2024-03-01T04:50:07.272967Z",
     "iopub.status.busy": "2024-03-01T04:50:07.272692Z",
     "iopub.status.idle": "2024-03-01T04:50:07.277001Z",
     "shell.execute_reply": "2024-03-01T04:50:07.276186Z"
    },
    "papermill": {
     "duration": 0.018002,
     "end_time": "2024-03-01T04:50:07.278843",
     "exception": false,
     "start_time": "2024-03-01T04:50:07.260841",
     "status": "completed"
    },
    "tags": []
   },
   "outputs": [],
   "source": [
    "# This function is now redundant\n",
    "def drop_metadata(text):\n",
    "    first_close = text.find('>')\n",
    "    second_close = text.find('>', first_close +1 )\n",
    "    return text[second_close+1:]"
   ]
  },
  {
   "cell_type": "code",
   "execution_count": 10,
   "id": "4eeff5c3",
   "metadata": {
    "execution": {
     "iopub.execute_input": "2024-03-01T04:50:07.302415Z",
     "iopub.status.busy": "2024-03-01T04:50:07.301699Z",
     "iopub.status.idle": "2024-03-01T04:50:07.306502Z",
     "shell.execute_reply": "2024-03-01T04:50:07.305825Z"
    },
    "papermill": {
     "duration": 0.018447,
     "end_time": "2024-03-01T04:50:07.308376",
     "exception": false,
     "start_time": "2024-03-01T04:50:07.289929",
     "status": "completed"
    },
    "tags": []
   },
   "outputs": [],
   "source": [
    "# This function is now redundant\n",
    "def drop_intro(text):\n",
    "    first_trump = text.find('<trump')\n",
    "    if (first_trump >= 0):\n",
    "        return text[first_trump:]\n",
    "    \n",
    "    first_hilary = text.find('<hilary')\n",
    "    if (first_hilary >= 0):\n",
    "        return text[first_hilary:]\n",
    "    return text"
   ]
  },
  {
   "cell_type": "code",
   "execution_count": 11,
   "id": "457a013e",
   "metadata": {
    "execution": {
     "iopub.execute_input": "2024-03-01T04:50:07.331537Z",
     "iopub.status.busy": "2024-03-01T04:50:07.331259Z",
     "iopub.status.idle": "2024-03-01T04:50:07.335289Z",
     "shell.execute_reply": "2024-03-01T04:50:07.334517Z"
    },
    "papermill": {
     "duration": 0.017592,
     "end_time": "2024-03-01T04:50:07.337170",
     "exception": false,
     "start_time": "2024-03-01T04:50:07.319578",
     "status": "completed"
    },
    "tags": []
   },
   "outputs": [],
   "source": [
    "# Drop all text contained in braces (<>) or parentheses\n",
    "def drop_alt_speakers(text):\n",
    "    return re.sub(\"[\\(\\<].*?[\\)\\>]\", \"\", text)"
   ]
  },
  {
   "cell_type": "markdown",
   "id": "c75271b5",
   "metadata": {
    "papermill": {
     "duration": 0.010809,
     "end_time": "2024-03-01T04:50:07.359030",
     "exception": false,
     "start_time": "2024-03-01T04:50:07.348221",
     "status": "completed"
    },
    "tags": []
   },
   "source": [
    "### Further Details\n",
    "- The Kaggle GPU only has enough RAM to handle small parts of the speech. \n",
    "- I decided to focus on the last 1200 characters of each speech. Sometimes sentences get cut off mid-sentence and this had a negative effect on model performance.\n",
    "- Removing incomplete sentences from the start of the formatted speech resolved this issue.\n",
    "- We also need to remove anything that could directly tell the model who the speaker is, like candidate names etc. These are replaced with something more generic."
   ]
  },
  {
   "cell_type": "code",
   "execution_count": 12,
   "id": "28f9ec75",
   "metadata": {
    "execution": {
     "iopub.execute_input": "2024-03-01T04:50:07.381980Z",
     "iopub.status.busy": "2024-03-01T04:50:07.381719Z",
     "iopub.status.idle": "2024-03-01T04:50:07.385859Z",
     "shell.execute_reply": "2024-03-01T04:50:07.385042Z"
    },
    "papermill": {
     "duration": 0.017743,
     "end_time": "2024-03-01T04:50:07.387771",
     "exception": false,
     "start_time": "2024-03-01T04:50:07.370028",
     "status": "completed"
    },
    "tags": []
   },
   "outputs": [],
   "source": [
    "def drop_incomplete_first_sen(text):\n",
    "    first_stop = text.find('.')\n",
    "    if (first_stop >= 0):\n",
    "        return text[first_stop+2:]"
   ]
  },
  {
   "cell_type": "code",
   "execution_count": 13,
   "id": "f841654a",
   "metadata": {
    "execution": {
     "iopub.execute_input": "2024-03-01T04:50:07.410949Z",
     "iopub.status.busy": "2024-03-01T04:50:07.410692Z",
     "iopub.status.idle": "2024-03-01T04:50:07.512670Z",
     "shell.execute_reply": "2024-03-01T04:50:07.511859Z"
    },
    "papermill": {
     "duration": 0.115866,
     "end_time": "2024-03-01T04:50:07.514729",
     "exception": false,
     "start_time": "2024-03-01T04:50:07.398863",
     "status": "completed"
    },
    "tags": []
   },
   "outputs": [],
   "source": [
    "# df['text'] = df['text'].map(drop_metadata)\n",
    "# df['text'] = df['text'].map(drop_intro)\n",
    "df['text'] = df['text'].map(drop_alt_speakers)\n",
    "df['text'] = df['text'].str[-1200:]\n",
    "df['text'] = df['text'].map(drop_incomplete_first_sen)\n",
    "# Remove any remaining symbols or interjections\n",
    "df['text'] = df['text'].str.replace('<applause>', '')\n",
    "df['text'] = df['text'].str.replace('<cheering and applause>', '')\n",
    "df['text'] = df['text'].str.replace('<crosstalk>', '')\n",
    "df['text'] = df['text'].str.replace('<', '')\n",
    "df['text'] = df['text'].str.replace('>', '')\n",
    "df['text'] = df['text'].str.replace('\\\\', '')\n",
    "df['text'] = df['text'].str.replace(':', ' :')   \n",
    "df['text'] = df['text'].str.replace(' --', ',') \n",
    "# Remove candidate names\n",
    "df['text'] = df['text'].str.replace('hillary clinton', 'the candidate')\n",
    "df['text'] = df['text'].str.replace('hillary', 'the candidate')\n",
    "df['text'] = df['text'].str.replace('clinton', 'the candidate')\n",
    "df['text'] = df['text'].str.replace('donald trump', 'the candidate')\n",
    "df['text'] = df['text'].str.replace('donald', 'the candidate')\n",
    "df['text'] = df['text'].str.replace('trump', 'the candidate')"
   ]
  },
  {
   "cell_type": "code",
   "execution_count": 14,
   "id": "c6ad668d",
   "metadata": {
    "execution": {
     "iopub.execute_input": "2024-03-01T04:50:07.538380Z",
     "iopub.status.busy": "2024-03-01T04:50:07.538138Z",
     "iopub.status.idle": "2024-03-01T04:50:07.551379Z",
     "shell.execute_reply": "2024-03-01T04:50:07.550539Z"
    },
    "papermill": {
     "duration": 0.026987,
     "end_time": "2024-03-01T04:50:07.553395",
     "exception": false,
     "start_time": "2024-03-01T04:50:07.526408",
     "status": "completed"
    },
    "tags": []
   },
   "outputs": [
    {
     "data": {
      "text/html": [
       "<div>\n",
       "<style scoped>\n",
       "    .dataframe tbody tr th:only-of-type {\n",
       "        vertical-align: middle;\n",
       "    }\n",
       "\n",
       "    .dataframe tbody tr th {\n",
       "        vertical-align: top;\n",
       "    }\n",
       "\n",
       "    .dataframe thead th {\n",
       "        text-align: right;\n",
       "    }\n",
       "</style>\n",
       "<table border=\"1\" class=\"dataframe\">\n",
       "  <thead>\n",
       "    <tr style=\"text-align: right;\">\n",
       "      <th></th>\n",
       "      <th>text</th>\n",
       "      <th>label</th>\n",
       "    </tr>\n",
       "  </thead>\n",
       "  <tbody>\n",
       "    <tr>\n",
       "      <th>0</th>\n",
       "      <td>they have, as matt olsen pointed out, said they hoped that allah delivers america to the candidate. they have said that they hope that he is the president because it would give even more motivation to every jihadi, someone who has insulted muslims; has insulted a gold star family of an incredibly heroic captain khan; someone who has said he doesn't want to let muslims around the world even come to our country. that is a gift for isis, and that is what matt olsen, who knows more about this than the republicans trying to somehow muddy the waters, very clearly stated. that's what i mean. and ...</td>\n",
       "      <td>0.0</td>\n",
       "    </tr>\n",
       "    <tr>\n",
       "      <th>1</th>\n",
       "      <td>we're going to take care of that. we're going to take care of that situation so quickly and you're going to be so happy and you're going to know you're going to have your company here for a long time, believe me. in this new future we are going to raise your wages. you're going to have competition. people are going to be looking for employees. they're going to be looking. companies, companies are going to be looking for people to work in that company. right now you can't get a job. and all our good jobs are gone. household incomes are over $4,000 less today than they were 16 years ago. th...</td>\n",
       "      <td>1.0</td>\n",
       "    </tr>\n",
       "    <tr>\n",
       "      <th>2</th>\n",
       "      <td>we need to use technology more. we need to get information out. we need to have, you know, people be able to access easily information about government programs, or costs, or whatever it is that's on their minds. so, you know, that's what i'm going to be doing, i'm going to be talking about how we make college tuition free for under $125,000 per family and debt-free for everybody else. i think that, i think that's what people care about.   oh! let me think! look, i like a lot of the world leaders. one of my favorites is angela merkel, because i think she's been an extraordinary strong lead...</td>\n",
       "      <td>0.0</td>\n",
       "    </tr>\n",
       "    <tr>\n",
       "      <th>3</th>\n",
       "      <td>she was 92 years old.  we're all equal and we all come from the same creator. if we remember that simple fact, then our future is truly limitless. there is nothing we as americans can't do. there's a biblical verse that i've often read and i want to repeat it again because i think it is so important to what we're trying to achieve right now for our country. it's from first john chapter four. \"no one has ever seen god, but if we love one another, god lives in us and his love is made complete in us.\" so true.  so true. imagine what our country could accomplish if we started working together ...</td>\n",
       "      <td>1.0</td>\n",
       "    </tr>\n",
       "    <tr>\n",
       "      <th>4</th>\n",
       "      <td>bill o'reilly and others have said this is the single greatest phenomena they've ever seen. we have a movement like no other. we're going to make that movement incredible. and what we're going to end up with is this : a country that's not divided, a country that loves itself and loves its people.  we're going to make a country where people are proud to come in, people are proud to come through the borders, people want to come through because they respect us and they respect our values. we are going to make a country that's wealthy again. we're going to make a country that's safe again. we'...</td>\n",
       "      <td>1.0</td>\n",
       "    </tr>\n",
       "    <tr>\n",
       "      <th>...</th>\n",
       "      <td>...</td>\n",
       "      <td>...</td>\n",
       "    </tr>\n",
       "    <tr>\n",
       "      <th>112</th>\n",
       "      <td>it's a long time. seems like a long time ago. but we're six days away from the change you've been waiting for your entire life. it'll never happen again. it'll never, ever happen. it's not going to happen in four years. when i see cubans for the candidate, it'll never happen again. i'm telling you. this whole thing will never happen again. there's never been a movement like this in the history of our country, there's never been a movement like this.   thank you. thank you. there has never been a movement like this in the history of our country, it's never happened. even the pundits, even t...</td>\n",
       "      <td>1.0</td>\n",
       "    </tr>\n",
       "    <tr>\n",
       "      <th>113</th>\n",
       "      <td>we will put new american metal into the spine of this country, american metal and american steel. i will fight for every neglected part of the nation. and i will fight to bring us all together as one american people, which we're not. we are so badly divided. imagine what our country could accomplish, if we started working together as one people, under one god, saluting one american flag, one american flag.   it's time to break with the bitter failures of the past and to embrace a new inclusive and prosperous, and i mean truly prosperous, american future. we could be better than we ever wer...</td>\n",
       "      <td>1.0</td>\n",
       "    </tr>\n",
       "    <tr>\n",
       "      <th>114</th>\n",
       "      <td>we need to protect our second amendment. we need to take care of our vets. we need borders. we need great education, getting rid of common core, so important. we need so many things, and by the way, one thing, and i know john sununu and a lot of other people felt this was so important when they came out so strongly, united states supreme court. we need, we lost a great justice, justice scalia. great justice, we need great justices, who are going to uphold our constitution. and if the candidate gets in, you're going to have a much different country. so, so many people feel that's so importa...</td>\n",
       "      <td>1.0</td>\n",
       "    </tr>\n",
       "    <tr>\n",
       "      <th>115</th>\n",
       "      <td>she doesn't have a clue. doesn't have a clue.  our debt to our men and women in uniform is eternal, always will be. to all of those who have served this nation, i say so strongly that i will never ever let you down.  we will protect those who protect us. it's very simple. we will protect those who protect us.  and we will follow their example of unity. we will work across all racial and income lines to create one american nation. together, we will have one great american future. our potential is unlimited.  we will be one people under one god, saluting one american flag.  and, by the way, ...</td>\n",
       "      <td>1.0</td>\n",
       "    </tr>\n",
       "    <tr>\n",
       "      <th>116</th>\n",
       "      <td>american steel will send new skyscrapers into the clouds. and we will take care of our steelworkers. and we will take care of our miners. we'll going to take care of our miners and our steelworkers.  american hands will rebuild this nation. and american energy mined from american sources will power this nation again.  american workers, many of you in this room, will be hired to do the job. and these will be great jobs. we will put new american steel into the spine of our country. i will fight for every neglected part of this nation, and i will fight to bring us all together as americans. i...</td>\n",
       "      <td>1.0</td>\n",
       "    </tr>\n",
       "  </tbody>\n",
       "</table>\n",
       "<p>117 rows × 2 columns</p>\n",
       "</div>"
      ],
      "text/plain": [
       "                                                                                                                                                                                                                                                                                                                                                                                                                                                                                                                                                                                                                        text  \\\n",
       "0    they have, as matt olsen pointed out, said they hoped that allah delivers america to the candidate. they have said that they hope that he is the president because it would give even more motivation to every jihadi, someone who has insulted muslims; has insulted a gold star family of an incredibly heroic captain khan; someone who has said he doesn't want to let muslims around the world even come to our country. that is a gift for isis, and that is what matt olsen, who knows more about this than the republicans trying to somehow muddy the waters, very clearly stated. that's what i mean. and ...   \n",
       "1     we're going to take care of that. we're going to take care of that situation so quickly and you're going to be so happy and you're going to know you're going to have your company here for a long time, believe me. in this new future we are going to raise your wages. you're going to have competition. people are going to be looking for employees. they're going to be looking. companies, companies are going to be looking for people to work in that company. right now you can't get a job. and all our good jobs are gone. household incomes are over $4,000 less today than they were 16 years ago. th...   \n",
       "2    we need to use technology more. we need to get information out. we need to have, you know, people be able to access easily information about government programs, or costs, or whatever it is that's on their minds. so, you know, that's what i'm going to be doing, i'm going to be talking about how we make college tuition free for under $125,000 per family and debt-free for everybody else. i think that, i think that's what people care about.   oh! let me think! look, i like a lot of the world leaders. one of my favorites is angela merkel, because i think she's been an extraordinary strong lead...   \n",
       "3    she was 92 years old.  we're all equal and we all come from the same creator. if we remember that simple fact, then our future is truly limitless. there is nothing we as americans can't do. there's a biblical verse that i've often read and i want to repeat it again because i think it is so important to what we're trying to achieve right now for our country. it's from first john chapter four. \"no one has ever seen god, but if we love one another, god lives in us and his love is made complete in us.\" so true.  so true. imagine what our country could accomplish if we started working together ...   \n",
       "4    bill o'reilly and others have said this is the single greatest phenomena they've ever seen. we have a movement like no other. we're going to make that movement incredible. and what we're going to end up with is this : a country that's not divided, a country that loves itself and loves its people.  we're going to make a country where people are proud to come in, people are proud to come through the borders, people want to come through because they respect us and they respect our values. we are going to make a country that's wealthy again. we're going to make a country that's safe again. we'...   \n",
       "..                                                                                                                                                                                                                                                                                                                                                                                                                                                                                                                                                                                                                       ...   \n",
       "112  it's a long time. seems like a long time ago. but we're six days away from the change you've been waiting for your entire life. it'll never happen again. it'll never, ever happen. it's not going to happen in four years. when i see cubans for the candidate, it'll never happen again. i'm telling you. this whole thing will never happen again. there's never been a movement like this in the history of our country, there's never been a movement like this.   thank you. thank you. there has never been a movement like this in the history of our country, it's never happened. even the pundits, even t...   \n",
       "113  we will put new american metal into the spine of this country, american metal and american steel. i will fight for every neglected part of the nation. and i will fight to bring us all together as one american people, which we're not. we are so badly divided. imagine what our country could accomplish, if we started working together as one people, under one god, saluting one american flag, one american flag.   it's time to break with the bitter failures of the past and to embrace a new inclusive and prosperous, and i mean truly prosperous, american future. we could be better than we ever wer...   \n",
       "114  we need to protect our second amendment. we need to take care of our vets. we need borders. we need great education, getting rid of common core, so important. we need so many things, and by the way, one thing, and i know john sununu and a lot of other people felt this was so important when they came out so strongly, united states supreme court. we need, we lost a great justice, justice scalia. great justice, we need great justices, who are going to uphold our constitution. and if the candidate gets in, you're going to have a much different country. so, so many people feel that's so importa...   \n",
       "115  she doesn't have a clue. doesn't have a clue.  our debt to our men and women in uniform is eternal, always will be. to all of those who have served this nation, i say so strongly that i will never ever let you down.  we will protect those who protect us. it's very simple. we will protect those who protect us.  and we will follow their example of unity. we will work across all racial and income lines to create one american nation. together, we will have one great american future. our potential is unlimited.  we will be one people under one god, saluting one american flag.  and, by the way, ...   \n",
       "116  american steel will send new skyscrapers into the clouds. and we will take care of our steelworkers. and we will take care of our miners. we'll going to take care of our miners and our steelworkers.  american hands will rebuild this nation. and american energy mined from american sources will power this nation again.  american workers, many of you in this room, will be hired to do the job. and these will be great jobs. we will put new american steel into the spine of our country. i will fight for every neglected part of this nation, and i will fight to bring us all together as americans. i...   \n",
       "\n",
       "     label  \n",
       "0      0.0  \n",
       "1      1.0  \n",
       "2      0.0  \n",
       "3      1.0  \n",
       "4      1.0  \n",
       "..     ...  \n",
       "112    1.0  \n",
       "113    1.0  \n",
       "114    1.0  \n",
       "115    1.0  \n",
       "116    1.0  \n",
       "\n",
       "[117 rows x 2 columns]"
      ]
     },
     "execution_count": 14,
     "metadata": {},
     "output_type": "execute_result"
    }
   ],
   "source": [
    "df"
   ]
  },
  {
   "cell_type": "code",
   "execution_count": 15,
   "id": "5f89d9f5",
   "metadata": {
    "execution": {
     "iopub.execute_input": "2024-03-01T04:50:07.577272Z",
     "iopub.status.busy": "2024-03-01T04:50:07.577007Z",
     "iopub.status.idle": "2024-03-01T04:50:07.582522Z",
     "shell.execute_reply": "2024-03-01T04:50:07.581744Z"
    },
    "papermill": {
     "duration": 0.019581,
     "end_time": "2024-03-01T04:50:07.584414",
     "exception": false,
     "start_time": "2024-03-01T04:50:07.564833",
     "status": "completed"
    },
    "tags": []
   },
   "outputs": [
    {
     "data": {
      "text/plain": [
       "\"they have, as matt olsen pointed out, said they hoped that allah delivers america to the candidate. they have said that they hope that he is the president because it would give even more motivation to every jihadi, someone who has insulted muslims; has insulted a gold star family of an incredibly heroic captain khan; someone who has said he doesn't want to let muslims around the world even come to our country. that is a gift for isis, and that is what matt olsen, who knows more about this than the republicans trying to somehow muddy the waters, very clearly stated. that's what i mean. and look, i'm not asking for any special treatment. i, i know the road that i'm on. i've been on it for 25 years, and i just get up every day and keep moving forward. i love this country. i will serve it with my entire heart, mind and soul. i will do everything i can to protect america. and i will do everything i can to make sure the candidate is not president, for many reasons, but this latest information coming from a distinguished counterterrorism expert should put every american's mind in motion to try to figure out what everyone can do to prevent the candidate from being the president.   thank you.\""
      ]
     },
     "execution_count": 15,
     "metadata": {},
     "output_type": "execute_result"
    }
   ],
   "source": [
    "df['text'][0]"
   ]
  },
  {
   "cell_type": "markdown",
   "id": "69c17ba7",
   "metadata": {
    "papermill": {
     "duration": 0.011409,
     "end_time": "2024-03-01T04:50:07.607803",
     "exception": false,
     "start_time": "2024-03-01T04:50:07.596394",
     "status": "completed"
    },
    "tags": []
   },
   "source": [
    "# Model Fine-Tuning"
   ]
  },
  {
   "cell_type": "code",
   "execution_count": 16,
   "id": "9364367d",
   "metadata": {
    "execution": {
     "iopub.execute_input": "2024-03-01T04:50:07.632922Z",
     "iopub.status.busy": "2024-03-01T04:50:07.632191Z",
     "iopub.status.idle": "2024-03-01T04:50:35.628821Z",
     "shell.execute_reply": "2024-03-01T04:50:35.627409Z"
    },
    "papermill": {
     "duration": 28.011554,
     "end_time": "2024-03-01T04:50:35.631425",
     "exception": false,
     "start_time": "2024-03-01T04:50:07.619871",
     "status": "completed"
    },
    "tags": []
   },
   "outputs": [],
   "source": [
    "from sklearn.model_selection import train_test_split\n",
    "\n",
    "from torch.utils.data import DataLoader\n",
    "import warnings,transformers,logging,torch\n",
    "from transformers import TrainingArguments,Trainer\n",
    "from transformers import AutoModelForSequenceClassification,AutoTokenizer\n",
    "\n",
    "!pip install -q datasets\n",
    "from datasets import Dataset\n"
   ]
  },
  {
   "cell_type": "code",
   "execution_count": 17,
   "id": "24e5b4c7",
   "metadata": {
    "execution": {
     "iopub.execute_input": "2024-03-01T04:50:35.657974Z",
     "iopub.status.busy": "2024-03-01T04:50:35.656866Z",
     "iopub.status.idle": "2024-03-01T04:50:35.663233Z",
     "shell.execute_reply": "2024-03-01T04:50:35.662456Z"
    },
    "papermill": {
     "duration": 0.021157,
     "end_time": "2024-03-01T04:50:35.665086",
     "exception": false,
     "start_time": "2024-03-01T04:50:35.643929",
     "status": "completed"
    },
    "tags": []
   },
   "outputs": [],
   "source": [
    "# disable/filter unnecesary warnings/logs\n",
    "warnings.simplefilter('ignore')\n",
    "logging.disable(logging.WARNING)"
   ]
  },
  {
   "cell_type": "code",
   "execution_count": 18,
   "id": "f3839631",
   "metadata": {
    "execution": {
     "iopub.execute_input": "2024-03-01T04:50:35.689429Z",
     "iopub.status.busy": "2024-03-01T04:50:35.689249Z",
     "iopub.status.idle": "2024-03-01T04:50:35.696028Z",
     "shell.execute_reply": "2024-03-01T04:50:35.695327Z"
    },
    "papermill": {
     "duration": 0.021267,
     "end_time": "2024-03-01T04:50:35.697921",
     "exception": false,
     "start_time": "2024-03-01T04:50:35.676654",
     "status": "completed"
    },
    "tags": []
   },
   "outputs": [],
   "source": [
    "# create an evaluation dataset, which will NOT be used in model training\n",
    "df, eval_df = train_test_split(df, test_size=0.2)\n",
    "df = df.reset_index(drop=True)\n",
    "eval_df = eval_df.reset_index(drop=True)"
   ]
  },
  {
   "cell_type": "code",
   "execution_count": 19,
   "id": "19bae5e8",
   "metadata": {
    "execution": {
     "iopub.execute_input": "2024-03-01T04:50:35.722100Z",
     "iopub.status.busy": "2024-03-01T04:50:35.721926Z",
     "iopub.status.idle": "2024-03-01T04:50:39.969194Z",
     "shell.execute_reply": "2024-03-01T04:50:39.968463Z"
    },
    "papermill": {
     "duration": 4.261925,
     "end_time": "2024-03-01T04:50:39.971520",
     "exception": false,
     "start_time": "2024-03-01T04:50:35.709595",
     "status": "completed"
    },
    "tags": []
   },
   "outputs": [
    {
     "data": {
      "application/vnd.jupyter.widget-view+json": {
       "model_id": "2a7133c619284aee8f64ebfb7e8cfdd8",
       "version_major": 2,
       "version_minor": 0
      },
      "text/plain": [
       "tokenizer_config.json:   0%|          | 0.00/52.0 [00:00<?, ?B/s]"
      ]
     },
     "metadata": {},
     "output_type": "display_data"
    },
    {
     "data": {
      "application/vnd.jupyter.widget-view+json": {
       "model_id": "174679c23eb146d79cc0396aaa0f6b5b",
       "version_major": 2,
       "version_minor": 0
      },
      "text/plain": [
       "config.json:   0%|          | 0.00/578 [00:00<?, ?B/s]"
      ]
     },
     "metadata": {},
     "output_type": "display_data"
    },
    {
     "data": {
      "application/vnd.jupyter.widget-view+json": {
       "model_id": "b94eb2eb787b40b59243cc2ce33a4078",
       "version_major": 2,
       "version_minor": 0
      },
      "text/plain": [
       "spm.model:   0%|          | 0.00/2.46M [00:00<?, ?B/s]"
      ]
     },
     "metadata": {},
     "output_type": "display_data"
    }
   ],
   "source": [
    "# Set up tokenization model and tokenisation function\n",
    "model_nm = 'microsoft/deberta-v3-small'\n",
    "tokz = AutoTokenizer.from_pretrained(model_nm)\n",
    "\n",
    "def tok_func(x): return tokz(x[\"text\"])"
   ]
  },
  {
   "cell_type": "code",
   "execution_count": 20,
   "id": "fdc0ef7b",
   "metadata": {
    "execution": {
     "iopub.execute_input": "2024-03-01T04:50:39.997830Z",
     "iopub.status.busy": "2024-03-01T04:50:39.997596Z",
     "iopub.status.idle": "2024-03-01T04:50:40.117421Z",
     "shell.execute_reply": "2024-03-01T04:50:40.116641Z"
    },
    "papermill": {
     "duration": 0.135249,
     "end_time": "2024-03-01T04:50:40.119456",
     "exception": false,
     "start_time": "2024-03-01T04:50:39.984207",
     "status": "completed"
    },
    "tags": []
   },
   "outputs": [
    {
     "data": {
      "application/vnd.jupyter.widget-view+json": {
       "model_id": "04b518c95e804d5aac8e0ddc5abd9a71",
       "version_major": 2,
       "version_minor": 0
      },
      "text/plain": [
       "  0%|          | 0/1 [00:00<?, ?ba/s]"
      ]
     },
     "metadata": {},
     "output_type": "display_data"
    }
   ],
   "source": [
    "# Convert dataframe to Dataset, tokenize, and remove non-tokenised text\n",
    "ds = Dataset.from_pandas(df)\n",
    "tok_ds = ds.map(tok_func, batched=True)\n",
    "tok_ds = tok_ds.remove_columns(['text'])"
   ]
  },
  {
   "cell_type": "code",
   "execution_count": 21,
   "id": "67efb571",
   "metadata": {
    "execution": {
     "iopub.execute_input": "2024-03-01T04:50:40.146191Z",
     "iopub.status.busy": "2024-03-01T04:50:40.145989Z",
     "iopub.status.idle": "2024-03-01T04:50:40.151126Z",
     "shell.execute_reply": "2024-03-01T04:50:40.150339Z"
    },
    "papermill": {
     "duration": 0.020763,
     "end_time": "2024-03-01T04:50:40.153036",
     "exception": false,
     "start_time": "2024-03-01T04:50:40.132273",
     "status": "completed"
    },
    "tags": []
   },
   "outputs": [
    {
     "data": {
      "text/plain": [
       "Dataset({\n",
       "    features: ['label', 'input_ids', 'token_type_ids', 'attention_mask'],\n",
       "    num_rows: 93\n",
       "})"
      ]
     },
     "execution_count": 21,
     "metadata": {},
     "output_type": "execute_result"
    }
   ],
   "source": [
    "# Check result\n",
    "tok_ds"
   ]
  },
  {
   "cell_type": "code",
   "execution_count": 22,
   "id": "1f0515ac",
   "metadata": {
    "execution": {
     "iopub.execute_input": "2024-03-01T04:50:40.178931Z",
     "iopub.status.busy": "2024-03-01T04:50:40.178734Z",
     "iopub.status.idle": "2024-03-01T04:50:40.190033Z",
     "shell.execute_reply": "2024-03-01T04:50:40.189218Z"
    },
    "papermill": {
     "duration": 0.026298,
     "end_time": "2024-03-01T04:50:40.191853",
     "exception": false,
     "start_time": "2024-03-01T04:50:40.165555",
     "status": "completed"
    },
    "tags": []
   },
   "outputs": [
    {
     "data": {
      "text/plain": [
       "DatasetDict({\n",
       "    train: Dataset({\n",
       "        features: ['label', 'input_ids', 'token_type_ids', 'attention_mask'],\n",
       "        num_rows: 69\n",
       "    })\n",
       "    test: Dataset({\n",
       "        features: ['label', 'input_ids', 'token_type_ids', 'attention_mask'],\n",
       "        num_rows: 24\n",
       "    })\n",
       "})"
      ]
     },
     "execution_count": 22,
     "metadata": {},
     "output_type": "execute_result"
    }
   ],
   "source": [
    "# Create train/test split for model fine-tuning\n",
    "dds = tok_ds.train_test_split(0.25, seed=42)\n",
    "dds"
   ]
  },
  {
   "cell_type": "markdown",
   "id": "a257e4d7",
   "metadata": {
    "papermill": {
     "duration": 0.012386,
     "end_time": "2024-03-01T04:50:40.216955",
     "exception": false,
     "start_time": "2024-03-01T04:50:40.204569",
     "status": "completed"
    },
    "tags": []
   },
   "source": [
    "### IMPORTANT NOTE\n",
    "When I started this problem, I planned to self-label the speeches and change the labels from binary to multi-class, with varying scores to represent the likely hood of the speech belonging to each candidate. \n",
    "<br/>\n",
    "Due to this, I started with a correlation coefficient for the evaluation metric.\n",
    "<br/>\n",
    "I started labelling the data and realised that this approach wouldn't work, as my self-labelling was really poor.\n",
    "<br/>\n",
    "I switched to an accuracy metric instead, but found that as my dataset is very imbalaced, the model always predicted the dominant class.\n",
    "<br/>\n",
    "I changed back to the correlation metric, and found that the model performed much better.\n",
    "<br/>\n",
    "However, the model now no longer produces binary probabilities.\n",
    "<br/>\n",
    "One option would be to perform a logistic regression on the results, to determine a cut-off point which can be used to convert the output to binary results.\n",
    "<br/>\n",
    "This wasn't necessary though, as I was able to plot the predictions of the test set, and choose a cut-off point manually to apply to my evaluation dataset."
   ]
  },
  {
   "cell_type": "code",
   "execution_count": 23,
   "id": "5c03b508",
   "metadata": {
    "execution": {
     "iopub.execute_input": "2024-03-01T04:50:40.243867Z",
     "iopub.status.busy": "2024-03-01T04:50:40.243633Z",
     "iopub.status.idle": "2024-03-01T04:50:40.248186Z",
     "shell.execute_reply": "2024-03-01T04:50:40.247262Z"
    },
    "papermill": {
     "duration": 0.020416,
     "end_time": "2024-03-01T04:50:40.250342",
     "exception": false,
     "start_time": "2024-03-01T04:50:40.229926",
     "status": "completed"
    },
    "tags": []
   },
   "outputs": [],
   "source": [
    "# Define evaluation function to calculate pearson correlation coefficient\n",
    "def corr(eval_pred): \n",
    "    print('in eval')\n",
    "    print(eval_pred)\n",
    "    return {'pearson': np.corrcoef(*eval_pred)[0][1]}"
   ]
  },
  {
   "cell_type": "code",
   "execution_count": 24,
   "id": "f9be2698",
   "metadata": {
    "execution": {
     "iopub.execute_input": "2024-03-01T04:50:40.276781Z",
     "iopub.status.busy": "2024-03-01T04:50:40.276585Z",
     "iopub.status.idle": "2024-03-01T04:50:40.280356Z",
     "shell.execute_reply": "2024-03-01T04:50:40.279600Z"
    },
    "papermill": {
     "duration": 0.019363,
     "end_time": "2024-03-01T04:50:40.282379",
     "exception": false,
     "start_time": "2024-03-01T04:50:40.263016",
     "status": "completed"
    },
    "tags": []
   },
   "outputs": [],
   "source": [
    "lr,bs = 8e-5,128\n",
    "wd,epochs = 0.01,4"
   ]
  },
  {
   "cell_type": "code",
   "execution_count": 25,
   "id": "05b22dbb",
   "metadata": {
    "execution": {
     "iopub.execute_input": "2024-03-01T04:50:40.308918Z",
     "iopub.status.busy": "2024-03-01T04:50:40.308367Z",
     "iopub.status.idle": "2024-03-01T04:50:40.363326Z",
     "shell.execute_reply": "2024-03-01T04:50:40.362688Z"
    },
    "papermill": {
     "duration": 0.070227,
     "end_time": "2024-03-01T04:50:40.365321",
     "exception": false,
     "start_time": "2024-03-01T04:50:40.295094",
     "status": "completed"
    },
    "tags": []
   },
   "outputs": [],
   "source": [
    "args = TrainingArguments('outputs', learning_rate=lr, warmup_ratio=0.1, lr_scheduler_type='cosine', fp16=True,\n",
    "    evaluation_strategy=\"epoch\", per_device_train_batch_size=bs, per_device_eval_batch_size=bs*2,\n",
    "    num_train_epochs=epochs, weight_decay=wd, report_to='none')"
   ]
  },
  {
   "cell_type": "code",
   "execution_count": 26,
   "id": "b502d8c7",
   "metadata": {
    "execution": {
     "iopub.execute_input": "2024-03-01T04:50:40.391362Z",
     "iopub.status.busy": "2024-03-01T04:50:40.391167Z",
     "iopub.status.idle": "2024-03-01T04:50:48.972106Z",
     "shell.execute_reply": "2024-03-01T04:50:48.971359Z"
    },
    "papermill": {
     "duration": 8.596426,
     "end_time": "2024-03-01T04:50:48.974298",
     "exception": false,
     "start_time": "2024-03-01T04:50:40.377872",
     "status": "completed"
    },
    "tags": []
   },
   "outputs": [
    {
     "data": {
      "application/vnd.jupyter.widget-view+json": {
       "model_id": "8c324f7cac9649e8bb1f0bea59cc2232",
       "version_major": 2,
       "version_minor": 0
      },
      "text/plain": [
       "pytorch_model.bin:   0%|          | 0.00/286M [00:00<?, ?B/s]"
      ]
     },
     "metadata": {},
     "output_type": "display_data"
    }
   ],
   "source": [
    "model = AutoModelForSequenceClassification.from_pretrained(model_nm, num_labels=1)#2, id2label=id2label, label2id=label2id)\n",
    "trainer = Trainer(model, args, train_dataset=dds['train'], eval_dataset=dds['test'],\n",
    "               tokenizer=tokz, compute_metrics=corr)"
   ]
  },
  {
   "cell_type": "code",
   "execution_count": 27,
   "id": "156bb2fa",
   "metadata": {
    "execution": {
     "iopub.execute_input": "2024-03-01T04:50:49.001667Z",
     "iopub.status.busy": "2024-03-01T04:50:49.001409Z",
     "iopub.status.idle": "2024-03-01T04:50:56.940108Z",
     "shell.execute_reply": "2024-03-01T04:50:56.939138Z"
    },
    "papermill": {
     "duration": 7.954708,
     "end_time": "2024-03-01T04:50:56.942408",
     "exception": false,
     "start_time": "2024-03-01T04:50:48.987700",
     "status": "completed"
    },
    "tags": []
   },
   "outputs": [
    {
     "data": {
      "text/html": [
       "\n",
       "    <div>\n",
       "      \n",
       "      <progress value='4' max='4' style='width:300px; height:20px; vertical-align: middle;'></progress>\n",
       "      [4/4 00:05, Epoch 4/4]\n",
       "    </div>\n",
       "    <table border=\"1\" class=\"dataframe\">\n",
       "  <thead>\n",
       " <tr style=\"text-align: left;\">\n",
       "      <th>Epoch</th>\n",
       "      <th>Training Loss</th>\n",
       "      <th>Validation Loss</th>\n",
       "      <th>Pearson</th>\n",
       "    </tr>\n",
       "  </thead>\n",
       "  <tbody>\n",
       "    <tr>\n",
       "      <td>1</td>\n",
       "      <td>No log</td>\n",
       "      <td>0.496254</td>\n",
       "      <td>-0.439031</td>\n",
       "    </tr>\n",
       "    <tr>\n",
       "      <td>2</td>\n",
       "      <td>No log</td>\n",
       "      <td>0.496254</td>\n",
       "      <td>-0.439031</td>\n",
       "    </tr>\n",
       "    <tr>\n",
       "      <td>3</td>\n",
       "      <td>No log</td>\n",
       "      <td>0.333597</td>\n",
       "      <td>0.683235</td>\n",
       "    </tr>\n",
       "    <tr>\n",
       "      <td>4</td>\n",
       "      <td>No log</td>\n",
       "      <td>0.242922</td>\n",
       "      <td>0.800376</td>\n",
       "    </tr>\n",
       "  </tbody>\n",
       "</table><p>"
      ],
      "text/plain": [
       "<IPython.core.display.HTML object>"
      ]
     },
     "metadata": {},
     "output_type": "display_data"
    },
    {
     "name": "stdout",
     "output_type": "stream",
     "text": [
      "in eval\n",
      "<transformers.trainer_utils.EvalPrediction object at 0x7d50a0ea6860>\n",
      "in eval\n",
      "<transformers.trainer_utils.EvalPrediction object at 0x7d4f5744da20>\n",
      "in eval\n",
      "<transformers.trainer_utils.EvalPrediction object at 0x7d509ff8b1c0>\n",
      "in eval\n",
      "<transformers.trainer_utils.EvalPrediction object at 0x7d509ff8b880>\n"
     ]
    }
   ],
   "source": [
    "trainer.train();"
   ]
  },
  {
   "cell_type": "markdown",
   "id": "4141630b",
   "metadata": {
    "papermill": {
     "duration": 0.013849,
     "end_time": "2024-03-01T04:50:56.973767",
     "exception": false,
     "start_time": "2024-03-01T04:50:56.959918",
     "status": "completed"
    },
    "tags": []
   },
   "source": [
    "## Evaluation\n",
    "\n",
    "We'll plot the predictions of the test set and choose a cut-off point:"
   ]
  },
  {
   "cell_type": "code",
   "execution_count": 28,
   "id": "366896df",
   "metadata": {
    "execution": {
     "iopub.execute_input": "2024-03-01T04:50:57.002512Z",
     "iopub.status.busy": "2024-03-01T04:50:57.002247Z",
     "iopub.status.idle": "2024-03-01T04:50:57.188417Z",
     "shell.execute_reply": "2024-03-01T04:50:57.187647Z"
    },
    "papermill": {
     "duration": 0.202924,
     "end_time": "2024-03-01T04:50:57.190390",
     "exception": false,
     "start_time": "2024-03-01T04:50:56.987466",
     "status": "completed"
    },
    "tags": []
   },
   "outputs": [
    {
     "data": {
      "text/html": [],
      "text/plain": [
       "<IPython.core.display.HTML object>"
      ]
     },
     "metadata": {},
     "output_type": "display_data"
    },
    {
     "name": "stdout",
     "output_type": "stream",
     "text": [
      "in eval\n",
      "<transformers.trainer_utils.EvalPrediction object at 0x7d4f658e3e20>\n"
     ]
    },
    {
     "data": {
      "text/plain": [
       "array([0.49804688, 0.4909668 , 0.50927734, 0.50244141, 0.50830078,\n",
       "       0.50683594, 0.51269531, 0.48974609, 0.49804688, 0.50244141,\n",
       "       0.50195312, 0.49291992, 0.50830078, 0.50878906, 0.51074219,\n",
       "       0.50927734, 0.50634766, 0.51123047, 0.51318359, 0.50439453,\n",
       "       0.4831543 , 0.51074219, 0.49707031, 0.50537109])"
      ]
     },
     "execution_count": 28,
     "metadata": {},
     "output_type": "execute_result"
    }
   ],
   "source": [
    "test_preds = trainer.predict(dds['test']).predictions.astype(float)\n",
    "test_preds"
   ]
  },
  {
   "cell_type": "code",
   "execution_count": 29,
   "id": "3e4e8288",
   "metadata": {
    "execution": {
     "iopub.execute_input": "2024-03-01T04:50:57.219256Z",
     "iopub.status.busy": "2024-03-01T04:50:57.219043Z",
     "iopub.status.idle": "2024-03-01T04:50:57.509187Z",
     "shell.execute_reply": "2024-03-01T04:50:57.508380Z"
    },
    "papermill": {
     "duration": 0.306814,
     "end_time": "2024-03-01T04:50:57.511119",
     "exception": false,
     "start_time": "2024-03-01T04:50:57.204305",
     "status": "completed"
    },
    "tags": []
   },
   "outputs": [
    {
     "data": {
      "text/plain": [
       "<matplotlib.lines.Line2D at 0x7d4f64d28790>"
      ]
     },
     "execution_count": 29,
     "metadata": {},
     "output_type": "execute_result"
    },
    {
     "data": {
      "image/png": "[encoded data removed]",
      "text/plain": [
       "<Figure size 640x480 with 1 Axes>"
      ]
     },
     "metadata": {},
     "output_type": "display_data"
    }
   ],
   "source": [
    "plt.scatter(test_preds,dds['test']['label'])\n",
    "plt.axvline(x=0.73, color='pink')"
   ]
  },
  {
   "cell_type": "markdown",
   "id": "fb9457e8",
   "metadata": {
    "papermill": {
     "duration": 0.013609,
     "end_time": "2024-03-01T04:50:57.538885",
     "exception": false,
     "start_time": "2024-03-01T04:50:57.525276",
     "status": "completed"
    },
    "tags": []
   },
   "source": [
    "Let's use the cutoff point of 0.73 and see how this performs for our evaluation datset."
   ]
  },
  {
   "cell_type": "code",
   "execution_count": 30,
   "id": "6011c7f4",
   "metadata": {
    "execution": {
     "iopub.execute_input": "2024-03-01T04:50:57.567895Z",
     "iopub.status.busy": "2024-03-01T04:50:57.567706Z",
     "iopub.status.idle": "2024-03-01T04:50:57.608597Z",
     "shell.execute_reply": "2024-03-01T04:50:57.607786Z"
    },
    "papermill": {
     "duration": 0.057856,
     "end_time": "2024-03-01T04:50:57.610601",
     "exception": false,
     "start_time": "2024-03-01T04:50:57.552745",
     "status": "completed"
    },
    "tags": []
   },
   "outputs": [
    {
     "data": {
      "application/vnd.jupyter.widget-view+json": {
       "model_id": "30232695d1f4486ab4a0ea85a65db22c",
       "version_major": 2,
       "version_minor": 0
      },
      "text/plain": [
       "  0%|          | 0/1 [00:00<?, ?ba/s]"
      ]
     },
     "metadata": {},
     "output_type": "display_data"
    }
   ],
   "source": [
    "eval_ds = Dataset.from_pandas(eval_df).map(tok_func, batched=True)\n",
    "eval_labels = eval_ds['label']\n",
    "eval_ds = eval_ds.remove_columns('label')"
   ]
  },
  {
   "cell_type": "code",
   "execution_count": 31,
   "id": "74e72367",
   "metadata": {
    "execution": {
     "iopub.execute_input": "2024-03-01T04:50:57.641658Z",
     "iopub.status.busy": "2024-03-01T04:50:57.641399Z",
     "iopub.status.idle": "2024-03-01T04:50:57.836422Z",
     "shell.execute_reply": "2024-03-01T04:50:57.835586Z"
    },
    "papermill": {
     "duration": 0.21258,
     "end_time": "2024-03-01T04:50:57.838631",
     "exception": false,
     "start_time": "2024-03-01T04:50:57.626051",
     "status": "completed"
    },
    "tags": []
   },
   "outputs": [
    {
     "data": {
      "text/html": [],
      "text/plain": [
       "<IPython.core.display.HTML object>"
      ]
     },
     "metadata": {},
     "output_type": "display_data"
    },
    {
     "data": {
      "text/plain": [
       "array([[0.50927734],\n",
       "       [0.51367188],\n",
       "       [0.50830078],\n",
       "       [0.47485352],\n",
       "       [0.51220703],\n",
       "       [0.5078125 ],\n",
       "       [0.49926758],\n",
       "       [0.51123047],\n",
       "       [0.49682617],\n",
       "       [0.50048828],\n",
       "       [0.50927734],\n",
       "       [0.50976562],\n",
       "       [0.50097656],\n",
       "       [0.49975586],\n",
       "       [0.49902344],\n",
       "       [0.5       ],\n",
       "       [0.50292969],\n",
       "       [0.48901367],\n",
       "       [0.48901367],\n",
       "       [0.50244141],\n",
       "       [0.49975586],\n",
       "       [0.4909668 ],\n",
       "       [0.49365234],\n",
       "       [0.51074219]])"
      ]
     },
     "execution_count": 31,
     "metadata": {},
     "output_type": "execute_result"
    }
   ],
   "source": [
    "preds = trainer.predict(eval_ds).predictions.astype(float)\n",
    "preds"
   ]
  },
  {
   "cell_type": "code",
   "execution_count": 32,
   "id": "62a3cd28",
   "metadata": {
    "execution": {
     "iopub.execute_input": "2024-03-01T04:50:57.870561Z",
     "iopub.status.busy": "2024-03-01T04:50:57.870328Z",
     "iopub.status.idle": "2024-03-01T04:50:58.129348Z",
     "shell.execute_reply": "2024-03-01T04:50:58.128522Z"
    },
    "papermill": {
     "duration": 0.276773,
     "end_time": "2024-03-01T04:50:58.131518",
     "exception": false,
     "start_time": "2024-03-01T04:50:57.854745",
     "status": "completed"
    },
    "tags": []
   },
   "outputs": [
    {
     "data": {
      "text/plain": [
       "<matplotlib.lines.Line2D at 0x7d4f64f353c0>"
      ]
     },
     "execution_count": 32,
     "metadata": {},
     "output_type": "execute_result"
    },
    {
     "data": {
      "image/png": "[encoded data removed]",
      "text/plain": [
       "<Figure size 640x480 with 1 Axes>"
      ]
     },
     "metadata": {},
     "output_type": "display_data"
    }
   ],
   "source": [
    "plt.scatter(preds,eval_labels)\n",
    "plt.axvline(x=0.73, color='pink')"
   ]
  },
  {
   "cell_type": "markdown",
   "id": "931b8d46",
   "metadata": {
    "papermill": {
     "duration": 0.015119,
     "end_time": "2024-03-01T04:50:58.162317",
     "exception": false,
     "start_time": "2024-03-01T04:50:58.147198",
     "status": "completed"
    },
    "tags": []
   },
   "source": [
    "## Result\n",
    "The cutoff point performs just as well for the evaluation dataset.\n",
    "<br/>\n",
    "We could use this cutoff point to covert the output values to binary values.\n",
    "<br/>\n",
    "The model has perfect performance in this case."
   ]
  }
 ],
 "metadata": {
  "kaggle": {
   "accelerator": "gpu",
   "dataSources": [
    {
     "datasetId": 2343436,
     "sourceId": 3947981,
     "sourceType": "datasetVersion"
    }
   ],
   "dockerImageVersionId": 30636,
   "isGpuEnabled": true,
   "isInternetEnabled": true,
   "language": "python",
   "sourceType": "notebook"
  },
  "kernelspec": {
   "display_name": "Python 3",
   "language": "python",
   "name": "python3"
  },
  "language_info": {
   "codemirror_mode": {
    "name": "ipython",
    "version": 3
   },
   "file_extension": ".py",
   "mimetype": "text/x-python",
   "name": "python",
   "nbconvert_exporter": "python",
   "pygments_lexer": "ipython3",
   "version": "3.10.12"
  },
  "papermill": {
   "default_parameters": {},
   "duration": 58.560717,
   "end_time": "2024-03-01T04:51:00.938755",
   "environment_variables": {},
   "exception": null,
   "input_path": "__notebook__.ipynb",
   "output_path": "__notebook__.ipynb",
   "parameters": {},
   "start_time": "2024-03-01T04:50:02.378038",
   "version": "2.4.0"
  },
  "widgets": {
   "application/vnd.jupyter.widget-state+json": {
    "state": {
     "0456dfc2e32f4e258b4e4bab38d44177": {
      "model_module": "@jupyter-widgets/controls",
      "model_module_version": "1.5.0",
      "model_name": "HTMLModel",
      "state": {
       "_dom_classes": [],
       "_model_module": "@jupyter-widgets/controls",
       "_model_module_version": "1.5.0",
       "_model_name": "HTMLModel",
       "_view_count": null,
       "_view_module": "@jupyter-widgets/controls",
       "_view_module_version": "1.5.0",
       "_view_name": "HTMLView",
       "description": "",
       "description_tooltip": null,
       "layout": "IPY_MODEL_5d94f351d9ff474b8c50fbb9d2a6ca45",
       "placeholder": "​",
       "style": "IPY_MODEL_d89eadfa38cf49e1af4d84a2a551747b",
       "value": "100%"
      }
     },
     "04b518c95e804d5aac8e0ddc5abd9a71": {
      "model_module": "@jupyter-widgets/controls",
      "model_module_version": "1.5.0",
      "model_name": "HBoxModel",
      "state": {
       "_dom_classes": [],
       "_model_module": "@jupyter-widgets/controls",
       "_model_module_version": "1.5.0",
       "_model_name": "HBoxModel",
       "_view_count": null,
       "_view_module": "@jupyter-widgets/controls",
       "_view_module_version": "1.5.0",
       "_view_name": "HBoxView",
       "box_style": "",
       "children": [
        "IPY_MODEL_c4ec15d8d97b4b9694228909ba8b6430",
        "IPY_MODEL_8407030be2ac495ebc7584ee511cdd0f",
        "IPY_MODEL_6566c66414504c7cbe2632707dda6986"
       ],
       "layout": "IPY_MODEL_f389b989ee824d64944df563302742c0"
      }
     },
     "0689a3fc0a414c08acc32715a88ba9df": {
      "model_module": "@jupyter-widgets/controls",
      "model_module_version": "1.5.0",
      "model_name": "HTMLModel",
      "state": {
       "_dom_classes": [],
       "_model_module": "@jupyter-widgets/controls",
       "_model_module_version": "1.5.0",
       "_model_name": "HTMLModel",
       "_view_count": null,
       "_view_module": "@jupyter-widgets/controls",
       "_view_module_version": "1.5.0",
       "_view_name": "HTMLView",
       "description": "",
       "description_tooltip": null,
       "layout": "IPY_MODEL_4c877521560f4a45bc5193a3702d5e8f",
       "placeholder": "​",
       "style": "IPY_MODEL_80dd111fe001485f9d740b1161bff226",
       "value": "spm.model: 100%"
      }
     },
     "06abb7ee9f5440409177e4f3235209e5": {
      "model_module": "@jupyter-widgets/base",
      "model_module_version": "1.2.0",
      "model_name": "LayoutModel",
      "state": {
       "_model_module": "@jupyter-widgets/base",
       "_model_module_version": "1.2.0",
       "_model_name": "LayoutModel",
       "_view_count": null,
       "_view_module": "@jupyter-widgets/base",
       "_view_module_version": "1.2.0",
       "_view_name": "LayoutView",
       "align_content": null,
       "align_items": null,
       "align_self": null,
       "border": null,
       "bottom": null,
       "display": null,
       "flex": null,
       "flex_flow": null,
       "grid_area": null,
       "grid_auto_columns": null,
       "grid_auto_flow": null,
       "grid_auto_rows": null,
       "grid_column": null,
       "grid_gap": null,
       "grid_row": null,
       "grid_template_areas": null,
       "grid_template_columns": null,
       "grid_template_rows": null,
       "height": null,
       "justify_content": null,
       "justify_items": null,
       "left": null,
       "margin": null,
       "max_height": null,
       "max_width": null,
       "min_height": null,
       "min_width": null,
       "object_fit": null,
       "object_position": null,
       "order": null,
       "overflow": null,
       "overflow_x": null,
       "overflow_y": null,
       "padding": null,
       "right": null,
       "top": null,
       "visibility": null,
       "width": null
      }
     },
     "0b3c6ef4b2dc43cda9db970c3db454cc": {
      "model_module": "@jupyter-widgets/base",
      "model_module_version": "1.2.0",
      "model_name": "LayoutModel",
      "state": {
       "_model_module": "@jupyter-widgets/base",
       "_model_module_version": "1.2.0",
       "_model_name": "LayoutModel",
       "_view_count": null,
       "_view_module": "@jupyter-widgets/base",
       "_view_module_version": "1.2.0",
       "_view_name": "LayoutView",
       "align_content": null,
       "align_items": null,
       "align_self": null,
       "border": null,
       "bottom": null,
       "display": null,
       "flex": null,
       "flex_flow": null,
       "grid_area": null,
       "grid_auto_columns": null,
       "grid_auto_flow": null,
       "grid_auto_rows": null,
       "grid_column": null,
       "grid_gap": null,
       "grid_row": null,
       "grid_template_areas": null,
       "grid_template_columns": null,
       "grid_template_rows": null,
       "height": null,
       "justify_content": null,
       "justify_items": null,
       "left": null,
       "margin": null,
       "max_height": null,
       "max_width": null,
       "min_height": null,
       "min_width": null,
       "object_fit": null,
       "object_position": null,
       "order": null,
       "overflow": null,
       "overflow_x": null,
       "overflow_y": null,
       "padding": null,
       "right": null,
       "top": null,
       "visibility": null,
       "width": null
      }
     },
     "0b9be002cf2a4b4a981519bcec7bcae6": {
      "model_module": "@jupyter-widgets/controls",
      "model_module_version": "1.5.0",
      "model_name": "HTMLModel",
      "state": {
       "_dom_classes": [],
       "_model_module": "@jupyter-widgets/controls",
       "_model_module_version": "1.5.0",
       "_model_name": "HTMLModel",
       "_view_count": null,
       "_view_module": "@jupyter-widgets/controls",
       "_view_module_version": "1.5.0",
       "_view_name": "HTMLView",
       "description": "",
       "description_tooltip": null,
       "layout": "IPY_MODEL_27d0bd9fc6b746b4be04ba13dacc71f3",
       "placeholder": "​",
       "style": "IPY_MODEL_4553ba00f7264a61bb418353febaf0c5",
       "value": " 286M/286M [00:06&lt;00:00, 43.1MB/s]"
      }
     },
     "0bc6e827742a4636b6cf3ce5d16e154f": {
      "model_module": "@jupyter-widgets/controls",
      "model_module_version": "1.5.0",
      "model_name": "ProgressStyleModel",
      "state": {
       "_model_module": "@jupyter-widgets/controls",
       "_model_module_version": "1.5.0",
       "_model_name": "ProgressStyleModel",
       "_view_count": null,
       "_view_module": "@jupyter-widgets/base",
       "_view_module_version": "1.2.0",
       "_view_name": "StyleView",
       "bar_color": null,
       "description_width": ""
      }
     },
     "0e1e98177fb4459b94b49ac569fdc5fc": {
      "model_module": "@jupyter-widgets/controls",
      "model_module_version": "1.5.0",
      "model_name": "HTMLModel",
      "state": {
       "_dom_classes": [],
       "_model_module": "@jupyter-widgets/controls",
       "_model_module_version": "1.5.0",
       "_model_name": "HTMLModel",
       "_view_count": null,
       "_view_module": "@jupyter-widgets/controls",
       "_view_module_version": "1.5.0",
       "_view_name": "HTMLView",
       "description": "",
       "description_tooltip": null,
       "layout": "IPY_MODEL_06abb7ee9f5440409177e4f3235209e5",
       "placeholder": "​",
       "style": "IPY_MODEL_be34662e61514fe6bd08d11dd54194eb",
       "value": " 578/578 [00:00&lt;00:00, 52.0kB/s]"
      }
     },
     "12e7ecc9a97d40578be630dabbac9c59": {
      "model_module": "@jupyter-widgets/controls",
      "model_module_version": "1.5.0",
      "model_name": "DescriptionStyleModel",
      "state": {
       "_model_module": "@jupyter-widgets/controls",
       "_model_module_version": "1.5.0",
       "_model_name": "DescriptionStyleModel",
       "_view_count": null,
       "_view_module": "@jupyter-widgets/base",
       "_view_module_version": "1.2.0",
       "_view_name": "StyleView",
       "description_width": ""
      }
     },
     "14e491c5301f460cbae019051803bab0": {
      "model_module": "@jupyter-widgets/controls",
      "model_module_version": "1.5.0",
      "model_name": "FloatProgressModel",
      "state": {
       "_dom_classes": [],
       "_model_module": "@jupyter-widgets/controls",
       "_model_module_version": "1.5.0",
       "_model_name": "FloatProgressModel",
       "_view_count": null,
       "_view_module": "@jupyter-widgets/controls",
       "_view_module_version": "1.5.0",
       "_view_name": "ProgressView",
       "bar_style": "success",
       "description": "",
       "description_tooltip": null,
       "layout": "IPY_MODEL_0b3c6ef4b2dc43cda9db970c3db454cc",
       "max": 2464616.0,
       "min": 0.0,
       "orientation": "horizontal",
       "style": "IPY_MODEL_0bc6e827742a4636b6cf3ce5d16e154f",
       "value": 2464616.0
      }
     },
     "174679c23eb146d79cc0396aaa0f6b5b": {
      "model_module": "@jupyter-widgets/controls",
      "model_module_version": "1.5.0",
      "model_name": "HBoxModel",
      "state": {
       "_dom_classes": [],
       "_model_module": "@jupyter-widgets/controls",
       "_model_module_version": "1.5.0",
       "_model_name": "HBoxModel",
       "_view_count": null,
       "_view_module": "@jupyter-widgets/controls",
       "_view_module_version": "1.5.0",
       "_view_name": "HBoxView",
       "box_style": "",
       "children": [
        "IPY_MODEL_d501446bf42349019971c82fc364c47e",
        "IPY_MODEL_4663fa165e87412a9dabff7cce9ecb81",
        "IPY_MODEL_0e1e98177fb4459b94b49ac569fdc5fc"
       ],
       "layout": "IPY_MODEL_dba057db8d124781aecd7702019fe93f"
      }
     },
     "176ac7bb6eff4b1e93bac80ead4c7c99": {
      "model_module": "@jupyter-widgets/controls",
      "model_module_version": "1.5.0",
      "model_name": "HTMLModel",
      "state": {
       "_dom_classes": [],
       "_model_module": "@jupyter-widgets/controls",
       "_model_module_version": "1.5.0",
       "_model_name": "HTMLModel",
       "_view_count": null,
       "_view_module": "@jupyter-widgets/controls",
       "_view_module_version": "1.5.0",
       "_view_name": "HTMLView",
       "description": "",
       "description_tooltip": null,
       "layout": "IPY_MODEL_e77f3af5fd60439c9ebab9b248245b7f",
       "placeholder": "​",
       "style": "IPY_MODEL_12e7ecc9a97d40578be630dabbac9c59",
       "value": " 1/1 [00:00&lt;00:00, 35.94ba/s]"
      }
     },
     "185e667edb2e4cd2a6d6bfffb9cb96d9": {
      "model_module": "@jupyter-widgets/base",
      "model_module_version": "1.2.0",
      "model_name": "LayoutModel",
      "state": {
       "_model_module": "@jupyter-widgets/base",
       "_model_module_version": "1.2.0",
       "_model_name": "LayoutModel",
       "_view_count": null,
       "_view_module": "@jupyter-widgets/base",
       "_view_module_version": "1.2.0",
       "_view_name": "LayoutView",
       "align_content": null,
       "align_items": null,
       "align_self": null,
       "border": null,
       "bottom": null,
       "display": null,
       "flex": null,
       "flex_flow": null,
       "grid_area": null,
       "grid_auto_columns": null,
       "grid_auto_flow": null,
       "grid_auto_rows": null,
       "grid_column": null,
       "grid_gap": null,
       "grid_row": null,
       "grid_template_areas": null,
       "grid_template_columns": null,
       "grid_template_rows": null,
       "height": null,
       "justify_content": null,
       "justify_items": null,
       "left": null,
       "margin": null,
       "max_height": null,
       "max_width": null,
       "min_height": null,
       "min_width": null,
       "object_fit": null,
       "object_position": null,
       "order": null,
       "overflow": null,
       "overflow_x": null,
       "overflow_y": null,
       "padding": null,
       "right": null,
       "top": null,
       "visibility": null,
       "width": null
      }
     },
     "27d0bd9fc6b746b4be04ba13dacc71f3": {
      "model_module": "@jupyter-widgets/base",
      "model_module_version": "1.2.0",
      "model_name": "LayoutModel",
      "state": {
       "_model_module": "@jupyter-widgets/base",
       "_model_module_version": "1.2.0",
       "_model_name": "LayoutModel",
       "_view_count": null,
       "_view_module": "@jupyter-widgets/base",
       "_view_module_version": "1.2.0",
       "_view_name": "LayoutView",
       "align_content": null,
       "align_items": null,
       "align_self": null,
       "border": null,
       "bottom": null,
       "display": null,
       "flex": null,
       "flex_flow": null,
       "grid_area": null,
       "grid_auto_columns": null,
       "grid_auto_flow": null,
       "grid_auto_rows": null,
       "grid_column": null,
       "grid_gap": null,
       "grid_row": null,
       "grid_template_areas": null,
       "grid_template_columns": null,
       "grid_template_rows": null,
       "height": null,
       "justify_content": null,
       "justify_items": null,
       "left": null,
       "margin": null,
       "max_height": null,
       "max_width": null,
       "min_height": null,
       "min_width": null,
       "object_fit": null,
       "object_position": null,
       "order": null,
       "overflow": null,
       "overflow_x": null,
       "overflow_y": null,
       "padding": null,
       "right": null,
       "top": null,
       "visibility": null,
       "width": null
      }
     },
     "2a7133c619284aee8f64ebfb7e8cfdd8": {
      "model_module": "@jupyter-widgets/controls",
      "model_module_version": "1.5.0",
      "model_name": "HBoxModel",
      "state": {
       "_dom_classes": [],
       "_model_module": "@jupyter-widgets/controls",
       "_model_module_version": "1.5.0",
       "_model_name": "HBoxModel",
       "_view_count": null,
       "_view_module": "@jupyter-widgets/controls",
       "_view_module_version": "1.5.0",
       "_view_name": "HBoxView",
       "box_style": "",
       "children": [
        "IPY_MODEL_58956eafa23542f5885e8f9d69d98512",
        "IPY_MODEL_7684a26216b248e4abce6ee1ad6c5095",
        "IPY_MODEL_92c3e5e32e854ed1b3808fb3efdd8bd0"
       ],
       "layout": "IPY_MODEL_a72499f522ee4ded8ae5709746c82f8d"
      }
     },
     "2ab1613a73bc42e586cc7d63dcf19279": {
      "model_module": "@jupyter-widgets/base",
      "model_module_version": "1.2.0",
      "model_name": "LayoutModel",
      "state": {
       "_model_module": "@jupyter-widgets/base",
       "_model_module_version": "1.2.0",
       "_model_name": "LayoutModel",
       "_view_count": null,
       "_view_module": "@jupyter-widgets/base",
       "_view_module_version": "1.2.0",
       "_view_name": "LayoutView",
       "align_content": null,
       "align_items": null,
       "align_self": null,
       "border": null,
       "bottom": null,
       "display": null,
       "flex": null,
       "flex_flow": null,
       "grid_area": null,
       "grid_auto_columns": null,
       "grid_auto_flow": null,
       "grid_auto_rows": null,
       "grid_column": null,
       "grid_gap": null,
       "grid_row": null,
       "grid_template_areas": null,
       "grid_template_columns": null,
       "grid_template_rows": null,
       "height": null,
       "justify_content": null,
       "justify_items": null,
       "left": null,
       "margin": null,
       "max_height": null,
       "max_width": null,
       "min_height": null,
       "min_width": null,
       "object_fit": null,
       "object_position": null,
       "order": null,
       "overflow": null,
       "overflow_x": null,
       "overflow_y": null,
       "padding": null,
       "right": null,
       "top": null,
       "visibility": null,
       "width": null
      }
     },
     "30232695d1f4486ab4a0ea85a65db22c": {
      "model_module": "@jupyter-widgets/controls",
      "model_module_version": "1.5.0",
      "model_name": "HBoxModel",
      "state": {
       "_dom_classes": [],
       "_model_module": "@jupyter-widgets/controls",
       "_model_module_version": "1.5.0",
       "_model_name": "HBoxModel",
       "_view_count": null,
       "_view_module": "@jupyter-widgets/controls",
       "_view_module_version": "1.5.0",
       "_view_name": "HBoxView",
       "box_style": "",
       "children": [
        "IPY_MODEL_0456dfc2e32f4e258b4e4bab38d44177",
        "IPY_MODEL_5fde99f5618e4e7eac544084a3771577",
        "IPY_MODEL_176ac7bb6eff4b1e93bac80ead4c7c99"
       ],
       "layout": "IPY_MODEL_5223e11588bc46d09502fabe7c849d8c"
      }
     },
     "37ba141b54314910a82fd12131610bf1": {
      "model_module": "@jupyter-widgets/base",
      "model_module_version": "1.2.0",
      "model_name": "LayoutModel",
      "state": {
       "_model_module": "@jupyter-widgets/base",
       "_model_module_version": "1.2.0",
       "_model_name": "LayoutModel",
       "_view_count": null,
       "_view_module": "@jupyter-widgets/base",
       "_view_module_version": "1.2.0",
       "_view_name": "LayoutView",
       "align_content": null,
       "align_items": null,
       "align_self": null,
       "border": null,
       "bottom": null,
       "display": null,
       "flex": null,
       "flex_flow": null,
       "grid_area": null,
       "grid_auto_columns": null,
       "grid_auto_flow": null,
       "grid_auto_rows": null,
       "grid_column": null,
       "grid_gap": null,
       "grid_row": null,
       "grid_template_areas": null,
       "grid_template_columns": null,
       "grid_template_rows": null,
       "height": null,
       "justify_content": null,
       "justify_items": null,
       "left": null,
       "margin": null,
       "max_height": null,
       "max_width": null,
       "min_height": null,
       "min_width": null,
       "object_fit": null,
       "object_position": null,
       "order": null,
       "overflow": null,
       "overflow_x": null,
       "overflow_y": null,
       "padding": null,
       "right": null,
       "top": null,
       "visibility": null,
       "width": null
      }
     },
     "37e628b04acb4a9f9ef376d1b08fc5e9": {
      "model_module": "@jupyter-widgets/base",
      "model_module_version": "1.2.0",
      "model_name": "LayoutModel",
      "state": {
       "_model_module": "@jupyter-widgets/base",
       "_model_module_version": "1.2.0",
       "_model_name": "LayoutModel",
       "_view_count": null,
       "_view_module": "@jupyter-widgets/base",
       "_view_module_version": "1.2.0",
       "_view_name": "LayoutView",
       "align_content": null,
       "align_items": null,
       "align_self": null,
       "border": null,
       "bottom": null,
       "display": null,
       "flex": null,
       "flex_flow": null,
       "grid_area": null,
       "grid_auto_columns": null,
       "grid_auto_flow": null,
       "grid_auto_rows": null,
       "grid_column": null,
       "grid_gap": null,
       "grid_row": null,
       "grid_template_areas": null,
       "grid_template_columns": null,
       "grid_template_rows": null,
       "height": null,
       "justify_content": null,
       "justify_items": null,
       "left": null,
       "margin": null,
       "max_height": null,
       "max_width": null,
       "min_height": null,
       "min_width": null,
       "object_fit": null,
       "object_position": null,
       "order": null,
       "overflow": null,
       "overflow_x": null,
       "overflow_y": null,
       "padding": null,
       "right": null,
       "top": null,
       "visibility": null,
       "width": null
      }
     },
     "3970d8d331a74a698014bd7a87a62302": {
      "model_module": "@jupyter-widgets/base",
      "model_module_version": "1.2.0",
      "model_name": "LayoutModel",
      "state": {
       "_model_module": "@jupyter-widgets/base",
       "_model_module_version": "1.2.0",
       "_model_name": "LayoutModel",
       "_view_count": null,
       "_view_module": "@jupyter-widgets/base",
       "_view_module_version": "1.2.0",
       "_view_name": "LayoutView",
       "align_content": null,
       "align_items": null,
       "align_self": null,
       "border": null,
       "bottom": null,
       "display": null,
       "flex": null,
       "flex_flow": null,
       "grid_area": null,
       "grid_auto_columns": null,
       "grid_auto_flow": null,
       "grid_auto_rows": null,
       "grid_column": null,
       "grid_gap": null,
       "grid_row": null,
       "grid_template_areas": null,
       "grid_template_columns": null,
       "grid_template_rows": null,
       "height": null,
       "justify_content": null,
       "justify_items": null,
       "left": null,
       "margin": null,
       "max_height": null,
       "max_width": null,
       "min_height": null,
       "min_width": null,
       "object_fit": null,
       "object_position": null,
       "order": null,
       "overflow": null,
       "overflow_x": null,
       "overflow_y": null,
       "padding": null,
       "right": null,
       "top": null,
       "visibility": null,
       "width": null
      }
     },
     "3d9b450ccd7840fea5259af96b12cdf9": {
      "model_module": "@jupyter-widgets/controls",
      "model_module_version": "1.5.0",
      "model_name": "ProgressStyleModel",
      "state": {
       "_model_module": "@jupyter-widgets/controls",
       "_model_module_version": "1.5.0",
       "_model_name": "ProgressStyleModel",
       "_view_count": null,
       "_view_module": "@jupyter-widgets/base",
       "_view_module_version": "1.2.0",
       "_view_name": "StyleView",
       "bar_color": null,
       "description_width": ""
      }
     },
     "445a92034000493e88ace46fda4d2601": {
      "model_module": "@jupyter-widgets/controls",
      "model_module_version": "1.5.0",
      "model_name": "DescriptionStyleModel",
      "state": {
       "_model_module": "@jupyter-widgets/controls",
       "_model_module_version": "1.5.0",
       "_model_name": "DescriptionStyleModel",
       "_view_count": null,
       "_view_module": "@jupyter-widgets/base",
       "_view_module_version": "1.2.0",
       "_view_name": "StyleView",
       "description_width": ""
      }
     },
     "4553ba00f7264a61bb418353febaf0c5": {
      "model_module": "@jupyter-widgets/controls",
      "model_module_version": "1.5.0",
      "model_name": "DescriptionStyleModel",
      "state": {
       "_model_module": "@jupyter-widgets/controls",
       "_model_module_version": "1.5.0",
       "_model_name": "DescriptionStyleModel",
       "_view_count": null,
       "_view_module": "@jupyter-widgets/base",
       "_view_module_version": "1.2.0",
       "_view_name": "StyleView",
       "description_width": ""
      }
     },
     "4663fa165e87412a9dabff7cce9ecb81": {
      "model_module": "@jupyter-widgets/controls",
      "model_module_version": "1.5.0",
      "model_name": "FloatProgressModel",
      "state": {
       "_dom_classes": [],
       "_model_module": "@jupyter-widgets/controls",
       "_model_module_version": "1.5.0",
       "_model_name": "FloatProgressModel",
       "_view_count": null,
       "_view_module": "@jupyter-widgets/controls",
       "_view_module_version": "1.5.0",
       "_view_name": "ProgressView",
       "bar_style": "success",
       "description": "",
       "description_tooltip": null,
       "layout": "IPY_MODEL_6548934828ed4dd38ac5a38e6d6110f9",
       "max": 578.0,
       "min": 0.0,
       "orientation": "horizontal",
       "style": "IPY_MODEL_57580ce4940345bc9a4e28f891f619ea",
       "value": 578.0
      }
     },
     "4860b9355ed947a8ab2b96940c4d98b2": {
      "model_module": "@jupyter-widgets/controls",
      "model_module_version": "1.5.0",
      "model_name": "FloatProgressModel",
      "state": {
       "_dom_classes": [],
       "_model_module": "@jupyter-widgets/controls",
       "_model_module_version": "1.5.0",
       "_model_name": "FloatProgressModel",
       "_view_count": null,
       "_view_module": "@jupyter-widgets/controls",
       "_view_module_version": "1.5.0",
       "_view_name": "ProgressView",
       "bar_style": "success",
       "description": "",
       "description_tooltip": null,
       "layout": "IPY_MODEL_798104b754984d78b783963197aefd20",
       "max": 286059269.0,
       "min": 0.0,
       "orientation": "horizontal",
       "style": "IPY_MODEL_7ba15ed7bbdd4b13ad67509b65aa5f1b",
       "value": 286059269.0
      }
     },
     "4c877521560f4a45bc5193a3702d5e8f": {
      "model_module": "@jupyter-widgets/base",
      "model_module_version": "1.2.0",
      "model_name": "LayoutModel",
      "state": {
       "_model_module": "@jupyter-widgets/base",
       "_model_module_version": "1.2.0",
       "_model_name": "LayoutModel",
       "_view_count": null,
       "_view_module": "@jupyter-widgets/base",
       "_view_module_version": "1.2.0",
       "_view_name": "LayoutView",
       "align_content": null,
       "align_items": null,
       "align_self": null,
       "border": null,
       "bottom": null,
       "display": null,
       "flex": null,
       "flex_flow": null,
       "grid_area": null,
       "grid_auto_columns": null,
       "grid_auto_flow": null,
       "grid_auto_rows": null,
       "grid_column": null,
       "grid_gap": null,
       "grid_row": null,
       "grid_template_areas": null,
       "grid_template_columns": null,
       "grid_template_rows": null,
       "height": null,
       "justify_content": null,
       "justify_items": null,
       "left": null,
       "margin": null,
       "max_height": null,
       "max_width": null,
       "min_height": null,
       "min_width": null,
       "object_fit": null,
       "object_position": null,
       "order": null,
       "overflow": null,
       "overflow_x": null,
       "overflow_y": null,
       "padding": null,
       "right": null,
       "top": null,
       "visibility": null,
       "width": null
      }
     },
     "5223e11588bc46d09502fabe7c849d8c": {
      "model_module": "@jupyter-widgets/base",
      "model_module_version": "1.2.0",
      "model_name": "LayoutModel",
      "state": {
       "_model_module": "@jupyter-widgets/base",
       "_model_module_version": "1.2.0",
       "_model_name": "LayoutModel",
       "_view_count": null,
       "_view_module": "@jupyter-widgets/base",
       "_view_module_version": "1.2.0",
       "_view_name": "LayoutView",
       "align_content": null,
       "align_items": null,
       "align_self": null,
       "border": null,
       "bottom": null,
       "display": null,
       "flex": null,
       "flex_flow": null,
       "grid_area": null,
       "grid_auto_columns": null,
       "grid_auto_flow": null,
       "grid_auto_rows": null,
       "grid_column": null,
       "grid_gap": null,
       "grid_row": null,
       "grid_template_areas": null,
       "grid_template_columns": null,
       "grid_template_rows": null,
       "height": null,
       "justify_content": null,
       "justify_items": null,
       "left": null,
       "margin": null,
       "max_height": null,
       "max_width": null,
       "min_height": null,
       "min_width": null,
       "object_fit": null,
       "object_position": null,
       "order": null,
       "overflow": null,
       "overflow_x": null,
       "overflow_y": null,
       "padding": null,
       "right": null,
       "top": null,
       "visibility": null,
       "width": null
      }
     },
     "57580ce4940345bc9a4e28f891f619ea": {
      "model_module": "@jupyter-widgets/controls",
      "model_module_version": "1.5.0",
      "model_name": "ProgressStyleModel",
      "state": {
       "_model_module": "@jupyter-widgets/controls",
       "_model_module_version": "1.5.0",
       "_model_name": "ProgressStyleModel",
       "_view_count": null,
       "_view_module": "@jupyter-widgets/base",
       "_view_module_version": "1.2.0",
       "_view_name": "StyleView",
       "bar_color": null,
       "description_width": ""
      }
     },
     "58956eafa23542f5885e8f9d69d98512": {
      "model_module": "@jupyter-widgets/controls",
      "model_module_version": "1.5.0",
      "model_name": "HTMLModel",
      "state": {
       "_dom_classes": [],
       "_model_module": "@jupyter-widgets/controls",
       "_model_module_version": "1.5.0",
       "_model_name": "HTMLModel",
       "_view_count": null,
       "_view_module": "@jupyter-widgets/controls",
       "_view_module_version": "1.5.0",
       "_view_name": "HTMLView",
       "description": "",
       "description_tooltip": null,
       "layout": "IPY_MODEL_72db590939034711a3e8fbf24eb681fa",
       "placeholder": "​",
       "style": "IPY_MODEL_87d113dab876466cbdf88dedefb3123d",
       "value": "tokenizer_config.json: 100%"
      }
     },
     "5c02cc9bc76b493683c046a499c7f249": {
      "model_module": "@jupyter-widgets/controls",
      "model_module_version": "1.5.0",
      "model_name": "ProgressStyleModel",
      "state": {
       "_model_module": "@jupyter-widgets/controls",
       "_model_module_version": "1.5.0",
       "_model_name": "ProgressStyleModel",
       "_view_count": null,
       "_view_module": "@jupyter-widgets/base",
       "_view_module_version": "1.2.0",
       "_view_name": "StyleView",
       "bar_color": null,
       "description_width": ""
      }
     },
     "5d94f351d9ff474b8c50fbb9d2a6ca45": {
      "model_module": "@jupyter-widgets/base",
      "model_module_version": "1.2.0",
      "model_name": "LayoutModel",
      "state": {
       "_model_module": "@jupyter-widgets/base",
       "_model_module_version": "1.2.0",
       "_model_name": "LayoutModel",
       "_view_count": null,
       "_view_module": "@jupyter-widgets/base",
       "_view_module_version": "1.2.0",
       "_view_name": "LayoutView",
       "align_content": null,
       "align_items": null,
       "align_self": null,
       "border": null,
       "bottom": null,
       "display": null,
       "flex": null,
       "flex_flow": null,
       "grid_area": null,
       "grid_auto_columns": null,
       "grid_auto_flow": null,
       "grid_auto_rows": null,
       "grid_column": null,
       "grid_gap": null,
       "grid_row": null,
       "grid_template_areas": null,
       "grid_template_columns": null,
       "grid_template_rows": null,
       "height": null,
       "justify_content": null,
       "justify_items": null,
       "left": null,
       "margin": null,
       "max_height": null,
       "max_width": null,
       "min_height": null,
       "min_width": null,
       "object_fit": null,
       "object_position": null,
       "order": null,
       "overflow": null,
       "overflow_x": null,
       "overflow_y": null,
       "padding": null,
       "right": null,
       "top": null,
       "visibility": null,
       "width": null
      }
     },
     "5fde99f5618e4e7eac544084a3771577": {
      "model_module": "@jupyter-widgets/controls",
      "model_module_version": "1.5.0",
      "model_name": "FloatProgressModel",
      "state": {
       "_dom_classes": [],
       "_model_module": "@jupyter-widgets/controls",
       "_model_module_version": "1.5.0",
       "_model_name": "FloatProgressModel",
       "_view_count": null,
       "_view_module": "@jupyter-widgets/controls",
       "_view_module_version": "1.5.0",
       "_view_name": "ProgressView",
       "bar_style": "success",
       "description": "",
       "description_tooltip": null,
       "layout": "IPY_MODEL_e68591df38944a9abf155160d1398065",
       "max": 1.0,
       "min": 0.0,
       "orientation": "horizontal",
       "style": "IPY_MODEL_5c02cc9bc76b493683c046a499c7f249",
       "value": 1.0
      }
     },
     "6301b112a5ba4c4caf15eed09a49e4d4": {
      "model_module": "@jupyter-widgets/base",
      "model_module_version": "1.2.0",
      "model_name": "LayoutModel",
      "state": {
       "_model_module": "@jupyter-widgets/base",
       "_model_module_version": "1.2.0",
       "_model_name": "LayoutModel",
       "_view_count": null,
       "_view_module": "@jupyter-widgets/base",
       "_view_module_version": "1.2.0",
       "_view_name": "LayoutView",
       "align_content": null,
       "align_items": null,
       "align_self": null,
       "border": null,
       "bottom": null,
       "display": null,
       "flex": null,
       "flex_flow": null,
       "grid_area": null,
       "grid_auto_columns": null,
       "grid_auto_flow": null,
       "grid_auto_rows": null,
       "grid_column": null,
       "grid_gap": null,
       "grid_row": null,
       "grid_template_areas": null,
       "grid_template_columns": null,
       "grid_template_rows": null,
       "height": null,
       "justify_content": null,
       "justify_items": null,
       "left": null,
       "margin": null,
       "max_height": null,
       "max_width": null,
       "min_height": null,
       "min_width": null,
       "object_fit": null,
       "object_position": null,
       "order": null,
       "overflow": null,
       "overflow_x": null,
       "overflow_y": null,
       "padding": null,
       "right": null,
       "top": null,
       "visibility": null,
       "width": null
      }
     },
     "6548934828ed4dd38ac5a38e6d6110f9": {
      "model_module": "@jupyter-widgets/base",
      "model_module_version": "1.2.0",
      "model_name": "LayoutModel",
      "state": {
       "_model_module": "@jupyter-widgets/base",
       "_model_module_version": "1.2.0",
       "_model_name": "LayoutModel",
       "_view_count": null,
       "_view_module": "@jupyter-widgets/base",
       "_view_module_version": "1.2.0",
       "_view_name": "LayoutView",
       "align_content": null,
       "align_items": null,
       "align_self": null,
       "border": null,
       "bottom": null,
       "display": null,
       "flex": null,
       "flex_flow": null,
       "grid_area": null,
       "grid_auto_columns": null,
       "grid_auto_flow": null,
       "grid_auto_rows": null,
       "grid_column": null,
       "grid_gap": null,
       "grid_row": null,
       "grid_template_areas": null,
       "grid_template_columns": null,
       "grid_template_rows": null,
       "height": null,
       "justify_content": null,
       "justify_items": null,
       "left": null,
       "margin": null,
       "max_height": null,
       "max_width": null,
       "min_height": null,
       "min_width": null,
       "object_fit": null,
       "object_position": null,
       "order": null,
       "overflow": null,
       "overflow_x": null,
       "overflow_y": null,
       "padding": null,
       "right": null,
       "top": null,
       "visibility": null,
       "width": null
      }
     },
     "65505cbaa172492083101a740dbea19e": {
      "model_module": "@jupyter-widgets/controls",
      "model_module_version": "1.5.0",
      "model_name": "ProgressStyleModel",
      "state": {
       "_model_module": "@jupyter-widgets/controls",
       "_model_module_version": "1.5.0",
       "_model_name": "ProgressStyleModel",
       "_view_count": null,
       "_view_module": "@jupyter-widgets/base",
       "_view_module_version": "1.2.0",
       "_view_name": "StyleView",
       "bar_color": null,
       "description_width": ""
      }
     },
     "6566c66414504c7cbe2632707dda6986": {
      "model_module": "@jupyter-widgets/controls",
      "model_module_version": "1.5.0",
      "model_name": "HTMLModel",
      "state": {
       "_dom_classes": [],
       "_model_module": "@jupyter-widgets/controls",
       "_model_module_version": "1.5.0",
       "_model_name": "HTMLModel",
       "_view_count": null,
       "_view_module": "@jupyter-widgets/controls",
       "_view_module_version": "1.5.0",
       "_view_name": "HTMLView",
       "description": "",
       "description_tooltip": null,
       "layout": "IPY_MODEL_b67b59516b3a487fae653387f20f1ea9",
       "placeholder": "​",
       "style": "IPY_MODEL_eb42bc081e4045568e3bf6012bcf4c56",
       "value": " 1/1 [00:00&lt;00:00, 10.85ba/s]"
      }
     },
     "689fb0285e42475ba19a197648ac4a47": {
      "model_module": "@jupyter-widgets/controls",
      "model_module_version": "1.5.0",
      "model_name": "DescriptionStyleModel",
      "state": {
       "_model_module": "@jupyter-widgets/controls",
       "_model_module_version": "1.5.0",
       "_model_name": "DescriptionStyleModel",
       "_view_count": null,
       "_view_module": "@jupyter-widgets/base",
       "_view_module_version": "1.2.0",
       "_view_name": "StyleView",
       "description_width": ""
      }
     },
     "722a2083260b4a4e98ff7501e5467a51": {
      "model_module": "@jupyter-widgets/controls",
      "model_module_version": "1.5.0",
      "model_name": "DescriptionStyleModel",
      "state": {
       "_model_module": "@jupyter-widgets/controls",
       "_model_module_version": "1.5.0",
       "_model_name": "DescriptionStyleModel",
       "_view_count": null,
       "_view_module": "@jupyter-widgets/base",
       "_view_module_version": "1.2.0",
       "_view_name": "StyleView",
       "description_width": ""
      }
     },
     "72db590939034711a3e8fbf24eb681fa": {
      "model_module": "@jupyter-widgets/base",
      "model_module_version": "1.2.0",
      "model_name": "LayoutModel",
      "state": {
       "_model_module": "@jupyter-widgets/base",
       "_model_module_version": "1.2.0",
       "_model_name": "LayoutModel",
       "_view_count": null,
       "_view_module": "@jupyter-widgets/base",
       "_view_module_version": "1.2.0",
       "_view_name": "LayoutView",
       "align_content": null,
       "align_items": null,
       "align_self": null,
       "border": null,
       "bottom": null,
       "display": null,
       "flex": null,
       "flex_flow": null,
       "grid_area": null,
       "grid_auto_columns": null,
       "grid_auto_flow": null,
       "grid_auto_rows": null,
       "grid_column": null,
       "grid_gap": null,
       "grid_row": null,
       "grid_template_areas": null,
       "grid_template_columns": null,
       "grid_template_rows": null,
       "height": null,
       "justify_content": null,
       "justify_items": null,
       "left": null,
       "margin": null,
       "max_height": null,
       "max_width": null,
       "min_height": null,
       "min_width": null,
       "object_fit": null,
       "object_position": null,
       "order": null,
       "overflow": null,
       "overflow_x": null,
       "overflow_y": null,
       "padding": null,
       "right": null,
       "top": null,
       "visibility": null,
       "width": null
      }
     },
     "7684a26216b248e4abce6ee1ad6c5095": {
      "model_module": "@jupyter-widgets/controls",
      "model_module_version": "1.5.0",
      "model_name": "FloatProgressModel",
      "state": {
       "_dom_classes": [],
       "_model_module": "@jupyter-widgets/controls",
       "_model_module_version": "1.5.0",
       "_model_name": "FloatProgressModel",
       "_view_count": null,
       "_view_module": "@jupyter-widgets/controls",
       "_view_module_version": "1.5.0",
       "_view_name": "ProgressView",
       "bar_style": "success",
       "description": "",
       "description_tooltip": null,
       "layout": "IPY_MODEL_2ab1613a73bc42e586cc7d63dcf19279",
       "max": 52.0,
       "min": 0.0,
       "orientation": "horizontal",
       "style": "IPY_MODEL_3d9b450ccd7840fea5259af96b12cdf9",
       "value": 52.0
      }
     },
     "798104b754984d78b783963197aefd20": {
      "model_module": "@jupyter-widgets/base",
      "model_module_version": "1.2.0",
      "model_name": "LayoutModel",
      "state": {
       "_model_module": "@jupyter-widgets/base",
       "_model_module_version": "1.2.0",
       "_model_name": "LayoutModel",
       "_view_count": null,
       "_view_module": "@jupyter-widgets/base",
       "_view_module_version": "1.2.0",
       "_view_name": "LayoutView",
       "align_content": null,
       "align_items": null,
       "align_self": null,
       "border": null,
       "bottom": null,
       "display": null,
       "flex": null,
       "flex_flow": null,
       "grid_area": null,
       "grid_auto_columns": null,
       "grid_auto_flow": null,
       "grid_auto_rows": null,
       "grid_column": null,
       "grid_gap": null,
       "grid_row": null,
       "grid_template_areas": null,
       "grid_template_columns": null,
       "grid_template_rows": null,
       "height": null,
       "justify_content": null,
       "justify_items": null,
       "left": null,
       "margin": null,
       "max_height": null,
       "max_width": null,
       "min_height": null,
       "min_width": null,
       "object_fit": null,
       "object_position": null,
       "order": null,
       "overflow": null,
       "overflow_x": null,
       "overflow_y": null,
       "padding": null,
       "right": null,
       "top": null,
       "visibility": null,
       "width": null
      }
     },
     "7ba15ed7bbdd4b13ad67509b65aa5f1b": {
      "model_module": "@jupyter-widgets/controls",
      "model_module_version": "1.5.0",
      "model_name": "ProgressStyleModel",
      "state": {
       "_model_module": "@jupyter-widgets/controls",
       "_model_module_version": "1.5.0",
       "_model_name": "ProgressStyleModel",
       "_view_count": null,
       "_view_module": "@jupyter-widgets/base",
       "_view_module_version": "1.2.0",
       "_view_name": "StyleView",
       "bar_color": null,
       "description_width": ""
      }
     },
     "80dd111fe001485f9d740b1161bff226": {
      "model_module": "@jupyter-widgets/controls",
      "model_module_version": "1.5.0",
      "model_name": "DescriptionStyleModel",
      "state": {
       "_model_module": "@jupyter-widgets/controls",
       "_model_module_version": "1.5.0",
       "_model_name": "DescriptionStyleModel",
       "_view_count": null,
       "_view_module": "@jupyter-widgets/base",
       "_view_module_version": "1.2.0",
       "_view_name": "StyleView",
       "description_width": ""
      }
     },
     "8407030be2ac495ebc7584ee511cdd0f": {
      "model_module": "@jupyter-widgets/controls",
      "model_module_version": "1.5.0",
      "model_name": "FloatProgressModel",
      "state": {
       "_dom_classes": [],
       "_model_module": "@jupyter-widgets/controls",
       "_model_module_version": "1.5.0",
       "_model_name": "FloatProgressModel",
       "_view_count": null,
       "_view_module": "@jupyter-widgets/controls",
       "_view_module_version": "1.5.0",
       "_view_name": "ProgressView",
       "bar_style": "success",
       "description": "",
       "description_tooltip": null,
       "layout": "IPY_MODEL_185e667edb2e4cd2a6d6bfffb9cb96d9",
       "max": 1.0,
       "min": 0.0,
       "orientation": "horizontal",
       "style": "IPY_MODEL_65505cbaa172492083101a740dbea19e",
       "value": 1.0
      }
     },
     "87d113dab876466cbdf88dedefb3123d": {
      "model_module": "@jupyter-widgets/controls",
      "model_module_version": "1.5.0",
      "model_name": "DescriptionStyleModel",
      "state": {
       "_model_module": "@jupyter-widgets/controls",
       "_model_module_version": "1.5.0",
       "_model_name": "DescriptionStyleModel",
       "_view_count": null,
       "_view_module": "@jupyter-widgets/base",
       "_view_module_version": "1.2.0",
       "_view_name": "StyleView",
       "description_width": ""
      }
     },
     "8c324f7cac9649e8bb1f0bea59cc2232": {
      "model_module": "@jupyter-widgets/controls",
      "model_module_version": "1.5.0",
      "model_name": "HBoxModel",
      "state": {
       "_dom_classes": [],
       "_model_module": "@jupyter-widgets/controls",
       "_model_module_version": "1.5.0",
       "_model_name": "HBoxModel",
       "_view_count": null,
       "_view_module": "@jupyter-widgets/controls",
       "_view_module_version": "1.5.0",
       "_view_name": "HBoxView",
       "box_style": "",
       "children": [
        "IPY_MODEL_b3becf0811b347d09201cee4c15390c0",
        "IPY_MODEL_4860b9355ed947a8ab2b96940c4d98b2",
        "IPY_MODEL_0b9be002cf2a4b4a981519bcec7bcae6"
       ],
       "layout": "IPY_MODEL_37ba141b54314910a82fd12131610bf1"
      }
     },
     "92c3e5e32e854ed1b3808fb3efdd8bd0": {
      "model_module": "@jupyter-widgets/controls",
      "model_module_version": "1.5.0",
      "model_name": "HTMLModel",
      "state": {
       "_dom_classes": [],
       "_model_module": "@jupyter-widgets/controls",
       "_model_module_version": "1.5.0",
       "_model_name": "HTMLModel",
       "_view_count": null,
       "_view_module": "@jupyter-widgets/controls",
       "_view_module_version": "1.5.0",
       "_view_name": "HTMLView",
       "description": "",
       "description_tooltip": null,
       "layout": "IPY_MODEL_3970d8d331a74a698014bd7a87a62302",
       "placeholder": "​",
       "style": "IPY_MODEL_722a2083260b4a4e98ff7501e5467a51",
       "value": " 52.0/52.0 [00:00&lt;00:00, 4.29kB/s]"
      }
     },
     "a39f1848c1e240ea901f726c0ec25310": {
      "model_module": "@jupyter-widgets/base",
      "model_module_version": "1.2.0",
      "model_name": "LayoutModel",
      "state": {
       "_model_module": "@jupyter-widgets/base",
       "_model_module_version": "1.2.0",
       "_model_name": "LayoutModel",
       "_view_count": null,
       "_view_module": "@jupyter-widgets/base",
       "_view_module_version": "1.2.0",
       "_view_name": "LayoutView",
       "align_content": null,
       "align_items": null,
       "align_self": null,
       "border": null,
       "bottom": null,
       "display": null,
       "flex": null,
       "flex_flow": null,
       "grid_area": null,
       "grid_auto_columns": null,
       "grid_auto_flow": null,
       "grid_auto_rows": null,
       "grid_column": null,
       "grid_gap": null,
       "grid_row": null,
       "grid_template_areas": null,
       "grid_template_columns": null,
       "grid_template_rows": null,
       "height": null,
       "justify_content": null,
       "justify_items": null,
       "left": null,
       "margin": null,
       "max_height": null,
       "max_width": null,
       "min_height": null,
       "min_width": null,
       "object_fit": null,
       "object_position": null,
       "order": null,
       "overflow": null,
       "overflow_x": null,
       "overflow_y": null,
       "padding": null,
       "right": null,
       "top": null,
       "visibility": null,
       "width": null
      }
     },
     "a72499f522ee4ded8ae5709746c82f8d": {
      "model_module": "@jupyter-widgets/base",
      "model_module_version": "1.2.0",
      "model_name": "LayoutModel",
      "state": {
       "_model_module": "@jupyter-widgets/base",
       "_model_module_version": "1.2.0",
       "_model_name": "LayoutModel",
       "_view_count": null,
       "_view_module": "@jupyter-widgets/base",
       "_view_module_version": "1.2.0",
       "_view_name": "LayoutView",
       "align_content": null,
       "align_items": null,
       "align_self": null,
       "border": null,
       "bottom": null,
       "display": null,
       "flex": null,
       "flex_flow": null,
       "grid_area": null,
       "grid_auto_columns": null,
       "grid_auto_flow": null,
       "grid_auto_rows": null,
       "grid_column": null,
       "grid_gap": null,
       "grid_row": null,
       "grid_template_areas": null,
       "grid_template_columns": null,
       "grid_template_rows": null,
       "height": null,
       "justify_content": null,
       "justify_items": null,
       "left": null,
       "margin": null,
       "max_height": null,
       "max_width": null,
       "min_height": null,
       "min_width": null,
       "object_fit": null,
       "object_position": null,
       "order": null,
       "overflow": null,
       "overflow_x": null,
       "overflow_y": null,
       "padding": null,
       "right": null,
       "top": null,
       "visibility": null,
       "width": null
      }
     },
     "b18558d5f96043bc98bbc8060cf45e15": {
      "model_module": "@jupyter-widgets/base",
      "model_module_version": "1.2.0",
      "model_name": "LayoutModel",
      "state": {
       "_model_module": "@jupyter-widgets/base",
       "_model_module_version": "1.2.0",
       "_model_name": "LayoutModel",
       "_view_count": null,
       "_view_module": "@jupyter-widgets/base",
       "_view_module_version": "1.2.0",
       "_view_name": "LayoutView",
       "align_content": null,
       "align_items": null,
       "align_self": null,
       "border": null,
       "bottom": null,
       "display": null,
       "flex": null,
       "flex_flow": null,
       "grid_area": null,
       "grid_auto_columns": null,
       "grid_auto_flow": null,
       "grid_auto_rows": null,
       "grid_column": null,
       "grid_gap": null,
       "grid_row": null,
       "grid_template_areas": null,
       "grid_template_columns": null,
       "grid_template_rows": null,
       "height": null,
       "justify_content": null,
       "justify_items": null,
       "left": null,
       "margin": null,
       "max_height": null,
       "max_width": null,
       "min_height": null,
       "min_width": null,
       "object_fit": null,
       "object_position": null,
       "order": null,
       "overflow": null,
       "overflow_x": null,
       "overflow_y": null,
       "padding": null,
       "right": null,
       "top": null,
       "visibility": null,
       "width": null
      }
     },
     "b3becf0811b347d09201cee4c15390c0": {
      "model_module": "@jupyter-widgets/controls",
      "model_module_version": "1.5.0",
      "model_name": "HTMLModel",
      "state": {
       "_dom_classes": [],
       "_model_module": "@jupyter-widgets/controls",
       "_model_module_version": "1.5.0",
       "_model_name": "HTMLModel",
       "_view_count": null,
       "_view_module": "@jupyter-widgets/controls",
       "_view_module_version": "1.5.0",
       "_view_name": "HTMLView",
       "description": "",
       "description_tooltip": null,
       "layout": "IPY_MODEL_b18558d5f96043bc98bbc8060cf45e15",
       "placeholder": "​",
       "style": "IPY_MODEL_caf5c344442e4051a5922634280cbfa6",
       "value": "pytorch_model.bin: 100%"
      }
     },
     "b4e85901b05242479ab973e7097ca32a": {
      "model_module": "@jupyter-widgets/controls",
      "model_module_version": "1.5.0",
      "model_name": "HTMLModel",
      "state": {
       "_dom_classes": [],
       "_model_module": "@jupyter-widgets/controls",
       "_model_module_version": "1.5.0",
       "_model_name": "HTMLModel",
       "_view_count": null,
       "_view_module": "@jupyter-widgets/controls",
       "_view_module_version": "1.5.0",
       "_view_name": "HTMLView",
       "description": "",
       "description_tooltip": null,
       "layout": "IPY_MODEL_a39f1848c1e240ea901f726c0ec25310",
       "placeholder": "​",
       "style": "IPY_MODEL_689fb0285e42475ba19a197648ac4a47",
       "value": " 2.46M/2.46M [00:00&lt;00:00, 3.69MB/s]"
      }
     },
     "b67b59516b3a487fae653387f20f1ea9": {
      "model_module": "@jupyter-widgets/base",
      "model_module_version": "1.2.0",
      "model_name": "LayoutModel",
      "state": {
       "_model_module": "@jupyter-widgets/base",
       "_model_module_version": "1.2.0",
       "_model_name": "LayoutModel",
       "_view_count": null,
       "_view_module": "@jupyter-widgets/base",
       "_view_module_version": "1.2.0",
       "_view_name": "LayoutView",
       "align_content": null,
       "align_items": null,
       "align_self": null,
       "border": null,
       "bottom": null,
       "display": null,
       "flex": null,
       "flex_flow": null,
       "grid_area": null,
       "grid_auto_columns": null,
       "grid_auto_flow": null,
       "grid_auto_rows": null,
       "grid_column": null,
       "grid_gap": null,
       "grid_row": null,
       "grid_template_areas": null,
       "grid_template_columns": null,
       "grid_template_rows": null,
       "height": null,
       "justify_content": null,
       "justify_items": null,
       "left": null,
       "margin": null,
       "max_height": null,
       "max_width": null,
       "min_height": null,
       "min_width": null,
       "object_fit": null,
       "object_position": null,
       "order": null,
       "overflow": null,
       "overflow_x": null,
       "overflow_y": null,
       "padding": null,
       "right": null,
       "top": null,
       "visibility": null,
       "width": null
      }
     },
     "b94eb2eb787b40b59243cc2ce33a4078": {
      "model_module": "@jupyter-widgets/controls",
      "model_module_version": "1.5.0",
      "model_name": "HBoxModel",
      "state": {
       "_dom_classes": [],
       "_model_module": "@jupyter-widgets/controls",
       "_model_module_version": "1.5.0",
       "_model_name": "HBoxModel",
       "_view_count": null,
       "_view_module": "@jupyter-widgets/controls",
       "_view_module_version": "1.5.0",
       "_view_name": "HBoxView",
       "box_style": "",
       "children": [
        "IPY_MODEL_0689a3fc0a414c08acc32715a88ba9df",
        "IPY_MODEL_14e491c5301f460cbae019051803bab0",
        "IPY_MODEL_b4e85901b05242479ab973e7097ca32a"
       ],
       "layout": "IPY_MODEL_6301b112a5ba4c4caf15eed09a49e4d4"
      }
     },
     "be34662e61514fe6bd08d11dd54194eb": {
      "model_module": "@jupyter-widgets/controls",
      "model_module_version": "1.5.0",
      "model_name": "DescriptionStyleModel",
      "state": {
       "_model_module": "@jupyter-widgets/controls",
       "_model_module_version": "1.5.0",
       "_model_name": "DescriptionStyleModel",
       "_view_count": null,
       "_view_module": "@jupyter-widgets/base",
       "_view_module_version": "1.2.0",
       "_view_name": "StyleView",
       "description_width": ""
      }
     },
     "c4ec15d8d97b4b9694228909ba8b6430": {
      "model_module": "@jupyter-widgets/controls",
      "model_module_version": "1.5.0",
      "model_name": "HTMLModel",
      "state": {
       "_dom_classes": [],
       "_model_module": "@jupyter-widgets/controls",
       "_model_module_version": "1.5.0",
       "_model_name": "HTMLModel",
       "_view_count": null,
       "_view_module": "@jupyter-widgets/controls",
       "_view_module_version": "1.5.0",
       "_view_name": "HTMLView",
       "description": "",
       "description_tooltip": null,
       "layout": "IPY_MODEL_c861fd2abe5f4d4cbabe0e261f74f27b",
       "placeholder": "​",
       "style": "IPY_MODEL_f3e704827f65432f9ebc2060696af95e",
       "value": "100%"
      }
     },
     "c861fd2abe5f4d4cbabe0e261f74f27b": {
      "model_module": "@jupyter-widgets/base",
      "model_module_version": "1.2.0",
      "model_name": "LayoutModel",
      "state": {
       "_model_module": "@jupyter-widgets/base",
       "_model_module_version": "1.2.0",
       "_model_name": "LayoutModel",
       "_view_count": null,
       "_view_module": "@jupyter-widgets/base",
       "_view_module_version": "1.2.0",
       "_view_name": "LayoutView",
       "align_content": null,
       "align_items": null,
       "align_self": null,
       "border": null,
       "bottom": null,
       "display": null,
       "flex": null,
       "flex_flow": null,
       "grid_area": null,
       "grid_auto_columns": null,
       "grid_auto_flow": null,
       "grid_auto_rows": null,
       "grid_column": null,
       "grid_gap": null,
       "grid_row": null,
       "grid_template_areas": null,
       "grid_template_columns": null,
       "grid_template_rows": null,
       "height": null,
       "justify_content": null,
       "justify_items": null,
       "left": null,
       "margin": null,
       "max_height": null,
       "max_width": null,
       "min_height": null,
       "min_width": null,
       "object_fit": null,
       "object_position": null,
       "order": null,
       "overflow": null,
       "overflow_x": null,
       "overflow_y": null,
       "padding": null,
       "right": null,
       "top": null,
       "visibility": null,
       "width": null
      }
     },
     "caf5c344442e4051a5922634280cbfa6": {
      "model_module": "@jupyter-widgets/controls",
      "model_module_version": "1.5.0",
      "model_name": "DescriptionStyleModel",
      "state": {
       "_model_module": "@jupyter-widgets/controls",
       "_model_module_version": "1.5.0",
       "_model_name": "DescriptionStyleModel",
       "_view_count": null,
       "_view_module": "@jupyter-widgets/base",
       "_view_module_version": "1.2.0",
       "_view_name": "StyleView",
       "description_width": ""
      }
     },
     "d501446bf42349019971c82fc364c47e": {
      "model_module": "@jupyter-widgets/controls",
      "model_module_version": "1.5.0",
      "model_name": "HTMLModel",
      "state": {
       "_dom_classes": [],
       "_model_module": "@jupyter-widgets/controls",
       "_model_module_version": "1.5.0",
       "_model_name": "HTMLModel",
       "_view_count": null,
       "_view_module": "@jupyter-widgets/controls",
       "_view_module_version": "1.5.0",
       "_view_name": "HTMLView",
       "description": "",
       "description_tooltip": null,
       "layout": "IPY_MODEL_37e628b04acb4a9f9ef376d1b08fc5e9",
       "placeholder": "​",
       "style": "IPY_MODEL_445a92034000493e88ace46fda4d2601",
       "value": "config.json: 100%"
      }
     },
     "d89eadfa38cf49e1af4d84a2a551747b": {
      "model_module": "@jupyter-widgets/controls",
      "model_module_version": "1.5.0",
      "model_name": "DescriptionStyleModel",
      "state": {
       "_model_module": "@jupyter-widgets/controls",
       "_model_module_version": "1.5.0",
       "_model_name": "DescriptionStyleModel",
       "_view_count": null,
       "_view_module": "@jupyter-widgets/base",
       "_view_module_version": "1.2.0",
       "_view_name": "StyleView",
       "description_width": ""
      }
     },
     "dba057db8d124781aecd7702019fe93f": {
      "model_module": "@jupyter-widgets/base",
      "model_module_version": "1.2.0",
      "model_name": "LayoutModel",
      "state": {
       "_model_module": "@jupyter-widgets/base",
       "_model_module_version": "1.2.0",
       "_model_name": "LayoutModel",
       "_view_count": null,
       "_view_module": "@jupyter-widgets/base",
       "_view_module_version": "1.2.0",
       "_view_name": "LayoutView",
       "align_content": null,
       "align_items": null,
       "align_self": null,
       "border": null,
       "bottom": null,
       "display": null,
       "flex": null,
       "flex_flow": null,
       "grid_area": null,
       "grid_auto_columns": null,
       "grid_auto_flow": null,
       "grid_auto_rows": null,
       "grid_column": null,
       "grid_gap": null,
       "grid_row": null,
       "grid_template_areas": null,
       "grid_template_columns": null,
       "grid_template_rows": null,
       "height": null,
       "justify_content": null,
       "justify_items": null,
       "left": null,
       "margin": null,
       "max_height": null,
       "max_width": null,
       "min_height": null,
       "min_width": null,
       "object_fit": null,
       "object_position": null,
       "order": null,
       "overflow": null,
       "overflow_x": null,
       "overflow_y": null,
       "padding": null,
       "right": null,
       "top": null,
       "visibility": null,
       "width": null
      }
     },
     "e68591df38944a9abf155160d1398065": {
      "model_module": "@jupyter-widgets/base",
      "model_module_version": "1.2.0",
      "model_name": "LayoutModel",
      "state": {
       "_model_module": "@jupyter-widgets/base",
       "_model_module_version": "1.2.0",
       "_model_name": "LayoutModel",
       "_view_count": null,
       "_view_module": "@jupyter-widgets/base",
       "_view_module_version": "1.2.0",
       "_view_name": "LayoutView",
       "align_content": null,
       "align_items": null,
       "align_self": null,
       "border": null,
       "bottom": null,
       "display": null,
       "flex": null,
       "flex_flow": null,
       "grid_area": null,
       "grid_auto_columns": null,
       "grid_auto_flow": null,
       "grid_auto_rows": null,
       "grid_column": null,
       "grid_gap": null,
       "grid_row": null,
       "grid_template_areas": null,
       "grid_template_columns": null,
       "grid_template_rows": null,
       "height": null,
       "justify_content": null,
       "justify_items": null,
       "left": null,
       "margin": null,
       "max_height": null,
       "max_width": null,
       "min_height": null,
       "min_width": null,
       "object_fit": null,
       "object_position": null,
       "order": null,
       "overflow": null,
       "overflow_x": null,
       "overflow_y": null,
       "padding": null,
       "right": null,
       "top": null,
       "visibility": null,
       "width": null
      }
     },
     "e77f3af5fd60439c9ebab9b248245b7f": {
      "model_module": "@jupyter-widgets/base",
      "model_module_version": "1.2.0",
      "model_name": "LayoutModel",
      "state": {
       "_model_module": "@jupyter-widgets/base",
       "_model_module_version": "1.2.0",
       "_model_name": "LayoutModel",
       "_view_count": null,
       "_view_module": "@jupyter-widgets/base",
       "_view_module_version": "1.2.0",
       "_view_name": "LayoutView",
       "align_content": null,
       "align_items": null,
       "align_self": null,
       "border": null,
       "bottom": null,
       "display": null,
       "flex": null,
       "flex_flow": null,
       "grid_area": null,
       "grid_auto_columns": null,
       "grid_auto_flow": null,
       "grid_auto_rows": null,
       "grid_column": null,
       "grid_gap": null,
       "grid_row": null,
       "grid_template_areas": null,
       "grid_template_columns": null,
       "grid_template_rows": null,
       "height": null,
       "justify_content": null,
       "justify_items": null,
       "left": null,
       "margin": null,
       "max_height": null,
       "max_width": null,
       "min_height": null,
       "min_width": null,
       "object_fit": null,
       "object_position": null,
       "order": null,
       "overflow": null,
       "overflow_x": null,
       "overflow_y": null,
       "padding": null,
       "right": null,
       "top": null,
       "visibility": null,
       "width": null
      }
     },
     "eb42bc081e4045568e3bf6012bcf4c56": {
      "model_module": "@jupyter-widgets/controls",
      "model_module_version": "1.5.0",
      "model_name": "DescriptionStyleModel",
      "state": {
       "_model_module": "@jupyter-widgets/controls",
       "_model_module_version": "1.5.0",
       "_model_name": "DescriptionStyleModel",
       "_view_count": null,
       "_view_module": "@jupyter-widgets/base",
       "_view_module_version": "1.2.0",
       "_view_name": "StyleView",
       "description_width": ""
      }
     },
     "f389b989ee824d64944df563302742c0": {
      "model_module": "@jupyter-widgets/base",
      "model_module_version": "1.2.0",
      "model_name": "LayoutModel",
      "state": {
       "_model_module": "@jupyter-widgets/base",
       "_model_module_version": "1.2.0",
       "_model_name": "LayoutModel",
       "_view_count": null,
       "_view_module": "@jupyter-widgets/base",
       "_view_module_version": "1.2.0",
       "_view_name": "LayoutView",
       "align_content": null,
       "align_items": null,
       "align_self": null,
       "border": null,
       "bottom": null,
       "display": null,
       "flex": null,
       "flex_flow": null,
       "grid_area": null,
       "grid_auto_columns": null,
       "grid_auto_flow": null,
       "grid_auto_rows": null,
       "grid_column": null,
       "grid_gap": null,
       "grid_row": null,
       "grid_template_areas": null,
       "grid_template_columns": null,
       "grid_template_rows": null,
       "height": null,
       "justify_content": null,
       "justify_items": null,
       "left": null,
       "margin": null,
       "max_height": null,
       "max_width": null,
       "min_height": null,
       "min_width": null,
       "object_fit": null,
       "object_position": null,
       "order": null,
       "overflow": null,
       "overflow_x": null,
       "overflow_y": null,
       "padding": null,
       "right": null,
       "top": null,
       "visibility": null,
       "width": null
      }
     },
     "f3e704827f65432f9ebc2060696af95e": {
      "model_module": "@jupyter-widgets/controls",
      "model_module_version": "1.5.0",
      "model_name": "DescriptionStyleModel",
      "state": {
       "_model_module": "@jupyter-widgets/controls",
       "_model_module_version": "1.5.0",
       "_model_name": "DescriptionStyleModel",
       "_view_count": null,
       "_view_module": "@jupyter-widgets/base",
       "_view_module_version": "1.2.0",
       "_view_name": "StyleView",
       "description_width": ""
      }
     }
    },
    "version_major": 2,
    "version_minor": 0
   }
  }
 },
 "nbformat": 4,
 "nbformat_minor": 5
}
