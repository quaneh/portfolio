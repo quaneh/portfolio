{
  "nbformat": 4,
  "nbformat_minor": 0,
  "metadata": {
    "colab": {
      "provenance": [],
      "authorship_tag": "ABX9TyMhczuf5TK75gb25Hc28FcJ",
      "include_colab_link": true
    },
    "kernelspec": {
      "name": "python3",
      "display_name": "Python 3"
    },
    "language_info": {
      "name": "python"
    }
  },
  "cells": [
    {
      "cell_type": "markdown",
      "metadata": {
        "id": "view-in-github",
        "colab_type": "text"
      },
      "source": [
        "<a href=\"https://colab.research.google.com/github/quaneh/portfolio/blob/main/NeMo_Guardrails.ipynb\" target=\"_parent\"><img src=\"https://colab.research.google.com/assets/colab-badge.svg\" alt=\"Open In Colab\"/></a>"
      ]
    },
    {
      "cell_type": "markdown",
      "source": [
        "# NeMo Guardrails\n",
        "\n",
        "In this notebook I will be investigating how to use NeMo Guardrails to create AI chatbots. I'll be following along with some tutorials from the wonderful James Briggs, please check out his videos on his chanel: https://www.youtube.com/@jamesbriggs/videos\n",
        "\n",
        "I've made some changes to do things differently to the approach in the tutorial.\n",
        "In this case we'll be trying to ensure that the chatbot doesn't give fitness enthusiasts any advice about supplements they should take. As this might open us up to some liability claims for providing medical advice."
      ],
      "metadata": {
        "id": "_4Qs6-voDc9R"
      }
    },
    {
      "cell_type": "code",
      "execution_count": 2,
      "metadata": {
        "id": "Pbdnq2Jpq68d",
        "colab": {
          "base_uri": "https://localhost:8080/"
        },
        "outputId": "5cc4457f-c765-4b83-d7e6-5a65b8716e10"
      },
      "outputs": [
        {
          "output_type": "stream",
          "name": "stdout",
          "text": [
            "\u001b[2K     \u001b[90m━━━━━━━━━━━━━━━━━━━━━━━━━━━━━━━━━━━━━━━━\u001b[0m \u001b[32m2.6/2.6 MB\u001b[0m \u001b[31m13.4 MB/s\u001b[0m eta \u001b[36m0:00:00\u001b[0m\n",
            "\u001b[2K     \u001b[90m━━━━━━━━━━━━━━━━━━━━━━━━━━━━━━━━━━━━━━━━\u001b[0m \u001b[32m268.3/268.3 kB\u001b[0m \u001b[31m15.7 MB/s\u001b[0m eta \u001b[36m0:00:00\u001b[0m\n",
            "\u001b[2K     \u001b[90m━━━━━━━━━━━━━━━━━━━━━━━━━━━━━━━━━━━━━━━━\u001b[0m \u001b[32m647.5/647.5 kB\u001b[0m \u001b[31m21.2 MB/s\u001b[0m eta \u001b[36m0:00:00\u001b[0m\n",
            "\u001b[?25h  Preparing metadata (setup.py) ... \u001b[?25l\u001b[?25hdone\n",
            "\u001b[2K     \u001b[90m━━━━━━━━━━━━━━━━━━━━━━━━━━━━━━━━━━━━━━━━\u001b[0m \u001b[32m91.9/91.9 kB\u001b[0m \u001b[31m13.3 MB/s\u001b[0m eta \u001b[36m0:00:00\u001b[0m\n",
            "\u001b[2K     \u001b[90m━━━━━━━━━━━━━━━━━━━━━━━━━━━━━━━━━━━━━━━━\u001b[0m \u001b[32m75.6/75.6 kB\u001b[0m \u001b[31m9.9 MB/s\u001b[0m eta \u001b[36m0:00:00\u001b[0m\n",
            "\u001b[2K     \u001b[90m━━━━━━━━━━━━━━━━━━━━━━━━━━━━━━━━━━━━━━━━\u001b[0m \u001b[32m817.7/817.7 kB\u001b[0m \u001b[31m26.3 MB/s\u001b[0m eta \u001b[36m0:00:00\u001b[0m\n",
            "\u001b[2K     \u001b[90m━━━━━━━━━━━━━━━━━━━━━━━━━━━━━━━━━━━━━━━━\u001b[0m \u001b[32m287.5/287.5 kB\u001b[0m \u001b[31m25.0 MB/s\u001b[0m eta \u001b[36m0:00:00\u001b[0m\n",
            "\u001b[2K     \u001b[90m━━━━━━━━━━━━━━━━━━━━━━━━━━━━━━━━━━━━━━━━\u001b[0m \u001b[32m1.9/1.9 MB\u001b[0m \u001b[31m28.2 MB/s\u001b[0m eta \u001b[36m0:00:00\u001b[0m\n",
            "\u001b[2K     \u001b[90m━━━━━━━━━━━━━━━━━━━━━━━━━━━━━━━━━━━━━━━━\u001b[0m \u001b[32m111.7/111.7 kB\u001b[0m \u001b[31m10.9 MB/s\u001b[0m eta \u001b[36m0:00:00\u001b[0m\n",
            "\u001b[2K     \u001b[90m━━━━━━━━━━━━━━━━━━━━━━━━━━━━━━━━━━━━━━━━\u001b[0m \u001b[32m71.9/71.9 kB\u001b[0m \u001b[31m7.3 MB/s\u001b[0m eta \u001b[36m0:00:00\u001b[0m\n",
            "\u001b[2K     \u001b[90m━━━━━━━━━━━━━━━━━━━━━━━━━━━━━━━━━━━━━━━━\u001b[0m \u001b[32m60.8/60.8 kB\u001b[0m \u001b[31m8.2 MB/s\u001b[0m eta \u001b[36m0:00:00\u001b[0m\n",
            "\u001b[2K     \u001b[90m━━━━━━━━━━━━━━━━━━━━━━━━━━━━━━━━━━━━━━━━\u001b[0m \u001b[32m83.0/83.0 kB\u001b[0m \u001b[31m7.8 MB/s\u001b[0m eta \u001b[36m0:00:00\u001b[0m\n",
            "\u001b[2K     \u001b[90m━━━━━━━━━━━━━━━━━━━━━━━━━━━━━━━━━━━━━━━━\u001b[0m \u001b[32m1.8/1.8 MB\u001b[0m \u001b[31m35.7 MB/s\u001b[0m eta \u001b[36m0:00:00\u001b[0m\n",
            "\u001b[2K     \u001b[90m━━━━━━━━━━━━━━━━━━━━━━━━━━━━━━━━━━━━━━━━\u001b[0m \u001b[32m62.5/62.5 kB\u001b[0m \u001b[31m7.8 MB/s\u001b[0m eta \u001b[36m0:00:00\u001b[0m\n",
            "\u001b[2K     \u001b[90m━━━━━━━━━━━━━━━━━━━━━━━━━━━━━━━━━━━━━━━━\u001b[0m \u001b[32m15.9/15.9 MB\u001b[0m \u001b[31m58.0 MB/s\u001b[0m eta \u001b[36m0:00:00\u001b[0m\n",
            "\u001b[2K     \u001b[90m━━━━━━━━━━━━━━━━━━━━━━━━━━━━━━━━━━━━━━━━\u001b[0m \u001b[32m6.8/6.8 MB\u001b[0m \u001b[31m77.6 MB/s\u001b[0m eta \u001b[36m0:00:00\u001b[0m\n",
            "\u001b[2K     \u001b[90m━━━━━━━━━━━━━━━━━━━━━━━━━━━━━━━━━━━━━━━━\u001b[0m \u001b[32m77.9/77.9 kB\u001b[0m \u001b[31m11.2 MB/s\u001b[0m eta \u001b[36m0:00:00\u001b[0m\n",
            "\u001b[2K     \u001b[90m━━━━━━━━━━━━━━━━━━━━━━━━━━━━━━━━━━━━━━━━\u001b[0m \u001b[32m58.3/58.3 kB\u001b[0m \u001b[31m8.1 MB/s\u001b[0m eta \u001b[36m0:00:00\u001b[0m\n",
            "\u001b[2K     \u001b[90m━━━━━━━━━━━━━━━━━━━━━━━━━━━━━━━━━━━━━━━━\u001b[0m \u001b[32m113.0/113.0 kB\u001b[0m \u001b[31m14.8 MB/s\u001b[0m eta \u001b[36m0:00:00\u001b[0m\n",
            "\u001b[2K     \u001b[90m━━━━━━━━━━━━━━━━━━━━━━━━━━━━━━━━━━━━━━━━\u001b[0m \u001b[32m53.0/53.0 kB\u001b[0m \u001b[31m7.3 MB/s\u001b[0m eta \u001b[36m0:00:00\u001b[0m\n",
            "\u001b[2K     \u001b[90m━━━━━━━━━━━━━━━━━━━━━━━━━━━━━━━━━━━━━━━━\u001b[0m \u001b[32m49.4/49.4 kB\u001b[0m \u001b[31m6.9 MB/s\u001b[0m eta \u001b[36m0:00:00\u001b[0m\n",
            "\u001b[2K     \u001b[90m━━━━━━━━━━━━━━━━━━━━━━━━━━━━━━━━━━━━━━━━\u001b[0m \u001b[32m144.8/144.8 kB\u001b[0m \u001b[31m20.5 MB/s\u001b[0m eta \u001b[36m0:00:00\u001b[0m\n",
            "\u001b[2K     \u001b[90m━━━━━━━━━━━━━━━━━━━━━━━━━━━━━━━━━━━━━━━━\u001b[0m \u001b[32m46.0/46.0 kB\u001b[0m \u001b[31m6.4 MB/s\u001b[0m eta \u001b[36m0:00:00\u001b[0m\n",
            "\u001b[2K     \u001b[90m━━━━━━━━━━━━━━━━━━━━━━━━━━━━━━━━━━━━━━━━\u001b[0m \u001b[32m86.8/86.8 kB\u001b[0m \u001b[31m13.4 MB/s\u001b[0m eta \u001b[36m0:00:00\u001b[0m\n",
            "\u001b[?25h  Building wheel for annoy (setup.py) ... \u001b[?25l\u001b[?25hdone\n"
          ]
        }
      ],
      "source": [
        "!pip install -qU nemoguardrails openai langchain_openai"
      ]
    },
    {
      "cell_type": "code",
      "source": [
        "from getpass import getpass\n",
        "\n",
        "OPENAI_API_KEY = getpass()"
      ],
      "metadata": {
        "colab": {
          "base_uri": "https://localhost:8080/"
        },
        "id": "CMFe3xAc1-a0",
        "outputId": "72ba1ac7-8b9c-4b41-a106-8a7b15a2e197"
      },
      "execution_count": 3,
      "outputs": [
        {
          "name": "stdout",
          "output_type": "stream",
          "text": [
            "··········\n"
          ]
        }
      ]
    },
    {
      "cell_type": "code",
      "source": [
        "import os\n",
        "\n",
        "os.environ[\"OPENAI_API_KEY\"] = OPENAI_API_KEY"
      ],
      "metadata": {
        "id": "hABmVJpw1_ce"
      },
      "execution_count": 4,
      "outputs": []
    },
    {
      "cell_type": "markdown",
      "source": [
        "As I'm running this notebook in Colab, I'll import the config from a string. However, this config can be found in config/config.yml  and config/topics.co\n",
        "These are our colang file and our config file."
      ],
      "metadata": {
        "id": "oNAjrhLN2YRK"
      }
    },
    {
      "cell_type": "code",
      "source": [
        "yaml_content =  \"\"\"\n",
        "models:\n",
        "- type: main\n",
        "  engine: openai\n",
        "  model: gpt-3.5-turbo-instruct\n",
        "\"\"\"\n",
        "\n",
        "colang_content = \"\"\"\n",
        "define user give name\n",
        "    \"My name is Plato\"\n",
        "    \"I'm Aristotle\"\n",
        "    \"I am Johnny\"\n",
        "\n",
        "\n",
        "define user greeting\n",
        "    \"hello\"\n",
        "    \"hi\"\n",
        "    \"what's up?\"\n",
        "\n",
        "define user ask supplements\n",
        "    \"How much creatine should I take?\"\n",
        "    \"What is the best dosage of ZMA?\"\n",
        "    \"Does Anavar have side effects?\"\n",
        "    \"Testosterone injection sites\"\n",
        "    \"Omega-3 supplementation\"\n",
        "\n",
        "define user ask time\n",
        "    \"What time is it?\"\n",
        "    \"What is the time right now?\"\n",
        "    \"What is the current time?\"\n",
        "\n",
        "define bot name greeting\n",
        "    \"Hey $name!\"\n",
        "\n",
        "define bot answer supplements\n",
        "    \"I'm just a chatbot. I can't give you any information about supplements.\"\n",
        "\n",
        "define flow give name\n",
        "    user give name\n",
        "    $name = ...\n",
        "    bot name greeting\n",
        "\n",
        "define flow\n",
        "    user greeting\n",
        "    if $name\n",
        "        bot name greeting\n",
        "    else\n",
        "        bot ask name\n",
        "\n",
        "define flow supplements\n",
        "    user ask supplements\n",
        "    bot answer supplements\n",
        "    bot offer help\n",
        "\n",
        "define flow\n",
        "    user ask time\n",
        "    $answer = execute what_time()\n",
        "    bot $answer\n",
        "\"\"\""
      ],
      "metadata": {
        "id": "3Cx0ng5T2Pyp"
      },
      "execution_count": 95,
      "outputs": []
    },
    {
      "cell_type": "code",
      "source": [
        "\n",
        "from nemoguardrails import LLMRails, RailsConfig\n",
        "\n",
        "config = RailsConfig.from_content(\n",
        "    yaml_content=yaml_content,\n",
        "    colang_content=colang_content\n",
        ")\n",
        "\n",
        "rails = LLMRails(config)"
      ],
      "metadata": {
        "id": "_K_CnDO84NV5"
      },
      "execution_count": 96,
      "outputs": []
    },
    {
      "cell_type": "markdown",
      "source": [
        "We'll start by just passing simple promts to our rails, to see how they react.\n",
        "\n",
        "We can see that when we ask a question about supplements, we're directed to the supplement flow.\n",
        "However, the bot then contradicts itself, and offers to seach for that information anyway!!"
      ],
      "metadata": {
        "id": "rY7WirVHEpCU"
      }
    },
    {
      "cell_type": "code",
      "source": [
        "res = await rails.generate_async(prompt='hey there')\n",
        "print(res)"
      ],
      "metadata": {
        "colab": {
          "base_uri": "https://localhost:8080/"
        },
        "id": "alaWqS3y5XS9",
        "outputId": "057ed8e5-1250-48bb-e1d7-2c97ff6830cb"
      },
      "execution_count": 97,
      "outputs": [
        {
          "output_type": "stream",
          "name": "stdout",
          "text": [
            "Hey there! Before we continue, may I know your name?\n"
          ]
        }
      ]
    },
    {
      "cell_type": "code",
      "source": [
        "res = await rails.generate_async(prompt='How much creatine should I take?')\n",
        "print(res)"
      ],
      "metadata": {
        "colab": {
          "base_uri": "https://localhost:8080/"
        },
        "id": "ngZibDD76p9_",
        "outputId": "885bf3da-bd59-46e9-f1fa-20b22f3aa45a"
      },
      "execution_count": 98,
      "outputs": [
        {
          "output_type": "stream",
          "name": "stdout",
          "text": [
            "I'm just a chatbot. I can't give you any information about supplements.\n",
            "But I can help you search for reliable sources or connect you with a nutritionist who can give you personalized advice. Would you like me to do that for you?\n"
          ]
        }
      ]
    },
    {
      "cell_type": "markdown",
      "source": [
        "Let's see if we can fix this behaviour by providing a more strict answer in the guardrails:\n",
        "\n",
        "We'll change the answer from:\n",
        "\"I'm just a chatbot. I can't give you any information about supplements.\"\n",
        "\n",
        "to:\n",
        "\n",
        "\"Sorry, I can't give you any information about supplements. You should speak to a doctor instead.\""
      ],
      "metadata": {
        "id": "EwKsZ4itE6vl"
      }
    },
    {
      "cell_type": "code",
      "source": [
        "colang_content = \"\"\"\n",
        "define user give name\n",
        "    \"My name is Brian\"\n",
        "    \"I'm Fred\"\n",
        "    \"I am Stephen\"\n",
        "\n",
        "define user greeting\n",
        "    \"hello\"\n",
        "    \"hi\"\n",
        "    \"what's up?\"\n",
        "\n",
        "define user ask supplements\n",
        "    \"How much creatine should I take?\"\n",
        "    \"What is the best dosage of ZMA?\"\n",
        "    \"Does Anavar have side effects?\"\n",
        "    \"Testosterone injection sites\"\n",
        "    \"Omega-3 supplementation\"\n",
        "\n",
        "define user ask time\n",
        "    \"What time is it?\"\n",
        "    \"What is the time right now?\"\n",
        "    \"What is the current time?\"\n",
        "\n",
        "define bot name greeting\n",
        "    \"Hey $name!\"\n",
        "\n",
        "define bot answer supplements\n",
        "    \"Sorry, I can't give you any information about supplements. You should speak to a doctor instead.\"\n",
        "\n",
        "define flow give name\n",
        "    user give name\n",
        "    $name = ...\n",
        "    bot name greeting\n",
        "\n",
        "define flow\n",
        "    user greeting\n",
        "    if $name\n",
        "        bot name greeting\n",
        "    else\n",
        "        bot ask name\n",
        "\n",
        "define flow supplements\n",
        "    user ask supplements\n",
        "    bot answer supplements\n",
        "    bot offer help\n",
        "\n",
        "define flow\n",
        "    user ask time\n",
        "    $answer = execute what_time()\n",
        "    bot $answer\n",
        "\"\"\""
      ],
      "metadata": {
        "id": "H3Ru7rM4C6tg"
      },
      "execution_count": 99,
      "outputs": []
    },
    {
      "cell_type": "code",
      "source": [
        "config = RailsConfig.from_content(\n",
        "    yaml_content=yaml_content,\n",
        "    colang_content=colang_content\n",
        ")\n",
        "\n",
        "rails = LLMRails(config)"
      ],
      "metadata": {
        "id": "-Ipzbf_xDLUU"
      },
      "execution_count": 100,
      "outputs": []
    },
    {
      "cell_type": "code",
      "source": [
        "res = await rails.generate_async(prompt='How much creatine should I take?')\n",
        "print(res)"
      ],
      "metadata": {
        "id": "t-KYnOIyDLN0",
        "outputId": "a0cab5ac-4b61-4e75-9452-e67b2dd7146a",
        "colab": {
          "base_uri": "https://localhost:8080/"
        }
      },
      "execution_count": 101,
      "outputs": [
        {
          "output_type": "stream",
          "name": "stdout",
          "text": [
            "Sorry, I can't give you any information about supplements. You should speak to a doctor instead.\n",
            "Is there anything else you need assistance with?\n"
          ]
        }
      ]
    },
    {
      "cell_type": "markdown",
      "source": [
        "Great!! Our firmer response has had the desired result.\n",
        "\n",
        "Let's check whether our chatbot follows the other flows well.\n",
        "We'll send it a greeting, and see if it asks us our name and provides the appropriate response."
      ],
      "metadata": {
        "id": "wG5ebKiFDSGN"
      }
    },
    {
      "cell_type": "code",
      "source": [
        "messages = [\n",
        "    {\"role\": \"context\", \"content\": \"\"},\n",
        "    {\"role\": \"user\", \"content\": \"Hey there!\"}\n",
        "]"
      ],
      "metadata": {
        "id": "_iRbIBDkFOQt"
      },
      "execution_count": 102,
      "outputs": []
    },
    {
      "cell_type": "code",
      "source": [
        "res = await rails.generate_async(messages=messages)\n",
        "res"
      ],
      "metadata": {
        "colab": {
          "base_uri": "https://localhost:8080/"
        },
        "id": "zTcNrlPNFZ_j",
        "outputId": "ac7d273d-c367-4794-d9ad-ceec74d0e0ef"
      },
      "execution_count": 103,
      "outputs": [
        {
          "output_type": "execute_result",
          "data": {
            "text/plain": [
              "{'role': 'assistant', 'content': 'Hello there! May I know your name please?'}"
            ]
          },
          "metadata": {},
          "execution_count": 103
        }
      ]
    },
    {
      "cell_type": "code",
      "source": [
        "messages += [\n",
        "    res,\n",
        "    {\"role\": \"user\", \"content\": \"I'm Marko\"}\n",
        "]"
      ],
      "metadata": {
        "id": "VTZGXbnQF9ZS"
      },
      "execution_count": 104,
      "outputs": []
    },
    {
      "cell_type": "code",
      "source": [
        "res = await rails.generate_async(messages=messages)\n",
        "res"
      ],
      "metadata": {
        "colab": {
          "base_uri": "https://localhost:8080/"
        },
        "id": "iIlRqWOcnRf3",
        "outputId": "6aae343e-1d52-4a05-e292-ef2f869f8dd4"
      },
      "execution_count": 105,
      "outputs": [
        {
          "output_type": "execute_result",
          "data": {
            "text/plain": [
              "{'role': 'assistant', 'content': 'Hey !'}"
            ]
          },
          "metadata": {},
          "execution_count": 105
        }
      ]
    },
    {
      "cell_type": "markdown",
      "source": [
        "It's followed the right flow, but it seems like it's been unable to correctly extract the correct user name variable.\n",
        "\n",
        "Experimenting with different models produces wildly different results."
      ],
      "metadata": {
        "id": "0V4YHiubI6w8"
      }
    },
    {
      "cell_type": "markdown",
      "source": [
        "We can also tell Guardrails to use functions that we have predefined.\n",
        "\n",
        "Let's write a short function that tells the user what time it is."
      ],
      "metadata": {
        "id": "uGjQRvs3sgkr"
      }
    },
    {
      "cell_type": "code",
      "source": [
        "import datetime\n",
        "\n",
        "async def what_time():\n",
        "\n",
        "    time = datetime.datetime.now()\n",
        "    return(f'It is now {time}')"
      ],
      "metadata": {
        "id": "mLjdI8TJnTI0"
      },
      "execution_count": 73,
      "outputs": []
    },
    {
      "cell_type": "code",
      "source": [
        "await what_time()"
      ],
      "metadata": {
        "id": "0qQTiO7Zs4eA",
        "outputId": "23918e42-e42f-4164-ad29-caa1f7331f20",
        "colab": {
          "base_uri": "https://localhost:8080/",
          "height": 35
        }
      },
      "execution_count": 74,
      "outputs": [
        {
          "output_type": "execute_result",
          "data": {
            "text/plain": [
              "'It is now 2024-04-15 09:34:35.949415'"
            ],
            "application/vnd.google.colaboratory.intrinsic+json": {
              "type": "string"
            }
          },
          "metadata": {},
          "execution_count": 74
        }
      ]
    },
    {
      "cell_type": "code",
      "source": [
        "rails.register_action(action=what_time, name=\"what_time\")"
      ],
      "metadata": {
        "id": "VnCvWLD5s-Sx"
      },
      "execution_count": 75,
      "outputs": []
    },
    {
      "cell_type": "code",
      "source": [
        "await rails.generate_async(prompt=\"What time is it?\")"
      ],
      "metadata": {
        "id": "poflIVZsuwZg",
        "outputId": "a14e3caf-7b30-43c2-8900-a7c09787d070",
        "colab": {
          "base_uri": "https://localhost:8080/",
          "height": 35
        }
      },
      "execution_count": 76,
      "outputs": [
        {
          "output_type": "execute_result",
          "data": {
            "text/plain": [
              "'It is now 2024-04-15 09:34:36.987967'"
            ],
            "application/vnd.google.colaboratory.intrinsic+json": {
              "type": "string"
            }
          },
          "metadata": {},
          "execution_count": 76
        }
      ]
    }
  ]
}